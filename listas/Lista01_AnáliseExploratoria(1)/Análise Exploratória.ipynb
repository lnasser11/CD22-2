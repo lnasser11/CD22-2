{
 "cells": [
  {
   "cell_type": "markdown",
   "metadata": {},
   "source": [
    "# Análise Exporatória"
   ]
  },
  {
   "cell_type": "markdown",
   "metadata": {},
   "source": [
    "___\n",
    "## Índice\n",
    "\n",
    "- [Questão 1](#q1)\n",
    "    - [Item a](#q1_a)\n",
    "    - [Item b](#q1_b)\n",
    "    - [Item c](#q1_c)\n",
    "    - [Item d](#q1_d)\n",
    "    - [Item e](#q1_e)\n",
    "- [Questão 2](#q2)\n",
    "    - [Item a](#q2_a)\n",
    "    - [Item b](#q2_b)\n",
    "- [Questão 3](#q3)\n",
    "    - [Item a](#q3_a)\n",
    "    - [Item b](#q3_b)\n",
    "    - [Item c](#q3_c)\n",
    "    - [Item d](#q3_d)\n",
    "- [Questão 4](#q4)\n",
    "    - [Item a](#q4_a)\n",
    "    - [Item b](#q4_b)\n",
    "    - [Item c](#q4_c)\n",
    "___"
   ]
  },
  {
   "cell_type": "code",
   "execution_count": 1,
   "metadata": {},
   "outputs": [],
   "source": [
    "%matplotlib inline\n",
    "\n",
    "import pandas as pd\n",
    "import numpy as np\n",
    "import matplotlib.pyplot as plt"
   ]
  },
  {
   "cell_type": "markdown",
   "metadata": {},
   "source": [
    "<div id=\"q1\"></div>\n",
    "    \n",
    "    \n",
    "# Questão 1"
   ]
  },
  {
   "cell_type": "markdown",
   "metadata": {},
   "source": [
    "___"
   ]
  },
  {
   "cell_type": "markdown",
   "metadata": {},
   "source": [
    "\n",
    "\n",
    "<img src=\"arquivos/img/spotify_logo2.png\" width=33% alt=\"Fonte: https://commons.wikimedia.org/wiki/File:Spotify_Premium_stored-value_cards,_ALDI_Winschoten_(2019).jpg\"> </img>"
   ]
  },
  {
   "cell_type": "markdown",
   "metadata": {},
   "source": [
    "\n",
    "Um competidor do Kaggle, George McIntire, que se diz ser apaixonado por músicas, ficou curioso para saber porquê ele gosta das músicas que ele gosta. \n",
    "Com isso, ele construiu um conjunto de dados de músicas de 2017 obtido via API do Spotify e rotulou cada música como *\"Like\"*, o que significa que ele gosta e *\"Dont Like\"* para músicas que não gosta. \n",
    "\n",
    "*Fonte: Textos extraídos e/ou adaptados de [https://www.kaggle.com/geomack/spotifyclassification]([https://www.kaggle.com/geomack/spotifyclassification]).*"
   ]
  },
  {
   "cell_type": "markdown",
   "metadata": {},
   "source": [
    "Consulte o dicionario de dados no link [Dicionário de dados](./Q1_DicioSpotify.pdf) antes de resolver os itens a seguir.\n"
   ]
  },
  {
   "cell_type": "code",
   "execution_count": 2,
   "metadata": {},
   "outputs": [],
   "source": [
    "dados_1 = pd.read_excel(\"arquivos/Q1_Spotify_CD.xlsx\")"
   ]
  },
  {
   "cell_type": "code",
   "execution_count": 3,
   "metadata": {},
   "outputs": [
    {
     "data": {
      "text/html": [
       "<div>\n",
       "<style scoped>\n",
       "    .dataframe tbody tr th:only-of-type {\n",
       "        vertical-align: middle;\n",
       "    }\n",
       "\n",
       "    .dataframe tbody tr th {\n",
       "        vertical-align: top;\n",
       "    }\n",
       "\n",
       "    .dataframe thead th {\n",
       "        text-align: right;\n",
       "    }\n",
       "</style>\n",
       "<table border=\"1\" class=\"dataframe\">\n",
       "  <thead>\n",
       "    <tr style=\"text-align: right;\">\n",
       "      <th></th>\n",
       "      <th>music_id</th>\n",
       "      <th>acousticness</th>\n",
       "      <th>danceability</th>\n",
       "      <th>duration_ms</th>\n",
       "      <th>energy</th>\n",
       "      <th>instrumentalness</th>\n",
       "      <th>liveness</th>\n",
       "      <th>loudness</th>\n",
       "      <th>speechiness</th>\n",
       "      <th>tempo</th>\n",
       "      <th>valence</th>\n",
       "      <th>song_title</th>\n",
       "      <th>artist</th>\n",
       "      <th>liking</th>\n",
       "    </tr>\n",
       "  </thead>\n",
       "  <tbody>\n",
       "    <tr>\n",
       "      <th>0</th>\n",
       "      <td>0</td>\n",
       "      <td>0.0102</td>\n",
       "      <td>0.833</td>\n",
       "      <td>204600</td>\n",
       "      <td>0.434</td>\n",
       "      <td>0.021900</td>\n",
       "      <td>0.165</td>\n",
       "      <td>-8.795</td>\n",
       "      <td>0.4310</td>\n",
       "      <td>150.062</td>\n",
       "      <td>0.286</td>\n",
       "      <td>Mask Off</td>\n",
       "      <td>Future</td>\n",
       "      <td>Like</td>\n",
       "    </tr>\n",
       "    <tr>\n",
       "      <th>1</th>\n",
       "      <td>1</td>\n",
       "      <td>0.1990</td>\n",
       "      <td>0.743</td>\n",
       "      <td>326933</td>\n",
       "      <td>0.359</td>\n",
       "      <td>0.006110</td>\n",
       "      <td>0.137</td>\n",
       "      <td>-10.401</td>\n",
       "      <td>0.0794</td>\n",
       "      <td>160.083</td>\n",
       "      <td>0.588</td>\n",
       "      <td>Redbone</td>\n",
       "      <td>Childish Gambino</td>\n",
       "      <td>Dont Like</td>\n",
       "    </tr>\n",
       "    <tr>\n",
       "      <th>2</th>\n",
       "      <td>2</td>\n",
       "      <td>0.0344</td>\n",
       "      <td>0.838</td>\n",
       "      <td>185707</td>\n",
       "      <td>0.412</td>\n",
       "      <td>0.000234</td>\n",
       "      <td>0.159</td>\n",
       "      <td>-7.148</td>\n",
       "      <td>0.2890</td>\n",
       "      <td>75.044</td>\n",
       "      <td>0.173</td>\n",
       "      <td>Xanny Family</td>\n",
       "      <td>Future</td>\n",
       "      <td>Like</td>\n",
       "    </tr>\n",
       "  </tbody>\n",
       "</table>\n",
       "</div>"
      ],
      "text/plain": [
       "   music_id  acousticness  danceability  duration_ms  energy  \\\n",
       "0         0        0.0102         0.833       204600   0.434   \n",
       "1         1        0.1990         0.743       326933   0.359   \n",
       "2         2        0.0344         0.838       185707   0.412   \n",
       "\n",
       "   instrumentalness  liveness  loudness  speechiness    tempo  valence  \\\n",
       "0          0.021900     0.165    -8.795       0.4310  150.062    0.286   \n",
       "1          0.006110     0.137   -10.401       0.0794  160.083    0.588   \n",
       "2          0.000234     0.159    -7.148       0.2890   75.044    0.173   \n",
       "\n",
       "     song_title            artist     liking  \n",
       "0      Mask Off            Future       Like  \n",
       "1       Redbone  Childish Gambino  Dont Like  \n",
       "2  Xanny Family            Future       Like  "
      ]
     },
     "execution_count": 3,
     "metadata": {},
     "output_type": "execute_result"
    }
   ],
   "source": [
    "dados_1.head(3)"
   ]
  },
  {
   "cell_type": "code",
   "execution_count": 4,
   "metadata": {},
   "outputs": [],
   "source": [
    "dados_1.liking = dados_1.liking.astype('category')"
   ]
  },
  {
   "cell_type": "code",
   "execution_count": 5,
   "metadata": {},
   "outputs": [
    {
     "data": {
      "text/plain": [
       "Index(['music_id', 'acousticness', 'danceability', 'duration_ms', 'energy',\n",
       "       'instrumentalness', 'liveness', 'loudness', 'speechiness', 'tempo',\n",
       "       'valence', 'song_title', 'artist', 'liking'],\n",
       "      dtype='object')"
      ]
     },
     "execution_count": 5,
     "metadata": {},
     "output_type": "execute_result"
    }
   ],
   "source": [
    "dados_1.columns"
   ]
  },
  {
   "cell_type": "markdown",
   "metadata": {},
   "source": [
    "\n",
    "\n"
   ]
  },
  {
   "cell_type": "markdown",
   "metadata": {},
   "source": [
    "\n",
    "\n"
   ]
  },
  {
   "cell_type": "markdown",
   "metadata": {},
   "source": [
    "\n",
    "**A seção a seguir contém uma análise das variáveis  `energy` e  `liking`, por favor faça:**"
   ]
  },
  {
   "cell_type": "markdown",
   "metadata": {},
   "source": [
    "<div id=\"q1_a\"></div>\n",
    "\n",
    "---\n",
    "**a)** Construa um histograma de densidade de frequências da variável `energy` separadamente para cada categoria de `liking`.\n"
   ]
  },
  {
   "cell_type": "markdown",
   "metadata": {},
   "source": [
    "**Resposta a partir daqui**"
   ]
  },
  {
   "cell_type": "code",
   "execution_count": 9,
   "metadata": {},
   "outputs": [
    {
     "data": {
      "text/plain": [
       "count    2017.000000\n",
       "mean        0.681577\n",
       "std         0.210273\n",
       "min         0.014800\n",
       "25%         0.563000\n",
       "50%         0.715000\n",
       "75%         0.846000\n",
       "max         0.998000\n",
       "Name: energy, dtype: float64"
      ]
     },
     "execution_count": 9,
     "metadata": {},
     "output_type": "execute_result"
    }
   ],
   "source": [
    "dados_1.energy.describe()\n"
   ]
  },
  {
   "cell_type": "code",
   "execution_count": 10,
   "metadata": {},
   "outputs": [
    {
     "data": {
      "image/png": "[encoded data removed]",
      "text/plain": [
       "<Figure size 1080x288 with 2 Axes>"
      ]
     },
     "metadata": {
      "needs_background": "light"
     },
     "output_type": "display_data"
    }
   ],
   "source": [
    "\n",
    "faixa = np.arange(0, 1, 0.04)\n",
    "\n",
    "fig = plt.figure(figsize=(15, 4))\n",
    "plt.subplot(121)\n",
    "dados_1.energy[dados_1.liking=='Dont Like'].plot.hist(bins=faixa, color=('blue'), density=1, title=\"Dont Like\", alpha=0.6)\n",
    "plt.ylim(0,2.8)\n",
    "plt.ylabel('Densidade')\n",
    "plt.xlabel('energy')\n",
    "\n",
    "plt.subplot(122)\n",
    "dados_1.energy[dados_1.liking=='Like'].plot.hist(bins=faixa, color=('red'), density=1, title=\"Like\", alpha=0.6)\n",
    "plt.ylim(0,2.8)\n",
    "plt.ylabel('Densidade')\n",
    "plt.xlabel('energy')\n",
    "\n",
    "plt.show()"
   ]
  },
  {
   "cell_type": "markdown",
   "metadata": {},
   "source": [
    "<div id=\"q1_b\"></div>\n",
    "\n",
    "---\n",
    "\n",
    "**b)** Interprete os histogramas do item anterior em termos da preferência de George. Existe alguma tendência ou orientação em suas preferências?"
   ]
  },
  {
   "cell_type": "markdown",
   "metadata": {},
   "source": [
    "**Resposta a partir daqui**"
   ]
  },
  {
   "cell_type": "code",
   "execution_count": null,
   "metadata": {},
   "outputs": [],
   "source": [
    "#Abaixo de 0.3 energy ele não gosta"
   ]
  },
  {
   "cell_type": "markdown",
   "metadata": {},
   "source": [
    "<div id=\"q1_c\"></div>\n",
    "\n",
    "---\n",
    "\n",
    "**c)** Observando o formato de cada histograma construído anteriormente e utilizando medidas de posição ou centralidade adequadamente, classifique como sendo simétrico, assimétrico a direita ou assimétrico a esquerda. Argumente claramente o motivo de sua classificação. \n",
    "Apresente as referidas medidas de posição (tendência central)"
   ]
  },
  {
   "cell_type": "markdown",
   "metadata": {},
   "source": [
    "**Resposta a partir daqui**"
   ]
  },
  {
   "cell_type": "code",
   "execution_count": 11,
   "metadata": {},
   "outputs": [
    {
     "data": {
      "text/plain": [
       "count    381.000000\n",
       "mean       0.439961\n",
       "std        0.244511\n",
       "min        0.014800\n",
       "25%        0.247000\n",
       "50%        0.445000\n",
       "75%        0.629000\n",
       "max        0.965000\n",
       "Name: energy, dtype: float64"
      ]
     },
     "execution_count": 11,
     "metadata": {},
     "output_type": "execute_result"
    }
   ],
   "source": [
    "dados_1.energy[dados_1.liking=='Dont Like'].describe()"
   ]
  },
  {
   "cell_type": "code",
   "execution_count": 12,
   "metadata": {},
   "outputs": [
    {
     "data": {
      "text/plain": [
       "count    1636.000000\n",
       "mean        0.737846\n",
       "std         0.154438\n",
       "min         0.256000\n",
       "25%         0.630000\n",
       "50%         0.756500\n",
       "75%         0.862000\n",
       "max         0.998000\n",
       "Name: energy, dtype: float64"
      ]
     },
     "execution_count": 12,
     "metadata": {},
     "output_type": "execute_result"
    }
   ],
   "source": [
    "dados_1.energy[dados_1.liking=='Like'].describe()"
   ]
  },
  {
   "cell_type": "markdown",
   "metadata": {},
   "source": [
    "**Análise das variáveis energy e loudness**\n",
    "\n",
    "Neste item, considere as variáveis `energy` e `loudness` (utilize todas as faixas sem separar por `liking`).\n",
    "\n",
    "A partir dos dados, faça:"
   ]
  },
  {
   "cell_type": "markdown",
   "metadata": {},
   "source": [
    "<div id=\"q1_d\"></div>\n",
    "\n",
    "---\n",
    "**d)** Apresente um **gráfico** adequado que permita visualizar  a associação entre as variáveis `energy` e `loudness`. Discuta se há uma associação aparente a partir do gráfico"
   ]
  },
  {
   "cell_type": "markdown",
   "metadata": {},
   "source": [
    "**Resposta a partir daqui**"
   ]
  },
  {
   "cell_type": "code",
   "execution_count": 16,
   "metadata": {},
   "outputs": [
    {
     "data": {
      "image/png": "[encoded data removed]",
      "text/plain": [
       "<Figure size 1080x288 with 2 Axes>"
      ]
     },
     "metadata": {
      "needs_background": "light"
     },
     "output_type": "display_data"
    }
   ],
   "source": [
    "#a graph that shows the association between the energy and loudness of the songs, without specifying the liking of the songs\n",
    "\n",
    "fig = plt.figure(figsize=(15, 4))\n",
    "plt.subplot(121)\n",
    "plt.scatter(dados_1.energy, dados_1.loudness, color=('blue'), alpha=0.6)\n",
    "plt.ylabel('loudness')\n",
    "plt.xlabel('energy')\n",
    "\n",
    "plt.subplot(122)\n",
    "plt.scatter(dados_1.loudness, dados_1.energy, color=('red'), alpha=0.6)\n",
    "plt.ylabel('energy')\n",
    "plt.xlabel('loudness')\n",
    "\n",
    "plt.show()\n"
   ]
  },
  {
   "cell_type": "markdown",
   "metadata": {},
   "source": [
    "<div id=\"q1_e\"></div>\n",
    "\n",
    "---\n",
    "\n",
    "**e)** Utilizando uma **medida-resumo** adequada, discuta o grau de associação dessas duas variáveis: `energy` e `loudness`."
   ]
  },
  {
   "cell_type": "markdown",
   "metadata": {},
   "source": [
    "**Resposta a partir daqui**"
   ]
  },
  {
   "cell_type": "code",
   "execution_count": 17,
   "metadata": {},
   "outputs": [
    {
     "data": {
      "text/plain": [
       "0.7621769711494921"
      ]
     },
     "execution_count": 17,
     "metadata": {},
     "output_type": "execute_result"
    }
   ],
   "source": [
    "dados_1.energy.corr(dados_1.loudness)"
   ]
  },
  {
   "cell_type": "markdown",
   "metadata": {},
   "source": [
    "<div id=\"q2\"></div>\n",
    "\n",
    "___\n",
    "\n",
    "#  Questão 2\n",
    "### Dados da PNAD 2015\n",
    "\n",
    " "
   ]
  },
  {
   "cell_type": "markdown",
   "metadata": {},
   "source": [
    "<font style=\"font-size:14pt\" color=\"red\">Mulher Brasileira Chefe de Família. Que Mulher é essa? </font>"
   ]
  },
  {
   "cell_type": "markdown",
   "metadata": {},
   "source": [
    "Assuma que haja o interesse em descrever o perfil das mulheres casadas e chefes de família<sup>1</sup> no ano de 2015 contrapondo àquelas que também são casadas e trabalham, mas não assumem esse papel na família.\n",
    "\n",
    "A base de dados que terá acesso traz informações exclusivamente de uma amostra restrita de mulheres casadas que possuem as seguintes características:\n",
    "\n",
    "&#10004; Todas possuem **pelo menos um trabalho principal** no dia da pesquisa;\n",
    "\n",
    "&#10004; São **todas casadas** e têm **idade entre 20 a 59 anos**;\n",
    "\n",
    "&#10004; Todas possuem **rendimento do trabalho principal entre R\\\\$ 200,00 e R\\\\$ 5.000,00**;\n",
    "\n",
    "\n",
    "&#10004; Cada mulher tem classificada **sua condição na família** bem definida na data da pesquisa: **Chefe** ou **Não chefe**.\n",
    "\n",
    "\n",
    "<sup>1</sup>*Indivíduo que se declara como “pessoa de referência” na família.*\n"
   ]
  },
  {
   "cell_type": "markdown",
   "metadata": {},
   "source": [
    "O arquivo **pnadMulher.xlsx** traz informações das seguintes variáveis: \n"
   ]
  },
  {
   "cell_type": "markdown",
   "metadata": {},
   "source": [
    "<link href=\"https://cdn.jsdelivr.net/npm/bootstrap@5.0.0-beta2/dist/css/bootstrap.min.css\" rel=\"stylesheet\" integrity=\"sha384-BmbxuPwQa2lc/FVzBcNJ7UAyJxM6wuqIj61tLrc4wSX0szH/Ev+nYRRuWlolflfl\" crossorigin=\"anonymous\">\n",
    "\n",
    "<div class=\"container\">\n",
    "    \n",
    "- **REGIAO – indica a região de residência da mulher**\n",
    "    * categorias: ('Norte', 'Nordeste', 'Sul', 'Sudeste', 'Centro-Oeste') \n",
    "\n",
    "- **AREA – indica a situação censitária da residência da mulher**\n",
    "    * categorias: ('Rural', 'Urbana') \n",
    "\n",
    "- **CONDFAM – corresponde a condição da mulher na famíli**\n",
    "    * categorias: ('Chefe','Nao chefe') \n",
    "\n",
    "- **IDADE – idade da mulher**, em anos \n",
    "\n",
    "- **CORRACA – cor ou raça da mulher**\n",
    "    * categorias: ('Indigena', 'Branca', 'Preta', 'Amarela', 'Parda') \n",
    "\n",
    "- **NATUNIAO – natureza da união**\n",
    "    * categorias: ('Casamento civil e religioso', 'So casamento civil', 'So casamento religioso','Uniao consensual') \n",
    "\n",
    "- **NIVELINST – nível de instrução mais elevado alcançado pela mulher**\n",
    "    * categorias: ('Sem instrucao', 'Fundamental incompleto', 'Fundamental completo',\n",
    "    'Medio incompleto', 'Medio completo', 'Superior incompleto', 'Superior completo', \n",
    "    'Nao determinado') \n",
    "\n",
    "- **OCUPACAO – ocupação da mulher no trabalho principal**\n",
    "    * categorias: ('Empregado', 'Trabalhador domestico', 'Conta propria', 'Empregador') \n",
    "\n",
    "- **ANOSTRAB – número de anos no trabalho principal**, em anos \n",
    "\n",
    "- **HORASTRABSEMANA – horas habitualmente trabalhadas por semana em todos os trabalhos**\n",
    "    * categorias: ('Ate 14 horas', '15 a 39 horas', '40 a 44 horas', '45 a 48 horas', '49 horas ou mais') \n",
    "\n",
    "- **RENDTRABPRINC – rendimento mensal do trabalho principal da mulher**, em reais \n",
    "\n",
    "- **RENDTRABTODOS – rendimento mensal de todos os trabalhos da mulher**, em reais \n",
    "\n",
    "- **RENDFAMPERCAPITA – rendimento mensal familiar per capita – soma todas as rendas da família**, em reais\n",
    "\n",
    "</div>\n",
    "\n"
   ]
  },
  {
   "cell_type": "code",
   "execution_count": 27,
   "metadata": {},
   "outputs": [],
   "source": [
    "dados = pd.read_excel(\"arquivos/pnadMulher.xlsx\")"
   ]
  },
  {
   "cell_type": "code",
   "execution_count": 19,
   "metadata": {},
   "outputs": [
    {
     "data": {
      "text/html": [
       "<div>\n",
       "<style scoped>\n",
       "    .dataframe tbody tr th:only-of-type {\n",
       "        vertical-align: middle;\n",
       "    }\n",
       "\n",
       "    .dataframe tbody tr th {\n",
       "        vertical-align: top;\n",
       "    }\n",
       "\n",
       "    .dataframe thead th {\n",
       "        text-align: right;\n",
       "    }\n",
       "</style>\n",
       "<table border=\"1\" class=\"dataframe\">\n",
       "  <thead>\n",
       "    <tr style=\"text-align: right;\">\n",
       "      <th></th>\n",
       "      <th>REGIAO</th>\n",
       "      <th>AREA</th>\n",
       "      <th>CONDFAM</th>\n",
       "      <th>IDADE</th>\n",
       "      <th>CORRACA</th>\n",
       "      <th>NATUNIAO</th>\n",
       "      <th>NIVELINST</th>\n",
       "      <th>OCUPACAO</th>\n",
       "      <th>ANOSTRAB</th>\n",
       "      <th>HORASTRABSEMANA</th>\n",
       "      <th>RENDTRABPRINC</th>\n",
       "      <th>RENDTRABTODOS</th>\n",
       "      <th>RENDFAMPERCAPITA</th>\n",
       "    </tr>\n",
       "  </thead>\n",
       "  <tbody>\n",
       "    <tr>\n",
       "      <th>0</th>\n",
       "      <td>Norte</td>\n",
       "      <td>Urbana</td>\n",
       "      <td>Chefe</td>\n",
       "      <td>35</td>\n",
       "      <td>Parda</td>\n",
       "      <td>So casamento civil</td>\n",
       "      <td>Superior incompleto</td>\n",
       "      <td>Empregado</td>\n",
       "      <td>0</td>\n",
       "      <td>40 a 44 horas</td>\n",
       "      <td>880</td>\n",
       "      <td>880</td>\n",
       "      <td>793</td>\n",
       "    </tr>\n",
       "    <tr>\n",
       "      <th>1</th>\n",
       "      <td>Norte</td>\n",
       "      <td>Urbana</td>\n",
       "      <td>Chefe</td>\n",
       "      <td>34</td>\n",
       "      <td>Parda</td>\n",
       "      <td>Uniao consensual</td>\n",
       "      <td>Medio completo</td>\n",
       "      <td>Empregado</td>\n",
       "      <td>0</td>\n",
       "      <td>40 a 44 horas</td>\n",
       "      <td>790</td>\n",
       "      <td>790</td>\n",
       "      <td>818</td>\n",
       "    </tr>\n",
       "    <tr>\n",
       "      <th>2</th>\n",
       "      <td>Norte</td>\n",
       "      <td>Urbana</td>\n",
       "      <td>Nao chefe</td>\n",
       "      <td>51</td>\n",
       "      <td>Parda</td>\n",
       "      <td>So casamento civil</td>\n",
       "      <td>Medio completo</td>\n",
       "      <td>Empregador</td>\n",
       "      <td>11</td>\n",
       "      <td>40 a 44 horas</td>\n",
       "      <td>2000</td>\n",
       "      <td>2000</td>\n",
       "      <td>1716</td>\n",
       "    </tr>\n",
       "    <tr>\n",
       "      <th>3</th>\n",
       "      <td>Norte</td>\n",
       "      <td>Urbana</td>\n",
       "      <td>Nao chefe</td>\n",
       "      <td>20</td>\n",
       "      <td>Parda</td>\n",
       "      <td>Uniao consensual</td>\n",
       "      <td>Medio incompleto</td>\n",
       "      <td>Empregado</td>\n",
       "      <td>0</td>\n",
       "      <td>40 a 44 horas</td>\n",
       "      <td>850</td>\n",
       "      <td>850</td>\n",
       "      <td>666</td>\n",
       "    </tr>\n",
       "    <tr>\n",
       "      <th>4</th>\n",
       "      <td>Norte</td>\n",
       "      <td>Urbana</td>\n",
       "      <td>Chefe</td>\n",
       "      <td>49</td>\n",
       "      <td>Parda</td>\n",
       "      <td>Uniao consensual</td>\n",
       "      <td>Fundamental incompleto</td>\n",
       "      <td>Conta propria</td>\n",
       "      <td>9</td>\n",
       "      <td>45 a 48 horas</td>\n",
       "      <td>2500</td>\n",
       "      <td>2500</td>\n",
       "      <td>1662</td>\n",
       "    </tr>\n",
       "  </tbody>\n",
       "</table>\n",
       "</div>"
      ],
      "text/plain": [
       "  REGIAO    AREA    CONDFAM  IDADE CORRACA            NATUNIAO  \\\n",
       "0  Norte  Urbana      Chefe     35   Parda  So casamento civil   \n",
       "1  Norte  Urbana      Chefe     34   Parda    Uniao consensual   \n",
       "2  Norte  Urbana  Nao chefe     51   Parda  So casamento civil   \n",
       "3  Norte  Urbana  Nao chefe     20   Parda    Uniao consensual   \n",
       "4  Norte  Urbana      Chefe     49   Parda    Uniao consensual   \n",
       "\n",
       "                NIVELINST       OCUPACAO  ANOSTRAB HORASTRABSEMANA  \\\n",
       "0     Superior incompleto      Empregado         0   40 a 44 horas   \n",
       "1          Medio completo      Empregado         0   40 a 44 horas   \n",
       "2          Medio completo     Empregador        11   40 a 44 horas   \n",
       "3        Medio incompleto      Empregado         0   40 a 44 horas   \n",
       "4  Fundamental incompleto  Conta propria         9   45 a 48 horas   \n",
       "\n",
       "   RENDTRABPRINC  RENDTRABTODOS  RENDFAMPERCAPITA  \n",
       "0            880            880               793  \n",
       "1            790            790               818  \n",
       "2           2000           2000              1716  \n",
       "3            850            850               666  \n",
       "4           2500           2500              1662  "
      ]
     },
     "execution_count": 19,
     "metadata": {},
     "output_type": "execute_result"
    }
   ],
   "source": [
    "dados.head()"
   ]
  },
  {
   "cell_type": "code",
   "execution_count": 20,
   "metadata": {},
   "outputs": [
    {
     "data": {
      "text/plain": [
       "REGIAO              object\n",
       "AREA                object\n",
       "CONDFAM             object\n",
       "IDADE                int64\n",
       "CORRACA             object\n",
       "NATUNIAO            object\n",
       "NIVELINST           object\n",
       "OCUPACAO            object\n",
       "ANOSTRAB             int64\n",
       "HORASTRABSEMANA     object\n",
       "RENDTRABPRINC        int64\n",
       "RENDTRABTODOS        int64\n",
       "RENDFAMPERCAPITA     int64\n",
       "dtype: object"
      ]
     },
     "execution_count": 20,
     "metadata": {},
     "output_type": "execute_result"
    }
   ],
   "source": [
    "dados.dtypes"
   ]
  },
  {
   "cell_type": "markdown",
   "metadata": {},
   "source": [
    "<div id=\"q2_a\"></div>\n",
    "\n",
    "___\n",
    "\n",
    "#### Assuma que o objetivo para trabalhar com a base de dados aqui descrita seja: \n",
    "\n",
    "#### “Analisar se as mulheres com condição de chefe e de não chefe na família possuem o mesmo perfil com relação à idade”\n",
    "\n",
    "**a)** Utilizando alguma ferramenta estatística que seja adequada, construa um **gráfico**  que permita analisar como a idade pode ser semelhante ou não entre as mulheres com condição de chefe e de não chefe na família. \n",
    "Ainda, interprete o gráfico em termos do problema (de forma clara e sucinta).\n"
   ]
  },
  {
   "cell_type": "markdown",
   "metadata": {},
   "source": [
    "**Resposta:**"
   ]
  },
  {
   "cell_type": "code",
   "execution_count": 24,
   "metadata": {},
   "outputs": [
    {
     "data": {
      "image/png": "[encoded data removed]",
      "text/plain": [
       "<Figure size 1080x360 with 2 Axes>"
      ]
     },
     "metadata": {
      "needs_background": "light"
     },
     "output_type": "display_data"
    }
   ],
   "source": [
    "faixa = np.arange(20, 61, 2)\n",
    "\n",
    "fig = plt.figure(figsize=(15, 5))\n",
    "plt.subplot(121)\n",
    "dados.IDADE[dados.CONDFAM=='Chefe'].plot.hist(bins=faixa, \n",
    "                                                      color=('blue'), density=1, \n",
    "                                                      title=\"MULHER CHEFE\", alpha=0.6)\n",
    "plt.ylabel('Densidade')\n",
    "plt.xlabel('IDADE (em anos)')\n",
    "\n",
    "plt.subplot(122)\n",
    "dados.IDADE[dados.CONDFAM=='Nao chefe'].plot.hist(bins=faixa, \n",
    "                                                          color=('blue'), density=1, \n",
    "                                                          title=\"MULHER NAO CHEFE\", alpha=0.6)\n",
    "plt.ylabel('Densidade')\n",
    "plt.xlabel('IDADE (em anos)')\n",
    "\n",
    "plt.show()"
   ]
  },
  {
   "cell_type": "markdown",
   "metadata": {},
   "source": [
    "<div id=\"q2_b\"></div>\n",
    "\n",
    "___\n",
    "\n",
    "#### Assuma que o objetivo para trabalhar com a base de dados aqui descrita seja: \n",
    "\n",
    "#### Prever a renda mensal familiar per capita em função da renda mensal do trabalho principal da mulher com condição de chefe ne família.”.\n",
    "\n",
    "**b)** Faça um gráfico adequado que permita visualizar como é a associação entre as variáveis renda mensal familiar per capita e renda mensal do trabalho principal, considerando apenas as mulheres com condição de chefe na família. Ainda, interprete o gráfico em termos do problema (de forma clara e sucinta)."
   ]
  },
  {
   "cell_type": "code",
   "execution_count": 29,
   "metadata": {},
   "outputs": [
    {
     "data": {
      "image/png": "[encoded data removed]",
      "text/plain": [
       "<Figure size 1080x360 with 2 Axes>"
      ]
     },
     "metadata": {
      "needs_background": "light"
     },
     "output_type": "display_data"
    }
   ],
   "source": [
    "# Prever a renda mensal familiar per capita em função da renda mensal do trabalho principal da mulher com condição de chfe na família\n",
    "# Grafico para visualizar a associacao entre as variaveis RENDAFAMPERCAPITA e RENDATRABPRINC, com a condicao de chefe na familia\n",
    "\n",
    "fig = plt.figure(figsize=(15, 5))\n",
    "plt.subplot(121)\n",
    "plt.scatter(dados.RENDFAMPERCAPITA, dados.RENDTRABPRINC, color=('blue'), alpha=0.6)\n",
    "plt.ylabel('RENDFAMPERCAPITA')\n",
    "plt.xlabel('RENDTRABPRINC')\n",
    "\n",
    "plt.subplot(122)\n",
    "plt.scatter(dados.RENDTRABPRINC, dados.RENDFAMPERCAPITA, color=('red'), alpha=0.6)\n",
    "plt.ylabel('RENDTRABPRINC')\n",
    "plt.xlabel('RENDFAMPERCAPITA')\n",
    "\n",
    "plt.show()\n"
   ]
  },
  {
   "cell_type": "markdown",
   "metadata": {},
   "source": [
    "<div id=\"q2_c\"></div>\n",
    "\n",
    "___\n",
    "\n",
    "**c)** Calcule uma medida adequada que permita interpretar o grau de associação entre as variáveis renda mensal familiar per capita e renda mensal do trabalho principal, considerando apenas as mulheres com condição de chefe na família. \n",
    "  "
   ]
  },
  {
   "cell_type": "code",
   "execution_count": 32,
   "metadata": {},
   "outputs": [
    {
     "name": "stdout",
     "output_type": "stream",
     "text": [
      "0.623391399888517\n"
     ]
    }
   ],
   "source": [
    "# Correlacao entre as variaveis RENDAFAMPERCAPITA e RENDATRABPRINC, com a condicao de chefe na familia\n",
    "print(dados.RENDFAMPERCAPITA[dados.CONDFAM==\"Chefe\"].corr(dados.RENDTRABPRINC[dados.CONDFAM==\"Chefe\"]))\n"
   ]
  },
  {
   "cell_type": "markdown",
   "metadata": {},
   "source": [
    "--- \n",
    "\n",
    "<div id=\"q3\"></div>\n",
    "\n",
    "# QUESTÃO 3\n",
    "### Análise do ENEM"
   ]
  },
  {
   "cell_type": "markdown",
   "metadata": {},
   "source": [
    "--- \n",
    "\n"
   ]
  },
  {
   "cell_type": "markdown",
   "metadata": {},
   "source": [
    "Esta parte da avaliação se baseia em uma amostra de dados do **ENEM 2017** adaptados para esta prova. O dicionario de dados encontra-se no link a seguir:\n",
    "\n",
    "[Dicionário de dados](./DATA_DIC.html)"
   ]
  },
  {
   "cell_type": "code",
   "execution_count": 34,
   "metadata": {},
   "outputs": [
    {
     "data": {
      "text/plain": [
       "NU_INSCRICAO            int64\n",
       "SG_UF_RESIDENCIA       object\n",
       "NU_IDADE              float64\n",
       "TP_SEXO                object\n",
       "TP_ESTADO_CIVIL       float64\n",
       "TP_ST_CONCLUSAO         int64\n",
       "IN_TREINEIRO            int64\n",
       "NU_NOTA_CN            float64\n",
       "NU_NOTA_CH            float64\n",
       "NU_NOTA_LC            float64\n",
       "NU_NOTA_MT            float64\n",
       "TP_LINGUA               int64\n",
       "NU_NOTA_REDACAO       float64\n",
       "ESC_PAI                object\n",
       "ESC_MAE                object\n",
       "PESSOAS_RESIDENCIA    float64\n",
       "BANHEIRO               object\n",
       "QUARTOS                object\n",
       "CARRO                  object\n",
       "CELULAR                object\n",
       "FIXO                   object\n",
       "COMPUTADOR             object\n",
       "INTERNET               object\n",
       "Q026                   object\n",
       "TIPO_EM                object\n",
       "RENDA                 float64\n",
       "NOTA_TESTES           float64\n",
       "NOTA_ENEM             float64\n",
       "dtype: object"
      ]
     },
     "execution_count": 34,
     "metadata": {},
     "output_type": "execute_result"
    }
   ],
   "source": [
    "filename = \"arquivos/enem2017_30K.csv\"\n",
    "dados = pd.read_csv(filename, index_col=0)\n",
    "dados.head(5)\n",
    "\n",
    "dados.dtypes\n"
   ]
  },
  {
   "cell_type": "markdown",
   "metadata": {},
   "source": [
    "<div id=\"q3_a\"></div>\n",
    "\n",
    "**a)** Apresente uma tabela cruzada que mostre a escolaridade do pai cruzada com o tipo do ensino médio. Aponte a combinação de categorias mais frequente e, baseado no dicionário de dados, explique o que são. "
   ]
  },
  {
   "cell_type": "code",
   "execution_count": 36,
   "metadata": {},
   "outputs": [
    {
     "data": {
      "text/html": [
       "<div>\n",
       "<style scoped>\n",
       "    .dataframe tbody tr th:only-of-type {\n",
       "        vertical-align: middle;\n",
       "    }\n",
       "\n",
       "    .dataframe tbody tr th {\n",
       "        vertical-align: top;\n",
       "    }\n",
       "\n",
       "    .dataframe thead th {\n",
       "        text-align: right;\n",
       "    }\n",
       "</style>\n",
       "<table border=\"1\" class=\"dataframe\">\n",
       "  <thead>\n",
       "    <tr style=\"text-align: right;\">\n",
       "      <th>TIPO_EM</th>\n",
       "      <th>A</th>\n",
       "      <th>B</th>\n",
       "      <th>C</th>\n",
       "      <th>D</th>\n",
       "      <th>E</th>\n",
       "    </tr>\n",
       "    <tr>\n",
       "      <th>ESC_PAI</th>\n",
       "      <th></th>\n",
       "      <th></th>\n",
       "      <th></th>\n",
       "      <th></th>\n",
       "      <th></th>\n",
       "    </tr>\n",
       "  </thead>\n",
       "  <tbody>\n",
       "    <tr>\n",
       "      <th>A</th>\n",
       "      <td>5.033333</td>\n",
       "      <td>0.063333</td>\n",
       "      <td>0.056667</td>\n",
       "      <td>0.063333</td>\n",
       "      <td>0.046667</td>\n",
       "    </tr>\n",
       "    <tr>\n",
       "      <th>B</th>\n",
       "      <td>20.523333</td>\n",
       "      <td>0.393333</td>\n",
       "      <td>0.260000</td>\n",
       "      <td>0.436667</td>\n",
       "      <td>0.253333</td>\n",
       "    </tr>\n",
       "    <tr>\n",
       "      <th>C</th>\n",
       "      <td>13.223333</td>\n",
       "      <td>0.356667</td>\n",
       "      <td>0.206667</td>\n",
       "      <td>0.630000</td>\n",
       "      <td>0.273333</td>\n",
       "    </tr>\n",
       "    <tr>\n",
       "      <th>D</th>\n",
       "      <td>10.450000</td>\n",
       "      <td>0.423333</td>\n",
       "      <td>0.170000</td>\n",
       "      <td>0.996667</td>\n",
       "      <td>0.320000</td>\n",
       "    </tr>\n",
       "    <tr>\n",
       "      <th>E</th>\n",
       "      <td>18.220000</td>\n",
       "      <td>1.220000</td>\n",
       "      <td>0.483333</td>\n",
       "      <td>4.466667</td>\n",
       "      <td>1.070000</td>\n",
       "    </tr>\n",
       "    <tr>\n",
       "      <th>F</th>\n",
       "      <td>3.033333</td>\n",
       "      <td>0.420000</td>\n",
       "      <td>0.113333</td>\n",
       "      <td>3.333333</td>\n",
       "      <td>0.460000</td>\n",
       "    </tr>\n",
       "    <tr>\n",
       "      <th>G</th>\n",
       "      <td>1.193333</td>\n",
       "      <td>0.253333</td>\n",
       "      <td>0.056667</td>\n",
       "      <td>2.653333</td>\n",
       "      <td>0.256667</td>\n",
       "    </tr>\n",
       "    <tr>\n",
       "      <th>H</th>\n",
       "      <td>7.643333</td>\n",
       "      <td>0.250000</td>\n",
       "      <td>0.090000</td>\n",
       "      <td>0.443333</td>\n",
       "      <td>0.160000</td>\n",
       "    </tr>\n",
       "  </tbody>\n",
       "</table>\n",
       "</div>"
      ],
      "text/plain": [
       "TIPO_EM          A         B         C         D         E\n",
       "ESC_PAI                                                   \n",
       "A         5.033333  0.063333  0.056667  0.063333  0.046667\n",
       "B        20.523333  0.393333  0.260000  0.436667  0.253333\n",
       "C        13.223333  0.356667  0.206667  0.630000  0.273333\n",
       "D        10.450000  0.423333  0.170000  0.996667  0.320000\n",
       "E        18.220000  1.220000  0.483333  4.466667  1.070000\n",
       "F         3.033333  0.420000  0.113333  3.333333  0.460000\n",
       "G         1.193333  0.253333  0.056667  2.653333  0.256667\n",
       "H         7.643333  0.250000  0.090000  0.443333  0.160000"
      ]
     },
     "execution_count": 36,
     "metadata": {},
     "output_type": "execute_result"
    }
   ],
   "source": [
    "# tabela cruzada entre escolaridade do pai e tipo do ensino médio\n",
    "pd.crosstab(dados.ESC_PAI, dados.TIPO_EM, normalize=True)\n",
    "\n",
    "# para ficar em porcentagem\n",
    "pd.crosstab(dados.ESC_PAI, dados.TIPO_EM, normalize=True)*100"
   ]
  },
  {
   "cell_type": "markdown",
   "metadata": {},
   "source": [
    "<div id=\"q3_b\"></div>\n",
    "\n",
    "**b)** Baseado nos dados, encontre a idade da mulher mais idosa que prestou a prova "
   ]
  },
  {
   "cell_type": "code",
   "execution_count": 37,
   "metadata": {},
   "outputs": [
    {
     "data": {
      "text/plain": [
       "74.0"
      ]
     },
     "execution_count": 37,
     "metadata": {},
     "output_type": "execute_result"
    }
   ],
   "source": [
    "# maior idade de mulher\n",
    "dados.NU_IDADE[dados.TP_SEXO=='F'].max()"
   ]
  },
  {
   "cell_type": "markdown",
   "metadata": {},
   "source": [
    "<div id=\"q3_c\"></div>\n",
    "\n",
    "**c)** Avalie a afirmação: pessoas com mais renda tendem a ir melhor no ENEM \n",
    "\n",
    "É necessário:\n",
    "\n",
    "* realizar o plot de dispersão renda versus pontuação"
   ]
  },
  {
   "cell_type": "code",
   "execution_count": 41,
   "metadata": {},
   "outputs": [
    {
     "data": {
      "text/plain": [
       "<AxesSubplot:xlabel='RENDA', ylabel='NOTA_ENEM'>"
      ]
     },
     "execution_count": 41,
     "metadata": {},
     "output_type": "execute_result"
    },
    {
     "data": {
      "image/png": "[encoded data removed]",
      "text/plain": [
       "<Figure size 432x288 with 1 Axes>"
      ]
     },
     "metadata": {
      "needs_background": "light"
     },
     "output_type": "display_data"
    }
   ],
   "source": [
    "dados.plot.scatter(x=\"RENDA\", y=\"NOTA_ENEM\")"
   ]
  },
  {
   "cell_type": "code",
   "execution_count": 45,
   "metadata": {},
   "outputs": [
    {
     "data": {
      "text/plain": [
       "40.819007923966126"
      ]
     },
     "execution_count": 45,
     "metadata": {},
     "output_type": "execute_result"
    }
   ],
   "source": [
    "dados.RENDA.corr(dados.NOTA_ENEM)*100"
   ]
  },
  {
   "cell_type": "markdown",
   "metadata": {},
   "source": [
    "<div id=\"q3_d\"></div>\n",
    "\n",
    "**d)** Compare as várias categorias do ensino médio. Use um recurso gráfico que permita visualizar a distribuição das notas do ENEM comparando as categorias de ensino médio."
   ]
  },
  {
   "cell_type": "markdown",
   "metadata": {},
   "source": [
    "\n",
    "A) Somente em escola pública.\n",
    "\n",
    "B) Parte em escola pública e parte em escola privada SEM bolsa de estudo integral.\n",
    "\n",
    "C) Parte em escola pública e parte em escola privada COM bolsa de estudo integral.\n",
    "\n",
    "D) Somente em escola privada SEM bolsa de estudo integral.\n",
    "\n",
    "E) Somente em escola privada COM bolsa de estudo integral."
   ]
  },
  {
   "cell_type": "code",
   "execution_count": 46,
   "metadata": {},
   "outputs": [
    {
     "data": {
      "image/png": "[encoded data removed]",
      "text/plain": [
       "<Figure size 1080x720 with 5 Axes>"
      ]
     },
     "metadata": {
      "needs_background": "light"
     },
     "output_type": "display_data"
    }
   ],
   "source": [
    "# PROF\n",
    "from numpy import arange\n",
    "minimo = dados.NOTA_ENEM.min() - 10\n",
    "maximo = dados.NOTA_ENEM.max() + 10\n",
    "faixa = arange(minimo,maximo,100)\n",
    "plt.figure(figsize=(15, 10))\n",
    "\n",
    "############################################################\n",
    "plt.subplot(231)\n",
    "plt.hist(dados.loc[dados.TIPO_EM == \"A\",\"NOTA_ENEM\"], \n",
    "         edgecolor='white',density=True, color='#EC4889', \n",
    "         linewidth=1, alpha=0.8, bins=faixa)\n",
    "plt.ylabel('densidade')\n",
    "plt.xlabel('notas')\n",
    "plt.title(\"Tipo A\")\n",
    "plt.xlim(minimo,maximo)\n",
    "\n",
    "############################################################\n",
    "plt.subplot(232)\n",
    "plt.hist(dados.loc[dados.TIPO_EM == \"B\",\"NOTA_ENEM\"], \n",
    "         edgecolor='white', density=True, color='#7895E9', \n",
    "         linewidth=1, alpha=0.8, bins=faixa)\n",
    "plt.ylabel('densidade')\n",
    "plt.xlabel('notas')\n",
    "plt.title(\"Tipo B\")\n",
    "plt.xlim(minimo,maximo)\n",
    "\n",
    "############################################################\n",
    "plt.subplot(233)\n",
    "plt.hist(dados.loc[dados.TIPO_EM == \"C\",\"NOTA_ENEM\"], \n",
    "        edgecolor='white', density=True, color='#C361EB', \n",
    "        linewidth=1, alpha=0.8, bins=faixa)\n",
    "plt.ylabel('densidade')\n",
    "plt.xlabel('notas')\n",
    "plt.title(\"Tipo C\")\n",
    "plt.xlim(minimo,maximo)\n",
    "\n",
    "############################################################\n",
    "plt.subplot(234)\n",
    "plt.hist(dados.loc[dados.TIPO_EM == \"D\",\"NOTA_ENEM\"], \n",
    "         edgecolor='white', density=True, color='#ECC948', \n",
    "        linewidth=1, alpha=0.8, bins=faixa)\n",
    "plt.ylabel('densidade')\n",
    "plt.xlabel('notas')\n",
    "plt.title(\"Tipo D\")\n",
    "plt.xlim(minimo,maximo)\n",
    "\n",
    "############################################################\n",
    "plt.subplot(235)\n",
    "plt.hist(dados.loc[dados.TIPO_EM == \"E\",\"NOTA_ENEM\"], \n",
    "        edgecolor='white', density=True, color='#48ECCC', \n",
    "        linewidth=1, alpha=0.8, bins=faixa)\n",
    "plt.ylabel('densidade')\n",
    "plt.xlabel('notas')\n",
    "plt.title(\"Tipo E\")\n",
    "plt.xlim(minimo,maximo)\n",
    "\n",
    "plt.tight_layout()\n",
    "plt.show()"
   ]
  },
  {
   "cell_type": "markdown",
   "metadata": {},
   "source": [
    "---\n",
    "\n",
    "<div id=\"kaggle\"></div>\n",
    "\n",
    "# KAGGLE:\n"
   ]
  },
  {
   "cell_type": "markdown",
   "metadata": {},
   "source": [
    "<img src=\"arquivos/img/kaggle.png\" >"
   ]
  },
  {
   "cell_type": "markdown",
   "metadata": {},
   "source": [
    "O [Kaggle.com](https://www.kaggle.com/competitions) é um site de competições internacionais de Data Science no qual empresas oferecem prêmios para os analistas que fizerem a melhor modelagem preditiva de diversos problemas.\n",
    "\n",
    "Em uma das competições recente, o desafio era:\n",
    "\n",
    ">Ask a home buyer to describe their dream house, and they probably won't begin with the height of the basement ceiling or the proximity to an east-west railroad. But this playground competition's dataset proves that much more influences price negotiations than the number of bedrooms or a white-picket fence.\n",
    "\n",
    ">With 79 explanatory variables describing (almost) every aspect of residential homes in Ames, Iowa, this competition challenges you to predict the final price of each home.\n",
    "\n",
    "A seguir, vocês receberão um conjunto de dados bem menor em termos de número de variáveis disponível no Kaggle.\n",
    "\n"
   ]
  },
  {
   "cell_type": "markdown",
   "metadata": {},
   "source": [
    "## SIGNIFICADO DAS VARIÁVEIS\n",
    "\n",
    "A base de dados que terão acesso traz informações de 1460 imóveis cujas variáveis selecionadas possuem as seguintes descrições traduzidas (mantendo os nomes das variáveis e das categorias do problema original - em inglês):\n",
    "\n"
   ]
  },
  {
   "cell_type": "markdown",
   "metadata": {},
   "source": [
    "&#10004; **Id:** número que identifica o imóvel na base de dados.\n",
    "\n",
    "&#10004; **SalePrice:** preço de venda da propriedade (em dólares). Ess\n",
    "a é a variável alvo que você irá tentar predizer.\n",
    "\n",
    "&#10004; **Foundation:** tipo de fundação, com as seguintes categorias:\n",
    "- BrkTil -  Tijolo e telha\n",
    "- CBlock -  Bloco de concreto\n",
    "- PConc -  Concreto usinado\n",
    "- Slab -  Laje\n",
    "- Stone -  Pedra\n",
    "- Wood -  Madeira\n",
    "\n",
    "\n",
    "&#10004; **OverallQual**: avalia de maneira geral o material e o acabamento da casa, com as seguintes categorias: \n",
    "- Very Poor - Péssimo\n",
    "- Poor - Ruim\n",
    "- Fair - Justo\n",
    "- Below Average - Abaixo da média\n",
    "- Average - Médio\n",
    "- Above Average - Acima da média\n",
    "- Good - Bom\n",
    "- Very Good - Muito bom\n",
    "- Excellent - Excelente\n",
    "- Very Excellent - Muito excelente\n",
    "\n",
    "&#10004; **LotArea:** tamanho do lote (em pés quadrados).\n",
    "\n",
    "&#10004; **X1stFlrSF:** tamanho do primeiro andar (em pés quadrados).\n",
    "\n",
    "&#10004; **X2ndFlrSF:** tamanho do segundo andar (em pés quadrados).\n",
    "\n",
    "&#10004; **GarageCars:** tamanho da garagem em capacidade de carros (número de carros).\n",
    "\n",
    "&#10004; **Fireplaces:** número de lareiras.\n",
    "\n",
    "&#10004; **Street:** tipo de acesso rodoviário à propriedade, com as seguintes categorias:\n",
    "- Grvl - Cascalho\n",
    "- Pave - Pavimentado\n",
    "\n",
    "&#10004; **LandSlope:** inclinação da propriedade, com as seguintes categorias:\n",
    "- Gtl - inclinação suave\n",
    "- Mod - inclinação moderada\n",
    "- Sev - severo decline\n",
    "\n",
    "&#10004; **RoofStyle:** tipo do telhado, com as seguintes categorias:\n",
    "- Flat - Telhado plano\n",
    "- Gable - Telhado de duas águas\n",
    "- Gambrel - Telhado estilo celeiro\n",
    "- Hip - Telhado de ripa\n",
    "- Mansard - Mansarda\n",
    "- Shed - Galpão\n",
    "\n",
    "&#10004; **CentralAir:** ar condicionado central, com as seguintes categorias:\n",
    "- N - Não\n",
    "- Y - Sim\n",
    "\n",
    "&#10004; **YearBuilt:** ano da construção do imóvel.\n",
    "\n",
    "&#10004; **YrSold:** ano de venda do imóvel.\n",
    "\n",
    "O arquivo <house.xlsx > traz todas essas 15 variáveis."
   ]
  },
  {
   "cell_type": "code",
   "execution_count": 3,
   "metadata": {},
   "outputs": [],
   "source": [
    "dados = pd.read_excel(\"arquivos/house.xlsx\")"
   ]
  },
  {
   "cell_type": "code",
   "execution_count": 3,
   "metadata": {},
   "outputs": [
    {
     "data": {
      "text/html": [
       "<div>\n",
       "<style>\n",
       "    .dataframe thead tr:only-child th {\n",
       "        text-align: right;\n",
       "    }\n",
       "\n",
       "    .dataframe thead th {\n",
       "        text-align: left;\n",
       "    }\n",
       "\n",
       "    .dataframe tbody tr th {\n",
       "        vertical-align: top;\n",
       "    }\n",
       "</style>\n",
       "<table border=\"1\" class=\"dataframe\">\n",
       "  <thead>\n",
       "    <tr style=\"text-align: right;\">\n",
       "      <th></th>\n",
       "      <th>Id</th>\n",
       "      <th>SalePrice</th>\n",
       "      <th>Foundation</th>\n",
       "      <th>OverallQual</th>\n",
       "      <th>LotArea</th>\n",
       "      <th>X1stFlrSF</th>\n",
       "      <th>X2ndFlrSF</th>\n",
       "      <th>GarageCars</th>\n",
       "      <th>Fireplaces</th>\n",
       "      <th>Street</th>\n",
       "      <th>LandSlope</th>\n",
       "      <th>RoofStyle</th>\n",
       "      <th>CentralAir</th>\n",
       "      <th>YearBuilt</th>\n",
       "      <th>YrSold</th>\n",
       "    </tr>\n",
       "  </thead>\n",
       "  <tbody>\n",
       "    <tr>\n",
       "      <th>0</th>\n",
       "      <td>1</td>\n",
       "      <td>208500</td>\n",
       "      <td>PConc</td>\n",
       "      <td>Good</td>\n",
       "      <td>8450</td>\n",
       "      <td>856</td>\n",
       "      <td>854</td>\n",
       "      <td>2</td>\n",
       "      <td>0</td>\n",
       "      <td>Pave</td>\n",
       "      <td>Gtl</td>\n",
       "      <td>Gable</td>\n",
       "      <td>Y</td>\n",
       "      <td>2003</td>\n",
       "      <td>2008</td>\n",
       "    </tr>\n",
       "    <tr>\n",
       "      <th>1</th>\n",
       "      <td>2</td>\n",
       "      <td>181500</td>\n",
       "      <td>CBlock</td>\n",
       "      <td>Above Average</td>\n",
       "      <td>9600</td>\n",
       "      <td>1262</td>\n",
       "      <td>0</td>\n",
       "      <td>2</td>\n",
       "      <td>1</td>\n",
       "      <td>Pave</td>\n",
       "      <td>Gtl</td>\n",
       "      <td>Gable</td>\n",
       "      <td>Y</td>\n",
       "      <td>1976</td>\n",
       "      <td>2007</td>\n",
       "    </tr>\n",
       "    <tr>\n",
       "      <th>2</th>\n",
       "      <td>3</td>\n",
       "      <td>223500</td>\n",
       "      <td>PConc</td>\n",
       "      <td>Good</td>\n",
       "      <td>11250</td>\n",
       "      <td>920</td>\n",
       "      <td>866</td>\n",
       "      <td>2</td>\n",
       "      <td>1</td>\n",
       "      <td>Pave</td>\n",
       "      <td>Gtl</td>\n",
       "      <td>Gable</td>\n",
       "      <td>Y</td>\n",
       "      <td>2001</td>\n",
       "      <td>2008</td>\n",
       "    </tr>\n",
       "    <tr>\n",
       "      <th>3</th>\n",
       "      <td>4</td>\n",
       "      <td>140000</td>\n",
       "      <td>BrkTil</td>\n",
       "      <td>Good</td>\n",
       "      <td>9550</td>\n",
       "      <td>961</td>\n",
       "      <td>756</td>\n",
       "      <td>3</td>\n",
       "      <td>1</td>\n",
       "      <td>Pave</td>\n",
       "      <td>Gtl</td>\n",
       "      <td>Gable</td>\n",
       "      <td>Y</td>\n",
       "      <td>1915</td>\n",
       "      <td>2006</td>\n",
       "    </tr>\n",
       "    <tr>\n",
       "      <th>4</th>\n",
       "      <td>5</td>\n",
       "      <td>250000</td>\n",
       "      <td>PConc</td>\n",
       "      <td>Very Good</td>\n",
       "      <td>14260</td>\n",
       "      <td>1145</td>\n",
       "      <td>1053</td>\n",
       "      <td>3</td>\n",
       "      <td>1</td>\n",
       "      <td>Pave</td>\n",
       "      <td>Gtl</td>\n",
       "      <td>Gable</td>\n",
       "      <td>Y</td>\n",
       "      <td>2000</td>\n",
       "      <td>2008</td>\n",
       "    </tr>\n",
       "  </tbody>\n",
       "</table>\n",
       "</div>"
      ],
      "text/plain": [
       "   Id  SalePrice Foundation    OverallQual  LotArea  X1stFlrSF  X2ndFlrSF  \\\n",
       "0   1     208500      PConc           Good     8450        856        854   \n",
       "1   2     181500     CBlock  Above Average     9600       1262          0   \n",
       "2   3     223500      PConc           Good    11250        920        866   \n",
       "3   4     140000     BrkTil           Good     9550        961        756   \n",
       "4   5     250000      PConc      Very Good    14260       1145       1053   \n",
       "\n",
       "   GarageCars  Fireplaces Street LandSlope RoofStyle CentralAir  YearBuilt  \\\n",
       "0           2           0   Pave       Gtl     Gable          Y       2003   \n",
       "1           2           1   Pave       Gtl     Gable          Y       1976   \n",
       "2           2           1   Pave       Gtl     Gable          Y       2001   \n",
       "3           3           1   Pave       Gtl     Gable          Y       1915   \n",
       "4           3           1   Pave       Gtl     Gable          Y       2000   \n",
       "\n",
       "   YrSold  \n",
       "0    2008  \n",
       "1    2007  \n",
       "2    2008  \n",
       "3    2006  \n",
       "4    2008  "
      ]
     },
     "execution_count": 3,
     "metadata": {},
     "output_type": "execute_result"
    }
   ],
   "source": [
    "dados.head()"
   ]
  },
  {
   "cell_type": "code",
   "execution_count": 48,
   "metadata": {},
   "outputs": [
    {
     "data": {
      "text/plain": [
       "SalePrice       int64\n",
       "Foundation     object\n",
       "OverallQual    object\n",
       "LotArea         int64\n",
       "X1stFlrSF       int64\n",
       "X2ndFlrSF       int64\n",
       "GarageCars      int64\n",
       "Fireplaces      int64\n",
       "Street         object\n",
       "LandSlope      object\n",
       "RoofStyle      object\n",
       "CentralAir     object\n",
       "YearBuilt       int64\n",
       "YrSold          int64\n",
       "dtype: object"
      ]
     },
     "execution_count": 48,
     "metadata": {},
     "output_type": "execute_result"
    }
   ],
   "source": [
    "dados.dtypes"
   ]
  },
  {
   "cell_type": "code",
   "execution_count": 4,
   "metadata": {
    "collapsed": true
   },
   "outputs": [],
   "source": [
    "dados.Foundation = dados.Foundation.astype('category')\n",
    "dados.OverallQual = dados.OverallQual.astype('category')\n",
    "dados.Street = dados.Street.astype('category')\n",
    "dados.LandSlope = dados.LandSlope.astype('category')\n",
    "dados.RoofStyle = dados.RoofStyle.astype('category')\n",
    "dados.CentralAir = dados.CentralAir.astype('category')\n",
    "\n",
    "dados.Foundation.cat.categories = (['BrkTil','CBlock','PConc','Slab','Stone','Wood'])\n",
    "dados.OverallQual.cat.categories = (['Very Poor','Poor','Fair','Below Average','Average',\n",
    "                                     'Above Average','Good','Very Good','Excellent','Very Excellent'])\n",
    "\n",
    "dados.Street.cat.categories = (['Grvl','Pave'])\n",
    "dados.LandSlope.cat.categories = (['Gtl','Mod','Sev'])\n",
    "dados.RoofStyle.cat.categories = (['Flat','Gable','Gambrel','Hip','Mansard','Shed'])\n",
    "dados.CentralAir.cat.categories = (['N','Y'])\n"
   ]
  },
  {
   "cell_type": "markdown",
   "metadata": {},
   "source": [
    "<div id=\"q4\"></div>\n",
    "\n",
    "___\n",
    "# Questão 4"
   ]
  },
  {
   "cell_type": "markdown",
   "metadata": {},
   "source": [
    "<div id=\"q4_a\"></div>\n",
    "\n",
    "---\n",
    "#### Assuma que o objetivo para trabalhar com a base de dados acima seja: “Analisar como uma determinada variável pode impactar sobre o preço de vendas de um imóvel”.\n",
    "\n",
    "**a)** Utilizando alguma ferramenta estatística (**gráfica**) que seja adequada, analise como a presença ou não de ar central no imóvel (variável `CentralAir`) pode impactar sobre preço de vendas de um imóvel (variável `SalePrice`). A interpretação precisa ser completa PORÉM sucinta.\n"
   ]
  },
  {
   "cell_type": "code",
   "execution_count": 5,
   "metadata": {},
   "outputs": [
    {
     "data": {
      "text/plain": [
       "count      1460.000000\n",
       "mean     180921.195890\n",
       "std       79442.502883\n",
       "min       34900.000000\n",
       "25%      129975.000000\n",
       "50%      163000.000000\n",
       "75%      214000.000000\n",
       "max      755000.000000\n",
       "Name: SalePrice, dtype: float64"
      ]
     },
     "execution_count": 5,
     "metadata": {},
     "output_type": "execute_result"
    }
   ],
   "source": [
    "dados.SalePrice.describe()\n"
   ]
  },
  {
   "cell_type": "code",
   "execution_count": 54,
   "metadata": {},
   "outputs": [
    {
     "data": {
      "image/png": "[encoded data removed]",
      "text/plain": [
       "<Figure size 1080x288 with 2 Axes>"
      ]
     },
     "metadata": {
      "needs_background": "light"
     },
     "output_type": "display_data"
    }
   ],
   "source": [
    "faixa = range(34000, 800000, 50000)\n",
    "fig = plt.figure(figsize=(15, 4))\n",
    "plt.subplot(121)\n",
    "dados.SalePrice[dados.CentralAir=='N'].plot.hist(bins=faixa, color=('blue'), density=True, title=\"IMOVEL SEM AR\", alpha=0.6)\n",
    "plt.ylabel('Densidade')\n",
    "plt.xlabel('Preço de venda do imóvel (em dolares)')\n",
    "\n",
    "plt.subplot(122)\n",
    "dados.SalePrice[dados.CentralAir=='Y'].plot.hist(bins=faixa, color=('blue'), density=True, title=\"IMOVEL COM AR\", alpha=0.6)\n",
    "plt.ylabel('Densidade')\n",
    "plt.xlabel('Preço de venda do imóvel (em dolares)')\n",
    "\n",
    "plt.show()"
   ]
  },
  {
   "cell_type": "markdown",
   "metadata": {},
   "source": [
    "<div id=\"q4_b\"></div>\n",
    "\n",
    "___\n",
    "\n",
    "#### Assuma que o objetivo para trabalhar com a base de dados acima seja: “Analisar como uma determinada variável pode impactar sobre o preço de vendas de um imóvel”.\n",
    "\n",
    "**b)** Utilizando alguma ferramentas estatísticas (**numérica** E **gráfica**) que sejam adequadas, analise como o tamanho de área construída do primeiro andar do imóvel (variável `X1stFlrSF`) pode impactar sobre preço de vendas do mesmo (variável `SalePrice`). A interpretação precisa ser completa PORÉM sucinta.\n"
   ]
  },
  {
   "cell_type": "code",
   "execution_count": 7,
   "metadata": {},
   "outputs": [
    {
     "data": {
      "text/plain": [
       "60.58521846919146"
      ]
     },
     "execution_count": 7,
     "metadata": {},
     "output_type": "execute_result"
    },
    {
     "data": {
      "image/png": "[encoded data removed]",
      "text/plain": [
       "<Figure size 432x288 with 1 Axes>"
      ]
     },
     "metadata": {
      "needs_background": "light"
     },
     "output_type": "display_data"
    }
   ],
   "source": [
    "# relation between X1stFlrSF and SalePrice\n",
    "dados.plot.scatter(x=\"X1stFlrSF\", y=\"SalePrice\")\n",
    "\n",
    "# now numeric\n",
    "dados.X1stFlrSF.corr(dados.SalePrice)*100\n"
   ]
  },
  {
   "cell_type": "markdown",
   "metadata": {},
   "source": [
    "<div id=\"q4_c\"></div>\n",
    "\n",
    "___\n",
    "\n",
    "**c)** Como você verificaria a seguinte afirmação: *Os imóveis sem ar central possuem a mesma qualidade geral de material e de acabamento quando comparados com imóveis que possuem ar central*?\n",
    "\n",
    "Obs: Considere as variáveis `CentralAir` e `OverallQual` para responder a pergunta acima."
   ]
  },
  {
   "cell_type": "code",
   "execution_count": 9,
   "metadata": {},
   "outputs": [
    {
     "data": {
      "text/html": [
       "<div>\n",
       "<style scoped>\n",
       "    .dataframe tbody tr th:only-of-type {\n",
       "        vertical-align: middle;\n",
       "    }\n",
       "\n",
       "    .dataframe tbody tr th {\n",
       "        vertical-align: top;\n",
       "    }\n",
       "\n",
       "    .dataframe thead th {\n",
       "        text-align: right;\n",
       "    }\n",
       "</style>\n",
       "<table border=\"1\" class=\"dataframe\">\n",
       "  <thead>\n",
       "    <tr style=\"text-align: right;\">\n",
       "      <th>Qualidade</th>\n",
       "      <th>Very Poor</th>\n",
       "      <th>Poor</th>\n",
       "      <th>Fair</th>\n",
       "      <th>Below Average</th>\n",
       "      <th>Average</th>\n",
       "      <th>Above Average</th>\n",
       "      <th>Good</th>\n",
       "      <th>Very Good</th>\n",
       "      <th>Excellent</th>\n",
       "      <th>Very Excellent</th>\n",
       "    </tr>\n",
       "    <tr>\n",
       "      <th>Ar Central</th>\n",
       "      <th></th>\n",
       "      <th></th>\n",
       "      <th></th>\n",
       "      <th></th>\n",
       "      <th></th>\n",
       "      <th></th>\n",
       "      <th></th>\n",
       "      <th></th>\n",
       "      <th></th>\n",
       "      <th></th>\n",
       "    </tr>\n",
       "  </thead>\n",
       "  <tbody>\n",
       "    <tr>\n",
       "      <th>N</th>\n",
       "      <td>18.95</td>\n",
       "      <td>33.68</td>\n",
       "      <td>24.21</td>\n",
       "      <td>0.00</td>\n",
       "      <td>11.58</td>\n",
       "      <td>5.26</td>\n",
       "      <td>3.16</td>\n",
       "      <td>0.00</td>\n",
       "      <td>1.05</td>\n",
       "      <td>2.11</td>\n",
       "    </tr>\n",
       "    <tr>\n",
       "      <th>Y</th>\n",
       "      <td>26.08</td>\n",
       "      <td>26.74</td>\n",
       "      <td>6.81</td>\n",
       "      <td>3.15</td>\n",
       "      <td>0.66</td>\n",
       "      <td>23.00</td>\n",
       "      <td>0.00</td>\n",
       "      <td>1.32</td>\n",
       "      <td>12.23</td>\n",
       "      <td>0.00</td>\n",
       "    </tr>\n",
       "  </tbody>\n",
       "</table>\n",
       "</div>"
      ],
      "text/plain": [
       "Qualidade   Very Poor   Poor   Fair  Below Average  Average  Above Average  \\\n",
       "Ar Central                                                                   \n",
       "N               18.95  33.68  24.21           0.00    11.58           5.26   \n",
       "Y               26.08  26.74   6.81           3.15     0.66          23.00   \n",
       "\n",
       "Qualidade   Good  Very Good  Excellent  Very Excellent  \n",
       "Ar Central                                              \n",
       "N           3.16       0.00       1.05            2.11  \n",
       "Y           0.00       1.32      12.23            0.00  "
      ]
     },
     "execution_count": 9,
     "metadata": {},
     "output_type": "execute_result"
    }
   ],
   "source": [
    "# verify if without CentralAir the house has the same quality of material and finish when compared to the houses with CentralAir\n",
    "\n",
    "ct2=(pd.crosstab(dados.CentralAir, dados.OverallQual, margins=False, \n",
    "                 rownames=['Ar Central'], colnames=['Qualidade'], normalize='index')*100).round(decimals=2)\n",
    "ct2"
   ]
  },
  {
   "cell_type": "code",
   "execution_count": 10,
   "metadata": {},
   "outputs": [
    {
     "data": {
      "image/png": "[encoded data removed]",
      "text/plain": [
       "<Figure size 576x432 with 1 Axes>"
      ]
     },
     "metadata": {
      "needs_background": "light"
     },
     "output_type": "display_data"
    }
   ],
   "source": [
    "plot = ct2.plot(kind='bar', stacked=True,title='Qualidade por Ar Central',figsize=(8, 6))\n",
    "plt.ylabel('Freq.Relativa (em %)')\n",
    "\n",
    "#Para legenda ficar fora do gráfico\n",
    "ax = plt.subplot(111)\n",
    "box = ax.get_position()\n",
    "ax.set_position([box.x0, box.y0, box.width * 0.8, box.height])\n",
    "ax.legend(loc='center left', bbox_to_anchor=(1, 0.5))\n",
    "\n",
    "plt.show()"
   ]
  }
 ],
 "metadata": {
  "kernelspec": {
   "display_name": "Python 3.9.7 64-bit",
   "language": "python",
   "name": "python3"
  },
  "language_info": {
   "codemirror_mode": {
    "name": "ipython",
    "version": 3
   },
   "file_extension": ".py",
   "mimetype": "text/x-python",
   "name": "python",
   "nbconvert_exporter": "python",
   "pygments_lexer": "ipython3",
   "version": "3.9.7"
  },
  "vscode": {
   "interpreter": {
    "hash": "fa202bb1a1975933ba9aefafdf4702960127000ff337e7c1a518450752e9f0c6"
   }
  }
 },
 "nbformat": 4,
 "nbformat_minor": 4
}
