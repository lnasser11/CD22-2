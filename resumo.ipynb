{
 "cells": [
  {
   "cell_type": "markdown",
   "metadata": {},
   "source": [
    "## Teoria Probabilística\n",
    "- ### Complementaridade\n",
    "##### P(A) + P(A_C) = 1\n",
    "Onde A_C é o complemento de A, ou seja, o conjunto de todos os eventos que não pertencem a A.\n",
    "- ### Independência\n",
    "P(A ∩ B) = P(A)P(B)\n",
    "\n",
    "P(A U B) = P(A) + P(B) - P(A ∩ B)\n",
    "- ### Condicional\n",
    "P(A|B) = P(A ∩ B)/P(B)\n",
    "O símbolo | é lido como \"dado que\".\n",
    "\n",
    "Uma maneira de interpretar a probabilidade condicional é visualizando no diagrama de Venn, onde P(A|B) é a área da intersecção entre A e B, dividida pela área de B."
   ]
  },
  {
   "cell_type": "markdown",
   "metadata": {},
   "source": [
    "----\n",
    "## Probabilidade Discreta e Contínua\n",
    "\n",
    "- ### Probabilidade Discreta\n",
    "A probabilidade de um evento discreto é dada por:\n",
    "\n",
    "P(A) = n(A)/n(S)\n",
    "\n",
    "Onde n(A) é o número de elementos de A e n(S) é o número de elementos do espaço amostral S.\n",
    "\n",
    "A teoria de probabilidade é aplicada normalmente aqui.\n",
    "\n",
    "- ### Probabilidade Contínua\n",
    "Aqui, somos apresentados a um tipo diferente de evento. Na probabilidade discreta, os casos geralmente são simples. \n",
    "Ex: Lançar um dado, onde temos 6 possibilidades.\n",
    "\n",
    "Na probabilidade contínua, temos um espaço amostral infinito, e a probabilidade de um evento é dada por uma área.\n",
    "\n",
    "Ex: Qual a probabilidade de em uma amostra de 1000 pessoas, 500 tenham altura entre 1.60 e 1.70? \n",
    "\n",
    "Nesse caso, não existe a probabilidade de cada altura, mas sim a probabilidade de uma altura estar entre 1.60 e 1.70. Para esses cálculos, utilizamos a função densidade de probabilidade (PDF). \n",
    "\n",
    "Então:\n",
    "\n",
    "A probabilidade de um evento contínuo é dada por:\n",
    "\n",
    "P(A) = ∫A f(x)dx. Aqui, extrapolamos o número de possibilidades para o infinito.\n",
    "Onde f(x) é a função densidade de probabilidade."
   ]
  },
  {
   "cell_type": "markdown",
   "metadata": {},
   "source": [
    "----\n",
    "## Esperança e Variância\n",
    "\n",
    "- ### Esperança\n",
    "A esperança de um evento é a média ponderada de todos os resultados possíveis.\n",
    "Ela é dada por:\n",
    "E(X) = ∑ x.P(X=x)\n",
    "\n",
    "- ### Variância\n",
    "A variância de um evento é a média ponderada da distância de cada resultado possível para a média.\n",
    "Ela é dada por:\n",
    "Var(X) = E(X - E(X))^2\n",
    "\n",
    "Ou, de forma equivalente:\n",
    "Var(X) = E(X^2) - E(X)^2"
   ]
  },
  {
   "cell_type": "markdown",
   "metadata": {},
   "source": [
    "### Exemplo:\n",
    "\n",
    "Uma corretora de seguros paga uma comissão de R$50,00 a cada novo seguro que um corretor vende. A probabilidade de um cliente adquirir o seguro é de 0,20. \n",
    "\n",
    "1. Descreva como pode se comportar a comissão se um corretor ao abordar 2 clientes de maneira independente um do outro.\n",
    "1. Qual a probabilidade de um corretor ganhar apenas R$50,00?\n",
    "\n",
    "Vamos considerar os eventos:\n",
    "\n",
    "- $S_i$: o cliente $i$ compra o seguro;\n",
    "- $N_i = S_i^C$: o cliente $i$ não compra o seguro.\n",
    "\n",
    "Pelo enunciado sabemos que:\n",
    "\n",
    "- $P(S_i) = 0.2$\n",
    "- $P(N_i) = P(S_i^C) = 1 - P(S_i) = 0.8$\n",
    "\n",
    "Listando todas as possíveis combinações de eventos, temos:\n",
    "\n",
    "Cliente 1 | Cliente 2 | Probabilidade           | Valor da comissão\n",
    "--------- | --------- | ----------------------- | -----------------\n",
    "$N_1$     | $N_2$     | $P(N_1)P(N_2)$ = $0.64$ | 0\n",
    "$N_1$     | $S_2$     | $P(N_1)P(S_2)$ = $0.16$ | 50\n",
    "$S_1$     | $N_2$     | $P(S_1)P(N_2)$ = $0.16$ | 50\n",
    "$S_1$     | $S_2$     | $P(S_1)P(S_2)$ = $0.04$ | 100\n",
    "\n",
    "Estamos interessados no valor da comissão de um corretor. Para isso, vamos definir a variável aleatória:\n",
    "\n",
    "- $C$: valor da comissão do corretor.\n",
    "\n",
    "Assim, o item 2 pode ser interpretado como: qual é o valor de $P(C=50)$?\n",
    "\n",
    "Consultando a tabela calculada acima, vemos que $P(C=50) = 0.16 + 0.16 = 0.32$."
   ]
  },
  {
   "cell_type": "code",
   "execution_count": 1,
   "metadata": {},
   "outputs": [
    {
     "name": "stdout",
     "output_type": "stream",
     "text": [
      "O valor esperado é de 20.0 e, sua variância é 800.0.\n"
     ]
    }
   ],
   "source": [
    "# 1. Valor esperado e variância da variável C (comissão)\n",
    "\n",
    "Esperanca = 0.64 * 0 + 0.16 * 50 + 0.16 * 50 + 0.04 * 100\n",
    "Variancia = 0.64 * (0 - 20)**2 + 0.16 * (50 - 20)**2 + 0.16 * (50 - 20)**2 + 0.04 * (100 - 20)**2 \n",
    "\n",
    "print(f'O valor esperado é de {Esperanca} e, sua variância é {Variancia}.')"
   ]
  },
  {
   "cell_type": "markdown",
   "metadata": {},
   "source": [
    "----\n",
    "## Distribuição Binomial\n",
    "\n",
    "A distribuição binomial é uma distribuição discreta que descreve o número de sucessos em uma sequência de n ensaios independentes de Bernoulli, cada um com probabilidade de sucesso p.\n",
    "\n",
    "A distribuição binomial é dada por:\n",
    "\n",
    "$P(X=k) = \\binom{n}{k}p^k(1-p)^{n-k}$\n",
    "Onde $\\binom{n}{k}$ é o coeficiente binomial.\n",
    "\n",
    "### Exemplo:\n",
    "\n",
    "Um dado é lançado 5 vezes. Qual a probabilidade de sair 3 vezes o número 6?\n",
    "\n",
    "Aqui, temos um evento discreto, e a probabilidade de sair 6 é de 1/6. Então, temos:\n",
    "\n",
    "$P(X=3) = \\binom{5}{3}(1/6)^3(1-1/6)^{5-3} = 0.104$\n",
    "\n",
    "----"
   ]
  },
  {
   "cell_type": "markdown",
   "metadata": {},
   "source": [
    "## Distribuição de Poisson\n",
    "\n",
    "A distribuição de Poisson é uma distribuição discreta que descreve o número de eventos que ocorrem em um intervalo de tempo ou espaço, se esses eventos ocorrem com uma taxa constante e independentemente do tempo que se passou desde o último evento.\n",
    "\n",
    "A distribuição de Poisson é dada por:\n",
    "\n",
    "$P(X=k) = \\frac{\\lambda^k e^{-\\lambda}}{k!}$\n",
    "Onde $\\lambda$ é a taxa de ocorrência dos eventos.\n",
    "\n",
    "### Exemplo:\n",
    "\n",
    "Um cliente chega a uma loja de conveniência a cada 5 minutos. Qual a probabilidade de 3 clientes chegarem em 15 minutos?\n",
    "\n",
    "Aqui, temos um evento discreto, e a probabilidade de um cliente chegar é de 1/5. Então, temos:\n",
    "\n",
    "$P(X=3) = \\frac{(3)(1/5)^3 e^{-1/5}}{3!} = 0.036$\n",
    "\n",
    "----"
   ]
  },
  {
   "cell_type": "markdown",
   "metadata": {},
   "source": [
    "## Distribuição Uniforme\n",
    "\n",
    "A distribuição uniforme é uma distribuição contínua que descreve o comportamento de uma variável aleatória que pode assumir qualquer valor dentro de um intervalo.\n",
    "\n",
    "A distribuição uniforme é dada por:\n",
    "\n",
    "$P(a \\leq X \\leq b) = \\frac{1}{b-a}$\n",
    "Onde $a$ e $b$ são os limites do intervalo.\n"
   ]
  },
  {
   "cell_type": "markdown",
   "metadata": {},
   "source": [
    "----\n",
    "## Distribuição Exponencial\n",
    "\n",
    "A distribuição exponencial é uma distribuição contínua que descreve o comportamento de uma variável aleatória que pode assumir qualquer valor dentro de um intervalo.\n",
    "\n",
    "A distribuição exponencial é dada por:\n",
    "\n",
    "$P(X \\geq x) = 1 - e^{-\\lambda x}$\n",
    "\n",
    "Onde $\\lambda$ é a taxa de ocorrência dos eventos.\n",
    "\n",
    "### Exemplo:\n",
    "\n",
    "Um cliente chega a uma loja de conveniência a cada 5 minutos. Qual a probabilidade de um cliente chegar em 15 minutos?\n",
    "\n",
    "Aqui, temos um evento contínuo, e a probabilidade de um cliente chegar em um minuto é de 1/5. Então, temos:\n",
    "\n",
    "$P(X \\geq 15) = 1 - e^{-1/5 \\times 15} = 0.036$"
   ]
  },
  {
   "cell_type": "markdown",
   "metadata": {},
   "source": [
    "## Distribuição Normal\n",
    "\n",
    "A distribuição normal é uma distribuição contínua que descreve o comportamento de uma variável aleatória que pode assumir qualquer valor dentro de um intervalo.\n",
    "\n",
    "A distribuição normal é dada por:\n",
    "\n",
    "$P(a \\leq X \\leq b) = \\frac{1}{\\sigma \\sqrt{2\\pi}} \\int_{a}^{b} e^{-\\frac{(x-\\mu)^2}{2\\sigma^2}} dx$\n",
    "\n",
    "Onde $\\mu$ é a média e $\\sigma$ é o desvio padrão.\n",
    "\n",
    "### Exemplo:\n",
    "\n",
    "Dado que a média de altura de uma população é 1,70m e o desvio padrão é 0,05m, qual a probabilidade de uma pessoa ter uma altura entre 1,65m e 1,75m?\n",
    "\n",
    "Aqui, temos um evento contínuo, e a probabilidade de uma pessoa ter uma altura entre 1,65m e 1,75m é de 0,6827.\n",
    "\n",
    "$P(1,65 \\leq X \\leq 1,75) = \\frac{1}{0,05 \\sqrt{2\\pi}} \\int_{1,65}^{1,75} e^{-\\frac{(x-1,70)^2}{2(0,05)^2}} dx = 0,6827$"
   ]
  },
  {
   "cell_type": "code",
   "execution_count": 2,
   "metadata": {},
   "outputs": [],
   "source": [
    "# Resumo aulas\n",
    "\n",
    "# dExemplo: menor tempo de chegada dos 10% mais rápidos\n",
    "# Dist. Norm --> stats.norm.ppf(0.9, loc=mu, scale=sigma)\n",
    "# Dist. Uniforme --> stats.uniform.ppf(0.9, loc=a, scale=b-a)\n",
    "# Dist. Exponencial --> stats.expon.ppf(0.9, loc=0, scale=1/lambda)\n",
    "# Dist. Binomial --> stats.binom.ppf(0.9, n, p)\n",
    "# Dist. Poisson --> stats.poisson.ppf(0.9, mu)\n",
    "\n",
    "# Esperança\n",
    "# Dist. Norm --> Esperança = stats.norm.mean(loc=mu, scale=sigma) se tiver porcentagem, isso * porcentagem\n",
    "# Dist. Uniforme --> Esperança = stats.uniform.mean(loc=a, scale=b-a)\n",
    "# Dist. Exponencial --> Esperança = stats.expon.mean(loc=0, scale=1/lambda)\n",
    "# Dist. Binomial --> Esperança = stats.binom.mean(n, p)\n",
    "# Dist. Poisson --> Esperança = stats.poisson.mean(mu)\n",
    "\n",
    "# Variância e Desvio Padrão\n",
    "# Dist. Norm --> Variância = stats.norm.var(loc=mu, scale=sigma) ou (sigma**2)*(porcentagem**2) e Desvio Padrão = stats.norm.std(loc=mu, scale=sigma)\n",
    "# Dist. Uniforme --> Variância = stats.uniform.var(loc=a, scale=b-a) e Desvio Padrão = stats.uniform.std(loc=a, scale=b-a)\n",
    "# Dist. Exponencial --> Variância = stats.expon.var(loc=0, scale=1/lambda) e Desvio Padrão = stats.expon.std(loc=0, scale=1/lambda)\n",
    "# Dist. Binomial --> Variância = stats.binom.var(n, p) e Desvio Padrão = stats.binom.std(n, p)\n",
    "# Dist. Poisson --> Variância = stats.poisson.var(mu) e Desvio Padrão = stats.poisson.std(mu)\n",
    "# var = (sigma**2)*(porcentagem**2) se tiver porcentagem, se nao so (sigma**2)\n",
    "# Sigma = Desvio Padrão = sqrt(Variância (soma)) = (x - mu)/p\n",
    "\n",
    "# p = stats.norm.ppf(porcentagem, 0, 1)\n",
    "# sigma = (x - mu)/p --> x = valor que ele da\n",
    "\n",
    "\n",
    "\n",
    "# uContrario\n",
    "# menor = 0.4\n",
    "# maior = 1 - 0.4\n",
    "\n",
    "# amenos_x = stats.(expon, norm, etc).cdf(x, scale = mu)\n",
    "# mais_x = 1 - menos_x\n",
    "# menos_y = stats.expon.cdf(y, scale = mu) --> exemplo, dist exponencial\n",
    "# menos_y_mais_x = (menos_y - menos_x) / mais_x\n",
    "\n",
    "# menos_y = stats.norm.cdf(y, loc = mu, scale = sigma) --> exemplo, dist normal\n",
    "\n",
    "# dSoma de distribuições --> norm*chance_norm + expon*chance_expon = total\n",
    "# (1 - stats.norm.cdf(x, loc = mu, scale = sigma))*chance_norm + (1 - stats.expon.cdf(x, scale = mu))*chance_expon = total\n",
    "\n",
    "# total_y = stats.norm.cdf(y, loc = mu, scale = sigma)*chance_norm + stats.expon.cdf(y, scale = mu)*chance_expon\n",
    "# P(X|Y) =  (1 - stats.expon.cdf(X, scale = mu)) / total_y\n",
    "\n",
    "# maior_x = 1 - stats.norm.cdf(x, loc = mu, scale = sigma)\n",
    "\n",
    "\n",
    "# cov = stats.norm.cov(x, y, loc = mu, scale = sigma)\n",
    "# cov = stats.expon.cov(x, y, scale = mu)\n",
    "# cov = stats.binom.cov(x, y, n, p)\n",
    "# cov = stats.poisson.cov(x, y, mu)"
   ]
  }
 ],
 "metadata": {
  "kernelspec": {
   "display_name": "Python 3.9.7 64-bit",
   "language": "python",
   "name": "python3"
  },
  "language_info": {
   "codemirror_mode": {
    "name": "ipython",
    "version": 3
   },
   "file_extension": ".py",
   "mimetype": "text/x-python",
   "name": "python",
   "nbconvert_exporter": "python",
   "pygments_lexer": "ipython3",
   "version": "3.9.7"
  },
  "orig_nbformat": 4,
  "vscode": {
   "interpreter": {
    "hash": "fa202bb1a1975933ba9aefafdf4702960127000ff337e7c1a518450752e9f0c6"
   }
  }
 },
 "nbformat": 4,
 "nbformat_minor": 2
}
