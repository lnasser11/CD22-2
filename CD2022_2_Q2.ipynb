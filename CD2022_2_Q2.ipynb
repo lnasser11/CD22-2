{
 "cells": [
  {
   "cell_type": "markdown",
   "metadata": {},
   "source": [
    "___\n",
    "# Quiz 2 - Avaliação Online de Ciência dos dados \n",
    "\n",
    "## 2022 - 2o. semestre \n",
    "\n",
    "___\n"
   ]
  },
  {
   "cell_type": "markdown",
   "metadata": {},
   "source": [
    "# Lucca Lozano Nasser"
   ]
  },
  {
   "cell_type": "markdown",
   "metadata": {},
   "source": [
    "___\n",
    "# ATENÇÃO:\n",
    "\n",
    "Leia antes todas as instruções colocadas no teste dentro do Blackboard.\n"
   ]
  },
  {
   "cell_type": "code",
   "execution_count": 2,
   "metadata": {},
   "outputs": [],
   "source": [
    "# %matplotlib inline\n",
    "import math\n",
    "from math import sqrt\n",
    "\n",
    "import os\n",
    "import matplotlib.pyplot as plt\n",
    "import numpy as np\n",
    "from numpy import arange, linspace\n",
    "import pandas as pd\n",
    "\n",
    "from scipy import stats\n",
    "from scipy.stats import norm, uniform, expon, probplot\n",
    "\n",
    "from IPython.display import display  # Para ter melhor print.\n",
    "\n",
    "def sqrt(x):\n",
    "    return math.sqrt(x)\n",
    "# Pode trazer mais bibliotecas, caso julgue interessante!!"
   ]
  },
  {
   "cell_type": "markdown",
   "metadata": {},
   "source": [
    "<div id=\"indice\"></div>\n",
    "\n",
    "# Índice\n",
    "\n",
    "1. [Pergunta 1](#p1)\n",
    "\n",
    "1. [Pergunta 2](#p2)\n",
    "\n",
    "1. [Pergunta 3](#p3)\n",
    "\n"
   ]
  },
  {
   "cell_type": "markdown",
   "metadata": {},
   "source": [
    "___\n",
    "<div id=\"p1\"></div>\n",
    "\n",
    "## PERGUNTA 1"
   ]
  },
  {
   "cell_type": "markdown",
   "metadata": {},
   "source": [
    "Leia o enunciado da Pergunta 1 descrito no Blackboard."
   ]
  },
  {
   "cell_type": "markdown",
   "metadata": {},
   "source": [
    "**P1(a)** Leia a pergunta no Blackboard."
   ]
  },
  {
   "cell_type": "code",
   "execution_count": 5,
   "metadata": {},
   "outputs": [],
   "source": [
    "# ESCREVA SUA RESPOSTA AQUI\n",
    "# 0.25 --> pico\n",
    "# 0.75 --> não pico\n",
    "\n",
    "# X --> pico -> dist expon\n",
    "mu_x = 8\n",
    "\n",
    "# Y --> não pico -> dist normal\n",
    "mu_y = 4\n",
    "sigma_y = 0.9\n",
    "\n"
   ]
  },
  {
   "cell_type": "code",
   "execution_count": 27,
   "metadata": {},
   "outputs": [
    {
     "name": "stdout",
     "output_type": "stream",
     "text": [
      "0.4724\n"
     ]
    }
   ],
   "source": [
    "mais_6 = 1 - stats.expon.cdf(6, scale=mu_x)\n",
    "mais_6\n",
    "print(f'{mais_6:.4f}')"
   ]
  },
  {
   "cell_type": "markdown",
   "metadata": {},
   "source": [
    "**P1(b)** Leia a pergunta no Blackboard."
   ]
  },
  {
   "cell_type": "code",
   "execution_count": 28,
   "metadata": {},
   "outputs": [
    {
     "name": "stdout",
     "output_type": "stream",
     "text": [
      "0.3127\n"
     ]
    }
   ],
   "source": [
    "# ESCREVA SUA RESPOSTA AQUI\n",
    "mais_6 = 1 - stats.expon.cdf(6, scale=mu_x)\n",
    "menos_6 = stats.expon.cdf(6, scale=mu_x)\n",
    "menos_9 = stats.expon.cdf(9, scale=mu_x)\n",
    "menos_9_mais_6 = (menos_9 - menos_6) / mais_6\n",
    "\n",
    "menos_9_mais_6\n",
    "print(f'{menos_9_mais_6:.4f}')"
   ]
  },
  {
   "cell_type": "code",
   "execution_count": null,
   "metadata": {},
   "outputs": [],
   "source": []
  },
  {
   "cell_type": "markdown",
   "metadata": {},
   "source": [
    "**P1(c)** Leia a pergunta no Blackboard."
   ]
  },
  {
   "cell_type": "code",
   "execution_count": 29,
   "metadata": {},
   "outputs": [
    {
     "name": "stdout",
     "output_type": "stream",
     "text": [
      "0.8667\n"
     ]
    }
   ],
   "source": [
    "# ESCREVA SUA RESPOSTA AQUI\n",
    "max_5 = stats.norm.cdf(5, loc=mu_y, scale=sigma_y)\n",
    "max_5\n",
    "\n",
    "print(f'{max_5:.4f}')"
   ]
  },
  {
   "cell_type": "code",
   "execution_count": null,
   "metadata": {},
   "outputs": [],
   "source": []
  },
  {
   "cell_type": "markdown",
   "metadata": {},
   "source": [
    "**P1(d)** Leia a pergunta no Blackboard."
   ]
  },
  {
   "cell_type": "code",
   "execution_count": 30,
   "metadata": {},
   "outputs": [
    {
     "name": "stdout",
     "output_type": "stream",
     "text": [
      "0.9080\n"
     ]
    }
   ],
   "source": [
    "# ESCREVA SUA RESPOSTA AQUI\n",
    "max_8_npico = stats.norm.cdf(8, loc=mu_y, scale=sigma_y)*0.75\n",
    "max_8_pico = stats.expon.cdf(8, scale=mu_x)*0.25\n",
    "max_8 = max_8_npico + max_8_pico\n",
    "max_8\n",
    "\n",
    "print(f'{max_8:.4f}')"
   ]
  },
  {
   "cell_type": "code",
   "execution_count": null,
   "metadata": {},
   "outputs": [],
   "source": []
  },
  {
   "cell_type": "code",
   "execution_count": null,
   "metadata": {},
   "outputs": [],
   "source": []
  },
  {
   "cell_type": "markdown",
   "metadata": {},
   "source": [
    "**P1(e)** Leia a pergunta no Blackboard."
   ]
  },
  {
   "cell_type": "code",
   "execution_count": 31,
   "metadata": {},
   "outputs": [
    {
     "name": "stdout",
     "output_type": "stream",
     "text": [
      "0.0417\n"
     ]
    }
   ],
   "source": [
    "# ESCREVA SUA RESPOSTA AQUI\n",
    "pico_3 = stats.expon.cdf(3, scale=mu_x)\n",
    "npico_3 = stats.norm.cdf(3, loc=mu_y, scale=sigma_y)\n",
    "pico_3_npico_3 = pico_3*npico_3\n",
    "pico_3_npico_3\n",
    "\n",
    "print(f'{pico_3_npico_3:.4f}')\n"
   ]
  },
  {
   "cell_type": "code",
   "execution_count": null,
   "metadata": {},
   "outputs": [],
   "source": []
  },
  {
   "cell_type": "markdown",
   "metadata": {},
   "source": [
    "[Voltar ao Índice](#indice)"
   ]
  },
  {
   "cell_type": "markdown",
   "metadata": {},
   "source": [
    "___\n",
    "<div id=\"p2\"></div>\n",
    "\n",
    "\n",
    "## PERGUNTA 2"
   ]
  },
  {
   "cell_type": "markdown",
   "metadata": {},
   "source": [
    "Leia o enunciado da Pergunta 2 descrito no Blackboard."
   ]
  },
  {
   "cell_type": "markdown",
   "metadata": {},
   "source": [
    "**P2(a)** Leia a pergunta no Blackboard."
   ]
  },
  {
   "cell_type": "code",
   "execution_count": 23,
   "metadata": {},
   "outputs": [],
   "source": [
    "# ESCREVA SUA RESPOSTA AQUI\n",
    "\n",
    "# p1 --> uniforme\n",
    "a, b = 0, 10\n",
    "\n",
    "# p2 --> normal\n",
    "mu_p2 = 6\n",
    "sigma_p2 = 1.0\n",
    "\n",
    "# p3 --> normal\n",
    "mu_p3 = 5\n",
    "sigma_p3 = 1.2"
   ]
  },
  {
   "cell_type": "code",
   "execution_count": 25,
   "metadata": {},
   "outputs": [
    {
     "name": "stdout",
     "output_type": "stream",
     "text": [
      "\n",
      "Menor nota entre os top 5% de cada prova:\n",
      "p1: 9.5000\n",
      "p2: 7.6449\n",
      "p3: 6.9738\n",
      "\n"
     ]
    }
   ],
   "source": [
    "menor_p1 = stats.uniform.ppf(0.95, loc=a, scale=b-a)\n",
    "menor_p2 = stats.norm.ppf(0.95, loc=mu_p2, scale=sigma_p2)\n",
    "menor_p3 = stats.norm.ppf(0.95, loc=mu_p3, scale=sigma_p3)\n",
    "print(f'''\n",
    "Menor nota entre os top 5% de cada prova:\n",
    "p1: {menor_p1:.4f}\n",
    "p2: {menor_p2:.4f}\n",
    "p3: {menor_p3:.4f}\n",
    "''')"
   ]
  },
  {
   "cell_type": "markdown",
   "metadata": {},
   "source": [
    "**P2(b)** Leia a pergunta no Blackboard."
   ]
  },
  {
   "cell_type": "code",
   "execution_count": 33,
   "metadata": {},
   "outputs": [
    {
     "name": "stdout",
     "output_type": "stream",
     "text": [
      "\n",
      "Esperança: 5.3500\n",
      "Variância: 2.3200\n",
      "Desvio padrão: 1.5232\n",
      "Variância 2: 2.3200\n",
      "\n"
     ]
    }
   ],
   "source": [
    "# ESCREVA SUA RESPOSTA AQUI\n",
    "\n",
    "esperanca_1 = stats.uniform.mean(loc=a, scale=b-a)*0.15\n",
    "esperanca_2 = stats.norm.mean(loc=mu_p2, scale=sigma_p2)*0.35\n",
    "esperanca_3 = stats.norm.mean(loc=mu_p3, scale=sigma_p3)*0.50\n",
    "esperanca = esperanca_1 + esperanca_2 + esperanca_3\n",
    "\n",
    "\n",
    "var_1 = stats.uniform.var(loc=a, scale=b-a)*0.15\n",
    "var_2 = stats.norm.var(loc=mu_p2, scale=sigma_p2)*0.35\n",
    "var_3 = stats.norm.var(loc=mu_p3, scale=sigma_p3)*0.50\n",
    "var = var_1 + var_2 + var_3\n",
    "\n",
    "var_1_1 = (b-a)**2/12*0.15\n",
    "var_2_1 = sigma_p2**2*0.35\n",
    "var_3_1 = sigma_p3**2*0.50\n",
    "\n",
    "print(f'''\n",
    "Esperança: {esperanca:.4f}\n",
    "Variância: {var:.4f}\n",
    "Desvio padrão: {sqrt(var):.4f}\n",
    "Variância 2: {var_1_1 + var_2_1 + var_3_1:.4f}\n",
    "''')"
   ]
  },
  {
   "cell_type": "code",
   "execution_count": null,
   "metadata": {},
   "outputs": [],
   "source": []
  },
  {
   "cell_type": "markdown",
   "metadata": {},
   "source": [
    "**P2(c)** Leia a pergunta no Blackboard."
   ]
  },
  {
   "cell_type": "code",
   "execution_count": 35,
   "metadata": {},
   "outputs": [
    {
     "name": "stdout",
     "output_type": "stream",
     "text": [
      "'\n",
      "Desvio padrão: 0.5941\n"
     ]
    }
   ],
   "source": [
    "# ESCREVA SUA RESPOSTA AQUI\n",
    "# p3_2 --> normal\n",
    "mu_p3_2 = 5\n",
    "\n",
    "# P(P3 <= 5.5) = 0.8\n",
    "p = stats.norm.ppf(0.8, 0, 1)\n",
    "sigma = (5.5 - mu_p3_2) / p\n",
    "\n",
    "print(f''''\n",
    "Desvio padrão: {sigma:.4f}''')\n",
    "\n"
   ]
  },
  {
   "cell_type": "code",
   "execution_count": null,
   "metadata": {},
   "outputs": [],
   "source": []
  },
  {
   "cell_type": "markdown",
   "metadata": {},
   "source": [
    "[Voltar ao Índice](#indice)"
   ]
  },
  {
   "cell_type": "markdown",
   "metadata": {},
   "source": [
    "___\n",
    "<div id=\"p3\"></div>\n",
    "\n",
    "\n",
    "## PERGUNTA 3"
   ]
  },
  {
   "cell_type": "markdown",
   "metadata": {},
   "source": [
    "Leia o enunciado da Pergunta 3 descrito no Blackboard."
   ]
  },
  {
   "cell_type": "markdown",
   "metadata": {},
   "source": [
    "**P3(a)** Leia a pergunta no Blackboard."
   ]
  },
  {
   "cell_type": "code",
   "execution_count": 37,
   "metadata": {},
   "outputs": [
    {
     "name": "stdout",
     "output_type": "stream",
     "text": [
      "\n",
      "D = S - C\n",
      "Esperança: 400.0000\n",
      "Desvio padrão: 44.5533\n",
      "\n",
      "0.1846\n"
     ]
    }
   ],
   "source": [
    "# ESCREVA SUA RESPOSTA AQUI\n",
    "#S\n",
    "mu_s = 800\n",
    "sigma_s = 40\n",
    "\n",
    "#C\n",
    "mu_c = 400\n",
    "sigma_c = 55\n",
    "\n",
    "cov_sc = 1320\n",
    "\n",
    "# D = S - C\n",
    "mu_d = mu_s - mu_c\n",
    "sigma_d = sqrt(sigma_s**2 + sigma_c**2 - 2*cov_sc)\n",
    "\n",
    "print(f'''\n",
    "D = S - C\n",
    "Esperança: {mu_d:.4f}\n",
    "Desvio padrão: {sigma_d:.4f}\n",
    "''')\n",
    "\n",
    "mais_440 = 1 - stats.norm.cdf(440, loc=mu_d, scale=sigma_d)\n",
    "mais_440\n",
    "\n",
    "print(f'{mais_440:.4f}')"
   ]
  },
  {
   "cell_type": "code",
   "execution_count": null,
   "metadata": {},
   "outputs": [],
   "source": []
  },
  {
   "cell_type": "markdown",
   "metadata": {},
   "source": [
    "**P3(b)** Leia a pergunta no Blackboard."
   ]
  },
  {
   "cell_type": "code",
   "execution_count": null,
   "metadata": {},
   "outputs": [],
   "source": [
    "# ESCREVA SUA RESPOSTA AQUI"
   ]
  },
  {
   "cell_type": "code",
   "execution_count": null,
   "metadata": {},
   "outputs": [],
   "source": []
  },
  {
   "cell_type": "markdown",
   "metadata": {},
   "source": [
    "[Voltar ao Índice](#indice)"
   ]
  }
 ],
 "metadata": {
  "kernelspec": {
   "display_name": "Python 3.9.7 64-bit",
   "language": "python",
   "name": "python3"
  },
  "language_info": {
   "codemirror_mode": {
    "name": "ipython",
    "version": 3
   },
   "file_extension": ".py",
   "mimetype": "text/x-python",
   "name": "python",
   "nbconvert_exporter": "python",
   "pygments_lexer": "ipython3",
   "version": "3.9.7"
  },
  "vscode": {
   "interpreter": {
    "hash": "fa202bb1a1975933ba9aefafdf4702960127000ff337e7c1a518450752e9f0c6"
   }
  }
 },
 "nbformat": 4,
 "nbformat_minor": 4
}
