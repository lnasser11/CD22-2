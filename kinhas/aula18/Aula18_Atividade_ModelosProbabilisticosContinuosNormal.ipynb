{
 "cells": [
  {
   "cell_type": "markdown",
   "metadata": {},
   "source": [
    "___\n",
    "# Atividade: Modelos probabilísticos contínuos e Dados\n",
    "___\n",
    "\n",
    "## Aula 18"
   ]
  },
  {
   "cell_type": "markdown",
   "metadata": {},
   "source": [
    "<div id=\"indice\"></div>\n",
    "\n",
    "## Índice\n",
    "\n",
    "- [Teoria: Distribuição Normal em Python](#teoria)\n",
    "- [Problema: Concentração de poluente em um tanque de combustível](#problema)\n",
    "    - [Modelo teórico](#modelo-teorico)\n",
    "        - [Exercício 1](#ex1)\n",
    "        - [Exercício 2](#ex2)\n",
    "        - [Exercício 3](#ex3)\n",
    "        - [Exercício 4](#ex4)\n",
    "    - [Resultados empíricos](#resultados-empiricos)\n",
    "        - [Exercício 5](#ex5)\n",
    "        - [Exercício 6](#ex6)\n",
    "    - [Comparação: resultados empíricos *vs* modelo teórico](#comparacao)\n",
    "        - [Exercício 7](#ex7)\n",
    "        - [Exercício 8](#ex8)\n",
    "        - [Exercício 9](#ex9)\n",
    "        - [Exercício 10](#ex10)\n",
    "- [Normal Padrão](#z)        \n",
    "     - [Exercício 11](#ex11)\n",
    "- [Lista de comandos utilizados neste notebook](#comandos)"
   ]
  },
  {
   "cell_type": "code",
   "execution_count": 3,
   "metadata": {},
   "outputs": [],
   "source": [
    "%matplotlib inline\n",
    "import pandas as pd\n",
    "import matplotlib.pyplot as plt\n",
    "import numpy as np\n",
    "from numpy import arange\n",
    "from math import sqrt\n",
    "\n",
    "from scipy import stats #importa apenas as funções de estatísticas da biblioteca SciPy."
   ]
  },
  {
   "cell_type": "markdown",
   "metadata": {},
   "source": [
    "___\n",
    "\n",
    "<div id=\"teoria\"></div>\n",
    "\n",
    "## Teoria: Distribuição Normal em Python\n",
    "\n",
    "![Caixa de galton](LegalTameChanticleer-size_restricted.gif)\n",
    "\n",
    "[Fonte: https://www.youtube.com/watch?v=UCmPmkHqHXk](https://www.youtube.com/watch?v=UCmPmkHqHXk&t=271s)\n",
    "\n",
    "A biblioteca SciPy está cheia de funções para nos ajudar a trabalhar com variáveis aleatórias! https://en.wikipedia.org/wiki/SciPy\n",
    "\n",
    "Algumas funções úteis para desenvolver seu código considerando a distribuição Normal: https://docs.scipy.org/doc/scipy/reference/generated/scipy.stats.norm.html\n",
    "\n",
    "Lembrando que vamos assumir que $X\\sim N(\\mu, \\sigma^2)$.\n",
    "\n",
    "Logo, faça `from scipy import stats`, então:\n",
    "\n",
    "* $f(x)$: `stats.norm.pdf(x, loc=mu, scale=sigma)`\n",
    "\n",
    "* $P(X\\leq x)$: `stats.norm.cdf(x, loc=mu, scale=sigma)`\n",
    "\n",
    "* $x$ tal que $p=P(X\\leq x)$: `stats.norm.ppf(p, loc=mu, scale=sigma)`\n",
    "\n",
    "* $E(X)$: `stats.norm.mean(loc=mu, scale=sigma)`\n",
    "\n",
    "* $Var(X)$: `stats.norm.var(loc=mu, scale=sigma)`\n",
    "\n",
    "* $DP(X)$: `stats.norm.std(loc=mu, scale=sigma)`\n",
    "\n",
    "___\n",
    "\n",
    "<div id=\"problema\"></div>\n",
    "\n",
    "# Problema: Concentração de poluente em um tanque de combustível\n",
    "\n",
    "A concentração (em $\\mu g/L$) de um determinado poluente em um tanque de combustível é modelada como uma normal com média 500 e variância 645.\n",
    "\n",
    "Nesse caso, vamos assumir que a variável aleatória contínua é dada por:\n",
    "\n",
    "- $X$: concentração do poluente em um tanque de combustível, em $\\mu g/L$.\n",
    "\n",
    "Pelo modelo teórico, temos: $X\\sim N(500, 645).$ Note que $\\sigma^2 = 645$, então devemos utilizar $\\sigma = \\sqrt{645}$ nas funções do `scipy.stats`."
   ]
  },
  {
   "cell_type": "markdown",
   "metadata": {},
   "source": [
    "<div id=\"modelo-teorico\"></div>\n",
    "\n",
    "## Modelo teórico\n",
    "\n",
    "<div id=\"ex1\"></div>\n",
    "\n",
    "### EXERCÍCIO 1\n",
    "\n",
    "Plote a função de densidade de probabilidade **e** a função cumulativa considerando o modelo utilizado. \n",
    "\n",
    "**Dica 1**: fizemos isso com a distribuição exponencial na Aula 16.\n",
    "\n",
    "**Dica 2**: utilize o intervalo entre 350 e 650 para os valores de $x$."
   ]
  },
  {
   "cell_type": "code",
   "execution_count": 4,
   "metadata": {},
   "outputs": [],
   "source": [
    "# ESCREVA SEU CÓDIGO AQUI"
   ]
  },
  {
   "cell_type": "code",
   "execution_count": 6,
   "metadata": {},
   "outputs": [
    {
     "data": {
      "text/plain": [
       "[<matplotlib.lines.Line2D at 0x2931daa3250>]"
      ]
     },
     "execution_count": 6,
     "metadata": {},
     "output_type": "execute_result"
    },
    {
     "data": {
      "image/png": "[encoded data removed]",
      "text/plain": [
       "<Figure size 432x288 with 1 Axes>"
      ]
     },
     "metadata": {
      "needs_background": "light"
     },
     "output_type": "display_data"
    }
   ],
   "source": [
    "mu = 500\n",
    "sigma = 645**0.5\n",
    "\n",
    "x1 = np.linspace(mu-4.5*sigma,mu+4.5*sigma,1000)\n",
    "fx = stats.norm.pdf(x1,loc=mu,scale=sigma)\n",
    "\n",
    "plt.plot(x1,fx)"
   ]
  },
  {
   "cell_type": "markdown",
   "metadata": {},
   "source": [
    "<div id=\"ex2\"></div>\n",
    "\n",
    "### EXERCÍCIO 2\n",
    "\n",
    "Foi desenvolvido um sensor que acende uma luz no painel do automóvel para avisar o motorista que a concentração do poluente no tanque de combustível está crítica, ou seja, ultrapassa 550 $\\mu g/L$. Responda:\n",
    "\n",
    "1. Sabendo que a luz acendeu, qual é a probabilidade da concentração do poluente ser superior a 580 $\\mu g/L$?\n",
    "2. Sabendo que a luz acendeu, qual é a probabilidade da concentração do poluente ser inferior a 560 $\\mu g/L$?\n",
    "\n",
    "*Resposta esperada: (1) 0.03333307956104959 (2) 0.6294099002523195*"
   ]
  },
  {
   "cell_type": "code",
   "execution_count": null,
   "metadata": {},
   "outputs": [],
   "source": [
    "# ESCREVA SEU CÓDIGO AQUI"
   ]
  },
  {
   "cell_type": "code",
   "execution_count": 15,
   "metadata": {},
   "outputs": [
    {
     "data": {
      "text/plain": [
       "0.03333307956104959"
      ]
     },
     "execution_count": 15,
     "metadata": {},
     "output_type": "execute_result"
    }
   ],
   "source": [
    "(1-stats.norm.cdf(580, loc=mu, scale=sigma))/(1-stats.norm.cdf(550, loc=mu, scale=sigma))"
   ]
  },
  {
   "cell_type": "code",
   "execution_count": 16,
   "metadata": {},
   "outputs": [
    {
     "data": {
      "text/plain": [
       "0.6294099002523195"
      ]
     },
     "execution_count": 16,
     "metadata": {},
     "output_type": "execute_result"
    }
   ],
   "source": [
    "(stats.norm.cdf(560, loc=mu, scale=sigma)-stats.norm.cdf(550, loc=mu, scale=sigma))/(1-stats.norm.cdf(550, loc=mu, scale=sigma))"
   ]
  },
  {
   "cell_type": "markdown",
   "metadata": {},
   "source": [
    "<div id=\"ex3\"></div>\n",
    "\n",
    "### EXERCÍCIO 3\n",
    "\n",
    "A partir de qual concentração de poluente a luz do painel deveria acender para que apenas as 10% maiores concentrações fossem consideradas críticas? E para que apenas as 0,1% maiores concentrações fossem consideradas críticas?\n",
    "\n",
    "*Resposta esperada: 532.547373131662 e 578.4821669580019*"
   ]
  },
  {
   "cell_type": "code",
   "execution_count": null,
   "metadata": {},
   "outputs": [],
   "source": [
    "# ESCREVA SEU CÓDIGO AQUI"
   ]
  },
  {
   "cell_type": "code",
   "execution_count": 21,
   "metadata": {},
   "outputs": [
    {
     "data": {
      "text/plain": [
       "532.547373131662"
      ]
     },
     "execution_count": 21,
     "metadata": {},
     "output_type": "execute_result"
    }
   ],
   "source": [
    "stats.norm.ppf(1-0.1, loc=mu, scale=sigma)"
   ]
  },
  {
   "cell_type": "code",
   "execution_count": 20,
   "metadata": {},
   "outputs": [
    {
     "data": {
      "text/plain": [
       "578.4821669580019"
      ]
     },
     "execution_count": 20,
     "metadata": {},
     "output_type": "execute_result"
    }
   ],
   "source": [
    "stats.norm.ppf(1-0.001, loc=mu, scale=sigma)"
   ]
  },
  {
   "cell_type": "markdown",
   "metadata": {},
   "source": [
    "<div id=\"ex4\"></div>\n",
    "\n",
    "### EXERCÍCIO 4\n",
    "\n",
    "Foi desenvolvida uma nova técnica que inicialmente aumenta a concentração do poluente em 100 $\\mu g/L$ e depois reduz a nova concentração em 40%. Qual será a nova média e desvio padrão da concentração do poluente se aplicarmos essa nova técnica? Justifique sua resposta.\n",
    "\n",
    "**Dica:** utilize as propriedades de esperança e variância.\n",
    "\n",
    "*Resposta esperada: 360 e 15.238110119040353*"
   ]
  },
  {
   "cell_type": "code",
   "execution_count": null,
   "metadata": {},
   "outputs": [],
   "source": [
    "# ESCREVA SEU CÓDIGO AQUI"
   ]
  },
  {
   "cell_type": "code",
   "execution_count": 24,
   "metadata": {},
   "outputs": [
    {
     "data": {
      "text/plain": [
       "360.0"
      ]
     },
     "execution_count": 24,
     "metadata": {},
     "output_type": "execute_result"
    }
   ],
   "source": [
    "(stats.norm.mean(loc=mu, scale=sigma)+100)*0.6"
   ]
  },
  {
   "cell_type": "code",
   "execution_count": 67,
   "metadata": {},
   "outputs": [
    {
     "data": {
      "text/plain": [
       "15.238110119040353"
      ]
     },
     "execution_count": 67,
     "metadata": {},
     "output_type": "execute_result"
    }
   ],
   "source": [
    "stats.norm.std(loc=360, scale=sigma)*0.6"
   ]
  },
  {
   "cell_type": "markdown",
   "metadata": {},
   "source": [
    "<div id=\"resultados-empiricos\"></div>\n",
    "\n",
    "## Resultados empíricos\n",
    "\n",
    "O arquivo `poluentes.csv` contém observações da concentração do poluente em tanques de combustível."
   ]
  },
  {
   "cell_type": "code",
   "execution_count": 27,
   "metadata": {
    "scrolled": true
   },
   "outputs": [
    {
     "data": {
      "text/html": [
       "<div>\n",
       "<style scoped>\n",
       "    .dataframe tbody tr th:only-of-type {\n",
       "        vertical-align: middle;\n",
       "    }\n",
       "\n",
       "    .dataframe tbody tr th {\n",
       "        vertical-align: top;\n",
       "    }\n",
       "\n",
       "    .dataframe thead th {\n",
       "        text-align: right;\n",
       "    }\n",
       "</style>\n",
       "<table border=\"1\" class=\"dataframe\">\n",
       "  <thead>\n",
       "    <tr style=\"text-align: right;\">\n",
       "      <th></th>\n",
       "      <th>concentracao</th>\n",
       "    </tr>\n",
       "  </thead>\n",
       "  <tbody>\n",
       "    <tr>\n",
       "      <th>0</th>\n",
       "      <td>505.9817</td>\n",
       "    </tr>\n",
       "    <tr>\n",
       "      <th>1</th>\n",
       "      <td>493.6099</td>\n",
       "    </tr>\n",
       "    <tr>\n",
       "      <th>2</th>\n",
       "      <td>512.1535</td>\n",
       "    </tr>\n",
       "    <tr>\n",
       "      <th>3</th>\n",
       "      <td>484.6500</td>\n",
       "    </tr>\n",
       "    <tr>\n",
       "      <th>4</th>\n",
       "      <td>517.8975</td>\n",
       "    </tr>\n",
       "  </tbody>\n",
       "</table>\n",
       "</div>"
      ],
      "text/plain": [
       "   concentracao\n",
       "0      505.9817\n",
       "1      493.6099\n",
       "2      512.1535\n",
       "3      484.6500\n",
       "4      517.8975"
      ]
     },
     "execution_count": 27,
     "metadata": {},
     "output_type": "execute_result"
    }
   ],
   "source": [
    "poluentes = pd.read_csv('poluentes.csv', header=None)\n",
    "poluentes.columns = ['concentracao']\n",
    "concentracao = poluentes['concentracao']\n",
    "poluentes.head()"
   ]
  },
  {
   "cell_type": "markdown",
   "metadata": {},
   "source": [
    "<div id=\"ex5\"></div>\n",
    "\n",
    "### EXERCÍCIO 5\n",
    "\n",
    "Considerando medidas-resumo, faça uma **análise descritiva** desses valores. Baseado nos dados, estime os valores dos parâmetros do modelo normal (média $\\mu$ e desvio padrão $\\sigma$).\n",
    "\n",
    "*Resposta esperada: média=500.572255 desvio padrão=25.358164991137812*"
   ]
  },
  {
   "cell_type": "code",
   "execution_count": null,
   "metadata": {},
   "outputs": [],
   "source": [
    "# ESCREVA SEU CÓDIGO AQUI"
   ]
  },
  {
   "cell_type": "code",
   "execution_count": 28,
   "metadata": {},
   "outputs": [
    {
     "data": {
      "text/html": [
       "<div>\n",
       "<style scoped>\n",
       "    .dataframe tbody tr th:only-of-type {\n",
       "        vertical-align: middle;\n",
       "    }\n",
       "\n",
       "    .dataframe tbody tr th {\n",
       "        vertical-align: top;\n",
       "    }\n",
       "\n",
       "    .dataframe thead th {\n",
       "        text-align: right;\n",
       "    }\n",
       "</style>\n",
       "<table border=\"1\" class=\"dataframe\">\n",
       "  <thead>\n",
       "    <tr style=\"text-align: right;\">\n",
       "      <th></th>\n",
       "      <th>concentracao</th>\n",
       "    </tr>\n",
       "  </thead>\n",
       "  <tbody>\n",
       "    <tr>\n",
       "      <th>count</th>\n",
       "      <td>400.000000</td>\n",
       "    </tr>\n",
       "    <tr>\n",
       "      <th>mean</th>\n",
       "      <td>500.572255</td>\n",
       "    </tr>\n",
       "    <tr>\n",
       "      <th>std</th>\n",
       "      <td>25.358165</td>\n",
       "    </tr>\n",
       "    <tr>\n",
       "      <th>min</th>\n",
       "      <td>415.746500</td>\n",
       "    </tr>\n",
       "    <tr>\n",
       "      <th>25%</th>\n",
       "      <td>483.369675</td>\n",
       "    </tr>\n",
       "    <tr>\n",
       "      <th>50%</th>\n",
       "      <td>500.735700</td>\n",
       "    </tr>\n",
       "    <tr>\n",
       "      <th>75%</th>\n",
       "      <td>518.428600</td>\n",
       "    </tr>\n",
       "    <tr>\n",
       "      <th>max</th>\n",
       "      <td>581.337400</td>\n",
       "    </tr>\n",
       "  </tbody>\n",
       "</table>\n",
       "</div>"
      ],
      "text/plain": [
       "       concentracao\n",
       "count    400.000000\n",
       "mean     500.572255\n",
       "std       25.358165\n",
       "min      415.746500\n",
       "25%      483.369675\n",
       "50%      500.735700\n",
       "75%      518.428600\n",
       "max      581.337400"
      ]
     },
     "execution_count": 28,
     "metadata": {},
     "output_type": "execute_result"
    }
   ],
   "source": [
    "poluentes.describe()"
   ]
  },
  {
   "cell_type": "code",
   "execution_count": 29,
   "metadata": {},
   "outputs": [],
   "source": [
    "mu_ex5 = 500.572255\n",
    "sigma_ex5 = 25.358165"
   ]
  },
  {
   "cell_type": "markdown",
   "metadata": {},
   "source": [
    "<div id=\"ex6\"></div>\n",
    "\n",
    "### EXERCÍCIO 6\n",
    "\n",
    "Verifique quais seriam as respostas para o [Exercício 2](#ex2) utilizando os dados. Para isso, considere apenas as concentrações acima de 550 $\\mu g/L$. Dentre essas concentrações, calcule a frequência relativa das que são:\n",
    "\n",
    "1. Superiores a 580 $\\mu g/L$.\n",
    "2. Inferiores a 560 $\\mu g/L$.\n",
    "\n",
    "Discuta como esses valores se comparam às respostas do exercício 2. Por que são encontradas essas diferenças?\n",
    "\n",
    "*Resposta esperada: (1) 0.14285714285714285 (2) 0.7142857142857143*"
   ]
  },
  {
   "cell_type": "code",
   "execution_count": null,
   "metadata": {},
   "outputs": [],
   "source": [
    "# ESCREVA SEU CÓDIGO AQUI"
   ]
  },
  {
   "cell_type": "code",
   "execution_count": 46,
   "metadata": {},
   "outputs": [
    {
     "name": "stdout",
     "output_type": "stream",
     "text": [
      "0.14285714285714285\n",
      "0.7142857142857143\n"
     ]
    }
   ],
   "source": [
    "superioresa550 = poluentes.loc[poluentes.concentracao>550,:]\n",
    "\n",
    "superioresa580 = superioresa550.loc[superioresa550.concentracao>580,:]\n",
    "inferioresa560 = superioresa550.loc[superioresa550.concentracao<560,:]\n",
    "\n",
    "print(len(superioresa580)/len(superioresa550))\n",
    "print(len(inferioresa560)/len(superioresa550))"
   ]
  },
  {
   "cell_type": "markdown",
   "metadata": {},
   "source": [
    "<div id=\"comparacao\"></div>\n",
    "\n",
    "## Comparação: resultados empíricos *vs* modelo teórico"
   ]
  },
  {
   "cell_type": "markdown",
   "metadata": {},
   "source": [
    "<div id=\"ex7\"></div>\n",
    "    \n",
    "### EXERCÍCIO 7\n",
    "\n",
    "> Uma maneira de sabermos se uma escolha de modelo teórico é adequado para descever o comportamento de uma variável mensurada em um problema real é utilizarmos a função `probplot()`. <p> \n",
    "Essa função `probplot()` traça uma reta indicando o que seria esperado do ponto de vista teórico utilizando a distribuição teórica *versus* os dados reais encontrados. Quanto mais próximos os pontos estiverem dessa reta, mais provável será que os dados sigam a distribuição escolhida nessa função.\n",
    "    \n",
    "\n",
    "Consulte a [documentação da função `probplot()`](https://docs.scipy.org/doc/scipy/reference/generated/scipy.stats.probplot.html) e gere o `probplot()` com a distribuição normal. \n",
    "\n",
    "Discuta se é razoável assumirmos que os dados vieram de uma distribuição normal. **Dica**: para visualizar o gráfico utilize o argumento `plot=plt` na chamada da função `probplot()`."
   ]
  },
  {
   "cell_type": "code",
   "execution_count": null,
   "metadata": {},
   "outputs": [],
   "source": [
    "# ESCREVA SEU CÓDIGO AQUI"
   ]
  },
  {
   "cell_type": "code",
   "execution_count": 86,
   "metadata": {},
   "outputs": [
    {
     "data": {
      "text/plain": [
       "((array([-2.92336218, -2.63535913, -2.47295045, -2.35755533, -2.26698478,\n",
       "         -2.19190181, -2.1274581 , -2.0708001 , -2.0201009 , -1.97411768,\n",
       "         -1.93196517, -1.89298964, -1.85669409, -1.82269149, -1.79067433,\n",
       "         -1.76039407, -1.73164687, -1.70426336, -1.67810123, -1.65303972,\n",
       "         -1.62897542, -1.6058191 , -1.58349316, -1.56192972, -1.54106902,\n",
       "         -1.52085818, -1.50125015, -1.48220291, -1.46367871, -1.44564358,\n",
       "         -1.42806678, -1.41092042, -1.39417912, -1.37781969, -1.36182093,\n",
       "         -1.34616333, -1.33082898, -1.31580134, -1.3010651 , -1.28660611,\n",
       "         -1.2724112 , -1.25846816, -1.24476556, -1.23129278, -1.21803987,\n",
       "         -1.20499751, -1.19215696, -1.17951003, -1.16704898, -1.15476657,\n",
       "         -1.14265594, -1.13071061, -1.11892449, -1.10729178, -1.09580701,\n",
       "         -1.08446499, -1.07326079, -1.06218972, -1.05124734, -1.0404294 ,\n",
       "         -1.02973187, -1.01915091, -1.00868282, -0.99832412, -0.98807145,\n",
       "         -0.97792161, -0.96787152, -0.95791826, -0.94805899, -0.93829104,\n",
       "         -0.9286118 , -0.91901878, -0.90950961, -0.90008197, -0.89073366,\n",
       "         -0.88146255, -0.8722666 , -0.86314382, -0.85409232, -0.84511026,\n",
       "         -0.83619587, -0.82734744, -0.81856331, -0.8098419 , -0.80118166,\n",
       "         -0.79258109, -0.78403875, -0.77555325, -0.76712322, -0.75874737,\n",
       "         -0.7504244 , -0.7421531 , -0.73393226, -0.72576073, -0.71763738,\n",
       "         -0.7095611 , -0.70153085, -0.69354558, -0.6856043 , -0.67770601,\n",
       "         -0.66984978, -0.66203468, -0.6542598 , -0.64652428, -0.63882725,\n",
       "         -0.63116788, -0.62354536, -0.6159589 , -0.60840773, -0.60089109,\n",
       "         -0.59340825, -0.58595849, -0.5785411 , -0.57115542, -0.56380075,\n",
       "         -0.55647646, -0.5491819 , -0.54191645, -0.53467949, -0.52747043,\n",
       "         -0.52028867, -0.51313366, -0.50600481, -0.49890159, -0.49182345,\n",
       "         -0.48476987, -0.47774033, -0.47073431, -0.46375132, -0.45679088,\n",
       "         -0.44985249, -0.4429357 , -0.43604003, -0.42916503, -0.42231026,\n",
       "         -0.41547527, -0.40865964, -0.40186294, -0.39508476, -0.38832467,\n",
       "         -0.38158229, -0.37485721, -0.36814904, -0.3614574 , -0.3547819 ,\n",
       "         -0.34812218, -0.34147786, -0.33484858, -0.32823398, -0.32163372,\n",
       "         -0.31504744, -0.30847479, -0.30191545, -0.29536906, -0.28883532,\n",
       "         -0.28231388, -0.27580442, -0.26930663, -0.26282019, -0.25634479,\n",
       "         -0.24988012, -0.24342588, -0.23698176, -0.23054747, -0.22412271,\n",
       "         -0.21770719, -0.21130061, -0.2049027 , -0.19851316, -0.19213172,\n",
       "         -0.18575809, -0.179392  , -0.17303317, -0.16668133, -0.16033621,\n",
       "         -0.15399753, -0.14766504, -0.14133847, -0.13501754, -0.12870201,\n",
       "         -0.1223916 , -0.11608607, -0.10978515, -0.10348858, -0.09719611,\n",
       "         -0.09090749, -0.08462247, -0.07834078, -0.07206218, -0.06578643,\n",
       "         -0.05951326, -0.05324243, -0.0469737 , -0.04070681, -0.03444153,\n",
       "         -0.02817759, -0.02191476, -0.01565278, -0.00939142, -0.00313043,\n",
       "          0.00313043,  0.00939142,  0.01565278,  0.02191476,  0.02817759,\n",
       "          0.03444153,  0.04070681,  0.0469737 ,  0.05324243,  0.05951326,\n",
       "          0.06578643,  0.07206218,  0.07834078,  0.08462247,  0.09090749,\n",
       "          0.09719611,  0.10348858,  0.10978515,  0.11608607,  0.1223916 ,\n",
       "          0.12870201,  0.13501754,  0.14133847,  0.14766504,  0.15399753,\n",
       "          0.16033621,  0.16668133,  0.17303317,  0.179392  ,  0.18575809,\n",
       "          0.19213172,  0.19851316,  0.2049027 ,  0.21130061,  0.21770719,\n",
       "          0.22412271,  0.23054747,  0.23698176,  0.24342588,  0.24988012,\n",
       "          0.25634479,  0.26282019,  0.26930663,  0.27580442,  0.28231388,\n",
       "          0.28883532,  0.29536906,  0.30191545,  0.30847479,  0.31504744,\n",
       "          0.32163372,  0.32823398,  0.33484858,  0.34147786,  0.34812218,\n",
       "          0.3547819 ,  0.3614574 ,  0.36814904,  0.37485721,  0.38158229,\n",
       "          0.38832467,  0.39508476,  0.40186294,  0.40865964,  0.41547527,\n",
       "          0.42231026,  0.42916503,  0.43604003,  0.4429357 ,  0.44985249,\n",
       "          0.45679088,  0.46375132,  0.47073431,  0.47774033,  0.48476987,\n",
       "          0.49182345,  0.49890159,  0.50600481,  0.51313366,  0.52028867,\n",
       "          0.52747043,  0.53467949,  0.54191645,  0.5491819 ,  0.55647646,\n",
       "          0.56380075,  0.57115542,  0.5785411 ,  0.58595849,  0.59340825,\n",
       "          0.60089109,  0.60840773,  0.6159589 ,  0.62354536,  0.63116788,\n",
       "          0.63882725,  0.64652428,  0.6542598 ,  0.66203468,  0.66984978,\n",
       "          0.67770601,  0.6856043 ,  0.69354558,  0.70153085,  0.7095611 ,\n",
       "          0.71763738,  0.72576073,  0.73393226,  0.7421531 ,  0.7504244 ,\n",
       "          0.75874737,  0.76712322,  0.77555325,  0.78403875,  0.79258109,\n",
       "          0.80118166,  0.8098419 ,  0.81856331,  0.82734744,  0.83619587,\n",
       "          0.84511026,  0.85409232,  0.86314382,  0.8722666 ,  0.88146255,\n",
       "          0.89073366,  0.90008197,  0.90950961,  0.91901878,  0.9286118 ,\n",
       "          0.93829104,  0.94805899,  0.95791826,  0.96787152,  0.97792161,\n",
       "          0.98807145,  0.99832412,  1.00868282,  1.01915091,  1.02973187,\n",
       "          1.0404294 ,  1.05124734,  1.06218972,  1.07326079,  1.08446499,\n",
       "          1.09580701,  1.10729178,  1.11892449,  1.13071061,  1.14265594,\n",
       "          1.15476657,  1.16704898,  1.17951003,  1.19215696,  1.20499751,\n",
       "          1.21803987,  1.23129278,  1.24476556,  1.25846816,  1.2724112 ,\n",
       "          1.28660611,  1.3010651 ,  1.31580134,  1.33082898,  1.34616333,\n",
       "          1.36182093,  1.37781969,  1.39417912,  1.41092042,  1.42806678,\n",
       "          1.44564358,  1.46367871,  1.48220291,  1.50125015,  1.52085818,\n",
       "          1.54106902,  1.56192972,  1.58349316,  1.6058191 ,  1.62897542,\n",
       "          1.65303972,  1.67810123,  1.70426336,  1.73164687,  1.76039407,\n",
       "          1.79067433,  1.82269149,  1.85669409,  1.89298964,  1.93196517,\n",
       "          1.97411768,  2.0201009 ,  2.0708001 ,  2.1274581 ,  2.19190181,\n",
       "          2.26698478,  2.35755533,  2.47295045,  2.63535913,  2.92336218]),\n",
       "  array([415.7465, 439.2737, 439.3734, 439.7384, 441.7119, 443.5161,\n",
       "         446.5962, 446.9279, 447.7131, 448.4957, 448.9056, 449.7318,\n",
       "         450.5652, 452.0257, 453.2911, 453.3559, 453.9284, 454.2875,\n",
       "         455.7743, 456.3124, 456.5431, 457.4011, 457.5778, 457.8294,\n",
       "         458.0384, 459.6648, 462.542 , 463.0731, 463.4188, 463.464 ,\n",
       "         463.5866, 463.9182, 464.2502, 464.5502, 464.8959, 466.2679,\n",
       "         466.2777, 466.5644, 467.2817, 467.7539, 467.7581, 469.1284,\n",
       "         469.9158, 470.0891, 470.2214, 470.2845, 471.3528, 472.6268,\n",
       "         472.635 , 473.0351, 473.2881, 473.8161, 473.8303, 474.4424,\n",
       "         474.7275, 474.8045, 475.0719, 475.4058, 475.4933, 475.6246,\n",
       "         475.6709, 476.244 , 476.5563, 476.7306, 477.0598, 477.3318,\n",
       "         477.542 , 477.5975, 477.6144, 477.8699, 478.0576, 478.4022,\n",
       "         478.7968, 479.0324, 479.0677, 479.1144, 479.1322, 479.4033,\n",
       "         479.5659, 479.7565, 479.939 , 480.2749, 480.2884, 480.3137,\n",
       "         480.8699, 480.9452, 481.0964, 481.1191, 481.4431, 481.5517,\n",
       "         481.8444, 482.197 , 482.2646, 482.5604, 482.615 , 482.7213,\n",
       "         482.7672, 482.9575, 482.9847, 483.36  , 483.3729, 483.926 ,\n",
       "         483.9697, 484.0909, 484.5847, 484.65  , 484.8631, 484.9173,\n",
       "         484.9656, 485.0238, 485.2059, 485.2627, 485.5284, 485.5292,\n",
       "         486.0611, 486.0951, 486.3875, 486.4356, 486.5612, 486.5828,\n",
       "         486.7559, 486.8096, 487.2907, 487.5144, 487.8515, 487.9328,\n",
       "         487.9805, 488.2575, 488.3115, 488.589 , 488.6379, 488.9819,\n",
       "         489.0064, 489.0596, 489.0617, 489.4205, 489.5935, 490.0793,\n",
       "         490.1494, 490.4208, 490.4535, 490.9333, 491.2028, 491.2195,\n",
       "         491.4077, 491.7627, 491.8734, 491.9739, 492.1863, 492.193 ,\n",
       "         492.3095, 492.537 , 492.8691, 493.3002, 493.4033, 493.4242,\n",
       "         493.548 , 493.6099, 493.818 , 493.8726, 493.9303, 494.5547,\n",
       "         494.6676, 494.8808, 495.2742, 495.6412, 495.7056, 495.7089,\n",
       "         495.7689, 496.0347, 496.3125, 496.5274, 496.8519, 496.9736,\n",
       "         497.1625, 497.2283, 497.2676, 497.2888, 497.3987, 497.4792,\n",
       "         497.5171, 497.5199, 497.7075, 497.8781, 497.958 , 498.7403,\n",
       "         498.7412, 498.9121, 498.9687, 499.0228, 499.0485, 499.1574,\n",
       "         499.2206, 499.2671, 499.3892, 499.3964, 499.8426, 499.853 ,\n",
       "         499.8793, 500.5541, 500.9173, 500.9477, 500.9822, 501.0631,\n",
       "         501.2215, 501.4419, 501.5013, 501.6388, 501.6953, 502.1452,\n",
       "         502.2458, 502.3222, 502.3703, 502.4397, 502.6148, 502.7289,\n",
       "         503.26  , 503.2864, 503.3609, 503.3917, 503.3951, 503.477 ,\n",
       "         503.4837, 503.52  , 503.5431, 503.9952, 504.2077, 504.5944,\n",
       "         504.7311, 504.9801, 505.0002, 505.1956, 505.8431, 505.9817,\n",
       "         506.0695, 506.3389, 506.5516, 506.648 , 507.016 , 507.0974,\n",
       "         507.1958, 507.3412, 507.5542, 507.6683, 507.6956, 508.2501,\n",
       "         508.256 , 508.3126, 508.5528, 508.6942, 508.9725, 509.294 ,\n",
       "         509.3295, 509.393 , 509.6753, 510.0251, 510.0776, 510.1299,\n",
       "         510.1767, 510.2174, 510.5391, 510.7866, 510.8007, 511.1029,\n",
       "         511.1121, 511.1215, 511.3358, 511.6485, 511.8753, 512.1535,\n",
       "         512.7015, 512.7327, 512.7417, 513.1639, 513.2776, 513.4487,\n",
       "         513.8613, 514.1151, 514.1197, 514.1366, 514.3343, 514.4645,\n",
       "         514.725 , 514.7484, 515.0861, 515.8178, 516.3155, 516.5364,\n",
       "         516.6418, 516.9053, 516.968 , 517.1305, 517.2587, 517.3797,\n",
       "         517.6012, 517.6289, 517.8975, 518.0246, 518.1875, 518.1993,\n",
       "         519.1165, 519.1712, 519.2406, 519.261 , 519.3287, 519.592 ,\n",
       "         519.7219, 519.7454, 520.1621, 520.3622, 520.5069, 520.5892,\n",
       "         520.7613, 521.0233, 521.0628, 521.0912, 521.879 , 522.316 ,\n",
       "         522.3899, 522.3981, 522.99  , 523.2949, 523.8444, 524.1814,\n",
       "         524.393 , 524.4032, 524.7117, 525.045 , 525.0924, 525.2003,\n",
       "         525.2105, 525.618 , 525.7043, 525.9208, 526.067 , 526.1231,\n",
       "         526.2716, 526.7102, 526.7592, 526.9134, 527.2078, 527.2112,\n",
       "         527.3846, 527.5194, 527.9057, 528.0492, 528.1073, 528.1944,\n",
       "         528.2862, 528.7985, 529.6615, 529.7525, 529.9354, 530.4858,\n",
       "         530.5884, 530.8722, 531.4   , 532.4725, 532.7521, 533.1281,\n",
       "         533.4073, 534.2519, 534.2643, 534.4019, 534.7943, 534.8185,\n",
       "         535.0128, 535.111 , 535.7985, 536.0192, 536.8437, 538.0539,\n",
       "         538.5857, 539.0246, 539.3851, 539.5388, 540.2118, 540.4842,\n",
       "         540.5089, 540.838 , 541.807 , 543.5684, 544.269 , 544.2967,\n",
       "         544.6872, 545.1463, 545.7077, 546.7846, 547.4663, 547.4796,\n",
       "         547.7807, 549.5432, 549.5928, 552.7239, 553.5489, 554.5877,\n",
       "         557.888 , 558.74  , 562.7955, 581.3374])),\n",
       " (25.454589413517557, 500.57225524999996, 0.9988637143987282))"
      ]
     },
     "execution_count": 86,
     "metadata": {},
     "output_type": "execute_result"
    },
    {
     "data": {
      "image/png": "[encoded data removed]",
      "text/plain": [
       "<Figure size 432x288 with 1 Axes>"
      ]
     },
     "metadata": {
      "needs_background": "light"
     },
     "output_type": "display_data"
    }
   ],
   "source": [
    "stats.probplot(poluentes.concentracao, plot=plt)"
   ]
  },
  {
   "cell_type": "markdown",
   "metadata": {},
   "source": [
    "<div id=\"ex8\"></div>\n",
    "    \n",
    "### EXERCÍCIO 8\n",
    "\n",
    "Construa um histograma para visualizar os dados de concentração de poluentes divididos em 21 faixas. **Dica**: consulte a documentação da função aqui: [https://matplotlib.org/3.2.1/api/_as_gen/matplotlib.pyplot.hist.html](https://matplotlib.org/3.2.1/api/_as_gen/matplotlib.pyplot.hist.html). Além disso, há um exemplo de histograma na atividade da aula 15 (distribuição exponencial).\n",
    "\n",
    "Plote também a função de densidade de probabilidade (f.d.p.) da distribuição normal utilizando os novos parâmetros calculados a partir dos dados."
   ]
  },
  {
   "cell_type": "code",
   "execution_count": null,
   "metadata": {},
   "outputs": [],
   "source": [
    "# ESCREVA SEU CÓDIGO AQUI"
   ]
  },
  {
   "cell_type": "code",
   "execution_count": 74,
   "metadata": {},
   "outputs": [
    {
     "data": {
      "text/plain": [
       "(array([0.00031516, 0.        , 0.        , 0.00189095, 0.00346675,\n",
       "        0.00283643, 0.00598802, 0.00819414, 0.01481248, 0.01323668,\n",
       "        0.01670344, 0.01449732, 0.01260637, 0.01166089, 0.00819414,\n",
       "        0.00567286, 0.00378191, 0.00126064, 0.00063032, 0.        ]),\n",
       " array([415.        , 422.95238095, 430.9047619 , 438.85714286,\n",
       "        446.80952381, 454.76190476, 462.71428571, 470.66666667,\n",
       "        478.61904762, 486.57142857, 494.52380952, 502.47619048,\n",
       "        510.42857143, 518.38095238, 526.33333333, 534.28571429,\n",
       "        542.23809524, 550.19047619, 558.14285714, 566.0952381 ,\n",
       "        574.04761905]),\n",
       " <BarContainer object of 20 artists>)"
      ]
     },
     "execution_count": 74,
     "metadata": {},
     "output_type": "execute_result"
    },
    {
     "data": {
      "image/png": "[encoded data removed]",
      "text/plain": [
       "<Figure size 432x288 with 1 Axes>"
      ]
     },
     "metadata": {
      "needs_background": "light"
     },
     "output_type": "display_data"
    }
   ],
   "source": [
    "poluentes.concentracao.describe()\n",
    "\n",
    "faixas = arange(415,582,((582-415))/21)\n",
    "\n",
    "plt.plot(x1,fx,'red')\n",
    "plt.hist(poluentes.concentracao, bins=faixas, color='darkcyan', edgecolor='white',density=True)"
   ]
  },
  {
   "cell_type": "markdown",
   "metadata": {},
   "source": [
    "<div id=\"ex9\"></div>\n",
    "\n",
    "### EXERCÍCIO 9\n",
    "\n",
    "Vamos simular a aplicação da técnica introduzida no [Exercício 4](#ex4). Crie uma nova coluna em `poluentes` chamada `'nova concentracao'`. Essa coluna deve ser o resultado da aplicação da técnica do exercício 4 em cada valor da coluna `'concentracao'`, ou seja, para cada valor de concentração, adicionar 100 e aplicar a redução de 40%."
   ]
  },
  {
   "cell_type": "code",
   "execution_count": null,
   "metadata": {},
   "outputs": [],
   "source": [
    "# ESCREVA SEU CÓDIGO AQUI"
   ]
  },
  {
   "cell_type": "code",
   "execution_count": 76,
   "metadata": {},
   "outputs": [
    {
     "data": {
      "text/html": [
       "<div>\n",
       "<style scoped>\n",
       "    .dataframe tbody tr th:only-of-type {\n",
       "        vertical-align: middle;\n",
       "    }\n",
       "\n",
       "    .dataframe tbody tr th {\n",
       "        vertical-align: top;\n",
       "    }\n",
       "\n",
       "    .dataframe thead th {\n",
       "        text-align: right;\n",
       "    }\n",
       "</style>\n",
       "<table border=\"1\" class=\"dataframe\">\n",
       "  <thead>\n",
       "    <tr style=\"text-align: right;\">\n",
       "      <th></th>\n",
       "      <th>concentracao</th>\n",
       "      <th>nova concentracao</th>\n",
       "    </tr>\n",
       "  </thead>\n",
       "  <tbody>\n",
       "    <tr>\n",
       "      <th>0</th>\n",
       "      <td>505.9817</td>\n",
       "      <td>363.58902</td>\n",
       "    </tr>\n",
       "    <tr>\n",
       "      <th>1</th>\n",
       "      <td>493.6099</td>\n",
       "      <td>356.16594</td>\n",
       "    </tr>\n",
       "    <tr>\n",
       "      <th>2</th>\n",
       "      <td>512.1535</td>\n",
       "      <td>367.29210</td>\n",
       "    </tr>\n",
       "    <tr>\n",
       "      <th>3</th>\n",
       "      <td>484.6500</td>\n",
       "      <td>350.79000</td>\n",
       "    </tr>\n",
       "    <tr>\n",
       "      <th>4</th>\n",
       "      <td>517.8975</td>\n",
       "      <td>370.73850</td>\n",
       "    </tr>\n",
       "    <tr>\n",
       "      <th>...</th>\n",
       "      <td>...</td>\n",
       "      <td>...</td>\n",
       "    </tr>\n",
       "    <tr>\n",
       "      <th>395</th>\n",
       "      <td>508.2560</td>\n",
       "      <td>364.95360</td>\n",
       "    </tr>\n",
       "    <tr>\n",
       "      <th>396</th>\n",
       "      <td>499.8426</td>\n",
       "      <td>359.90556</td>\n",
       "    </tr>\n",
       "    <tr>\n",
       "      <th>397</th>\n",
       "      <td>486.0951</td>\n",
       "      <td>351.65706</td>\n",
       "    </tr>\n",
       "    <tr>\n",
       "      <th>398</th>\n",
       "      <td>540.8380</td>\n",
       "      <td>384.50280</td>\n",
       "    </tr>\n",
       "    <tr>\n",
       "      <th>399</th>\n",
       "      <td>480.9452</td>\n",
       "      <td>348.56712</td>\n",
       "    </tr>\n",
       "  </tbody>\n",
       "</table>\n",
       "<p>400 rows × 2 columns</p>\n",
       "</div>"
      ],
      "text/plain": [
       "     concentracao  nova concentracao\n",
       "0        505.9817          363.58902\n",
       "1        493.6099          356.16594\n",
       "2        512.1535          367.29210\n",
       "3        484.6500          350.79000\n",
       "4        517.8975          370.73850\n",
       "..            ...                ...\n",
       "395      508.2560          364.95360\n",
       "396      499.8426          359.90556\n",
       "397      486.0951          351.65706\n",
       "398      540.8380          384.50280\n",
       "399      480.9452          348.56712\n",
       "\n",
       "[400 rows x 2 columns]"
      ]
     },
     "execution_count": 76,
     "metadata": {},
     "output_type": "execute_result"
    }
   ],
   "source": [
    "poluentes['nova concentracao'] = (poluentes.concentracao + 100)*0.6\n",
    "\n",
    "poluentes"
   ]
  },
  {
   "cell_type": "markdown",
   "metadata": {},
   "source": [
    "<div id=\"ex10\"></div>\n",
    "\n",
    "### EXERCÍCIO 10\n",
    "\n",
    "Calcule a média e o desvio padrão dessa nova coluna `'nova concentracao'`. Discuta como ela se compara com relação aos valores teóricos obtidos no [exercício 4](#ex4).\n",
    "\n",
    "*Resposta esperada: Média: 360.3433531500001 DP: 15.21489899468268*"
   ]
  },
  {
   "cell_type": "code",
   "execution_count": null,
   "metadata": {},
   "outputs": [],
   "source": [
    "# ESCREVA SEU CÓDIGO AQUI"
   ]
  },
  {
   "cell_type": "code",
   "execution_count": 79,
   "metadata": {},
   "outputs": [
    {
     "data": {
      "text/plain": [
       "360.3433531500001"
      ]
     },
     "execution_count": 79,
     "metadata": {},
     "output_type": "execute_result"
    }
   ],
   "source": [
    "poluentes['nova concentracao'].mean()"
   ]
  },
  {
   "cell_type": "code",
   "execution_count": 81,
   "metadata": {},
   "outputs": [
    {
     "data": {
      "text/plain": [
       "15.21489899468268"
      ]
     },
     "execution_count": 81,
     "metadata": {},
     "output_type": "execute_result"
    }
   ],
   "source": [
    "poluentes['nova concentracao'].std()"
   ]
  },
  {
   "cell_type": "markdown",
   "metadata": {},
   "source": [
    "___\n",
    "\n",
    "<div id=\"z\"></div>\n",
    "\n",
    "# Normal Padrão\n",
    "\n",
    "Seja $X$ uma variável aleatória com média $\\mu$ e variância $\\sigma^2$, ou seja, \n",
    "\n",
    "$\\qquad\\qquad X\\sim N(\\mu, \\sigma^2)$.\n",
    "\n",
    "Então a variável aleatória definida por\n",
    "\n",
    "$\\qquad\\qquad Z=\\frac{(X−\\mu)}{\\sigma}$\n",
    "\n",
    "terá média zero e variância 1. \n",
    "\n",
    "Ainda, prova-se que\n",
    "\n",
    "$\\qquad\\qquad Z=\\frac{(X−\\mu)}{\\sigma} \\sim N(0;1)$,\n",
    "\n",
    "pois toda combinação linear de uma v.a. com distribuição normal também é uma normal."
   ]
  },
  {
   "cell_type": "markdown",
   "metadata": {},
   "source": [
    "<div id=\"ex11\"></div>\n",
    "\n",
    "### EXERCÍCIO 11\n",
    "\n",
    "Se $X\\sim N(500, 645)$, então **UTILIZANDO A DISTRIBUIÇÃO NORMAL PADRÃO**, calcule:\n",
    "* P(X < 480)\n",
    "* P(X > 509)\n",
    "* Valor de x tal que P(X < x) seja igual a 5%."
   ]
  },
  {
   "cell_type": "code",
   "execution_count": 80,
   "metadata": {},
   "outputs": [],
   "source": [
    "# ESCREVA SEU CÓDIGO AQUI"
   ]
  },
  {
   "cell_type": "code",
   "execution_count": 82,
   "metadata": {},
   "outputs": [
    {
     "data": {
      "text/plain": [
       "0.21549483921649415"
      ]
     },
     "execution_count": 82,
     "metadata": {},
     "output_type": "execute_result"
    }
   ],
   "source": [
    "mu_ex11 = 500\n",
    "sigma_ex11 = 645**0.5\n",
    "stats.norm.cdf(480,loc=mu_ex11,scale=sigma_ex11)"
   ]
  },
  {
   "cell_type": "code",
   "execution_count": 83,
   "metadata": {},
   "outputs": [
    {
     "data": {
      "text/plain": [
       "0.361529063464055"
      ]
     },
     "execution_count": 83,
     "metadata": {},
     "output_type": "execute_result"
    }
   ],
   "source": [
    "1-stats.norm.cdf(509,loc=mu_ex11,scale=sigma_ex11)"
   ]
  },
  {
   "cell_type": "code",
   "execution_count": 84,
   "metadata": {},
   "outputs": [
    {
     "data": {
      "text/plain": [
       "458.22589883801754"
      ]
     },
     "execution_count": 84,
     "metadata": {},
     "output_type": "execute_result"
    }
   ],
   "source": [
    "stats.norm.ppf(0.05,loc=mu_ex11,scale=sigma_ex11)"
   ]
  },
  {
   "cell_type": "markdown",
   "metadata": {},
   "source": [
    "<div id=\"comandos\"></div>\n",
    "\n",
    "___\n",
    "\n",
    "## Lista de comandos utilizados neste notebook\n",
    "\n",
    "Os seguintes comandos foram utilizados neste jupyter notebook. Para facilitar sua consulta, escreva um resumo do que cada um deles faz:\n",
    "\n",
    "- [`.pdf`](#pmf-stats): ESCREVA AQUI O RESUMO\n",
    "- [`.cdf`](#pmf-stats): ESCREVA AQUI O RESUMO\n",
    "- [`.ppf`](#ppf): ESCREVA AQUI O RESUMO\n",
    "- [`.mean`](#pmf-stats): ESCREVA AQUI O RESUMO\n",
    "- [`.var`](#pmf-stats): ESCREVA AQUI O RESUMO\n"
   ]
  },
  {
   "cell_type": "code",
   "execution_count": null,
   "metadata": {},
   "outputs": [],
   "source": []
  }
 ],
 "metadata": {
  "kernelspec": {
   "display_name": "Python 3 (ipykernel)",
   "language": "python",
   "name": "python3"
  },
  "language_info": {
   "codemirror_mode": {
    "name": "ipython",
    "version": 3
   },
   "file_extension": ".py",
   "mimetype": "text/x-python",
   "name": "python",
   "nbconvert_exporter": "python",
   "pygments_lexer": "ipython3",
   "version": "3.9.12"
  }
 },
 "nbformat": 4,
 "nbformat_minor": 4
}
