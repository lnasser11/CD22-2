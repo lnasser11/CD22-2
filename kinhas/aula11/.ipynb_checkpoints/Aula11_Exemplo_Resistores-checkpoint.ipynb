{
 "cells": [
  {
   "cell_type": "markdown",
   "metadata": {},
   "source": [
    "___\n",
    "# Exemplo: Distribuição Binomial\n",
    "\n",
    "___\n",
    "## Aula 11\n"
   ]
  },
  {
   "cell_type": "markdown",
   "metadata": {},
   "source": [
    "## Lista de comandos:\n",
    "\n",
    "- $P(Y=y)$: `stats.binom.pmf(y, n, p)`\n",
    "- $P(Y\\leq y)$: `stats.binom.cdf(y, n, p)`\n",
    "- $E(Y)$: `stats.binom.mean(n, p)`\n",
    "- $Var(Y)$: `stats.binom.var(n, p)`\n",
    "- $DP(Y)$: `stats.binom.std(n, p)`\n",
    "\n",
    "Link: https://docs.scipy.org/doc/scipy/reference/generated/scipy.stats.binom.html"
   ]
  },
  {
   "cell_type": "code",
   "execution_count": 1,
   "metadata": {},
   "outputs": [],
   "source": [
    "from scipy import stats"
   ]
  },
  {
   "cell_type": "markdown",
   "metadata": {},
   "source": [
    "A probabilidade de um determinado resistor falhar é sempre de 0,20. \n",
    "\n",
    "Considere pacote de 100 resistores."
   ]
  },
  {
   "cell_type": "code",
   "execution_count": 2,
   "metadata": {},
   "outputs": [],
   "source": [
    "# Problema:\n",
    "n=100  # total de resistores\n",
    "p=0.2  # probabilidade de sucesso"
   ]
  },
  {
   "cell_type": "markdown",
   "metadata": {},
   "source": [
    "a) Em um pacote com 100 resistores, qual a probabilidade de 20 falharem?\n",
    "\n",
    "*Resposta esperada: 0.09930021480881725*"
   ]
  },
  {
   "cell_type": "code",
   "execution_count": 3,
   "metadata": {},
   "outputs": [
    {
     "name": "stdout",
     "output_type": "stream",
     "text": [
      "0.09930021480882459\n"
     ]
    }
   ],
   "source": [
    "# ESCREVA SEU CÓDIGO AQUI\n",
    "p_20_f = stats.binom.pmf(20, n, p)\n",
    "print(p_20_f)"
   ]
  },
  {
   "cell_type": "markdown",
   "metadata": {},
   "source": [
    "b) Em um pacote com 100 resistores, qual a probabilidade de no máximo 20 falharem?\n",
    "\n",
    "*Resposta esperada: 0.5594615848733977*"
   ]
  },
  {
   "cell_type": "code",
   "execution_count": 4,
   "metadata": {},
   "outputs": [
    {
     "name": "stdout",
     "output_type": "stream",
     "text": [
      "0.5594615848733957\n"
     ]
    }
   ],
   "source": [
    "# ESCREVA SEU CÓDIGO AQUI\n",
    "p_max20_f = stats.binom.cdf(20, n, p)\n",
    "print(p_max20_f)"
   ]
  },
  {
   "cell_type": "markdown",
   "metadata": {},
   "source": [
    "c) Em um pacote com 100 resistores, qual a probabilidade de pelo menos 20 falharem?\n",
    "\n",
    "*Resposta esperada: 0.5398386299354281*"
   ]
  },
  {
   "cell_type": "code",
   "execution_count": 5,
   "metadata": {},
   "outputs": [
    {
     "name": "stdout",
     "output_type": "stream",
     "text": [
      "0.5398386299354266\n"
     ]
    }
   ],
   "source": [
    "# ESCREVA SEU CÓDIGO AQUI\n",
    "p_min20_f = stats.binom.cdf(80, n, 0.8)\n",
    "print(p_min20_f)"
   ]
  },
  {
   "cell_type": "markdown",
   "metadata": {},
   "source": [
    "___\n",
    "### Exercícios EXTRAS"
   ]
  },
  {
   "cell_type": "markdown",
   "metadata": {},
   "source": [
    "d) Em um pacote com 100 resistores, qual a probabilidade mais de 20 e menos de 40 falharem?\n",
    "\n",
    "*Resposta esperada: 0.4405348067064877*"
   ]
  },
  {
   "cell_type": "code",
   "execution_count": 6,
   "metadata": {},
   "outputs": [
    {
     "name": "stdout",
     "output_type": "stream",
     "text": [
      "0.4405348067064897\n"
     ]
    }
   ],
   "source": [
    "# ESCREVA SEU CÓDIGO AQUI\n",
    "p_max20min40_f = (1-stats.binom.cdf(60, n, 0.8)) - (stats.binom.cdf(20, n, p))\n",
    "print(p_max20min40_f)"
   ]
  },
  {
   "cell_type": "markdown",
   "metadata": {},
   "source": [
    "e) Em um pacote com 100 resistores, qual a probabilidade menos de 20 e mais de 40 falharem?\n",
    "\n",
    "*Resposta esperada: 0.460162662248815*"
   ]
  },
  {
   "cell_type": "code",
   "execution_count": 7,
   "metadata": {},
   "outputs": [
    {
     "name": "stdout",
     "output_type": "stream",
     "text": [
      "0.46016266224881863\n"
     ]
    }
   ],
   "source": [
    "# ESCREVA SEU CÓDIGO AQUI\n",
    "p_min40mais40_f = stats.binom.cdf(19, n, p) + (stats.binom.cdf(59, n, 0.8))\n",
    "print(p_min40mais40_f)"
   ]
  },
  {
   "cell_type": "markdown",
   "metadata": {},
   "source": [
    "f) Em um pacote com 100 resistores, se mais de 20 resistores falharam, qual a probabilidade de ter no máximo 25 com falhas?\n",
    "\n",
    "*Resposta esperada: 0.8014352854598751*"
   ]
  },
  {
   "cell_type": "code",
   "execution_count": 8,
   "metadata": {},
   "outputs": [],
   "source": [
    "# ESCREVA SEU CÓDIGO AQUI"
   ]
  },
  {
   "cell_type": "code",
   "execution_count": 13,
   "metadata": {},
   "outputs": [
    {
     "name": "stdout",
     "output_type": "stream",
     "text": [
      "2.071384887272967\n"
     ]
    }
   ],
   "source": [
    "f_final = (stats.binom.cdf(25, n, p))/stats.binom.cdf(79, n, 0.8) \n",
    "print(f_final)"
   ]
  },
  {
   "cell_type": "code",
   "execution_count": null,
   "metadata": {},
   "outputs": [],
   "source": []
  }
 ],
 "metadata": {
  "kernelspec": {
   "display_name": "Python 3 (ipykernel)",
   "language": "python",
   "name": "python3"
  },
  "language_info": {
   "codemirror_mode": {
    "name": "ipython",
    "version": 3
   },
   "file_extension": ".py",
   "mimetype": "text/x-python",
   "name": "python",
   "nbconvert_exporter": "python",
   "pygments_lexer": "ipython3",
   "version": "3.9.12"
  }
 },
 "nbformat": 4,
 "nbformat_minor": 2
}
