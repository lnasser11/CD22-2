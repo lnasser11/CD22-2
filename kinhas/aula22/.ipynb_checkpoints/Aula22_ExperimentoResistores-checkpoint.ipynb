{
 "cells": [
  {
   "cell_type": "markdown",
   "metadata": {},
   "source": [
    "___\n",
    "# Atividade: Experimento dos Resistores\n",
    "___\n",
    "## Aula 22"
   ]
  },
  {
   "cell_type": "code",
   "execution_count": 1,
   "metadata": {},
   "outputs": [],
   "source": [
    "%matplotlib inline\n",
    "import matplotlib.pyplot as plt\n",
    "import pandas as pd\n",
    "import numpy as np\n",
    "from scipy import stats\n",
    "\n",
    "from math import sqrt"
   ]
  },
  {
   "cell_type": "markdown",
   "metadata": {},
   "source": [
    "___\n",
    "<div id=\"resistores\"></div>\n",
    "\n",
    "# Comprar ou não comprar um lote de resistores?\n",
    "\n",
    "Sua empresa está desenvolvendo um produto e o seu departamento ficou responsável por indicar um fabricante de resistores para ser utilizado nesse projeto.\n",
    "\n",
    "Serão comprados muitos resistores e ficaria inviável medi-los individualmente para garantir um mínimo de qualidade ao seu produto.\n",
    "\n",
    "Para auxiliar na sua a tomada de decisão sobre a compra ou não de um lote de resistores, o fabricante enviou uma pequena amostra aleatória de $n$ unidades. Assim, você deve utilizar essa amostra para tomar uma decisão sobre o lote todo (contexto populacional).\n",
    "\n",
    "Considere aqui que o desvio padrão populacional seja conhecido e valha $\\sigma=25 k\\Omega$. \n",
    "\n",
    "Ainda, assuma que não está sendo questionada a qualidade do fabricante decorrente à variabilidade das resistências.\n",
    "\n",
    "\n",
    "**Responda:**"
   ]
  },
  {
   "cell_type": "markdown",
   "metadata": {},
   "source": [
    "**a)** Você receberá um envelope com a amostra de resistores. Faça:\n",
    "\n",
    " * mensure a resistência de cada resistor;\n",
    " * guarde esses valores em uma lista; e\n",
    " * calcule a resistência **média amostral** e o **tamanho da amostra**.\n",
    " \n",
    "Trabalhe em dupla neste item."
   ]
  },
  {
   "cell_type": "code",
   "execution_count": 2,
   "metadata": {},
   "outputs": [],
   "source": [
    "# ESCREVA SUA RESPOSTA AQUI"
   ]
  },
  {
   "cell_type": "code",
   "execution_count": 3,
   "metadata": {},
   "outputs": [
    {
     "name": "stdout",
     "output_type": "stream",
     "text": [
      "mu:1044.6923076923076   n:13\n"
     ]
    }
   ],
   "source": [
    "resistencias_k = [1018,1053,1056,1052,1039,1043,1042,1000,1070,1059,1072,1017,1060]\n",
    "n = len(resistencias_k)\n",
    "mu = sum(resistencias_k)/n\n",
    "\n",
    "print(f'mu:{mu}   n:{n}')"
   ]
  },
  {
   "cell_type": "markdown",
   "metadata": {},
   "source": [
    "**b)** Considerando o que foi feito no item anterior, descreva:\n",
    "  * Variável de interesse $X$ em termos do problema; e\n",
    "  * Parâmetro de interesse (valor populacional) para ter motivado o cálculo da média amostral."
   ]
  },
  {
   "cell_type": "code",
   "execution_count": 4,
   "metadata": {},
   "outputs": [],
   "source": [
    "# ESCREVA SUA RESPOSTA AQUI"
   ]
  },
  {
   "cell_type": "raw",
   "metadata": {},
   "source": [
    "Reistencia"
   ]
  },
  {
   "cell_type": "raw",
   "metadata": {},
   "source": [
    "O parametro de interesse é a média populacional, para saber se deve ser comprado o resistor do fornecedor ou não."
   ]
  },
  {
   "cell_type": "markdown",
   "metadata": {},
   "source": []
  },
  {
   "cell_type": "markdown",
   "metadata": {},
   "source": [
    "**c)** Seja $\\overline{X}$ a média amostral considerando uma amostra de $n$ resistores selecionados aleatoriamente. Qual é a distribuição de probabilidades de $\\overline{X}$ (qual distribuição e quais os seus respectivos parâmetros)? Aqui foi feito uso do TLC? Justifique porquê."
   ]
  },
  {
   "cell_type": "code",
   "execution_count": 5,
   "metadata": {},
   "outputs": [],
   "source": [
    "# ESCREVA SUA RESPOSTA AQUI"
   ]
  },
  {
   "cell_type": "raw",
   "metadata": {},
   "source": [
    "A distribuicao é uma normal\n",
    "Foi feito o uso do TLC"
   ]
  },
  {
   "cell_type": "code",
   "execution_count": 6,
   "metadata": {},
   "outputs": [
    {
     "name": "stdout",
     "output_type": "stream",
     "text": [
      "Media: 1044.6923076922433\n",
      "Dp: 6.933752452815364\n"
     ]
    }
   ],
   "source": [
    "mu = 1044.6923076922433\n",
    "dp = ((25**2)/n)**0.5\n",
    "\n",
    "print(f'Media: {mu}')\n",
    "print(f'Dp: {dp}')"
   ]
  },
  {
   "cell_type": "markdown",
   "metadata": {},
   "source": [
    "**d)** Obtenha a margem de erro considerando um coeficiente de confiança igual a $95\\%$.\n",
    "\n",
    "**Dica:** Aqui será necessário fazer uso da Normal Padrão, porém padronização a média amostral, ou seja,\n",
    "$$Z = \\frac{\\overline{X}-\\mu}{\\sigma/\\sqrt{n}} \\sim N(0; 1)$$"
   ]
  },
  {
   "cell_type": "code",
   "execution_count": 7,
   "metadata": {},
   "outputs": [],
   "source": [
    "# ESCREVA SEU CÓDIGO AQUI"
   ]
  },
  {
   "cell_type": "code",
   "execution_count": 8,
   "metadata": {},
   "outputs": [
    {
     "name": "stdout",
     "output_type": "stream",
     "text": [
      "(-1.959963984540054, 1.959963984540054)\n"
     ]
    },
    {
     "data": {
      "text/plain": [
       "13.589905085234374"
      ]
     },
     "execution_count": 8,
     "metadata": {},
     "output_type": "execute_result"
    }
   ],
   "source": [
    "intervalo = stats.norm.interval(0.95,0,1)\n",
    "print(intervalo)\n",
    "denominador = 25/n**0.5\n",
    "Xbarra_menos_media = intervalo[1]*denominador\n",
    "Xbarra_menos_media"
   ]
  },
  {
   "cell_type": "code",
   "execution_count": null,
   "metadata": {},
   "outputs": [],
   "source": []
  },
  {
   "cell_type": "markdown",
   "metadata": {},
   "source": [
    "**e)** Qual deveria ser o tamanho da amostra para se ter uma margem de erro de $3 k\\Omega$, com coeficiente de confiança igual a $95\\%$."
   ]
  },
  {
   "cell_type": "code",
   "execution_count": 9,
   "metadata": {},
   "outputs": [],
   "source": [
    "# ESCREVA SEU CÓDIGO AQUI"
   ]
  },
  {
   "cell_type": "code",
   "execution_count": 10,
   "metadata": {},
   "outputs": [
    {
     "name": "stdout",
     "output_type": "stream",
     "text": [
      "Quantidade:266.7679736593143\n"
     ]
    }
   ],
   "source": [
    "numerador = 3\n",
    "z = intervalo[1]\n",
    "n = (z/(numerador/25))**2\n",
    "print(f'Quantidade:{n}')"
   ]
  },
  {
   "cell_type": "code",
   "execution_count": null,
   "metadata": {},
   "outputs": [],
   "source": []
  },
  {
   "cell_type": "markdown",
   "metadata": {},
   "source": [
    "**f)** Agora, considerando a estimativa para a média populacional obtida no item (a), você compraria ou não o lote?\n",
    "Faça uma tomada de decisão baseada no cálculo de uma probabilidade. *Dica:* será necessário fazer alguma hipótese sobre o lote do fabricante. "
   ]
  },
  {
   "cell_type": "code",
   "execution_count": 11,
   "metadata": {},
   "outputs": [],
   "source": [
    "# ESCREVA SEU CÓDIGO AQUI"
   ]
  },
  {
   "cell_type": "code",
   "execution_count": 12,
   "metadata": {},
   "outputs": [
    {
     "data": {
      "image/png": "[encoded data removed]",
      "text/plain": [
       "<Figure size 432x288 with 1 Axes>"
      ]
     },
     "metadata": {
      "needs_background": "light"
     },
     "output_type": "display_data"
    }
   ],
   "source": [
    "xzin = np.linspace(950,1050,1000)\n",
    "X = stats.norm.pdf(xzin, 1000, dp)\n",
    "\n",
    "y=np.linspace(0,0.06,100)\n",
    "\n",
    "linha = [mu]*100\n",
    "margem_erro_esquerda =[stats.norm.interval(0.95,1000,dp)[0]]*100\n",
    "margem_erro_direita = [stats.norm.interval(0.95,1000,dp)[1]]*100\n",
    "\n",
    "plt.plot(linha,y,label='Media Amostral',color='green')\n",
    "plt.plot(margem_erro_esquerda,y,'r',label='Margem de erro')\n",
    "plt.plot(margem_erro_direita,y,'r')\n",
    "plt.plot(xzin,X,'b')\n",
    "plt.title('X')\n",
    "plt.xlabel('resistencia(k)')\n",
    "plt.legend()\n",
    "plt.grid(True)\n",
    "plt.show()"
   ]
  },
  {
   "cell_type": "code",
   "execution_count": 32,
   "metadata": {},
   "outputs": [
    {
     "name": "stdout",
     "output_type": "stream",
     "text": [
      "5.7565840982931604e-11\n"
     ]
    }
   ],
   "source": [
    "prob_mu_dentrodamargemdeerro = 1 - stats.norm.cdf(mu,loc=1000,scale=dp)\n",
    "print(prob_mu_dentrodamargemdeerro)"
   ]
  },
  {
   "cell_type": "raw",
   "metadata": {},
   "source": [
    "Não compraria o lote, pois a probabilidade de uma amostra de resistores estar dentro da margem de erro dos 95% dos valores mais próximos de 1 Mohm é muito baixa, ou seja, a probabilidade de um resistor do fornecedor que diz ser de 1 Mohm realmente ter esse valor dentro de um lote, é muito improvável."
   ]
  }
 ],
 "metadata": {
  "hide_input": false,
  "kernelspec": {
   "display_name": "Python 3.9.7 64-bit",
   "language": "python",
   "name": "python3"
  },
  "language_info": {
   "codemirror_mode": {
    "name": "ipython",
    "version": 3
   },
   "file_extension": ".py",
   "mimetype": "text/x-python",
   "name": "python",
   "nbconvert_exporter": "python",
   "pygments_lexer": "ipython3",
   "version": "3.9.7"
  },
  "vscode": {
   "interpreter": {
    "hash": "fa202bb1a1975933ba9aefafdf4702960127000ff337e7c1a518450752e9f0c6"
   }
  }
 },
 "nbformat": 4,
 "nbformat_minor": 2
}
