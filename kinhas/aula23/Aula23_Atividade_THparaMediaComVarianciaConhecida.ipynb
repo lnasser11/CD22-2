{
 "cells": [
  {
   "cell_type": "markdown",
   "metadata": {},
   "source": [
    "___\n",
    "# Atividade: Teste de hipóteses para média populacional \n",
    "___\n",
    "\n",
    "## Aula 23"
   ]
  },
  {
   "cell_type": "markdown",
   "metadata": {},
   "source": [
    "<div id=\"indice\"></div>\n",
    "\n",
    "## Índice\n",
    "\n",
    "- [Introdução teórica](#introducao)\n",
    "    - [Afirmações em termos do problema e em termos do parâmetro $\\mu$](#intro1)\n",
    "    - [Nomeando as hipóteses em $H_0$ (hipótese nula) e $H_A$ (hipótese alternativa)](#intro2)\n",
    "    - [Exemplos](#intro3)\n",
    "    - [Uso da Distribuição de $\\overline{X}\\sim N\\left(\\mu; \\frac{\\sigma^2}{n}\\right)$](#intro4)\n",
    "    - [$\\alpha$: Probabilidade de erro do tipo I associado à decisão](#intro5)\n",
    "- [Passos para o teste de hipóteses](#passos)\n",
    "    - [Passo 1](#passo1)\n",
    "    - [Passo 2](#passo2)\n",
    "    - [Passo 3](#passo3)\n",
    "    - [Passo 4](#passo4)\n",
    "    - [Passo 5](#passo5)\n",
    "- [Valor-$p$: Teoria](#valorp)\n",
    "- [Erros tipo 1 e tipo 2](#erros)\n",
    "- [Base de Dados: Máquinas de Cartão](#base-de-dados)\n",
    "    - [Exercício 1](#ex1)\n",
    "    - [Exercício 2](#ex2)\n",
    "    - [Exercício 3](#ex3)\n",
    "    - [Exercício 4](#ex4)\n",
    "    - [Exercício 5](#ex5)\n",
    "    - [Exercício 6](#ex6)\n",
    "    - [Exercício 7](#ex7)\n",
    "- [Respostas](#respostas)\n",
    "___"
   ]
  },
  {
   "cell_type": "markdown",
   "metadata": {},
   "source": [
    "\n",
    "<div id=\"introducao\"></div>\n",
    "\n",
    "## Introdução\n",
    "\n",
    "Em muitas situações, usualmente, existem duas afirmações competitivas acerca do valor de um parâmetro (valor verdadeiro no contexto populacional) e o engenheiro precisa tomar uma decisão sob uma dessas afirmativas.\n",
    "\n",
    "Essas afirmações são chamadas de **hipóteses** e o procedimento de tomada de decisão sobre a hipótese é chamado de **Teste de Hipóteses**.\n",
    "\n",
    "*Exemplo de hipóteses:*\n",
    "\n",
    " * Comprar lote de resistores\n",
    " * Não comprar lote de resistores\n",
    " \n",
    "<div id=\"intro1\"></div>\n",
    " \n",
    "### Afirmações em termos do problema e em termos do parâmetro $\\mu$\n",
    "\n",
    "É importante ressaltar que **as hipóteses são sempre afirmações sobre a população** $X$ e não afirmações sobre a amostra.\n",
    "\n",
    "\n",
    "Cada hipótese em termos do problema deve estar um valor para um parâmetro especificado para a população (por exemplo $\\mu$).\n",
    "\n",
    "\n",
    "Assim, deve-se estabelecer um valor para a média populacional $\\mu$ considerando cada afirmação em termos do problema.\n",
    "\n",
    "<div id=\"intro2\"></div>\n",
    "\n",
    "### Nomeando as hipóteses em $H_0$ (hipótese nula) e $H_A$ (hipótese alternativa)\n",
    "\n",
    "O procedimento básico de um teste de hipóteses consiste em **supor verdadeira uma das hipóteses em questão, nomeada de hipótese nula $H_0$**.\n",
    "\n",
    "E verificar se a amostra observada leva à rejeição ou não desta hipótese, ou seja, verificar se os dados coletados trazem evidências a favor ou não de uma hipótese formulada.\n",
    "\n",
    "\n",
    "**Dica:** A hipótese nula sempre será aquela cuja afirmação trazer a igualdade de um valor atribuído ao parâmetro $\\mu$.\n",
    "\n",
    "<div id=\"intro3\"></div>\n",
    " \n",
    "### Exemplos:\n",
    "\n",
    "**Obrigatoriamente**, a afirmação que carrega a **igualdade** de um valor atribuído ao parâmetro $\\mu$\n",
    "será nomeada de hipótese nula.\n",
    "\n",
    "$\\;$\n",
    "\n",
    "$\\qquad\n",
    "\\begin{array}{lcl}\n",
    "  H_0:\\mbox{Garrafas de refrigerantes possuem, em média, com 2 litros} & \\Rightarrow & H_0: \\mu=2 \\\\\n",
    "  H_A:\\mbox{Garrafas de refrigerantes não possuem, em média, com 2 litros} & \\Rightarrow & H_A: \\mu\\neq2 \\\\\n",
    "\\end{array}$\n",
    "\n",
    "$\\;$\n",
    "\n",
    "$\\qquad\n",
    "\\begin{array}{lcl}\n",
    "  H_0:\\mbox{Duração de uma bateria não excede, em média, 40 horas} & \\Rightarrow & H_0: \\mu\\leq40 \\\\\n",
    "  H_A:\\mbox{Duração de uma bateria excede, em média, 40 horas} & \\Rightarrow & H_A: \\mu>40 \\\\\n",
    "\\end{array}$\n",
    "\n",
    "<div id=\"intro4\"></div>\n",
    "\n",
    "### Uso da Distribuição de $\\overline{X}\\sim N\\left(\\mu; \\frac{\\sigma^2}{n}\\right)$\n",
    "\n",
    "Para verificar se $\\overline{x}$: *média observada na amostra* leva à rejeição ou não de $H_0$, deve-se recorrer a distribuição de $\\overline{X}$.\n",
    "\n",
    "$\\;$\n",
    "\n",
    "**Lembrando:** \n",
    "\n",
    "Assuma que $X$: *variável de interesse* e $E(X)=\\mu$: *média populacional* e $Var(X)=\\sigma^2$: *variância populacional*.\n",
    "  * Se $X$ segue a distribuição $Normal$, então $\\overline{X}\\sim Normal$ de forma exata;\n",
    "  * Se $X$ **não** segue a distribuição $Normal$, então $\\overline{X}\\sim Normal$ via TLC, se $n$ for suficientemente grande.\n",
    "  * Ainda, pode-se para um $n$ relativamente pequeno realizar o `probplot` e verificar se é razoável supor que $X$ segue uma distribuição normal\n",
    "\n",
    "<div id=\"intro5\"></div>\n",
    "\n",
    "### $\\alpha$: Probabilidade de erro do tipo I associado à decisão:\n",
    "\n",
    "A teoria do teste de hipóteses fornece métodos para a tomada de decisão a respeito de hipóteses formuladas, porém o erro de decisão não pode ser evitado. \n",
    "\n",
    "Nesse caso, deve-se estabelecer um valor para $\\alpha$: *probabilidade de rejeitar $H_0$ dado essa ser verdadeira*, ou seja,\n",
    "\n",
    "$$\\alpha=\\mbox{P(rejeitar }H_0 \\mbox{ | } H_0 \\mbox{ ser verdadeira)}$$.\n",
    "\n",
    "Isso permite buscar uma regra de decisão (construção de uma região crítica) que aponte quais resultados amostrais te levam a rejeição de $H_0$, ou seja, te levam a concluir pelo descrito na hipótese alternativa $H_A$.\n",
    "\n",
    "Usualmente, esses valores são fixados em 1%, 5% ou 10% e é chamado de **nível de significância**."
   ]
  },
  {
   "cell_type": "markdown",
   "metadata": {},
   "source": [
    "___\n",
    "\n",
    "<div id=\"passos\"></div>\n",
    "\n",
    "## Passos para o teste de hipótese:\n",
    "\n",
    "<div id=\"passo1\"></div>\n",
    "\n",
    "###  Passo 1\n",
    "\n",
    "Definir a variável de interesse e o parâmetro de interesse de acordo com o problema.\n",
    "\n",
    "<div id=\"passo2\"></div>\n",
    "\n",
    "###  Passo 2\n",
    "\n",
    "Fixar a hipótese nula, $H_0$ a ser testada e a hipótese alternativa ($H_A$)\n",
    "\n",
    "Em geral a hipótese alternativa denota algo notável ou efeito anômalo que se queira testar (por exemplo resistores fora de conformidade)\n",
    "\n",
    "<div id=\"passo3\"></div>\n",
    "\n",
    "### Passo 3\n",
    "\n",
    "Defina qual estatística será usada para julgar a hipótese $H_0$.\n",
    "\n",
    "Lembre-se:\n",
    "\n",
    "* Estatística é calculada na **amostra**\n",
    "* A hipótese diz respeito à **população** de onde veio a amostra\n",
    "\n",
    "**Importante:** usar $\\overline{x}$ (valor estimado na amostra) e  a distribuição de $\\overline{X}$ (distribuição de médias amostrais) para inferir (tomar decisão) algo sobre $\\mu$ (média populacional).\n",
    "\n",
    "<div id=\"passo4\"></div>\n",
    "\n",
    "### Passo 4\n",
    "\n",
    "Decida qual $\\alpha$ utilizar e defina a Região Crítica (RC) segundo $H_0$.\n",
    "\n",
    "Sobre $\\alpha$:\n",
    "\n",
    "* $\\alpha$ é a probabilidade de rejeitar $H_0$ mesmo que ela seja verdadeira.\n",
    "* $\\alpha$ é chamado de nível de significância.\n",
    "* Tipicamente $\\alpha$ é fixado em $1\\%$, $5\\%$ ou $10\\%$ \n",
    "* $1 - \\alpha$  é chamado de nível de confiança (ou coeficiente de confiança).\n",
    "\n",
    "#### Exemplos de região crítica:\n",
    "\n",
    "a. Direita:\n",
    "\n",
    "$H_0: \\mu = \\mu_0$\n",
    "\n",
    "$H_1: \\mu > \\mu_0$\n",
    "\n",
    "$x_{crítico}$ à direita:\n",
    "<img src=xcritico_direita1.png width=40%>\n",
    "\n",
    "b. Esquerda \n",
    "\n",
    "Para:\n",
    "\n",
    "$H_0: \\mu = \\mu_0$\n",
    "\n",
    "$H_1: \\mu < \\mu_0$\n",
    "\n",
    "$x_{crítico}$ à esquerda:\n",
    "<img src=xcritico_esquerda.png width=40%>\n",
    "\n",
    "c. Bicaudal \n",
    "\n",
    "Para: \n",
    "\n",
    "$H_0: \\mu = \\mu_0$\n",
    "\n",
    "$H_1: \\mu \\neq \\mu_0$\n",
    "\n",
    "\n",
    "$x_{crítico}$ em ambas as caudas:\n",
    "<img src=bicaudal_xc1_xc2.png width=40%>\n",
    "\n",
    "<div id=\"passo5\"></div>\n",
    "\n",
    "### Passo 5\n",
    "\n",
    "Calcule a estatística da amostra. Por exemplo $\\overline{x}$.\n",
    "\n",
    "Se o valor da estatística estiver na região crítica, rejeite $H_0$; caso contrário, **não rejeite** (nunca aceite) $H_0$."
   ]
  },
  {
   "cell_type": "markdown",
   "metadata": {},
   "source": [
    "___\n",
    "\n",
    "<div id=\"valorp\"></div>\n",
    "\n",
    "## Valor-$p$\n",
    "\n",
    "O valor-$p$ é a probabilidade de obter um resultado **igual ao da amostra ou mais extremo**, sob $H_0$ verdadeira.\n",
    "\n",
    "Note que se o teste for bicaudal a definição de *mais extremo* vai nos fazer considerar valores simétricos nas duas pontas\n",
    "\n",
    "<img src=valor_p_direita.png width=60%>"
   ]
  },
  {
   "cell_type": "markdown",
   "metadata": {},
   "source": [
    "___\n",
    "\n",
    "<div id=\"erros\"></div>\n",
    "\n",
    "## Erros tipo 1 e tipo 2\n",
    "\n",
    "\n",
    "|       &nbsp;                        | $H_0$ é Verdadeiro       | $H_0$ é Falso                   |\n",
    "|:---|:-----|:-----|\n",
    "| Rejeito $H_0$     | * Erro tipo 1           | * Decisão Correta               |\n",
    "|       &nbsp;            | * Falso Positivo        |     &nbsp;                                    |\n",
    "|         &nbsp;          | * Probabilidade $\\alpha$ |     &nbsp;                                    |\n",
    "| Não Rejeito $H_0$ | * Decisão Correta        | * Erro tipo 2                  |\n",
    "|       &nbsp;                   |   &nbsp;                              | * Falso Negativo               |\n",
    "|       &nbsp;                 |            &nbsp;                     | * Probabilidade $\\beta$     |\n",
    "|        &nbsp;            \n",
    "\n",
    "<img src=\"figura_gravida.png\" width=50%>\n",
    "\n",
    "Fonte: The essential guide to effect sizes. Statistical Power, Meta-analysis and Interpretation of Results. Paul D. Ellis. pg. 50\n",
    "___"
   ]
  },
  {
   "cell_type": "code",
   "execution_count": 1,
   "metadata": {},
   "outputs": [],
   "source": [
    "from scipy import stats\n",
    "import numpy as np\n",
    "import pandas as pd\n",
    "import math\n",
    "import matplotlib.pyplot as plt\n",
    "%matplotlib inline"
   ]
  },
  {
   "cell_type": "markdown",
   "metadata": {},
   "source": [
    "___\n",
    "\n",
    "<div id=\"base-de-dados\"></div>\n",
    "\n",
    "# Base de Dados: Máquinas de Cartão\n",
    "\n",
    "Uma empresa de serviços na área de soluções de pagamentos eletrônicos fornece máquinas a estabelecimentos comerciais para processarem o pagamento por cartão de crédito efetuado por seus clientes. Entretanto, os donos desses estabelecimentos comerciais reclamaram que o tempo de processamento das transações de cartão de crédito nessas máquinas estava, em média, muito alto.\n",
    "\n",
    "Para evitar a perda de clientes, a empresa estabeleceu como meta reduzir o tempo médio de processamento das transações de cartão de crédito para menos do que 4 segundos até o fim do semestre (assuma $\\sigma$ conhecido e igual a 1 segundo). \n",
    "\n",
    "Após a realização de diversas modificações, a empresa gostaria de checar se a meta foi atingida.\n",
    "\n",
    "Para isso, foram medidos os tempos de processamento de uma amostra aleatória de transações. Os tempos medidos estão no arquivo `tempos.csv`."
   ]
  },
  {
   "cell_type": "code",
   "execution_count": 2,
   "metadata": {},
   "outputs": [],
   "source": [
    "# Carregando os dados\n",
    "dados = pd.read_csv('tempos.csv', header=None)\n",
    "dados.columns = ['tempo']\n",
    "tempos = dados['tempo']"
   ]
  },
  {
   "cell_type": "markdown",
   "metadata": {},
   "source": [
    "<div id=\"ex1\"></div>\n",
    "\n",
    "### EXERCÍCIO 1\n",
    "\n",
    "Queremos saber se a empresa conseguiu atingir a meta de diminuir o tempo médio de processamento das transações de cartão de crétido para menos do que 4 segundos. Calcule a média da amostra. A partir desse valor já é possível tirar alguma conclusão?\n",
    "\n",
    "[Respostas](#respostas)"
   ]
  },
  {
   "cell_type": "code",
   "execution_count": null,
   "metadata": {},
   "outputs": [],
   "source": [
    "# ESCREVA SEU CÓDIGO AQUI"
   ]
  },
  {
   "cell_type": "code",
   "execution_count": 30,
   "metadata": {},
   "outputs": [
    {
     "name": "stdout",
     "output_type": "stream",
     "text": [
      "Média ---> 4\n"
     ]
    }
   ],
   "source": [
    "mu_amostra = np.mean(tempos)\n",
    "print(f'Média ---> {mu}')"
   ]
  },
  {
   "cell_type": "markdown",
   "metadata": {},
   "source": [
    "<div id=\"ex2\"></div>\n",
    "\n",
    "### EXERCÍCIO 2\n",
    "\n",
    "Gere o histograma dos dados coletados. Qual é a sua intuição a partir dessa visualização?"
   ]
  },
  {
   "cell_type": "code",
   "execution_count": 31,
   "metadata": {},
   "outputs": [],
   "source": [
    "# ESCREVA SEU CÓDIGO AQUI"
   ]
  },
  {
   "cell_type": "code",
   "execution_count": 32,
   "metadata": {},
   "outputs": [
    {
     "data": {
      "image/png": "[encoded data removed]",
      "text/plain": [
       "<Figure size 432x288 with 1 Axes>"
      ]
     },
     "metadata": {
      "needs_background": "light"
     },
     "output_type": "display_data"
    }
   ],
   "source": [
    "plt.hist(tempos,bins=10,density=True,edgecolor='white')\n",
    "plt.show()"
   ]
  },
  {
   "cell_type": "markdown",
   "metadata": {},
   "source": [
    "<div id=\"ex3\"></div>\n",
    "\n",
    "### EXERCÍCIO 3\n",
    "\n",
    "Quais são as hipóteses nula e alternativa para este problema? Dica: consulte o [passo 2](#passo2).\n",
    "\n",
    "[Respostas](#respostas)"
   ]
  },
  {
   "cell_type": "code",
   "execution_count": 33,
   "metadata": {},
   "outputs": [],
   "source": [
    "# ESCREVA SUA RESPOSTA AQUI"
   ]
  },
  {
   "cell_type": "raw",
   "metadata": {},
   "source": [
    "h_0 = 4\n",
    "h_1 > 4"
   ]
  },
  {
   "cell_type": "markdown",
   "metadata": {},
   "source": [
    "<div id=\"ex4\"></div>\n",
    "\n",
    "### EXERCÍCIO 4\n",
    "\n",
    "Você sabe qual é a distribuição de probabilidades das médias amostrais ($\\overline{X}$)? Se não, é possível fazer alguma suposição? Admitindo $H_0$, quais são os parâmetros dessa distribuição?\n",
    "\n",
    "[Respostas](#respostas)"
   ]
  },
  {
   "cell_type": "code",
   "execution_count": 34,
   "metadata": {},
   "outputs": [],
   "source": [
    "# ESCREVA SUA RESPOSTA AQUI"
   ]
  },
  {
   "cell_type": "code",
   "execution_count": 35,
   "metadata": {},
   "outputs": [
    {
     "data": {
      "image/png": "[encoded data removed]",
      "text/plain": [
       "<Figure size 432x288 with 1 Axes>"
      ]
     },
     "metadata": {
      "needs_background": "light"
     },
     "output_type": "display_data"
    },
    {
     "name": "stdout",
     "output_type": "stream",
     "text": [
      "Mu: 4    DP:0.14285714285714285   Var:0.02040816326530612\n"
     ]
    }
   ],
   "source": [
    "dp = ((1 ** 2) / len(tempos))**0.5\n",
    "mu = 4\n",
    "\n",
    "xzin = np.linspace(mu-4.5*dp,mu+4.5*dp,1000)\n",
    "X = stats.norm.pdf(xzin,mu,dp)\n",
    "\n",
    "plt.title('X barra')\n",
    "plt.xlabel('tempo(s)')\n",
    "plt.plot(xzin,X,'r')\n",
    "plt.grid(True)\n",
    "plt.show()\n",
    "\n",
    "print(f'Mu: {4}    DP:{dp}   Var:{dp**2}')"
   ]
  },
  {
   "cell_type": "markdown",
   "metadata": {},
   "source": [
    "<div id=\"ex5\"></div>\n",
    "\n",
    "### EXERCÍCIO 5\n",
    "\n",
    "Calcule a região crítica (RC) segundo $H_0$ para o nível de significância de 1%. Dica: consulte o [passo 4](#passo4).\n",
    "\n",
    "[Respostas](#respostas)"
   ]
  },
  {
   "cell_type": "code",
   "execution_count": 36,
   "metadata": {},
   "outputs": [],
   "source": [
    "# ESCREVA SEU CÓDIGO AQUI"
   ]
  },
  {
   "cell_type": "code",
   "execution_count": 37,
   "metadata": {},
   "outputs": [
    {
     "name": "stdout",
     "output_type": "stream",
     "text": [
      "Numero de significancai: 3.667664589422737\n"
     ]
    }
   ],
   "source": [
    "n_significancia = stats.norm.ppf(0.01, mu, dp)\n",
    "print(f'Numero de significancai: {n_significancia}')"
   ]
  },
  {
   "cell_type": "markdown",
   "metadata": {},
   "source": [
    "<div id=\"ex6\"></div>\n",
    "\n",
    "### EXERCÍCIO 6\n",
    "\n",
    "Baseado nos resultados anteriores, qual é a sua conclusão sobre a meta da empresa: foi atingida ou não? Justifique.\n",
    "\n",
    "[Respostas](#respostas)"
   ]
  },
  {
   "cell_type": "code",
   "execution_count": 38,
   "metadata": {},
   "outputs": [],
   "source": [
    "# ESCREVA SUA RESPOSTA AQUI"
   ]
  },
  {
   "cell_type": "code",
   "execution_count": 45,
   "metadata": {},
   "outputs": [
    {
     "data": {
      "image/png": "[encoded data removed]",
      "text/plain": [
       "<Figure size 432x288 with 1 Axes>"
      ]
     },
     "metadata": {
      "needs_background": "light"
     },
     "output_type": "display_data"
    }
   ],
   "source": [
    "xzin = np.linspace(mu-4.5*dp,mu+4.5*dp,1000)\n",
    "X = stats.norm.pdf(xzin,mu,dp)\n",
    "\n",
    "y = np.linspace(0,2.8,1000)\n",
    "C = [n_significancia]*1000\n",
    "\n",
    "plt.title('X barra')\n",
    "plt.xlabel('nota')\n",
    "plt.plot(xzin,X,'r')\n",
    "plt.plot(C ,y,'b',label='nivel de significância')\n",
    "plt.plot(mu_amostra,0, color='green',marker='o',label='média da amostra')\n",
    "plt.legend()\n",
    "plt.grid(True)\n",
    "plt.show()"
   ]
  },
  {
   "cell_type": "raw",
   "metadata": {},
   "source": [
    "A meta da empresa foi atingida, pois a média amostral está abaixo do nível de significância desejada, ou seja, a média de 4 segundos é improvável de acontecer."
   ]
  },
  {
   "cell_type": "markdown",
   "metadata": {},
   "source": [
    "<div id=\"ex7\"></div>\n",
    "\n",
    "### EXERCÍCIO 7\n",
    "\n",
    "Outra maneira de se tomar uma decisão utilizando uma metodologia de teste de hipóteses é calculando o valor-p.\n",
    "\n",
    "**Definição:** \"O valor-p é a probabilidade de obter um resultado igual ao da amostra ou mais desfavorável à 𝐻_0, sob 𝐻_0 verdadeira.\"\n",
    "\n",
    "Nesse caso, calcule o valor-p e use-o para concluir sobre a meta da empresa: foi atingida ou não? Justifique.\n",
    "\n",
    "[Respostas](#respostas)"
   ]
  },
  {
   "cell_type": "code",
   "execution_count": null,
   "metadata": {},
   "outputs": [],
   "source": [
    "# ESCREVA SUA RESPOSTA AQUI"
   ]
  },
  {
   "cell_type": "code",
   "execution_count": 49,
   "metadata": {
    "scrolled": true
   },
   "outputs": [
    {
     "name": "stdout",
     "output_type": "stream",
     "text": [
      "0.005006927163601371\n"
     ]
    }
   ],
   "source": [
    "alpha = 0.01\n",
    "p = stats.norm.cdf(mu_amostra,mu,dp)\n",
    "print(p)"
   ]
  },
  {
   "cell_type": "raw",
   "metadata": {},
   "source": [
    "Como a probabilidade da média amostral é menor do que a probabilidade do nível de significância, admite-se que H_0 foi rejeitado, logo a meta foi atingida."
   ]
  },
  {
   "cell_type": "markdown",
   "metadata": {},
   "source": [
    "<div id=\"respostas\"></div>\n",
    "\n",
    "# Respostas\n",
    "\n",
    "### [Exercício 1](#ex1)\n",
    "\n",
    "A média amostral é 3.632092780943135 s\n",
    "\n",
    "O fato da média amostral estimada ser menor do que 4 não é suficiente para afirmar que a meta foi atingida. \n",
    "É necessário definir o nível de significância e então verificar se essa média pertence à região crítica"
   ]
  },
  {
   "cell_type": "markdown",
   "metadata": {},
   "source": [
    "### [Exercício 3](#ex3)\n",
    "\n",
    "H0: mu = 4\n",
    "HA: mu < 4"
   ]
  },
  {
   "cell_type": "markdown",
   "metadata": {},
   "source": [
    "### [Exercício 4](#ex4)\n",
    "\n",
    "Vamos supor que 49 é um valor suficientemente grande para valer o Teorema Central do Limite. Então: $\\overline{X}\\sim Normal(4, 0.02040816326530612)$."
   ]
  },
  {
   "cell_type": "markdown",
   "metadata": {},
   "source": [
    "### [Exercício 5](#ex5)\n",
    "\n",
    "RC = {xbarra_obs < 3.667664589422737}"
   ]
  },
  {
   "cell_type": "markdown",
   "metadata": {},
   "source": [
    "### [Exercício 6](#ex6)\n",
    "\n",
    "Como a média amostral é menor do que c=3.66, então rejeitamos H0. Assim, concluimos que a meta da empresa foi atingida, ou seja, o tempo médio de processamento das transações é menor do que 4 s."
   ]
  },
  {
   "cell_type": "markdown",
   "metadata": {},
   "source": [
    "### [Exercício 7](#ex7)\n",
    "\n",
    "Regra Geral: Se valor-p < alpha, então devemos rejeitar H_0\n",
    "\n",
    "No problema, valor-p = 0.0050069.\n",
    "Assim, como tivemos valor-p <alpha, então há evidências para concluir que meta foi atingida"
   ]
  },
  {
   "cell_type": "code",
   "execution_count": null,
   "metadata": {},
   "outputs": [],
   "source": []
  }
 ],
 "metadata": {
  "hide_input": false,
  "kernelspec": {
   "display_name": "Python 3 (ipykernel)",
   "language": "python",
   "name": "python3"
  },
  "language_info": {
   "codemirror_mode": {
    "name": "ipython",
    "version": 3
   },
   "file_extension": ".py",
   "mimetype": "text/x-python",
   "name": "python",
   "nbconvert_exporter": "python",
   "pygments_lexer": "ipython3",
   "version": "3.9.12"
  }
 },
 "nbformat": 4,
 "nbformat_minor": 2
}
