{
 "cells": [
  {
   "cell_type": "markdown",
   "metadata": {},
   "source": [
    "___\n",
    "# Exercício para APS: Propriedades de esperança e variância para Combinação linear de variáveis aleatórias\n",
    "___\n",
    "\n",
    "## Aula 19"
   ]
  },
  {
   "cell_type": "markdown",
   "metadata": {},
   "source": [
    "<div id=\"indice\"></div>\n",
    "\n",
    "## Índice\n",
    "\n",
    "- [Exercício 1](#ex1) **- APS8 disponível no Blackboard**\n",
    "- [Exercício 2](#ex2) **- APS8 disponível no Blackboard**\n",
    "- [Exercício 3](#ex3) **- APS8 disponível no Blackboard**\n",
    "- [Exercício 4](#ex4) **- APS8 disponível no Blackboard**\n",
    "- [Exercício 5](#ex5) **- APS8 disponível no Blackboard**\n",
    "\n",
    "___"
   ]
  },
  {
   "cell_type": "code",
   "execution_count": 1,
   "metadata": {},
   "outputs": [],
   "source": [
    "import pandas as pd\n",
    "import numpy as np\n",
    "from scipy.stats import uniform, expon, norm\n",
    "import matplotlib.pyplot as plt\n",
    "%matplotlib inline"
   ]
  },
  {
   "cell_type": "markdown",
   "metadata": {},
   "source": [
    "___\n",
    "<div id=\"ex1\"></div>\n",
    "\n",
    "### EXERCÍCIO 1\n",
    "\n",
    "Um processo industrial pode ser executado em duas etapas independentes. O tempo gasto em cada etapa leva, em média, 5 horas com desvio padrão de 10 horas.\n",
    "\n",
    "Um engenheiro resolveu modificar o processo de produção fazendo com que seja executado numa única fase, cujo novo tempo de execução agora é o dobro da primeira etapa do processo atual.\n",
    "\n",
    "O novo processo proposto pelo engenheiro deve ser adotado?\n"
   ]
  },
  {
   "cell_type": "code",
   "execution_count": null,
   "metadata": {},
   "outputs": [],
   "source": [
    "# ESCREVA SEU CÓDIGO AQUI\n",
    "# etapa 1 = ?\n",
    "# etapa 2 = ?\n",
    "\n",
    "media_1_2 = 5\n",
    "std_1_2 = 10\n",
    "\n",
    "\n",
    "#total2 = etapa1*2\n",
    "\n"
   ]
  },
  {
   "cell_type": "code",
   "execution_count": null,
   "metadata": {},
   "outputs": [],
   "source": []
  },
  {
   "cell_type": "markdown",
   "metadata": {},
   "source": [
    "___\n",
    "### ENUNCIADO PARA EXERCÍCIOS 2 e 3\n",
    "\n",
    "###  **Quanto custa em média?**\n",
    "\n",
    "O fluido de freio custa, em média, 50 reais. As pastilhas possuem variação alta: em um carro popular custa 80 reais o par, mas pode chegar a 500 reais em um importado. O par das lonas de freio custa 80 reais, o de tambor 180 reais e o de disco 250 reais.\" Extraído da [Revista Auto Esporte](https://revistaautoesporte.globo.com/Servico/autoajuda/noticia/2015/05/autoajuda-freios.html)."
   ]
  },
  {
   "cell_type": "markdown",
   "metadata": {},
   "source": [
    "<div id=\"ex2\"></div>\n",
    "\n",
    "### EXERCÍCIO 2\n",
    "\n",
    "Com a reportagem acima, vimos que as pastilhas de freio têm preços variados, a depender de diversos fatores como marca do carro.\n",
    "\n",
    "Em uma determinada loja de autopeças, o preço médio das pastilhas de freio é de 112 reais, com um desvio-padrão associado a essa variável de 22 reais. \n",
    "\n",
    "Um pessoa entra nessa loja e deseja comprar três pastilhas de freio, sendo todas iguais.\n",
    "\n",
    "Qual o gasto total esperado dessa pessoa e respectivo desvio padrão?\n"
   ]
  },
  {
   "cell_type": "code",
   "execution_count": 2,
   "metadata": {},
   "outputs": [
    {
     "name": "stdout",
     "output_type": "stream",
     "text": [
      "Esperado: 336. Desvio padrão: 66\n"
     ]
    }
   ],
   "source": [
    "# ESCREVA SEU CÓDIGO AQUI\n",
    "media_item = 112\n",
    "std_item = 22\n",
    "\n",
    "# If someone buys 3 items, how much will they spend in total? And give me the standard deviation of the total amount spent.\n",
    "print(f'Esperado: {media_item*3}. Desvio padrão: {std_item*3}')"
   ]
  },
  {
   "cell_type": "code",
   "execution_count": null,
   "metadata": {},
   "outputs": [],
   "source": []
  },
  {
   "cell_type": "markdown",
   "metadata": {},
   "source": [
    "___\n",
    "<div id=\"ex3\"></div>\n",
    "\n",
    "### EXERCÍCIO 3\n",
    "\n",
    "Com a reportagem acima, vimos que as pastilhas de freio têm preços variados, a depender de diversos fatores como marca do carro.\n",
    "\n",
    "Em uma determinada loja de autopeças, o preço médio das pastilhas de freio é de 112 reais, com um desvio-padrão associado a essa variável de 22 reais. \n",
    "\n",
    "Uma outra pessoa entra nessa loja e deseja comprar três pastilhas de freio, porém fará escolhas indenpendentes e não necessariamente iguais.\n",
    "Qual o gasto total esperado dessa outra pessoa e respectivo desvio padrão?\n"
   ]
  },
  {
   "cell_type": "code",
   "execution_count": 4,
   "metadata": {},
   "outputs": [
    {
     "name": "stdout",
     "output_type": "stream",
     "text": [
      "Esperado: 336. Desvio padrão: 38.1051177665153\n"
     ]
    }
   ],
   "source": [
    "# ESCREVA SEU CÓDIGO AQUI\n",
    "mu = 112\n",
    "sigma = 22\n",
    "def sqrt(x):\n",
    "    return x**0.5\n",
    "\n",
    "print(f'Esperado: {mu*3}. Desvio padrão: {sqrt(sigma**2*3)}')"
   ]
  },
  {
   "cell_type": "code",
   "execution_count": null,
   "metadata": {},
   "outputs": [],
   "source": []
  },
  {
   "cell_type": "markdown",
   "metadata": {},
   "source": [
    "___\n",
    "<div id=\"ex4\"></div>\n",
    "\n",
    "### EXERCÍCIO 4\n",
    "\n",
    "Joãozinho sai de casa para comprar um notebook e um celular novos!\n",
    "\n",
    "O notebook tem preço médio de R$\\rm{$}$ 2.500,00, com desvio padrão igual a R$\\rm{\\$}$ 1.000,00.\n",
    "\n",
    "O celular tem preço médio de R$\\rm{$}$ 1.300,00, com desvio padrão igual a R$\\rm{$}$ 700,00.\n",
    "\n",
    "Assuma que os preços desses produtos sejam independentes.\n",
    "\n",
    "Joãozinho sabe que terá um gasto alto e, por isso, irá de ônibus. Com isso, deverá acrescentar mais R$\\rm{$}$40,00 de gasto.\n",
    "\n",
    "Qual o gasto esperado e respectivo desvio padrão de Joãozinho?\n"
   ]
  },
  {
   "cell_type": "code",
   "execution_count": null,
   "metadata": {},
   "outputs": [],
   "source": [
    "# ESCREVA SEU CÓDIGO AQUI"
   ]
  },
  {
   "cell_type": "code",
   "execution_count": 5,
   "metadata": {},
   "outputs": [
    {
     "name": "stdout",
     "output_type": "stream",
     "text": [
      "Esperado:3840 DP:1220.6555615733703\n"
     ]
    }
   ],
   "source": [
    "mu_note = 2500\n",
    "sigma_note = 1000\n",
    "\n",
    "mu_cel = 1300\n",
    "sigma_cel = 700\n",
    "\n",
    "esperado = mu_note+mu_cel+40\n",
    "dp = (sigma_note**2 + sigma_cel**2)**0.5\n",
    "\n",
    "print(f'Esperado:{esperado} DP:{dp}')"
   ]
  },
  {
   "cell_type": "markdown",
   "metadata": {},
   "source": [
    "___\n",
    "<div id=\"ex5\"></div>\n",
    "\n",
    "### EXERCÍCIO 5\n",
    "\n",
    "Aninha é mãe de bebezinhos gêmeos.\n",
    "\n",
    "Ela sairá de casa para comprar uma roupa e um brinquedo para cada um.\n",
    "\n",
    "O preço médio da roupa é de R$\\rm{$}$ 60,00, com desvio padrão igual a R$\\rm{$}$ 15,00.\n",
    "\n",
    "O preço médio do brinquedo é de R$\\rm{$}$ 75,00, com desvio padrão igual a R$\\rm{$}$ 25,00.\n",
    "\n",
    "Assuma que esses produtos tenham preços variando de forma independente entre si.\n",
    "\n",
    "\n",
    "Aninha deseja comprar roupas iguais para os gêmeos, mas os brinquedos não necessariamente serão os mesmos.\n",
    "\n",
    "Nesse caso, qual o gasto esperado de Aninha e o respectivo desvio padrão?"
   ]
  },
  {
   "cell_type": "code",
   "execution_count": null,
   "metadata": {},
   "outputs": [],
   "source": [
    "# ESCREVA SEU CÓDIGO AQUI"
   ]
  },
  {
   "cell_type": "code",
   "execution_count": 6,
   "metadata": {},
   "outputs": [
    {
     "name": "stdout",
     "output_type": "stream",
     "text": [
      "Esperado:270 DP:46.36809247747852\n"
     ]
    }
   ],
   "source": [
    "mu_roupa = 60\n",
    "sigma_roupa = 15\n",
    "\n",
    "mu_brinquedo = 75\n",
    "sigma_brinquedo = 25\n",
    "\n",
    "esperado = 2*mu_roupa + 2*mu_brinquedo\n",
    "dp = (2**2 * sigma_roupa**2 + sigma_brinquedo**2 *2)**0.5\n",
    "\n",
    "print(f'Esperado:{esperado} DP:{dp}')"
   ]
  }
 ],
 "metadata": {
  "hide_input": false,
  "kernelspec": {
   "display_name": "Python 3.9.7 64-bit",
   "language": "python",
   "name": "python3"
  },
  "language_info": {
   "codemirror_mode": {
    "name": "ipython",
    "version": 3
   },
   "file_extension": ".py",
   "mimetype": "text/x-python",
   "name": "python",
   "nbconvert_exporter": "python",
   "pygments_lexer": "ipython3",
   "version": "3.9.7"
  },
  "vscode": {
   "interpreter": {
    "hash": "fa202bb1a1975933ba9aefafdf4702960127000ff337e7c1a518450752e9f0c6"
   }
  }
 },
 "nbformat": 4,
 "nbformat_minor": 4
}
