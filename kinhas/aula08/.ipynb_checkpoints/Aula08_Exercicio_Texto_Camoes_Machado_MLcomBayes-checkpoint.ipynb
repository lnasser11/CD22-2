{
 "cells": [
  {
   "cell_type": "markdown",
   "metadata": {},
   "source": [
    "# APS 4 \n",
    "## * Deve trabalhar nesta APS com seu grupo do Projeto 1\n",
    "## * Preencha os resultados desta APS no Blackboard\n",
    "## * Entrega INDIVIDUAL HOJE até término desta aula"
   ]
  },
  {
   "cell_type": "markdown",
   "metadata": {},
   "source": [
    "___\n",
    "# Exercício: Camões&Lusíadas - Tomando decisão com Teorema de Bayes\n",
    "___\n",
    "\n",
    "## Aula 08"
   ]
  },
  {
   "cell_type": "markdown",
   "metadata": {},
   "source": [
    "<div id=\"indice\"></div>\n",
    "\n",
    "\n",
    "\n",
    "## Índice\n",
    "\n",
    "- [Análise \"Os Lusíadas\" vs \"Dom Casmurro\"](#analise-lusiadas-vs-dom-casmurro)\n",
    "    - [Limpeza das bases](#limpeza-das-bases)\n",
    "    - [Tabelas de frequências: Dom Casmurro](#tabelas-de-frequencias-dom-casmurro)\n",
    "        - [Frequências absolutas](#frequencias-absolutas-casmurro)\n",
    "        - [Frequências relativas](#frequencias-relativas-casmurro)\n",
    "    - [Tabelas de frequências: Os Lusíadas](#tabelas-de-frequencias-os-lusiadas)\n",
    "- [Probabilidades](#probabilidades)\n",
    "- [Probabilidades na língua portuguesa](#probabilidades-na-lingua-portuguesa)\n",
    "- [Classificação: Lusíadas ou Dom Casmurro?](#classificacao-lusiadas-ou-dom-casmurro)\n",
    "    - [A ingenuidade - Naïve Bayes](#a-ingenuidade-naive-bayes)\n",
    "\n",
    "- [O que você deve fazer](#o-que-voce-deve-fazer)\n",
    "    - [Exercício 1](#ex1) **- APS4 disponível no Blackboard**\n",
    "    - [Exercício 2](#ex2) **- APS4 disponível no Blackboard**\n",
    "    - [Exercício 3](#ex3) **- APS4 disponível no Blackboard**\n",
    "    - [Exercício 4](#ex4) **- APS4 disponível no Blackboard**\n",
    "- [O que você deve pesquisar para fazer o Projeto 1](#o-que-pesquisar)"
   ]
  },
  {
   "cell_type": "markdown",
   "metadata": {},
   "source": [
    "___\n",
    "### Este notebook é uma prévia para o Projeto 1.\n",
    "\n",
    "### A técnica apresentada neste notebook foi usada para resolver [um problema histórico de autoria de documentos](https://priceonomics.com/how-statistics-solved-a-175-year-old-mystery-about/).\n",
    "\n",
    "### Leia [esta referência do Prof. Sebastian Raschka](https://arxiv.org/pdf/1410.5329.pdf) após concluir esta atividade. Também existe [em formato de blog](https://sebastianraschka.com/Articles/2014_naive_bayes_1.html)\n",
    "___\n"
   ]
  },
  {
   "cell_type": "code",
   "execution_count": 1,
   "metadata": {},
   "outputs": [],
   "source": [
    "import pandas as pd\n",
    "import numpy as np\n",
    "from IPython.display import display\n",
    "pd.options.display.max_rows = 13"
   ]
  },
  {
   "cell_type": "markdown",
   "metadata": {},
   "source": [
    "Abaixo definimos uma função de limpeza simples, que usaremos nos trechos de texto analizados"
   ]
  },
  {
   "cell_type": "code",
   "execution_count": 2,
   "metadata": {},
   "outputs": [],
   "source": [
    "# https://docs.python.org/3/library/re.html#\n",
    "import re \n",
    "\n",
    "\n",
    "def cleanup(text):\n",
    "    \"\"\"\n",
    "        Função de limpeza muito simples que troca alguns sinais básicos por espaços\n",
    "    \"\"\"\n",
    "    #import string\n",
    "    punctuation = '[!-.:?;]' # Note que os sinais [] são delimitadores de um conjunto.\n",
    "    pattern = re.compile(punctuation)\n",
    "    text_subbed = re.sub(pattern, '', text)\n",
    "    return text_subbed\n",
    "    "
   ]
  },
  {
   "cell_type": "markdown",
   "metadata": {},
   "source": [
    "**Avaliando funcionamento da função `cleanup()`:**"
   ]
  },
  {
   "cell_type": "code",
   "execution_count": 3,
   "metadata": {},
   "outputs": [
    {
     "data": {
      "text/plain": [
       "'A não ser que haja ! várias : pontuações ; excluir tudo ? não de novo A que haja haja haja'"
      ]
     },
     "execution_count": 3,
     "metadata": {},
     "output_type": "execute_result"
    }
   ],
   "source": [
    "texto = f'A não ser que haja ! várias : pontuações ; excluir tudo ? não de novo A que haja haja haja'\n",
    "texto"
   ]
  },
  {
   "cell_type": "code",
   "execution_count": 4,
   "metadata": {},
   "outputs": [
    {
     "data": {
      "text/plain": [
       "21"
      ]
     },
     "execution_count": 4,
     "metadata": {},
     "output_type": "execute_result"
    }
   ],
   "source": [
    "len(texto.split())"
   ]
  },
  {
   "cell_type": "code",
   "execution_count": 5,
   "metadata": {},
   "outputs": [
    {
     "data": {
      "text/plain": [
       "21"
      ]
     },
     "execution_count": 5,
     "metadata": {},
     "output_type": "execute_result"
    }
   ],
   "source": [
    "len(pd.Series(texto.split()))"
   ]
  },
  {
   "cell_type": "code",
   "execution_count": 6,
   "metadata": {},
   "outputs": [
    {
     "data": {
      "text/plain": [
       "'A não ser que haja  várias  pontuações  excluir tudo  não de novo A que haja haja haja'"
      ]
     },
     "execution_count": 6,
     "metadata": {},
     "output_type": "execute_result"
    }
   ],
   "source": [
    "# Limpa texto mas não guarda limpeza\n",
    "cleanup(texto)"
   ]
  },
  {
   "cell_type": "code",
   "execution_count": 7,
   "metadata": {
    "scrolled": true
   },
   "outputs": [
    {
     "data": {
      "text/plain": [
       "'A não ser que haja  várias  pontuações  excluir tudo  não de novo A que haja haja haja'"
      ]
     },
     "execution_count": 7,
     "metadata": {},
     "output_type": "execute_result"
    }
   ],
   "source": [
    "# Se quiser guardar texto limpo no mesmo objeto, então:\n",
    "texto = cleanup(texto)\n",
    "texto"
   ]
  },
  {
   "cell_type": "code",
   "execution_count": null,
   "metadata": {},
   "outputs": [],
   "source": []
  },
  {
   "cell_type": "markdown",
   "metadata": {},
   "source": [
    "<div id=\"analise-lusiadas-vs-dom-casmurro\"></div>\n",
    "\n",
    "## Análise \"Os Lusíadas\" vs \"Dom Casmurro\"\n",
    "\n",
    "Vamos analisar as obras Dom Casmurro, de [Machado de Assis](http://machado.mec.gov.br/) e Os Lusíadas, de [Luis Vaz de Camões](https://pt.wikipedia.org/wiki/Lu%C3%ADs_de_Cam%C3%B5es). Ambas as obras são de domínio público e foram obtidas no site do [Projeto Gutenberg](https://www.gutenberg.org/wiki/PT_Principal).\n",
    "\n",
    "Nosso objetivo é: dada uma frase extraída de alguma das duas obras, identificar a qual obra a frase pertence.\n",
    "Ou seja, queremos classificar uma frase como pertencendo a \"Os Lusíadas\" ou a \"Dom Casmurro\". \n",
    "\n",
    "Para isso temos somente a informação de quais **palavras constituem a frase**. Como podemos utilizar as palavras para descobrir a qual obra a frase pertence? Você deve ter algum conhecido que sempre usa alguma palavra um pouco estranha ou diferente que somente ele/ela usa. A intuição no nosso caso é semelhante: cada autor deve ter algumas palavras específicas que usa com mais frequência do que o outro autor. Se isso for verdade, poderíamos tentar descobrir qual é a obra dependendo de quais palavras aparecem na frase.\n",
    "\n",
    "Vamos pensar em termos de probabilidade. A informação que temos disponível sobre a frase são as palavras. Assim, temos os seguintes eventos:\n",
    "\n",
    "- $Casmurro$: a frase foi extraída da obra \"Dom Casmurro\";\n",
    "- $Lusíadas$: a frase foi extraída da obra \"Os Lusíadas\";\n",
    "- $frase$: uma determinada frase foi encontrada.\n",
    "\n",
    "Utilizamos $w_i$ como um nome genérico para qualquer palavra utilizada em algum dos textos.\n",
    "\n",
    "A partir das palavras contidas na frase, queremos calcular a probabilidade da frase ter sido extraída de \"Dom Casmurro\" ou de \"Os Lusíadas\". Traduzindo em termos de probabilidades:\n",
    "\n",
    "- $P(Casmurro|frase)$: probabilidade da obra original ser \"Dom Casmurro\" dado a frase;\n",
    "- $P(Lusíadas|frase)$: probabilidade da obra original ser \"Os Lusíadas\" dado a frase.\n",
    "\n",
    "Se $P(Casmurro|frase) > P(Lusíadas|frase)$ classificaremos a frase como extraída de \"Dom Casmurro\", senão, classificaremos como \"Os Lusíadas\". Mas como podemos calcular essas probabilidades?\n",
    "\n",
    "Vimos na atividade da aula (dataset do Titanic), que é possível utilizar o **Teorema de Bayes** para obter uma probabilidade condicional $P(Casmurro|frase)$ da seguinta forma:\n",
    "\n",
    "$$P(Casmurro|frase) = \\frac{P(frase|Casmurro) P(Casmurro)}{P(frase)}$$\n",
    "\n",
    "<br>\n",
    "\n",
    "<br>\n",
    "\n",
    "O processo é análogo para $P(Lusíadas|frase)$:\n",
    "\n",
    "$$P(Lusíadas|frase) = \\frac{P(frase|Lusíadas) P(Lusíadas)}{P(frase)}$$\n",
    "\n",
    "Ou seja, precisamos de: \n",
    "- $P(frase|Casmurro)$: probabilidade de encontrar a frase na obra \"Dom Casmurro\";\n",
    "- $P(frase|Lusíadas)$: probabilidade de encontrar a frase na obra \"Os Lusíadas\";\n",
    "- $P(Casmurro)$: probabilidade da obra original ser \"Dom Casmurro\";\n",
    "- $P(Lusíadas)$: probabilidade da obra original ser \"Os Lusíadas\";\n",
    "- $P(frase)$: probabilidade de uma frase ocorrer na língua portuguesa.\n",
    "\n",
    "Veremos que temos como conseguir estimativas de todas essas probabilidades. Assim poderemos obter as probabilidades desejadas. \n",
    "\n",
    "**Observação**: classificadores como o que vamos construir, que utilizam a regra de Bayes para calcular as probabilidades, são chamados Classificadores Bayesianos. Na verdade, vamos utilizar uma simplificação, conhecida como **Naïve Bayes**.\n",
    "\n",
    "Vamos começar carregando o texto de cada obra."
   ]
  },
  {
   "cell_type": "raw",
   "metadata": {},
   "source": []
  },
  {
   "cell_type": "code",
   "execution_count": 8,
   "metadata": {
    "scrolled": true
   },
   "outputs": [
    {
     "name": "stdout",
     "output_type": "stream",
     "text": [
      "Esperamos trabalhar no diretório: \n",
      "C:\\Users\\lucas\\OneDrive\\Área de Trabalho\\cdados\\CD22-2\\aula08\n",
      "\n"
     ]
    }
   ],
   "source": [
    "import os\n",
    "print(f'Esperamos trabalhar no diretório: \\n{os.getcwd()}\\n')"
   ]
  },
  {
   "cell_type": "code",
   "execution_count": 9,
   "metadata": {},
   "outputs": [
    {
     "data": {
      "text/plain": [
       "['domcasmurro_texto.txt',\n",
       " 'lusiadas_texto.txt',\n",
       " 'pg3333_lusiadas.txt',\n",
       " 'pg55752_domcasmurro.txt']"
      ]
     },
     "execution_count": 9,
     "metadata": {},
     "output_type": "execute_result"
    }
   ],
   "source": [
    "os.listdir('textos')"
   ]
  },
  {
   "cell_type": "code",
   "execution_count": 10,
   "metadata": {},
   "outputs": [
    {
     "name": "stdout",
     "output_type": "stream",
     "text": [
      "Parece que o arquivo lusiadas_texto.txt está na pasta diretório correto, yay!\n"
     ]
    }
   ],
   "source": [
    "filename = 'lusiadas_texto.txt'\n",
    "\n",
    "if filename in os.listdir('textos'):\n",
    "    print(f'Parece que o arquivo {filename} está na pasta diretório correto, yay!')\n",
    "    \n",
    "else:\n",
    "    print(f'Não encontrei o arquivo {filename}')"
   ]
  },
  {
   "cell_type": "code",
   "execution_count": 11,
   "metadata": {},
   "outputs": [
    {
     "name": "stdout",
     "output_type": "stream",
     "text": [
      "Parece que o arquivo domcasmurro_texto.txt está na pasta diretório correto, yay!\n"
     ]
    }
   ],
   "source": [
    "filename = 'domcasmurro_texto.txt'\n",
    "\n",
    "if filename in os.listdir('textos'):\n",
    "    print(f'Parece que o arquivo {filename} está na pasta diretório correto, yay!')\n",
    "    \n",
    "else:\n",
    "    print(f'Não encontrei o arquivo {filename}')"
   ]
  },
  {
   "cell_type": "code",
   "execution_count": 12,
   "metadata": {},
   "outputs": [
    {
     "name": "stdout",
     "output_type": "stream",
     "text": [
      "Luís Vaz de Camões\n",
      "Os Lusíadas\n",
      "\n",
      "Canto Primeiro\n",
      "\n",
      "1\n",
      "As armas e os barões assinalados,\n",
      "Que da ocidental praia Lusitana,\n",
      "Por mares nunca de antes navegados,\n",
      "Passaram ainda além da Taprobana,\n",
      "Em perigos e \n"
     ]
    }
   ],
   "source": [
    "# Carrega o arquivo de texto\n",
    "# Como ele possui caracteres com acentos, precisamos carregar utilizando o encoding=\"utf8\".\n",
    "with open(\"textos/lusiadas_texto.txt\", \"r\", encoding=\"utf-8-sig\") as arquivo_texto:\n",
    "    lusiadas_raw = arquivo_texto.read()\n",
    "\n",
    "# Imprime os 200 primeiros caracteres do texto para verificar se está tudo ok.\n",
    "print(lusiadas_raw[0:200])"
   ]
  },
  {
   "cell_type": "code",
   "execution_count": 13,
   "metadata": {},
   "outputs": [
    {
     "name": "stdout",
     "output_type": "stream",
     "text": [
      "DOM CASMURRO\n",
      "\n",
      "POR\n",
      "\n",
      "MACHADO DE ASSIS\n",
      "\n",
      "DA ACADEMIA BRAZILEIRA\n",
      "\n",
      "H. GARNIER, LIVREIRO-EDITOR\n",
      "\n",
      "RUA MOREIRA CEZAR, 71\n",
      "\n",
      "RIO DE JANEIRO\n",
      "\n",
      "6, RUE DES SAINTS-PÈRES, 6\n",
      "\n",
      "PARIZ\n",
      "\n",
      "\n",
      "\n",
      "\n",
      "I\n",
      "\n",
      "Do titulo.\n",
      "\n",
      "Uma noite destas, \n"
     ]
    }
   ],
   "source": [
    "with open(\"textos/domcasmurro_texto.txt\", \"r\", encoding=\"utf-8-sig\") as arquivo_texto:\n",
    "    casmurro_raw = arquivo_texto.read()\n",
    "\n",
    "# Imprime os 200 primeiros caracteres do texto para verificar se está tudo ok.\n",
    "print(casmurro_raw[0:200])"
   ]
  },
  {
   "cell_type": "markdown",
   "metadata": {},
   "source": [
    "<div id=\"limpeza-das-bases\"></div>\n",
    "\n",
    "### Limpezas das bases\n",
    "\n",
    "Em nossa análise será necessário calcular a frequência das palavras no texto. Entretanto, o Python diferencia caracteres maiúsculos (e.g. `'A'` ou `'B'`) de minúsculos (e.g. `'a'` e `'b'`). Por isso, vamos converter todo o texto para letras minúsculas com `.lower()`.\n",
    "\n",
    "Além disso, apesar de serem importantes para a língua, vamos simplificar nossa análise removendo sinais de pontuação. Para isso vamos aplicar uma limpeza rudimentar com a função `cleanup()` definida anteriormente."
   ]
  },
  {
   "cell_type": "code",
   "execution_count": 14,
   "metadata": {},
   "outputs": [],
   "source": [
    "lusiadas = cleanup(lusiadas_raw.lower())"
   ]
  },
  {
   "cell_type": "code",
   "execution_count": 15,
   "metadata": {},
   "outputs": [],
   "source": [
    "casmurro = cleanup(casmurro_raw.lower())"
   ]
  },
  {
   "cell_type": "markdown",
   "metadata": {},
   "source": [
    "Vamos inspecionar  os arquivos após limpeza visualizando os 200 primeiros caracteres"
   ]
  },
  {
   "cell_type": "code",
   "execution_count": 18,
   "metadata": {},
   "outputs": [
    {
     "name": "stdout",
     "output_type": "stream",
     "text": [
      "luís vaz de camões\n",
      "os lusíadas\n",
      "\n",
      "canto primeiro\n",
      "\n",
      "1\n",
      "as armas e os barões assinalados\n",
      "que da ocidental praia lusitana\n",
      "por mares nunca de antes navegados\n",
      "passaram ainda além da taprobana\n",
      "em perigos e guer\n"
     ]
    }
   ],
   "source": [
    "print(lusiadas[0:200])"
   ]
  },
  {
   "cell_type": "code",
   "execution_count": 19,
   "metadata": {},
   "outputs": [
    {
     "name": "stdout",
     "output_type": "stream",
     "text": [
      "dom casmurro\n",
      "\n",
      "por\n",
      "\n",
      "machado de assis\n",
      "\n",
      "da academia brazileira\n",
      "\n",
      "h garnier livreiroeditor\n",
      "\n",
      "rua moreira cezar 71\n",
      "\n",
      "rio de janeiro\n",
      "\n",
      "6 rue des saintspères 6\n",
      "\n",
      "pariz\n",
      "\n",
      "\n",
      "\n",
      "\n",
      "i\n",
      "\n",
      "do titulo\n",
      "\n",
      "uma noite destas vindo da \n"
     ]
    }
   ],
   "source": [
    "print(casmurro[0:200])"
   ]
  },
  {
   "cell_type": "markdown",
   "metadata": {},
   "source": [
    "<div id=\"tabelas-de-frequencias-dom-casmurro\"></div>\n",
    "\n",
    "### Tabelas de frequências: Dom Casmurro"
   ]
  },
  {
   "cell_type": "markdown",
   "metadata": {},
   "source": [
    "Primeiro, vamos quebrar o texto em palavras utilizando o comando `.split()`."
   ]
  },
  {
   "cell_type": "code",
   "execution_count": 21,
   "metadata": {},
   "outputs": [
    {
     "data": {
      "text/plain": [
       "['dom',\n",
       " 'casmurro',\n",
       " 'por',\n",
       " 'machado',\n",
       " 'de',\n",
       " 'assis',\n",
       " 'da',\n",
       " 'academia',\n",
       " 'brazileira',\n",
       " 'h']"
      ]
     },
     "execution_count": 21,
     "metadata": {},
     "output_type": "execute_result"
    }
   ],
   "source": [
    "# Verificando o uso do split para as primeiras 10 palavras\n",
    "casmurro.split()[0:10]"
   ]
  },
  {
   "cell_type": "markdown",
   "metadata": {},
   "source": [
    "Nosso objetivo é contar as palavras de cada texto, ou seja, construir a tabela de frequência absoluta para as palavras de cada obra. \n",
    "\n",
    "Assim, vamos converter as obras (strings contendo o texto completo) em objetos do tipo `pd.Series`, nos quais cada elemento é uma palavra. "
   ]
  },
  {
   "cell_type": "code",
   "execution_count": 22,
   "metadata": {},
   "outputs": [
    {
     "data": {
      "text/plain": [
       "0           dom\n",
       "1      casmurro\n",
       "2           por\n",
       "3       machado\n",
       "4            de\n",
       "5         assis\n",
       "6            da\n",
       "7      academia\n",
       "8    brazileira\n",
       "9             h\n",
       "dtype: object"
      ]
     },
     "execution_count": 22,
     "metadata": {},
     "output_type": "execute_result"
    }
   ],
   "source": [
    "# Quebrando o texto em palavras\n",
    "todas_palavras_casmurro = casmurro.split()\n",
    "\n",
    "# Guardando as palavras como um pd.Series\n",
    "serie_casmurro = pd.Series(todas_palavras_casmurro)\n",
    "serie_casmurro.head(10)"
   ]
  },
  {
   "cell_type": "markdown",
   "metadata": {},
   "source": [
    "<div id=\"frequencias-absolutas-casmurro\"></div>\n",
    "\n",
    "#### Frequências absolutas"
   ]
  },
  {
   "cell_type": "markdown",
   "metadata": {},
   "source": [
    "Palavras em um texto são variáveis **qualitativas nominais**, portanto usaremos `value_counts()` para obter a tabela de frequências relativas e absolutas:"
   ]
  },
  {
   "cell_type": "code",
   "execution_count": 24,
   "metadata": {},
   "outputs": [
    {
     "data": {
      "text/plain": [
       "que             2661\n",
       "a               2506\n",
       "e               2185\n",
       "de              1974\n",
       "o               1708\n",
       "                ... \n",
       "austera            1\n",
       "metto              1\n",
       "exclusivismo       1\n",
       "castissima         1\n",
       "lxxih              1\n",
       "Length: 9666, dtype: int64"
      ]
     },
     "execution_count": 24,
     "metadata": {},
     "output_type": "execute_result"
    }
   ],
   "source": [
    "# Como serie_casmurro é uma pd.Series, podemos usar value_counts() nessa variável\n",
    "tabela_casmurro = serie_casmurro.value_counts()\n",
    "tabela_casmurro"
   ]
  },
  {
   "cell_type": "markdown",
   "metadata": {},
   "source": [
    "<div id=\"frequencias-relativas-casmurro\"></div>\n",
    "\n",
    "#### Frequências relativas"
   ]
  },
  {
   "cell_type": "code",
   "execution_count": 25,
   "metadata": {},
   "outputs": [
    {
     "data": {
      "text/plain": [
       "que             0.040500\n",
       "a               0.038141\n",
       "e               0.033256\n",
       "de              0.030044\n",
       "o               0.025996\n",
       "                  ...   \n",
       "austera         0.000015\n",
       "metto           0.000015\n",
       "exclusivismo    0.000015\n",
       "castissima      0.000015\n",
       "lxxih           0.000015\n",
       "Length: 9666, dtype: float64"
      ]
     },
     "execution_count": 25,
     "metadata": {},
     "output_type": "execute_result"
    }
   ],
   "source": [
    "tabela_casmurro_relativa = serie_casmurro.value_counts(True)\n",
    "tabela_casmurro_relativa"
   ]
  },
  {
   "cell_type": "markdown",
   "metadata": {},
   "source": [
    "É de se estranhar a linha abaixo?"
   ]
  },
  {
   "cell_type": "code",
   "execution_count": 26,
   "metadata": {},
   "outputs": [
    {
     "data": {
      "text/plain": [
       "0.9999999999999998"
      ]
     },
     "execution_count": 26,
     "metadata": {},
     "output_type": "execute_result"
    }
   ],
   "source": [
    "tabela_casmurro_relativa.sum()"
   ]
  },
  {
   "cell_type": "markdown",
   "metadata": {},
   "source": [
    "\n",
    "Agora faremos exatamente os mesmos passos de converter em `Series` e obter as tabelas de frequência para a obra \"Os Lusíadas\""
   ]
  },
  {
   "cell_type": "markdown",
   "metadata": {},
   "source": [
    "<div id=\"tabelas-de-frequencias-os-lusiadas\"></div>\n",
    "\n",
    "### Tabelas de frequências: \"Os Lusíadas\""
   ]
  },
  {
   "cell_type": "code",
   "execution_count": 27,
   "metadata": {},
   "outputs": [
    {
     "data": {
      "text/plain": [
       "['luís',\n",
       " 'vaz',\n",
       " 'de',\n",
       " 'camões',\n",
       " 'os',\n",
       " 'lusíadas',\n",
       " 'canto',\n",
       " 'primeiro',\n",
       " '1',\n",
       " 'as']"
      ]
     },
     "execution_count": 27,
     "metadata": {},
     "output_type": "execute_result"
    }
   ],
   "source": [
    "# Verificando o uso do split para as primeiras 10 palavras\n",
    "lusiadas.split()[0:10]"
   ]
  },
  {
   "cell_type": "code",
   "execution_count": 28,
   "metadata": {},
   "outputs": [
    {
     "data": {
      "text/plain": [
       "0        luís\n",
       "1         vaz\n",
       "2          de\n",
       "3      camões\n",
       "4          os\n",
       "5    lusíadas\n",
       "6       canto\n",
       "7    primeiro\n",
       "8           1\n",
       "9          as\n",
       "dtype: object"
      ]
     },
     "execution_count": 28,
     "metadata": {},
     "output_type": "execute_result"
    }
   ],
   "source": [
    "# Quebrando o texto em palavras\n",
    "todas_palavras_lusiadas = lusiadas.split()\n",
    "\n",
    "# Guardando as palavras como um pd.Series\n",
    "serie_lusiadas = pd.Series(todas_palavras_lusiadas)\n",
    "serie_lusiadas.head(10)"
   ]
  },
  {
   "cell_type": "markdown",
   "metadata": {},
   "source": [
    "<div id=\"frequencias-absolutas-lusiadas\"></div>\n",
    "\n",
    "#### Frequências absolutas"
   ]
  },
  {
   "cell_type": "code",
   "execution_count": null,
   "metadata": {
    "scrolled": true
   },
   "outputs": [],
   "source": [
    "# Não funciona porque é lista e não pd.Series. Comando value_counts() funciona com pd.Sereis\n",
    "#todas_palavras_lusiadas.value_counts() "
   ]
  },
  {
   "cell_type": "code",
   "execution_count": null,
   "metadata": {},
   "outputs": [],
   "source": [
    "# Aqui a lista foi redefinida como pd.Series(). Então comando value_counts() funciona.\n",
    "#serie_lusiadas.value_counts() "
   ]
  },
  {
   "cell_type": "code",
   "execution_count": 29,
   "metadata": {},
   "outputs": [
    {
     "data": {
      "text/plain": [
       "que            2741\n",
       "e              2198\n",
       "o              1879\n",
       "a              1794\n",
       "de             1422\n",
       "               ... \n",
       "adversárias       1\n",
       "montanhas         1\n",
       "atalhavam         1\n",
       "tracto            1\n",
       "trudante          1\n",
       "Length: 9277, dtype: int64"
      ]
     },
     "execution_count": 29,
     "metadata": {},
     "output_type": "execute_result"
    }
   ],
   "source": [
    "tabela_lusiadas = serie_lusiadas.value_counts()\n",
    "tabela_lusiadas"
   ]
  },
  {
   "cell_type": "markdown",
   "metadata": {},
   "source": [
    "<div id=\"frequencias-relativas-lusiadas\"></div>\n",
    "\n",
    "#### Frequências relativas"
   ]
  },
  {
   "cell_type": "code",
   "execution_count": 30,
   "metadata": {},
   "outputs": [
    {
     "data": {
      "text/plain": [
       "que            0.048628\n",
       "e              0.038994\n",
       "o              0.033335\n",
       "a              0.031827\n",
       "de             0.025228\n",
       "                 ...   \n",
       "adversárias    0.000018\n",
       "montanhas      0.000018\n",
       "atalhavam      0.000018\n",
       "tracto         0.000018\n",
       "trudante       0.000018\n",
       "Length: 9277, dtype: float64"
      ]
     },
     "execution_count": 30,
     "metadata": {},
     "output_type": "execute_result"
    }
   ],
   "source": [
    "tabela_lusiadas_relativa = serie_lusiadas.value_counts(True)\n",
    "tabela_lusiadas_relativa"
   ]
  },
  {
   "cell_type": "markdown",
   "metadata": {},
   "source": [
    "<div id=\"probabilidades\"></div>\n",
    "\n",
    "## Probabilidades\n",
    "\n",
    "Relembrando, queremos descobrir, dentre outras coisas, a probabilidade de uma frase ocorrer em uma das obras. Para isso, vamos assumir uma simplificação **bastante ingênua** de que a probabilidade de uma palavra da frase ocorrer em uma obra é independente da probabilidade de qualquer outra palavra. Assim, assumindo independência, **a probabilidade da frase é igual ao produto das probabilidades de cada palavra individualmente**.\n",
    "\n",
    "Vamos assumir para fins destas análises que **a frequência relativa observada nestes textos é igual à probabilidade**. Ou seja, que se quisermos encontrar $P(portugal|Lusíadas)$ basta checar a frequência da palavra `'portugal'`: `tabela_lusiadas_relativa[\"portugal\"]` (note que o acesso é semelhante ao acesso a um dicionário).\n",
    "\n",
    "Ou seja, a $P(portugal|Lusíadas)$  pode ser obtida buscando a frequência relativa da palavra `portugal` dentro da tabela do texto Os Lusíadas:"
   ]
  },
  {
   "cell_type": "code",
   "execution_count": 31,
   "metadata": {},
   "outputs": [
    {
     "data": {
      "text/plain": [
       "0.0001951496442954211"
      ]
     },
     "execution_count": 31,
     "metadata": {},
     "output_type": "execute_result"
    }
   ],
   "source": [
    "tabela_lusiadas_relativa[\"portugal\"]"
   ]
  },
  {
   "cell_type": "markdown",
   "metadata": {},
   "source": [
    "Da mesma fora, se quisermos $P(capitú|casmurro)$ basta checar: "
   ]
  },
  {
   "cell_type": "code",
   "execution_count": 32,
   "metadata": {},
   "outputs": [
    {
     "data": {
      "text/plain": [
       "0.005220461774957003"
      ]
     },
     "execution_count": 32,
     "metadata": {},
     "output_type": "execute_result"
    }
   ],
   "source": [
    "tabela_casmurro_relativa[\"capitú\"]"
   ]
  },
  {
   "cell_type": "markdown",
   "metadata": {},
   "source": [
    "Notamos que na versão do *Gutenberg* a palavra *Capitú* aparece grafada com acento."
   ]
  },
  {
   "cell_type": "markdown",
   "metadata": {},
   "source": [
    "<div id=\"probabilidades-na-lingua-portuguesa\"></div>\n",
    "\n",
    "## Probabilidades na língua portuguesa\n",
    "\n",
    "Vamos fazer mais uma simplificação. Vamos assumir que o todo da língua portuguesa fosse formado pela fusão das obras *Dom Casmurro* e *Os Lusíadas*.\n",
    "\n",
    "Nesse caso, vamos juntar os dois textos já limpos pela função `cleanup` que foram guardados em  `lusiadas` e `casmurro`"
   ]
  },
  {
   "cell_type": "code",
   "execution_count": 55,
   "metadata": {},
   "outputs": [],
   "source": [
    "portugues = lusiadas + casmurro"
   ]
  },
  {
   "cell_type": "markdown",
   "metadata": {},
   "source": [
    "Vamos repetir os passos anteriores quebrando o texto guardando em `portugues` em palavras e depois guardá-lo em uma `pd.Series()`."
   ]
  },
  {
   "cell_type": "code",
   "execution_count": 57,
   "metadata": {},
   "outputs": [
    {
     "data": {
      "text/plain": [
       "['luís',\n",
       " 'vaz',\n",
       " 'de',\n",
       " 'camões',\n",
       " 'os',\n",
       " 'lusíadas',\n",
       " 'canto',\n",
       " 'primeiro',\n",
       " '1',\n",
       " 'as',\n",
       " 'armas',\n",
       " 'e',\n",
       " 'os',\n",
       " 'barões',\n",
       " 'assinalados',\n",
       " 'que',\n",
       " 'da',\n",
       " 'ocidental',\n",
       " 'praia',\n",
       " 'lusitana',\n",
       " 'por',\n",
       " 'mares',\n",
       " 'nunca',\n",
       " 'de',\n",
       " 'antes',\n",
       " 'navegados',\n",
       " 'passaram',\n",
       " 'ainda',\n",
       " 'além',\n",
       " 'da',\n",
       " 'taprobana',\n",
       " 'em',\n",
       " 'perigos',\n",
       " 'e',\n",
       " 'guerras',\n",
       " 'esforçados',\n",
       " 'mais',\n",
       " 'do',\n",
       " 'que',\n",
       " 'prometia',\n",
       " 'a',\n",
       " 'força',\n",
       " 'humana',\n",
       " 'e',\n",
       " 'entre',\n",
       " 'gente',\n",
       " 'remota',\n",
       " 'edificaram',\n",
       " 'novo',\n",
       " 'reino',\n",
       " 'que',\n",
       " 'tanto',\n",
       " 'sublimaram',\n",
       " '2',\n",
       " 'e',\n",
       " 'também',\n",
       " 'as',\n",
       " 'memórias',\n",
       " 'gloriosas',\n",
       " 'daqueles',\n",
       " 'reis',\n",
       " 'que',\n",
       " 'foram',\n",
       " 'dilatando',\n",
       " 'a',\n",
       " 'fé',\n",
       " 'o',\n",
       " 'império',\n",
       " 'e',\n",
       " 'as',\n",
       " 'terras',\n",
       " 'viciosas',\n",
       " 'de',\n",
       " 'áfrica',\n",
       " 'e',\n",
       " 'de',\n",
       " 'ásia',\n",
       " 'andaram',\n",
       " 'devastando',\n",
       " 'e',\n",
       " 'aqueles',\n",
       " 'que',\n",
       " 'por',\n",
       " 'obras',\n",
       " 'valerosas',\n",
       " 'se',\n",
       " 'vão',\n",
       " 'da',\n",
       " 'lei',\n",
       " 'da',\n",
       " 'morte',\n",
       " 'libertando',\n",
       " 'cantando',\n",
       " 'espalharei',\n",
       " 'por',\n",
       " 'toda',\n",
       " 'parte',\n",
       " 'se',\n",
       " 'a',\n",
       " 'tanto',\n",
       " 'me',\n",
       " 'ajudar',\n",
       " 'o',\n",
       " 'engenho',\n",
       " 'e',\n",
       " 'arte',\n",
       " '3',\n",
       " 'cessem',\n",
       " 'do',\n",
       " 'sábio',\n",
       " 'grego',\n",
       " 'e',\n",
       " 'do',\n",
       " 'troiano',\n",
       " 'as',\n",
       " 'navegações',\n",
       " 'grandes',\n",
       " 'que',\n",
       " 'fizeram',\n",
       " 'calese',\n",
       " 'de',\n",
       " 'alexandro',\n",
       " 'e',\n",
       " 'de',\n",
       " 'trajano',\n",
       " 'a',\n",
       " 'fama',\n",
       " 'das',\n",
       " 'vitórias',\n",
       " 'que',\n",
       " 'tiveram',\n",
       " 'que',\n",
       " 'eu',\n",
       " 'canto',\n",
       " 'o',\n",
       " 'peito',\n",
       " 'ilustre',\n",
       " 'lusitano',\n",
       " 'a',\n",
       " 'quem',\n",
       " 'neptuno',\n",
       " 'e',\n",
       " 'marte',\n",
       " 'obedeceram',\n",
       " 'cesse',\n",
       " 'tudo',\n",
       " 'o',\n",
       " 'que',\n",
       " 'a',\n",
       " 'musa',\n",
       " 'antígua',\n",
       " 'canta',\n",
       " 'que',\n",
       " 'outro',\n",
       " 'valor',\n",
       " 'mais',\n",
       " 'alto',\n",
       " 'se',\n",
       " 'alevanta',\n",
       " '4',\n",
       " 'e',\n",
       " 'vós',\n",
       " 'tágides',\n",
       " 'minhas',\n",
       " 'pois',\n",
       " 'criado',\n",
       " 'tendes',\n",
       " 'em',\n",
       " 'mim',\n",
       " 'um',\n",
       " 'novo',\n",
       " 'engenho',\n",
       " 'ardente',\n",
       " 'se',\n",
       " 'sempre',\n",
       " 'em',\n",
       " 'verso',\n",
       " 'humilde',\n",
       " 'celebrado',\n",
       " 'foi',\n",
       " 'de',\n",
       " 'mim',\n",
       " 'vosso',\n",
       " 'rio',\n",
       " 'alegremente',\n",
       " 'daime',\n",
       " 'agora',\n",
       " 'um',\n",
       " 'som',\n",
       " 'alto',\n",
       " 'e',\n",
       " 'sublimado',\n",
       " 'um',\n",
       " 'estilo',\n",
       " 'grandíloquo',\n",
       " 'e',\n",
       " 'corrente',\n",
       " 'porque',\n",
       " 'de',\n",
       " 'vossas',\n",
       " 'águas',\n",
       " 'febo',\n",
       " 'ordene',\n",
       " 'que',\n",
       " 'não',\n",
       " 'tenham',\n",
       " 'inveja',\n",
       " 'às',\n",
       " 'de',\n",
       " 'hipoerene',\n",
       " '5',\n",
       " 'daime',\n",
       " 'uma',\n",
       " 'fúria',\n",
       " 'grande',\n",
       " 'e',\n",
       " 'sonorosa',\n",
       " 'e',\n",
       " 'não',\n",
       " 'de',\n",
       " 'agreste',\n",
       " 'avena',\n",
       " 'ou',\n",
       " 'frauta',\n",
       " 'ruda',\n",
       " 'mas',\n",
       " 'de',\n",
       " 'tuba',\n",
       " 'canora',\n",
       " 'e',\n",
       " 'belicosa',\n",
       " 'que',\n",
       " 'o',\n",
       " 'peito',\n",
       " 'acende',\n",
       " 'e',\n",
       " 'a',\n",
       " 'cor',\n",
       " 'ao',\n",
       " 'gesto',\n",
       " 'muda',\n",
       " 'daime',\n",
       " 'igual',\n",
       " 'canto',\n",
       " 'aos',\n",
       " 'feitos',\n",
       " 'da',\n",
       " 'famosa',\n",
       " 'gente',\n",
       " 'vossa',\n",
       " 'que',\n",
       " 'a',\n",
       " 'marte',\n",
       " 'tanto',\n",
       " 'ajuda',\n",
       " 'que',\n",
       " 'se',\n",
       " 'espalhe',\n",
       " 'e',\n",
       " 'se',\n",
       " 'cante',\n",
       " 'no',\n",
       " 'universo',\n",
       " 'se',\n",
       " 'tão',\n",
       " 'sublime',\n",
       " 'preço',\n",
       " 'cabe',\n",
       " 'em',\n",
       " 'verso',\n",
       " '6',\n",
       " 'e',\n",
       " 'vós',\n",
       " 'ó',\n",
       " 'bem',\n",
       " 'nascida',\n",
       " 'segurança',\n",
       " 'da',\n",
       " 'lusitana',\n",
       " 'antígua',\n",
       " 'liberdade',\n",
       " 'e',\n",
       " 'não',\n",
       " 'menos',\n",
       " 'certíssima',\n",
       " 'esperança',\n",
       " 'de',\n",
       " 'aumento',\n",
       " 'da',\n",
       " 'pequena',\n",
       " 'cristandade',\n",
       " 'vós',\n",
       " 'ó',\n",
       " 'novo',\n",
       " 'temor',\n",
       " 'da',\n",
       " 'maura',\n",
       " 'lança',\n",
       " 'maravilha',\n",
       " 'fatal',\n",
       " 'da',\n",
       " 'nossa',\n",
       " 'idade',\n",
       " 'dada',\n",
       " 'ao',\n",
       " 'mundo',\n",
       " 'por',\n",
       " 'deus',\n",
       " 'que',\n",
       " 'todo',\n",
       " 'o',\n",
       " 'mande',\n",
       " 'para',\n",
       " 'do',\n",
       " 'mundo',\n",
       " 'a',\n",
       " 'deus',\n",
       " 'dar',\n",
       " 'parte',\n",
       " 'grande',\n",
       " '7',\n",
       " 'vós',\n",
       " 'tenro',\n",
       " 'e',\n",
       " 'novo',\n",
       " 'ramo',\n",
       " 'florescente',\n",
       " 'de',\n",
       " 'uma',\n",
       " 'árvore',\n",
       " 'de',\n",
       " 'cristo',\n",
       " 'mais',\n",
       " 'amada',\n",
       " 'que',\n",
       " 'nenhuma',\n",
       " 'nascida',\n",
       " 'no',\n",
       " 'ocidente',\n",
       " 'cesárea',\n",
       " 'ou',\n",
       " 'cristianíssima',\n",
       " 'chamada',\n",
       " 'vedeo',\n",
       " 'no',\n",
       " 'vosso',\n",
       " 'escudo',\n",
       " 'que',\n",
       " 'presente',\n",
       " 'vos',\n",
       " 'amostra',\n",
       " 'a',\n",
       " 'vitória',\n",
       " 'já',\n",
       " 'passada',\n",
       " 'na',\n",
       " 'qual',\n",
       " 'vos',\n",
       " 'deu',\n",
       " 'por',\n",
       " 'armas',\n",
       " 'e',\n",
       " 'deixou',\n",
       " 'as',\n",
       " 'que',\n",
       " 'ele',\n",
       " 'para',\n",
       " 'si',\n",
       " 'na',\n",
       " 'cruz',\n",
       " 'tomou',\n",
       " '8',\n",
       " 'vós',\n",
       " 'poderoso',\n",
       " 'rei',\n",
       " 'cujo',\n",
       " 'alto',\n",
       " 'império',\n",
       " 'o',\n",
       " 'sol',\n",
       " 'logo',\n",
       " 'em',\n",
       " 'nascendo',\n",
       " 'vê',\n",
       " 'primeiro',\n",
       " 'vêo',\n",
       " 'também',\n",
       " 'no',\n",
       " 'meio',\n",
       " 'do',\n",
       " 'hemisfério',\n",
       " 'e',\n",
       " 'quando',\n",
       " 'desce',\n",
       " 'o',\n",
       " 'deixa',\n",
       " 'derradeiro',\n",
       " 'vós',\n",
       " 'que',\n",
       " 'esperamos',\n",
       " 'jugo',\n",
       " 'e',\n",
       " 'vitupério',\n",
       " 'do',\n",
       " 'torpe',\n",
       " 'ismaelita',\n",
       " 'cavaleiro',\n",
       " 'do',\n",
       " 'turco',\n",
       " 'oriental',\n",
       " 'e',\n",
       " 'do',\n",
       " 'gentio',\n",
       " 'que',\n",
       " 'inda',\n",
       " 'bebe',\n",
       " 'o',\n",
       " 'licor',\n",
       " 'do',\n",
       " 'santo',\n",
       " 'rio',\n",
       " '9',\n",
       " 'inclinai',\n",
       " 'por',\n",
       " 'um',\n",
       " 'pouco',\n",
       " 'a',\n",
       " 'majestade',\n",
       " 'que',\n",
       " 'nesse',\n",
       " 'tenro',\n",
       " 'gesto',\n",
       " 'vos',\n",
       " 'contemplo',\n",
       " 'que',\n",
       " 'já',\n",
       " 'se',\n",
       " 'mostra',\n",
       " 'qual',\n",
       " 'na',\n",
       " 'inteira',\n",
       " 'idade',\n",
       " 'quando',\n",
       " 'subindo',\n",
       " 'ireis',\n",
       " 'ao',\n",
       " 'eterno',\n",
       " 'templo',\n",
       " 'os',\n",
       " 'olhos',\n",
       " 'da',\n",
       " 'real',\n",
       " 'benignidade',\n",
       " 'ponde',\n",
       " 'no',\n",
       " 'chão',\n",
       " 'vereis',\n",
       " 'um',\n",
       " 'novo',\n",
       " 'exemplo',\n",
       " 'de',\n",
       " 'amor',\n",
       " 'dos',\n",
       " 'pátrios',\n",
       " 'feitos',\n",
       " 'valerosos',\n",
       " 'em',\n",
       " 'versos',\n",
       " 'divulgado',\n",
       " 'numerosos',\n",
       " '10',\n",
       " 'vereis',\n",
       " 'amor',\n",
       " 'da',\n",
       " 'pátria',\n",
       " 'não',\n",
       " 'movido',\n",
       " 'de',\n",
       " 'prémio',\n",
       " 'vil',\n",
       " 'mas',\n",
       " 'alto',\n",
       " 'e',\n",
       " 'quase',\n",
       " 'eterno',\n",
       " 'que',\n",
       " 'não',\n",
       " 'é',\n",
       " 'prémio',\n",
       " 'vil',\n",
       " 'ser',\n",
       " 'conhecido',\n",
       " 'por',\n",
       " 'um',\n",
       " 'pregão',\n",
       " 'do',\n",
       " 'ninho',\n",
       " 'meu',\n",
       " 'paterno',\n",
       " 'ouvi',\n",
       " 'vereis',\n",
       " 'o',\n",
       " 'nome',\n",
       " 'engrandecido',\n",
       " 'daqueles',\n",
       " 'de',\n",
       " 'quem',\n",
       " 'sois',\n",
       " 'senhor',\n",
       " 'superno',\n",
       " 'e',\n",
       " 'julgareis',\n",
       " 'qual',\n",
       " 'é',\n",
       " 'mais',\n",
       " 'excelente',\n",
       " 'se',\n",
       " 'ser',\n",
       " 'do',\n",
       " 'mundo',\n",
       " 'rei',\n",
       " 'se',\n",
       " 'de',\n",
       " 'til',\n",
       " 'gente',\n",
       " '11',\n",
       " 'ouvi',\n",
       " 'que',\n",
       " 'não',\n",
       " 'vereis',\n",
       " 'com',\n",
       " 'vãs',\n",
       " 'façanhas',\n",
       " 'fantásticas',\n",
       " 'fingidas',\n",
       " 'mentirosas',\n",
       " 'louvar',\n",
       " 'os',\n",
       " 'vossos',\n",
       " 'como',\n",
       " 'nas',\n",
       " 'estranhas',\n",
       " 'musas',\n",
       " 'de',\n",
       " 'engrandecerse',\n",
       " 'desejosas',\n",
       " 'as',\n",
       " 'verdadeiras',\n",
       " 'vossas',\n",
       " 'são',\n",
       " 'tamanhas',\n",
       " 'que',\n",
       " 'excedem',\n",
       " 'as',\n",
       " 'sonhadas',\n",
       " 'fabulosas',\n",
       " 'que',\n",
       " 'excedem',\n",
       " 'rodamonte',\n",
       " 'e',\n",
       " 'o',\n",
       " 'vão',\n",
       " 'rugeiro',\n",
       " 'e',\n",
       " 'orlando',\n",
       " 'inda',\n",
       " 'que',\n",
       " 'fora',\n",
       " 'verdadeiro',\n",
       " '12',\n",
       " 'por',\n",
       " 'estes',\n",
       " 'vos',\n",
       " 'darei',\n",
       " 'um',\n",
       " 'nuno',\n",
       " 'fero',\n",
       " 'que',\n",
       " 'fez',\n",
       " 'ao',\n",
       " 'rei',\n",
       " 'o',\n",
       " 'ao',\n",
       " 'reino',\n",
       " 'tal',\n",
       " 'serviço',\n",
       " 'um',\n",
       " 'egas',\n",
       " 'e',\n",
       " 'um',\n",
       " 'd',\n",
       " 'fuas',\n",
       " 'que',\n",
       " 'de',\n",
       " 'homero',\n",
       " 'a',\n",
       " 'cítara',\n",
       " 'para',\n",
       " 'eles',\n",
       " 'só',\n",
       " 'cobiço',\n",
       " 'pois',\n",
       " 'pelos',\n",
       " 'doze',\n",
       " 'pares',\n",
       " 'darvos',\n",
       " 'quero',\n",
       " 'os',\n",
       " 'doze',\n",
       " 'de',\n",
       " 'inglaterra',\n",
       " 'e',\n",
       " 'o',\n",
       " 'seu',\n",
       " 'magriço',\n",
       " 'douvos',\n",
       " 'também',\n",
       " 'aquele',\n",
       " 'ilustre',\n",
       " 'gama',\n",
       " 'que',\n",
       " 'para',\n",
       " 'si',\n",
       " 'de',\n",
       " 'eneias',\n",
       " 'toma',\n",
       " 'a',\n",
       " 'fama',\n",
       " '13',\n",
       " 'pois',\n",
       " 'se',\n",
       " 'a',\n",
       " 'troco',\n",
       " 'de',\n",
       " 'carlos',\n",
       " 'rei',\n",
       " 'de',\n",
       " 'frança',\n",
       " 'ou',\n",
       " 'de',\n",
       " 'césar',\n",
       " 'quereis',\n",
       " 'igual',\n",
       " 'memória',\n",
       " 'vede',\n",
       " 'o',\n",
       " 'primeiro',\n",
       " 'afonso',\n",
       " 'cuja',\n",
       " 'lança',\n",
       " 'escura',\n",
       " 'faz',\n",
       " 'qualquer',\n",
       " 'estranha',\n",
       " 'glória',\n",
       " 'e',\n",
       " 'aquele',\n",
       " 'que',\n",
       " 'a',\n",
       " 'seu',\n",
       " 'reino',\n",
       " 'a',\n",
       " 'segurança',\n",
       " 'deixou',\n",
       " 'com',\n",
       " 'a',\n",
       " 'grande',\n",
       " 'e',\n",
       " 'próspera',\n",
       " 'vitória',\n",
       " 'outro',\n",
       " 'joane',\n",
       " 'invicto',\n",
       " 'cavaleiro',\n",
       " 'o',\n",
       " 'quarto',\n",
       " 'e',\n",
       " 'quinto',\n",
       " 'afonsos',\n",
       " 'e',\n",
       " 'o',\n",
       " 'terceiro',\n",
       " '14',\n",
       " 'nem',\n",
       " 'deixarão',\n",
       " 'meus',\n",
       " 'versos',\n",
       " 'esquecidos',\n",
       " 'aqueles',\n",
       " 'que',\n",
       " 'nos',\n",
       " 'reinos',\n",
       " 'lá',\n",
       " 'da',\n",
       " 'aurora',\n",
       " 'fizeram',\n",
       " 'só',\n",
       " 'por',\n",
       " 'armas',\n",
       " 'tão',\n",
       " 'subidos',\n",
       " 'vossa',\n",
       " 'bandeira',\n",
       " 'sempre',\n",
       " 'vencedora',\n",
       " 'um',\n",
       " 'pacheco',\n",
       " 'fortíssimo',\n",
       " 'e',\n",
       " 'os',\n",
       " 'temidos',\n",
       " 'almeidas',\n",
       " 'por',\n",
       " 'quem',\n",
       " 'sempre',\n",
       " 'o',\n",
       " 'tejo',\n",
       " 'chora',\n",
       " 'albuquerque',\n",
       " 'terríbil',\n",
       " 'castro',\n",
       " 'forte',\n",
       " 'e',\n",
       " 'outros',\n",
       " 'em',\n",
       " 'quem',\n",
       " 'poder',\n",
       " 'não',\n",
       " 'teve',\n",
       " 'a',\n",
       " 'morte',\n",
       " '15',\n",
       " 'e',\n",
       " 'enquanto',\n",
       " 'eu',\n",
       " 'estes',\n",
       " 'canto',\n",
       " 'e',\n",
       " 'a',\n",
       " 'vós',\n",
       " 'não',\n",
       " 'posso',\n",
       " 'sublime',\n",
       " 'rei',\n",
       " 'que',\n",
       " 'não',\n",
       " 'me',\n",
       " 'atrevo',\n",
       " 'a',\n",
       " 'tanto',\n",
       " 'tomai',\n",
       " 'as',\n",
       " 'rédeas',\n",
       " 'vós',\n",
       " 'do',\n",
       " 'reino',\n",
       " 'vosso',\n",
       " 'dareis',\n",
       " 'matéria',\n",
       " 'a',\n",
       " 'nunca',\n",
       " 'ouvido',\n",
       " 'canto',\n",
       " 'comecem',\n",
       " 'a',\n",
       " 'sentir',\n",
       " 'o',\n",
       " 'peso',\n",
       " 'grosso',\n",
       " 'que',\n",
       " 'pelo',\n",
       " 'mundo',\n",
       " 'todo',\n",
       " 'faça',\n",
       " 'espanto',\n",
       " 'de',\n",
       " 'exércitos',\n",
       " 'e',\n",
       " 'feitos',\n",
       " 'singulares',\n",
       " 'de',\n",
       " 'áfrica',\n",
       " 'as',\n",
       " 'terras',\n",
       " 'e',\n",
       " 'do',\n",
       " 'oriente',\n",
       " 'os',\n",
       " 'marços',\n",
       " '16',\n",
       " 'em',\n",
       " 'vós',\n",
       " 'os',\n",
       " 'olhos',\n",
       " 'tem',\n",
       " 'o',\n",
       " 'mouro',\n",
       " 'frio',\n",
       " 'em',\n",
       " 'quem',\n",
       " 'vê',\n",
       " 'seu',\n",
       " 'exício',\n",
       " 'afigurado',\n",
       " 'só',\n",
       " 'com',\n",
       " 'vos',\n",
       " 'ver',\n",
       " 'o',\n",
       " 'bárbaro',\n",
       " 'gentio',\n",
       " 'mostra',\n",
       " 'o',\n",
       " 'pescoço',\n",
       " 'ao',\n",
       " 'jugo',\n",
       " 'já',\n",
       " 'inclinado',\n",
       " 'tethys',\n",
       " 'todo',\n",
       " 'o',\n",
       " 'cerúleo',\n",
       " 'senhorio',\n",
       " 'tem',\n",
       " 'para',\n",
       " 'vós',\n",
       " 'por',\n",
       " 'dote',\n",
       " 'aparelhado',\n",
       " 'que',\n",
       " 'afeiçoada',\n",
       " 'ao',\n",
       " 'gesto',\n",
       " 'belo',\n",
       " 'e',\n",
       " 'tenro',\n",
       " 'deseja',\n",
       " 'de',\n",
       " 'comprarvos',\n",
       " 'para',\n",
       " 'genro',\n",
       " '17',\n",
       " 'em',\n",
       " 'vós',\n",
       " 'se',\n",
       " 'vêm',\n",
       " 'da',\n",
       " 'olímpica',\n",
       " 'morada',\n",
       " 'dos',\n",
       " 'dois',\n",
       " 'avós',\n",
       " 'as',\n",
       " 'almas',\n",
       " 'cá',\n",
       " 'famosas',\n",
       " 'uma',\n",
       " 'na',\n",
       " 'paz',\n",
       " 'angélica',\n",
       " 'dourada',\n",
       " 'outra',\n",
       " 'pelas',\n",
       " 'batalhas',\n",
       " 'sanguinosas',\n",
       " 'em',\n",
       " 'vós',\n",
       " 'esperam',\n",
       " 'verse',\n",
       " 'renovada',\n",
       " 'sua',\n",
       " 'memória',\n",
       " 'e',\n",
       " 'obras',\n",
       " 'valerosas',\n",
       " 'e',\n",
       " 'lá',\n",
       " 'vos',\n",
       " 'tem',\n",
       " 'lugar',\n",
       " 'no',\n",
       " 'fim',\n",
       " 'da',\n",
       " 'idade',\n",
       " 'no',\n",
       " 'templo',\n",
       " 'da',\n",
       " 'suprema',\n",
       " 'eternidade',\n",
       " '18',\n",
       " 'mas',\n",
       " 'enquanto',\n",
       " 'este',\n",
       " 'tempo',\n",
       " 'passa',\n",
       " 'lento',\n",
       " 'de',\n",
       " 'regerdes',\n",
       " 'os',\n",
       " 'povos',\n",
       " 'que',\n",
       " 'o',\n",
       " 'desejam',\n",
       " 'dai',\n",
       " 'vós',\n",
       " 'favor',\n",
       " 'ao',\n",
       " 'novo',\n",
       " 'atrevimento',\n",
       " 'para',\n",
       " 'que',\n",
       " 'estes',\n",
       " 'meus',\n",
       " 'versos',\n",
       " 'vossos',\n",
       " 'sejam',\n",
       " 'e',\n",
       " 'vereis',\n",
       " 'ir',\n",
       " 'cortando',\n",
       " 'o',\n",
       " 'salso',\n",
       " 'argento',\n",
       " 'os',\n",
       " 'vossos',\n",
       " 'argonautas',\n",
       " 'por',\n",
       " 'que',\n",
       " 'vejam',\n",
       " 'que',\n",
       " 'são',\n",
       " 'vistos',\n",
       " 'de',\n",
       " 'vós',\n",
       " 'no',\n",
       " 'mar',\n",
       " 'irado',\n",
       " 'e',\n",
       " 'costumaivos',\n",
       " 'já',\n",
       " 'a',\n",
       " 'ser',\n",
       " 'invocado',\n",
       " '19',\n",
       " 'já',\n",
       " 'no',\n",
       " 'largo',\n",
       " 'oceano',\n",
       " 'navegavam',\n",
       " 'as',\n",
       " 'inquietas',\n",
       " 'ondas',\n",
       " 'apartando',\n",
       " 'os',\n",
       " 'ventos',\n",
       " 'brandamente',\n",
       " 'respiravam',\n",
       " 'das',\n",
       " 'naus',\n",
       " 'as',\n",
       " 'velas',\n",
       " 'côncavas',\n",
       " 'inchando',\n",
       " 'da',\n",
       " 'branca',\n",
       " 'escuma',\n",
       " 'os',\n",
       " 'mares',\n",
       " 'se',\n",
       " 'mostravam',\n",
       " 'cobertos',\n",
       " 'onde',\n",
       " 'as',\n",
       " 'proas',\n",
       " 'vão',\n",
       " 'cortando',\n",
       " 'as',\n",
       " 'marítimas',\n",
       " 'águas',\n",
       " 'consagradas',\n",
       " 'que',\n",
       " 'do',\n",
       " 'gado',\n",
       " 'de',\n",
       " 'próteo',\n",
       " 'são',\n",
       " 'cortadas',\n",
       " '20',\n",
       " 'quando',\n",
       " 'os',\n",
       " 'deuses',\n",
       " 'no',\n",
       " 'olimpo',\n",
       " 'luminoso',\n",
       " 'onde',\n",
       " 'o',\n",
       " 'governo',\n",
       " 'está',\n",
       " 'da',\n",
       " 'humana',\n",
       " ...]"
      ]
     },
     "execution_count": 57,
     "metadata": {},
     "output_type": "execute_result"
    }
   ],
   "source": [
    "todas_palavras_portugues = portugues.split()\n",
    "serie_portugues = pd.Series(todas_palavras_portugues)"
   ]
  },
  {
   "cell_type": "markdown",
   "metadata": {},
   "source": [
    "Podemos refazer a análise de probabilidades considerando este novo *corpus* de texto que contem as duas obras:"
   ]
  },
  {
   "cell_type": "code",
   "execution_count": 38,
   "metadata": {},
   "outputs": [
    {
     "data": {
      "text/plain": [
       "que           0.044253\n",
       "e             0.035906\n",
       "a             0.035226\n",
       "o             0.029385\n",
       "de            0.027820\n",
       "                ...   \n",
       "abrochado     0.000008\n",
       "camafeu       0.000008\n",
       "bandós        0.000008\n",
       "sibilantes    0.000008\n",
       "lxxih         0.000008\n",
       "Length: 16577, dtype: float64"
      ]
     },
     "execution_count": 38,
     "metadata": {},
     "output_type": "execute_result"
    }
   ],
   "source": [
    "tabela_portugues_relativa = serie_portugues.value_counts(True)\n",
    "tabela_portugues_relativa"
   ]
  },
  {
   "cell_type": "markdown",
   "metadata": {},
   "source": [
    "Desta forma, se quisermos saber a probabilidade da palavra *pintura* em toda a \"língua portuguesa\", a notação seria simplesmente $P(pintura)$ porque estamos a assumir que trabalhamos com a totalidade da língua, ou seja **o conjunto universo**.\n",
    "\n",
    "Assim, a probabilidade $P(pintura)$ é:"
   ]
  },
  {
   "cell_type": "code",
   "execution_count": 40,
   "metadata": {},
   "outputs": [
    {
     "data": {
      "text/plain": [
       "0.00010649627263045793"
      ]
     },
     "execution_count": 40,
     "metadata": {},
     "output_type": "execute_result"
    }
   ],
   "source": [
    "tabela_portugues_relativa[\"pintura\"]"
   ]
  },
  {
   "cell_type": "markdown",
   "metadata": {},
   "source": [
    "<div id=\"classificacao-lusiadas-ou-dom-casmurro\"></div>\n",
    "\n",
    "## Classificação de uma frase: Lusíadas ou Dom Casmurro?\n",
    "\n",
    "Agora vamos ao problema que queremos resolver.\n",
    "\n",
    "Você precisa dizer se a **frase**: \n",
    "\n",
    "$\\quad$ **\"Contou que João como santo se verá vestido, de maneira  que virão a barba do marido\"**\n",
    "\n",
    "é mais provável de ter vindo de *Os Lusíadas* ou de *Dom Casmurro*.\n",
    "\n",
    "Ou seja, precisa decidir: \n",
    "\n",
    "$\\quad \\Rightarrow$ Se $P(Casmurro|frase) > P(Lusíadas|frase)$, então frase será classificada como de *Dom Casmurro*\n",
    "\n",
    "$\\quad \\Rightarrow$ Se $P(Casmurro|frase) < P(Lusíadas|frase)$, então frase será classificada como de *Os Lusíadas*\n",
    "\n",
    "\n",
    "<br>\n",
    "\n",
    "A partir deste ponto, vamos denotar $Casmurro$ como $C$ e $Lusíadas$ como $L$ para brevidade.\n",
    "\n",
    "O **Teorema de Bayes** vai ser particularmente útil neste caso. Lembre-se que:\n",
    "\n",
    "$\\quad P(C|frase) = \\frac{P(frase|C)P(C)}{P(frase)}$\n",
    "\n",
    "e que:\n",
    "\n",
    "$\\quad P(L|frase) = \\frac{P(frase|L)P(L)}{P(frase)}$\n",
    "\n",
    "\n",
    "<br>\n",
    "Teremos que calcular **TODAS** as probabilidades que se encontram no lado direito das equações acima e com elas calcular $P(C|frase)$ e $P(L|frase)$.\n"
   ]
  },
  {
   "cell_type": "markdown",
   "metadata": {},
   "source": [
    "### Frase a classificar:"
   ]
  },
  {
   "cell_type": "code",
   "execution_count": 42,
   "metadata": {},
   "outputs": [],
   "source": [
    "frase = \"Contou que João como santo se verá vestido, de maneira  que virão a barba do marido\""
   ]
  },
  {
   "cell_type": "markdown",
   "metadata": {},
   "source": [
    "Todo o preparo que as obras passaram, devem se repetir na frase.\n",
    "\n",
    "Vamos converter primeiro em minúsculas e fazer a limpeza:"
   ]
  },
  {
   "cell_type": "code",
   "execution_count": 43,
   "metadata": {},
   "outputs": [],
   "source": [
    "frase = cleanup(frase.lower())"
   ]
  },
  {
   "cell_type": "markdown",
   "metadata": {},
   "source": [
    "Agora a frase está assim:"
   ]
  },
  {
   "cell_type": "code",
   "execution_count": 44,
   "metadata": {},
   "outputs": [
    {
     "data": {
      "text/plain": [
       "'contou que joão como santo se verá vestido de maneira  que virão a barba do marido'"
      ]
     },
     "execution_count": 44,
     "metadata": {},
     "output_type": "execute_result"
    }
   ],
   "source": [
    "frase"
   ]
  },
  {
   "cell_type": "markdown",
   "metadata": {},
   "source": [
    "Em forma de lista, para facilitar o processamento:"
   ]
  },
  {
   "cell_type": "code",
   "execution_count": 45,
   "metadata": {},
   "outputs": [
    {
     "data": {
      "text/plain": [
       "['contou',\n",
       " 'que',\n",
       " 'joão',\n",
       " 'como',\n",
       " 'santo',\n",
       " 'se',\n",
       " 'verá',\n",
       " 'vestido',\n",
       " 'de',\n",
       " 'maneira',\n",
       " 'que',\n",
       " 'virão',\n",
       " 'a',\n",
       " 'barba',\n",
       " 'do',\n",
       " 'marido']"
      ]
     },
     "execution_count": 45,
     "metadata": {},
     "output_type": "execute_result"
    }
   ],
   "source": [
    "frase.split()"
   ]
  },
  {
   "cell_type": "markdown",
   "metadata": {},
   "source": [
    "<div id=\"a-ingenuidade-naive-bayes\"></div>\n",
    "\n",
    "### A ingenuidade - Naïve Bayes\n",
    "\n",
    "Agora vamos à parte ingênua do Naïve Bayes, que consiste em assumir que as palavras são independentes entre si e que sua ordem na frase não importa. \n",
    "\n",
    "\n",
    "Ou seja:\n",
    "\n",
    "$\\quad P(frase|C) = \n",
    "P(contou|C)\\cdot P(que|C)\\cdot P(joão|C)\\cdot P(como|C)\\cdot P(santo|C)\\cdot P(se|C)\\cdot P(verá|C)\\cdot P(vestido|C)\\cdot P(de|C)\\cdot...$\n",
    "$\\qquad\\qquad\\qquad\\quad ...\\cdot P(maneira|C)\\cdot P(que|C)\\cdot P(virão|C)\\cdot P(a|C)\\cdot P(barba|C)\\cdot P(do|C)\\cdot P(marido|C)$\n",
    "\n",
    "<br>\n",
    "\n",
    "Vamos denotar **Dom Casmurro** simplesmente como $C$, para encurtar a fórmula a seguir aplicando o uso do Teorema de Bayes.\n",
    "\n",
    "Assim, a fórmula completa fica:\n",
    "\n",
    "$P(C|frase) = \\frac{P(contou|C).P(que|C).P(joão|C).P(como|C).P(santo|C).P(se|C).P(verá|C).P(vestido|C).P(de|C).P(maneira|C).P(que|C).P(virão|C).P(a|C).P(barba|C).P(do|C).P(marido|C).P(C)}{P(frase)}$\n",
    "\n",
    "<br>\n",
    "\n",
    "Da mesma forma, denotando **Os Lusíadas** como $L$, a fórmula completa fica:\n",
    "\n",
    "$P(L|frase) = \\frac{P(contou|L).P(que|L).P(joão|L).P(como|L).P(santo|L).P(se|L).P(verá|L).P(vestido|L).P(de|L).P(maneira|L).P(que|L).P(virão|L).P(a|L).P(barba|L).P(do|L).P(marido|L).P(L)}{P(frase)}$\n",
    "\n",
    "<br>\n",
    "\n",
    "Note que o denominador das duas probabilidade condicionais acima é o mesmo, para fazer a classificação da frase podemos cancelar o cálculo do denominador $P(frase)$. \n",
    "\n",
    "Assim, a **Classificação da frase** se dará conforme abaixo:\n",
    "\n",
    "$\\quad \\Rightarrow$ Se $P(C|frase) > P(L|frase)$, então frase será classificada como de *Dom Casmurro*\n",
    "\n",
    "$\\quad \\Rightarrow$ Se $P(C|frase) < P(L|frase)$, então frase será classificada como de *Os Lusíadas*\n",
    "\n",
    "\n"
   ]
  },
  {
   "cell_type": "markdown",
   "metadata": {},
   "source": [
    "<div id=\"o-que-voce-deve-fazer\"></div>\n",
    "\n",
    "# [TAREFA] Faça os cálculos e classifique a seguinte frase:"
   ]
  },
  {
   "cell_type": "code",
   "execution_count": 46,
   "metadata": {},
   "outputs": [
    {
     "data": {
      "text/plain": [
       "'contou que joão como santo se verá vestido de maneira  que virão a barba do marido'"
      ]
     },
     "execution_count": 46,
     "metadata": {},
     "output_type": "execute_result"
    }
   ],
   "source": [
    "frase"
   ]
  },
  {
   "cell_type": "markdown",
   "metadata": {},
   "source": [
    "<div id=\"ex1\"></div>\n",
    "\n",
    "### EXERCÍCIO 1\n",
    "\n",
    "Como podemos calcular os valores dos priors $P(C)$ e $P(L)$ ? Ou, colocando a pergunta em termos Bayesianos: o que é um *prior* razoável para se usar?\n",
    "\n",
    "<br> \n",
    "**Dica**:\n",
    "\n",
    "Você pode usar proporção de número de palavras do conjunto *Lusíadas* e *Dom Casmurro* em relação ao total. Ou ainda proporção destas palavras ponderadas pela frequência absoluta.\n",
    "\n",
    "<br>\n",
    "\n",
    "Armazene o valor de $P(C)$ e $P(L)$ nas variáveis `probC` e `probL`, respectivamente.\n",
    "\n",
    "<br>"
   ]
  },
  {
   "cell_type": "code",
   "execution_count": 60,
   "metadata": {},
   "outputs": [
    {
     "name": "stdout",
     "output_type": "stream",
     "text": [
      "0.538240353895306\n",
      "0.46175964610469405\n"
     ]
    }
   ],
   "source": [
    "# ESCREVA SEU CÓDIGO AQUI\n",
    "probC = len(todas_palavras_casmurro)/len(todas_palavras_portugues)\n",
    "probL = len(todas_palavras_lusiadas)/len(todas_palavras_portugues)\n",
    "\n",
    "print(probC)\n",
    "print(probL)"
   ]
  },
  {
   "cell_type": "code",
   "execution_count": null,
   "metadata": {},
   "outputs": [],
   "source": []
  },
  {
   "cell_type": "code",
   "execution_count": null,
   "metadata": {},
   "outputs": [],
   "source": []
  },
  {
   "cell_type": "markdown",
   "metadata": {},
   "source": [
    "<div id=\"ex2\"></div>\n",
    "\n",
    "### EXERCÍCIO 2\n",
    "\n",
    "Calcule os termos: \n",
    "\n",
    "$\\quad P(frase|L) = \n",
    "P(contou|L)\\cdot P(que|L)\\cdot P(joão|L)\\cdot P(como|L)\\cdot P(santo|L)\\cdot P(se|L)\\cdot P(verá|L)\\cdot P(vestido|L)\\cdot P(de|L)\\cdot...$\n",
    "$\\qquad\\qquad\\qquad\\quad ...\\cdot P(maneira|L)\\cdot P(que|L)\\cdot P(virão|L)\\cdot P(a|L)\\cdot P(barba|L)\\cdot P(do|L)\\cdot P(marido|L)$\n",
    "\n",
    "e \n",
    "\n",
    "$\\quad P(frase|C) = \n",
    "P(contou|C)\\cdot P(que|C)\\cdot P(joão|C)\\cdot P(como|C)\\cdot P(santo|C)\\cdot P(se|C)\\cdot P(verá|C)\\cdot P(vestido|C)\\cdot P(de|C)\\cdot...$\n",
    "$\\qquad\\qquad\\qquad\\quad ...\\cdot P(maneira|C)\\cdot P(que|C)\\cdot P(virão|C)\\cdot P(a|C)\\cdot P(barba|C)\\cdot P(do|C)\\cdot P(marido|C)$\n",
    "\n",
    "<br>\n",
    "\n",
    "Armazene o valor de $P(frase|L)$ e $P(frase|C)$ nas variáveis `probFraseDadoC` e `probFraseDadoL`.\n",
    "\n",
    "<br>\n"
   ]
  },
  {
   "cell_type": "code",
   "execution_count": null,
   "metadata": {},
   "outputs": [],
   "source": [
    "# ESCREVA SEU CÓDIGO AQUI"
   ]
  },
  {
   "cell_type": "code",
   "execution_count": 68,
   "metadata": {},
   "outputs": [
    {
     "name": "stdout",
     "output_type": "stream",
     "text": [
      "8.633953743025594e-50\n",
      "1.2832826970284067e-48\n"
     ]
    }
   ],
   "source": [
    "frase_tratada = frase.split()\n",
    "\n",
    "probFraseDadoC = 1\n",
    "probFraseDadoL = 1\n",
    "\n",
    "for palavra in frase_tratada:\n",
    "    \n",
    "    probFraseDadoC *= tabela_casmurro_relativa[palavra]\n",
    "    probFraseDadoL *= tabela_lusiadas_relativa[palavra]\n",
    "\n",
    "print(probFraseDadoC)\n",
    "print(probFraseDadoL)"
   ]
  },
  {
   "cell_type": "code",
   "execution_count": null,
   "metadata": {},
   "outputs": [],
   "source": []
  },
  {
   "cell_type": "markdown",
   "metadata": {},
   "source": [
    "<div id=\"ex3\"></div>\n",
    "\n",
    "### EXERCÍCIO 3\n",
    "\n",
    "Calcule $P(L|frase)$ e $P(C|frase)$ como indicado acima. \n",
    "\n",
    "Lembre-se que não precisamos descobrir o valor de $P(frase)$, pois ele é denominador comum de ambos os lados da comparação. \n",
    "\n",
    "<br>\n"
   ]
  },
  {
   "cell_type": "code",
   "execution_count": null,
   "metadata": {},
   "outputs": [],
   "source": [
    "# ESCREVA SEU CÓDIGO AQUI"
   ]
  },
  {
   "cell_type": "code",
   "execution_count": 70,
   "metadata": {},
   "outputs": [
    {
     "name": "stdout",
     "output_type": "stream",
     "text": [
      "5.925681640321144e-49\n",
      "4.6471423181617975e-50\n"
     ]
    }
   ],
   "source": [
    "probLDadoFrase = probFraseDadoL * probL\n",
    "probCDadoFrase = probFraseDadoC * probC\n",
    "\n",
    "print(probLDadoFrase)\n",
    "print(probCDadoFrase)"
   ]
  },
  {
   "cell_type": "code",
   "execution_count": null,
   "metadata": {},
   "outputs": [],
   "source": []
  },
  {
   "cell_type": "markdown",
   "metadata": {},
   "source": [
    "<div id=\"ex4\"></div>\n",
    "\n",
    "### EXERCÍCIO 4\n",
    "\n",
    "Escreva seu parecer: você acha que o texto indicado pertence a Os Lusíadas ou a Dom Casmurro?\n",
    "\n",
    "<br>"
   ]
  },
  {
   "cell_type": "code",
   "execution_count": null,
   "metadata": {},
   "outputs": [],
   "source": [
    "# ESCREVA SEU CÓDIGO AQUI"
   ]
  },
  {
   "cell_type": "code",
   "execution_count": 75,
   "metadata": {},
   "outputs": [
    {
     "name": "stdout",
     "output_type": "stream",
     "text": [
      "Lusíadas\n"
     ]
    }
   ],
   "source": [
    "if probLDadoFrase > probCDadoFrase:\n",
    "    print('Lusíadas')\n",
    "elif probLDadoFrase < probCDadoFrase:\n",
    "    print('Dom Casmurro')\n",
    "elif probLDadoFrase == probCDadoFrase:\n",
    "    print('Não sei dizer')"
   ]
  },
  {
   "cell_type": "code",
   "execution_count": null,
   "metadata": {},
   "outputs": [],
   "source": []
  },
  {
   "cell_type": "markdown",
   "metadata": {},
   "source": [
    "ESCREVA SUA RESPOSTA AQUI"
   ]
  },
  {
   "cell_type": "markdown",
   "metadata": {},
   "source": [
    "<div id=\"o-que-pesquisar\"></div>\n",
    "\n",
    "# O que você deve pesquisar para fazer o Projeto 1:\n",
    "\n",
    "No [texto recomendado](https://arxiv.org/pdf/1410.5329.pdf) estude o que fazer quando duas situações acontecerem:\n",
    "- Quando aparecem palavras inéditas para classificar\n",
    "- Quando a multiplicação das probabilidades é um valor tão pequeno que ocorre *underflow*"
   ]
  },
  {
   "cell_type": "code",
   "execution_count": null,
   "metadata": {},
   "outputs": [],
   "source": []
  }
 ],
 "metadata": {
  "kernelspec": {
   "display_name": "Python 3 (ipykernel)",
   "language": "python",
   "name": "python3"
  },
  "language_info": {
   "codemirror_mode": {
    "name": "ipython",
    "version": 3
   },
   "file_extension": ".py",
   "mimetype": "text/x-python",
   "name": "python",
   "nbconvert_exporter": "python",
   "pygments_lexer": "ipython3",
   "version": "3.9.12"
  }
 },
 "nbformat": 4,
 "nbformat_minor": 2
}
