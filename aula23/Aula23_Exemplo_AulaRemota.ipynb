{
 "cells": [
  {
   "cell_type": "markdown",
   "metadata": {},
   "source": [
    "___\n",
    "# Exemplo: Teste de hipóteses\n",
    "\n",
    "___\n",
    "## Aula 23\n"
   ]
  },
  {
   "cell_type": "code",
   "execution_count": 2,
   "metadata": {},
   "outputs": [],
   "source": [
    "from scipy import stats\n",
    "from math import sqrt"
   ]
  },
  {
   "cell_type": "markdown",
   "metadata": {},
   "source": [
    "___\n",
    "## Problema - Aulas remotas\n",
    "\n",
    "Nas épocas de aulas presenciais, a distribuição de probabilidades das notas em determinada prova historicamente se comportava como uma normal com média igual a 6 e desvio padrão igual a 0,8. \n",
    "\n",
    "Devido ao novo formato de alunas remotas, alguns especialistas desconfiam que a nota média nessa prova tenha aumentado. Ainda, segundo esses especialistas, não existem razões para acreditar em alterações no valor do desvio padrão, na distribuição de probabilidades da variável de interesse e nem que a média tenha diminuído.\n",
    "\n",
    "Como verificar se os especialistas estão certos a partir de uma amostra de 36 alunos?\n"
   ]
  },
  {
   "cell_type": "markdown",
   "metadata": {},
   "source": [
    "**Faça:**\n",
    "\n",
    "Descreva:\n",
    " * Variável de interesse $X$;\n",
    " * Parâmetro de interesse (valor numérico populacional, usualmente, desconhecido);\n",
    " * Hipóteses nula e alternativa em termos do problema e em termos do parâmetro; e \n",
    " * Distribuição de $\\bar{X}$ sob $H_0$:"
   ]
  },
  {
   "cell_type": "code",
   "execution_count": 3,
   "metadata": {},
   "outputs": [
    {
     "name": "stdout",
     "output_type": "stream",
     "text": [
      "\n",
      "Variável de interesse  \n",
      "    X -> Nota de cada aluno no contexto remoto\n",
      "\n",
      "Parâmetro de Interesse \n",
      "    E(X) = mu -> Média populacional\n",
      "\n",
      "Hipóteses em termos do PROBLEMA ou termos ESTATÍSTICOS:\n",
      "    Afirmação do especialista PROCEDE: mu > 6.0\n",
      "    Afirmação do especialista NÃO PROCEDE: mu <= 6.0\n",
      "\n",
      "Distribuição de X_bar sob H0:\n",
      "    X_bar ~ N(mu, sigma/sqrt(n))\n",
      "    \n",
      "\n"
     ]
    }
   ],
   "source": [
    "# Escreva suas hipóteses aqui\n",
    "print(f'''\n",
    "Variável de interesse  \n",
    "    X -> Nota de cada aluno no contexto remoto\n",
    "\n",
    "Parâmetro de Interesse \n",
    "    E(X) = mu -> Média populacional\n",
    "\n",
    "Hipóteses em termos do PROBLEMA ou termos ESTATÍSTICOS:\n",
    "    Afirmação do especialista PROCEDE: mu > 6.0\n",
    "    Afirmação do especialista NÃO PROCEDE: mu <= 6.0\n",
    "\n",
    "Distribuição de X_bar sob H0:\n",
    "    X_bar ~ N(mu, sigma/sqrt(n))\n",
    "    \n",
    "''')"
   ]
  },
  {
   "cell_type": "code",
   "execution_count": null,
   "metadata": {},
   "outputs": [],
   "source": []
  },
  {
   "cell_type": "code",
   "execution_count": null,
   "metadata": {},
   "outputs": [],
   "source": []
  },
  {
   "cell_type": "markdown",
   "metadata": {},
   "source": [
    "**Continuação...**\n",
    "\n",
    "Supondo 𝐻_0 verdadeira, ou seja, 𝜇=6 e selecionando uma amostra aleatória de 𝑛=36 provas.\n",
    "Encontre 𝑐 tal que 𝛼 seja igual a 5%."
   ]
  },
  {
   "cell_type": "code",
   "execution_count": 6,
   "metadata": {},
   "outputs": [
    {
     "name": "stdout",
     "output_type": "stream",
     "text": [
      "\n",
      "c = 6.219313816926863\n",
      "\n",
      "Se X_bar (estimativa) for maior que c, então rejeitamos H0\n",
      "\n"
     ]
    }
   ],
   "source": [
    "# Escreva seu código aqui\n",
    "mu = 6.0\n",
    "n = 36\n",
    "alpha = 0.05\n",
    "\n",
    "# c = ?\n",
    "\n",
    "c = stats.norm.ppf(1-alpha, loc=mu, scale=0.8/sqrt(n))\n",
    "\n",
    "print(f'''\n",
    "c = {c}\n",
    "\n",
    "Se X_bar (estimativa) for maior que c, então rejeitamos H0\n",
    "''')"
   ]
  },
  {
   "cell_type": "code",
   "execution_count": null,
   "metadata": {},
   "outputs": [],
   "source": []
  },
  {
   "cell_type": "code",
   "execution_count": null,
   "metadata": {},
   "outputs": [],
   "source": []
  },
  {
   "cell_type": "code",
   "execution_count": null,
   "metadata": {},
   "outputs": [],
   "source": []
  },
  {
   "cell_type": "markdown",
   "metadata": {},
   "source": [
    "**Continuação...**\n",
    "\n",
    "Fato: Uma amostra aleatória de 𝑛=36 provas foi selecionada no momento com as aulas remotas e foi observada uma média amostral igual a 6,5 (**estimativa**). Qual sua conclusão com relação ao problema?\n"
   ]
  },
  {
   "cell_type": "code",
   "execution_count": 7,
   "metadata": {},
   "outputs": [
    {
     "name": "stdout",
     "output_type": "stream",
     "text": [
      "\n",
      "x_bar = 6.5\n",
      "if x_bar > c:\n",
      "    print('Rejeitamos H0')\n",
      "else:\n",
      "    print('Não rejeitamos H0')\n",
      "\n",
      "Rejeitamos H0\n"
     ]
    }
   ],
   "source": [
    "# Escreva seu código aqui\n",
    "print('''\n",
    "x_bar = 6.5\n",
    "if x_bar > c:\n",
    "    print('Rejeitamos H0')\n",
    "else:\n",
    "    print('Não rejeitamos H0')\n",
    "''')\n",
    "\n",
    "x_bar = 6.5\n",
    "if x_bar > c:\n",
    "    print('Rejeitamos H0')\n",
    "else:\n",
    "    print('Não rejeitamos H0')\n",
    "    "
   ]
  },
  {
   "cell_type": "code",
   "execution_count": null,
   "metadata": {},
   "outputs": [],
   "source": []
  },
  {
   "cell_type": "code",
   "execution_count": null,
   "metadata": {},
   "outputs": [],
   "source": []
  },
  {
   "cell_type": "code",
   "execution_count": null,
   "metadata": {},
   "outputs": [],
   "source": []
  }
 ],
 "metadata": {
  "kernelspec": {
   "display_name": "Python 3.9.7 64-bit",
   "language": "python",
   "name": "python3"
  },
  "language_info": {
   "codemirror_mode": {
    "name": "ipython",
    "version": 3
   },
   "file_extension": ".py",
   "mimetype": "text/x-python",
   "name": "python",
   "nbconvert_exporter": "python",
   "pygments_lexer": "ipython3",
   "version": "3.9.7"
  },
  "vscode": {
   "interpreter": {
    "hash": "fa202bb1a1975933ba9aefafdf4702960127000ff337e7c1a518450752e9f0c6"
   }
  }
 },
 "nbformat": 4,
 "nbformat_minor": 2
}
