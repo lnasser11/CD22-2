{
 "cells": [
  {
   "cell_type": "markdown",
   "metadata": {},
   "source": [
    "___\n",
    "# Atividade: Variáveis aleatórias discretas\n",
    "___\n",
    "\n",
    "## Aula 10"
   ]
  },
  {
   "cell_type": "markdown",
   "metadata": {},
   "source": [
    "<div id=\"indice\"></div>\n",
    "\n",
    "## Índice\n",
    "\n",
    "- [Corretora de Seguros](#corretora-de-seguros)\n",
    "    - [Exercício 1](#ex1)\n",
    "    - [Exercício 2](#ex2)\n",
    "    - [Exercício 3](#ex3)\n",
    "    - [Exercício 4](#ex4)\n",
    "    - [Exercício 5](#ex5)\n",
    "    - [Exercício 6](#ex6)\n"
   ]
  },
  {
   "cell_type": "code",
   "execution_count": 2,
   "metadata": {},
   "outputs": [],
   "source": [
    "import numpy as np\n",
    "import random\n",
    "import pandas as pd"
   ]
  },
  {
   "cell_type": "markdown",
   "metadata": {},
   "source": [
    "___\n",
    "\n",
    "<div id=\"corretora-de-seguros\"></div>\n",
    "\n",
    "## Corretora de Seguros\n",
    "\n",
    "Uma corretora de seguros paga uma comissão de R\\\\$50,00 a cada novo seguro que um corretor vende. A probabilidade de um cliente adquirir o seguro é de 0,20. \n",
    "\n",
    "1. Descreva como pode se comportar a comissão se um corretor ao abordar 2 clientes de maneira independente um do outro.\n",
    "1. Qual a probabilidade de um corretor ganhar apenas R\\\\$50,00?\n",
    "\n",
    "Vamos considerar os eventos:\n",
    "\n",
    "- $S_i$: o cliente $i$ compra o seguro;\n",
    "- $N_i = S_i^C$: o cliente $i$ não compra o seguro.\n",
    "\n",
    "Pelo enunciado sabemos que:\n",
    "\n",
    "- $P(S_i) = 0.2$\n",
    "- $P(N_i) = P(S_i^C) = 1 - P(S_i) = 0.8$\n",
    "\n",
    "Listando todas as possíveis combinações de eventos, temos:\n",
    "\n",
    "Cliente 1 | Cliente 2 | Probabilidade           | Valor da comissão\n",
    "--------- | --------- | ----------------------- | -----------------\n",
    "$N_1$     | $N_2$     | $P(N_1)P(N_2)$ = $0.64$ | 0\n",
    "$N_1$     | $S_2$     | $P(N_1)P(S_2)$ = $0.16$ | 50\n",
    "$S_1$     | $N_2$     | $P(S_1)P(N_2)$ = $0.16$ | 50\n",
    "$S_1$     | $S_2$     | $P(S_1)P(S_2)$ = $0.04$ | 100\n",
    "\n",
    "Estamos interessados no valor da comissão de um corretor. Para isso, vamos definir a variável aleatória:\n",
    "\n",
    "- $C$: valor da comissão do corretor.\n",
    "\n",
    "Assim, o item 2 pode ser interpretado como: qual é o valor de $P(C=50)$?\n",
    "\n",
    "Consultando a tabela calculada acima, vemos que $P(C=50) = 0.16 + 0.16 = 0.32$.\n",
    "\n",
    "<div id=\"ex1\"></div>\n",
    "\n",
    "### EXERCÍCIO 1\n",
    "\n",
    "Calcule o valor esperado e a variância da variável $C$.\n",
    "\n",
    "*Resposta esperada para esperança e variância respectivamente: 20.0 reais ; 800.0 reais^2*"
   ]
  },
  {
   "cell_type": "code",
   "execution_count": 8,
   "metadata": {},
   "outputs": [
    {
     "name": "stdout",
     "output_type": "stream",
     "text": [
      "20.0\n",
      "800.0\n"
     ]
    }
   ],
   "source": [
    "# ESCREVA SEU CÓDIGO AQUI\n",
    "media = 0.64*0+0.16*50+0.16*50+0.04*100\n",
    "print(media)\n",
    "var = (((0-media)**2) * 0.64)+(((50-media)**2) * 0.16)+(((50-media)**2) * 0.16)+(((100-media)**2) * 0.04)\n",
    "print(var)\n"
   ]
  },
  {
   "cell_type": "markdown",
   "metadata": {},
   "source": [
    "___\n",
    "## Tomando uma decisão\n",
    "\n",
    "Imagine que a corretora de seguros irá fornecer um aumento na comissão dos corretores. Entretanto, cada corretor poderá escolher uma das seguintes opções:\n",
    "\n",
    "- **Opção 1:** Nova comissão será a comissão atual mais um fixo de R$ 20,00;\n",
    "- **Opção 2:** Nova comissão será o dobro da atual comissão.\n",
    "\n",
    "<br>\n",
    "\n",
    "A ideia aqui é fazer uma escolha de qual delas é melhor para aumentar o ganho de um corretor. \n",
    "\n",
    "Para isso, resolva os exercícios a seguir para auxiliá-lo nessa escolha."
   ]
  },
  {
   "cell_type": "markdown",
   "metadata": {},
   "source": [
    "<div id=\"ex2\"></div>\n",
    "\n",
    "### EXERCÍCIO 2\n",
    "\n",
    "Construa a distribuição de probabilidade para cada uma das opções.\n"
   ]
  },
  {
   "cell_type": "markdown",
   "metadata": {},
   "source": [
    "ESCREVA SUA RESPOSTA AQUI"
   ]
  },
  {
   "cell_type": "code",
   "execution_count": null,
   "metadata": {},
   "outputs": [],
   "source": [
    "# ESCREVA SEU CÓDIGO AQUI"
   ]
  },
  {
   "cell_type": "code",
   "execution_count": 14,
   "metadata": {},
   "outputs": [],
   "source": [
    "PNN = 0.64\n",
    "PNS = 0.16\n",
    "PSN = 0.16\n",
    "PSS = 0.04"
   ]
  },
  {
   "cell_type": "markdown",
   "metadata": {},
   "source": [
    "<div id=\"ex3\"></div>\n",
    "\n",
    "### EXERCÍCIO 3\n",
    "\n",
    "Considerando as respectivas distribuições de probabilidades, calcule o valor esperado e a variância para cada opção. "
   ]
  },
  {
   "cell_type": "code",
   "execution_count": 37,
   "metadata": {},
   "outputs": [
    {
     "name": "stdout",
     "output_type": "stream",
     "text": [
      "40.0 800.0\n",
      "40.0 3200.0\n"
     ]
    }
   ],
   "source": [
    "# ESCREVA SEU CÓDIGO AQUI\n",
    "o1_PNN=20\n",
    "o1_PSN=70\n",
    "o1_PNS=70\n",
    "o1_PSS=120\n",
    "\n",
    "OP1 = {PNN:o1_PNN, PSN:o1_PSN, PNS:o1_PNS, PSS:o1_PSS}\n",
    "\n",
    "o2_PNN=0\n",
    "o2_PSN=100\n",
    "o2_PNS=100\n",
    "o2_PSS=200\n",
    "\n",
    "OP2 = {PNN:o2_PNN, PSN:o2_PSN, PNS:o2_PNS, PSS:o2_PSS}\n",
    "\n",
    "media1 = PNN*o1_PNN+PNS*o1_PSN+PSN*o1_PNS+PSS*o1_PSS\n",
    "var1 = (((o1_PNN-media1)**2) * PNN)+(((o1_PSN-media1)**2) * PNS)+(((o1_PNS-media1)**2) * PSN)+(((o1_PSS-media1)**2) * PSS)\n",
    "media2 = PNN*o2_PNN+PNS*o2_PSN+PSN*o2_PNS+PSS*o2_PSS\n",
    "var2 = (((o2_PNN-media2)**2) * PNN)+(((o2_PSN-media2)**2) * PNS)+(((o2_PNS-media2)**2) * PSN)+(((o2_PSS-media2)**2) * PSS)\n",
    "\n",
    "print(media1,var1)\n",
    "print(media2,var2)"
   ]
  },
  {
   "cell_type": "markdown",
   "metadata": {},
   "source": [
    "<div id=\"ex4\"></div>\n",
    "\n",
    "### EXERCÍCIO 4\n",
    "\n",
    "Baseado nas propriedades da esperança (nos slides), calcule o valor esperado para a nova comissão em cada uma das opções.\n",
    "\n",
    "*Resposta esperada para esperança opção 1 e 2 respectivamente: 40.0 reais ; 40.0 reais*"
   ]
  },
  {
   "cell_type": "code",
   "execution_count": 40,
   "metadata": {},
   "outputs": [
    {
     "name": "stdout",
     "output_type": "stream",
     "text": [
      "28.8\n",
      "24.0\n"
     ]
    }
   ],
   "source": [
    "# ESCREVA SEU CÓDIGO AQUI\n",
    "esp1=0\n",
    "esp2=0\n",
    "\n",
    "for prob, value in OP1.items():\n",
    "    esp1 += value*prob\n",
    "    \n",
    "for prob, value in OP2.items():\n",
    "    esp2 += value*prob\n",
    "\n",
    "print(esp1)\n",
    "print(esp2)"
   ]
  },
  {
   "cell_type": "markdown",
   "metadata": {},
   "source": [
    "<div id=\"ex5\"></div>\n",
    "\n",
    "### EXERCÍCIO 5\n",
    "\n",
    "Baseado nas propriedades da variância (nos slides), calcule a variância para a nova comissão em cada uma das opções.\n",
    "\n",
    "*Resposta esperada para variância opção 1 e 2 respectivamente: 800.0 reais^2 ; 3200.0 reais^2*"
   ]
  },
  {
   "cell_type": "code",
   "execution_count": null,
   "metadata": {},
   "outputs": [],
   "source": [
    "# ESCREVA SEU CÓDIGO AQUI"
   ]
  },
  {
   "cell_type": "markdown",
   "metadata": {},
   "source": [
    "<div id=\"ex6\"></div>\n",
    "\n",
    "### EXERCÍCIO 6\n",
    "\n",
    "Baseado nos resultados acima, qual opção você recomendaria para um corretor?"
   ]
  },
  {
   "cell_type": "markdown",
   "metadata": {},
   "source": [
    "ESCREVA SUA RESPOSTA AQUI"
   ]
  },
  {
   "cell_type": "markdown",
   "metadata": {},
   "source": [
    "# Referências\n",
    "\n",
    "1. MONTGOMERY, D. et al. Estatística Aplicada e Probabilidade para Engenheiros. 6. ed. Seções 2.8 e 3.1\n",
    "1. MAGALHÃES, M. et al. Noções de Probabilidade e Estatística. 7. ed. Seções 3.1 e definições 4.2 (p. 110) e 4.5 (p. 121)"
   ]
  }
 ],
 "metadata": {
  "kernelspec": {
   "display_name": "Python 3 (ipykernel)",
   "language": "python",
   "name": "python3"
  },
  "language_info": {
   "codemirror_mode": {
    "name": "ipython",
    "version": 3
   },
   "file_extension": ".py",
   "mimetype": "text/x-python",
   "name": "python",
   "nbconvert_exporter": "python",
   "pygments_lexer": "ipython3",
   "version": "3.9.12"
  }
 },
 "nbformat": 4,
 "nbformat_minor": 4
}
