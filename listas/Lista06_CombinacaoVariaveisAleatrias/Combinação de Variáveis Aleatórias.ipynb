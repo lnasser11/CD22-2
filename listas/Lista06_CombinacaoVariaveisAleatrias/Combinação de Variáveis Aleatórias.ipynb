{
 "cells": [
  {
   "cell_type": "markdown",
   "metadata": {},
   "source": [
    "# Combinação de Variáveis Aleatórias\n",
    "\n",
    "\n",
    "___\n"
   ]
  },
  {
   "cell_type": "markdown",
   "metadata": {},
   "source": [
    "Carregando algumas bibliotecas:"
   ]
  },
  {
   "cell_type": "code",
   "execution_count": 1,
   "metadata": {},
   "outputs": [],
   "source": [
    "%matplotlib inline\n",
    "import pandas as pd\n",
    "import matplotlib.pyplot as plt\n",
    "import numpy as np\n",
    "\n",
    "from scipy import stats\n",
    "import math\n",
    "\n",
    "# Para ter melhor print\n",
    "from IPython.display import display"
   ]
  },
  {
   "cell_type": "markdown",
   "metadata": {},
   "source": [
    "___\n",
    "## Índice\n",
    "\n",
    "- [Questão 1 - Escola Infantil \"Papai Sem-Noção\"](#q1) \n",
    "    - [Item a](#q1_a)\n",
    "    - [Item b](#q1_b)\n",
    "    - [Item c](#q1_c)\n",
    "- [Questão 2 - Transmissão de Dados](#q2) \n",
    "    - [Item a](#q2_a)\n",
    "    - [Item b](#q2_b)\n",
    "    - [Item c](#q2_c)\n",
    "- [Questão 3 - Análise de Energia Solar](#q3) \n",
    "    - [Item a](#q3_a)\n",
    "    - [Item b](#q3_b)\n",
    "- [Questão 4](#q4) \n",
    "    - [Item a](#q4_a)\n",
    "    - [Item b](#q4_b)\n",
    "    - [Item c](#q4_c)\n",
    "- [Questão 5 - AI e AF](#q5) \n",
    "\n",
    "    \n",
    "___"
   ]
  },
  {
   "cell_type": "markdown",
   "metadata": {},
   "source": [
    "--- \n",
    "\n",
    "<div id=\"q1\"></div>\n",
    "\n",
    "# Questão 1\n",
    "Na escola infantil \"Papai Sem-Noção\" eles fazem coisas diferentes. No encerramento do ano vão fazer uma eco-aventura: cada dupla pai-e-filho vai descer um rio de bote inflável.\n",
    "\n",
    "O peso dos pais pode ser modelado como uma variável aleatória normal de média $85$ kg e desvio padrão $10$ kg. O peso dos filhos pode ser modelado como uma variável normal de média $20$ kg e desvio padrão $4$ kg. Existe uma correlação entre o peso do pai e o peso do filho igual a $0,5$"
   ]
  },
  {
   "cell_type": "markdown",
   "metadata": {},
   "source": [
    "---\n",
    "\n",
    "<div id=\"q1_a\"></div>\n",
    "\n",
    "**a)**  Nas condições acima, a média e o desvio-padrão do peso da dupla pai-e-filho são, respectivamente, $105$ kg e $12,5$ kg. Como esses valores foram obtidos? Justifique com cálculos numéricos."
   ]
  },
  {
   "cell_type": "code",
   "execution_count": 3,
   "metadata": {},
   "outputs": [
    {
     "name": "stdout",
     "output_type": "stream",
     "text": [
      "Média pai e filho:  105 , soma das médias\n",
      "Desvio pai e filho:  12.5 , raiz quadrada da soma dos desvios ao quadrado\n"
     ]
    }
   ],
   "source": [
    "media_pai = 85\n",
    "desvio_pai = 10\n",
    "media_filho = 20\n",
    "desvio_filho = 4\n",
    "corr_pai_filho = 0.5\n",
    "\n",
    "media_pai_filho = 105\n",
    "desvio_pai_filho = 12.5\n",
    "\n",
    "# como esses valores foram obtidos?\n",
    "# media_pai_filho = media_pai + media_filho\n",
    "# desvio_pai_filho = math.sqrt(desvio_pai**2 + desvio_filho**2 + 2*corr_pai_filho*desvio_pai*desvio_filho)\n",
    "print('Média pai e filho: ', media_pai_filho, ', soma das médias')\n",
    "print('Desvio pai e filho: ', desvio_pai_filho, ', raiz quadrada da soma dos desvios ao quadrado')"
   ]
  },
  {
   "cell_type": "markdown",
   "metadata": {},
   "source": [
    "---\n",
    "\n",
    "<div id=\"q1_b\"></div>\n",
    "\n",
    "**b)**  A escola vai comprar botes infláveis para descer o rio. Existem dois modelos:\n",
    "\n",
    "- \"Carpe Diem\": cabe duas pessoas, com peso total entre $80$ kg e $115$ kg.\n",
    "\n",
    "- \"Memento Mori\": cabe duas pessoas, com peso total entre $95$ kg e $120$ kg.\n",
    "\n",
    "Qual dos dois modelos é mais adequado para a escola? Ou seja, em qual dos modelos a chance de comportar um par pai-e-filho é maior? Calcule essas chances para os dois modelos e compare."
   ]
  },
  {
   "cell_type": "code",
   "execution_count": 6,
   "metadata": {},
   "outputs": [
    {
     "name": "stdout",
     "output_type": "stream",
     "text": [
      "Probabilidade de carpe diem:  76.53944694684242\n",
      "Probabilidade de memento mori:  67.30749311948952\n"
     ]
    }
   ],
   "source": [
    "#boat 1: carpe diem --> duas pessoas com peso total entre 80 e 115 kg\n",
    "#boat 2: memento mori --> duas pessoas com peso total entre 95 e 120 kg\n",
    "\n",
    "cdf = lambda x: stats.norm.cdf(x, loc=media_pai_filho, scale=desvio_pai_filho)\n",
    "p_carpe = cdf(115) - cdf(80)\n",
    "p_memento = cdf(120) - cdf(95)\n",
    "\n",
    "print('Probabilidade de carpe diem: ', p_carpe*100)\n",
    "print('Probabilidade de memento mori: ', p_memento*100)\n"
   ]
  },
  {
   "cell_type": "markdown",
   "metadata": {},
   "source": [
    "---\n",
    "\n",
    "<div id=\"q1_c\"></div>\n",
    "\n",
    "**c)** O diretor, o sr. Joselito, teve uma ideia \"brilhante\": se eles colocarem \"lastro\" (um peso extra) nos botes para complementar o peso da dupla, eles conseguem expandir a faixa de peso util do barco. \n",
    "\n",
    "Com isso, o limite mínimo de peso dos barcos \"Memento Mori\" será compensado pelo \"lastro\", mas o peso total máximo ainda é de $120$ kg. Calcule o novo valor do limite inferior que permita que $85\\%$ das duplas pai-e-filho participem do evento nos botes \"Memento Mori\".\n",
    "\n",
    "Recapitulando:\n",
    " * O limite superior de 120 kg não tem como mudar (é fixo).\n",
    " * O limite mínimo é livre (já que podemos usar lastro para compensar o peso de duplas muito leves).\n",
    " * Queremos saber qual limite mínimo que permita que $85\\%$ das duplas pai-e-filho participem do evento nos botes \"Memento Mori\". "
   ]
  },
  {
   "cell_type": "code",
   "execution_count": 11,
   "metadata": {},
   "outputs": [
    {
     "name": "stdout",
     "output_type": "stream",
     "text": [
      "Peso crítico:  82.33983679868541\n"
     ]
    }
   ],
   "source": [
    "p_abaixo_120 = stats.norm.cdf(120, loc=media_pai_filho, scale=desvio_pai_filho)\n",
    "p_abaixo_crit = p_abaixo_120 - 0.85\n",
    "peso_crit = stats.norm.ppf(p_abaixo_crit, loc=media_pai_filho, scale=desvio_pai_filho)\n",
    "print('Peso crítico: ', peso_crit)\n"
   ]
  },
  {
   "cell_type": "markdown",
   "metadata": {},
   "source": [
    "---\n",
    "\n",
    "<div id=\"q2\"></div>\n",
    "\n",
    "# Questão 2\n",
    "## Transmissão de dados"
   ]
  },
  {
   "cell_type": "markdown",
   "metadata": {},
   "source": [
    "Em um certo sistema de transmissão de dados, uma informação digital é transmitida na forma de um sinal elétrico onde uma voltagem constante de $5 V$ representa o bit $1$ e uma voltagem de $0 V$ representa o bit $0$. \n",
    "\n",
    "O sinal é gerado perfeitamente no ponto de transmissão; porém ao longo do caminho do sinal surgem várias interferências elétricas externas e também ruído térmico na linha de transmissão. Consequentemente, o sinal no receptor é igual ao sinal transmitido ($5 V$ para bit $1$ e $0 V$ para bit $0$) mais uma componente de ruído. \n",
    "\n",
    "No receptor o sinal é observado por um breve instante, e o valor de voltagem medido é comparado a um valor de referência de $3,0 V$ para decidir qual será o valor do bit *recebido*. Ou seja, se a voltagem recebida for maior que $3,0 V$, o bit é considerado $1$; caso contrário é bit $0$.\n",
    "\n",
    "Com esse cenário nota-se que podem haver erros de transmissão. Por exemplo: se um bit $1$ for enviado, mas o ruido aleatório for de $-2,5 V$, o sinal recebido será $5 + (-2,5) = 2,5 V$, abaixo do limiar de decisão $3,0$, e portanto será identificado erroneamente como bit $0$.\n",
    "\n",
    "Os engenheiros investigaram o ruído e concluiram que este pode ser modelado como uma variável aleatória com distribuição normal de média $0 V$ e desvio padrão $0,9 V$. Ou seja:\n",
    "\n",
    "- O ruido é modelado por $\\eta \\sim N(\\mu = 0, \\sigma^2 = 0,81)$\n",
    "\n",
    "- Quando um bit $0$ é enviado, o sinal elétrico que chega no receptor é $X_0 = 0 + \\eta$\n",
    "\n",
    "- Quando um bit $1$ é enviado, o sinal elétrico que chega no receptor é $X_1 = 5 + \\eta$"
   ]
  },
  {
   "cell_type": "markdown",
   "metadata": {},
   "source": [
    "---\n",
    "\n",
    "<div id=\"q2_a\"></div>\n",
    "\n",
    "**a)**  Qual a probabilidade de que um bit $0$ transmitido seja detectado como um bit $1$? E qual a probabilidade de que um bit $1$ transmitido seja detectado como bit $0$ no receptor?"
   ]
  },
  {
   "cell_type": "code",
   "execution_count": 15,
   "metadata": {},
   "outputs": [
    {
     "name": "stdout",
     "output_type": "stream",
     "text": [
      "Probabilidade de 1 dado 0:  0.04290603331967846\n",
      "Probabilidade de 0 dado 1:  1.3134145691021117\n"
     ]
    }
   ],
   "source": [
    "# n ~ N(mu = 0, sigma^2 = 0.81)\n",
    "# bit 0 --> X0 = 0 + n\n",
    "# bit 1 --> X1 = 5 + n\n",
    "\n",
    "prob_1_dado_0 = 1-stats.norm.cdf(3, loc=0, scale=0.9)\n",
    "prob_0_dado_1 = stats.norm.cdf(3, loc=5, scale=0.9)\n",
    "\n",
    "print('Probabilidade de 1 dado 0: ', prob_1_dado_0*100)\n",
    "print('Probabilidade de 0 dado 1: ', prob_0_dado_1*100)\n"
   ]
  },
  {
   "cell_type": "markdown",
   "metadata": {},
   "source": [
    "---\n",
    "\n",
    "<div id=\"q2_b\"></div>\n",
    "\n",
    "**b)**  Supondo que a probabilidade de transmissão de um bit $0$ seja de $60 \\%$ qual a probabilidade de um erro de bit na transmissão?"
   ]
  },
  {
   "cell_type": "code",
   "execution_count": 16,
   "metadata": {},
   "outputs": [
    {
     "name": "stdout",
     "output_type": "stream",
     "text": [
      "Probabilidade de erro:  0.5511094476326518\n"
     ]
    }
   ],
   "source": [
    "# prob transmissao 0 = 60%\n",
    "# prob de erro\n",
    "p_trans_0 = 0.6\n",
    "p_trans_1 = 1 - p_trans_0\n",
    "p_erro = prob_1_dado_0 * p_trans_0 + prob_0_dado_1 * p_trans_1\n",
    "print('Probabilidade de erro: ', p_erro*100)\n"
   ]
  },
  {
   "cell_type": "markdown",
   "metadata": {},
   "source": [
    "---\n",
    "\n",
    "<div id=\"q2_c\"></div>\n",
    "\n",
    "**c)**  Qual a probabilidade de que ocorram $3$ erros de bit em um pacote de $4$ bits transmitidos (com probabilidade $60\\%$ de transmissão de bit $0$)?"
   ]
  },
  {
   "cell_type": "code",
   "execution_count": 19,
   "metadata": {},
   "outputs": [
    {
     "name": "stdout",
     "output_type": "stream",
     "text": [
      "Probabilidade de 3 erros:  6.658455511599448e-05\n"
     ]
    }
   ],
   "source": [
    "p_3_erros = stats.binom.pmf(3, n=4, p=p_erro)\n",
    "print('Probabilidade de 3 erros: ', p_3_erros*100)\n"
   ]
  },
  {
   "cell_type": "markdown",
   "metadata": {},
   "source": [
    "--- \n",
    "\n",
    "<div id=\"q3\"></div>\n",
    "\n",
    "# Questão 3\n",
    "## Análise de Energia Solar\n",
    "\n",
    "Sabe-se que a radiação solar ($Rad$) está distribuída no Brasil de acordo com uma curva normal $Rad \\sim N(\\mu=150, \\sigma=50)$.\n",
    "\n",
    "Uma empresa fabrica painéis solares que têm sua eficiência distribuída de acordo com uma curva normal: $\\eta \\sim N(\\mu=0.4, \\sigma=0.15)$. A potência disponível em determinada residência é chamada de potência útil ($P_{útil}$), e é o resultado da eficiência energética do painel solar adquirido e também da radiação solar disponível. Ou seja, $P_{útil} = \\eta \\times Rad$"
   ]
  },
  {
   "cell_type": "markdown",
   "metadata": {},
   "source": [
    "---\n",
    "\n",
    "<div id=\"q3_a\"></div>\n",
    "\n",
    "**a.** Construa, via simulação, a distribuição de $P_{útil}$. Apresente o histograma resultante:"
   ]
  },
  {
   "cell_type": "code",
   "execution_count": 22,
   "metadata": {},
   "outputs": [
    {
     "data": {
      "text/plain": [
       "(array([4.13824240e-05, 0.00000000e+00, 0.00000000e+00, 0.00000000e+00,\n",
       "        0.00000000e+00, 0.00000000e+00, 4.13824240e-05, 4.13824240e-05,\n",
       "        4.13824240e-05, 8.27648480e-05, 8.27648480e-05, 8.27648480e-05,\n",
       "        8.27648480e-05, 2.89676968e-04, 4.55206664e-04, 6.20736360e-04,\n",
       "        1.07594302e-03, 1.20009030e-03, 2.27603332e-03, 2.93815211e-03,\n",
       "        3.60027089e-03, 3.88994786e-03, 6.12459875e-03, 6.53842299e-03,\n",
       "        5.91768663e-03, 8.77307389e-03, 9.64210480e-03, 1.07594302e-02,\n",
       "        1.12560193e-02, 1.11732545e-02, 1.12974018e-02, 1.18767557e-02,\n",
       "        1.32009933e-02, 1.31182284e-02, 1.22078151e-02, 1.27044042e-02,\n",
       "        1.34079054e-02, 1.40700242e-02, 1.36975823e-02, 1.36148175e-02,\n",
       "        1.31182284e-02, 1.31182284e-02, 1.06766654e-02, 1.14629315e-02,\n",
       "        1.18353733e-02, 1.05111357e-02, 9.06275086e-03, 9.26966298e-03,\n",
       "        9.39381025e-03, 9.18689813e-03, 6.95224723e-03, 7.57298359e-03,\n",
       "        7.07639451e-03, 6.16598118e-03, 5.21418543e-03, 4.80036119e-03,\n",
       "        4.96589088e-03, 5.13142058e-03, 4.46930179e-03, 3.88994786e-03,\n",
       "        4.09685998e-03, 2.97953453e-03, 3.18644665e-03, 2.40018059e-03,\n",
       "        1.61391454e-03, 2.27603332e-03, 1.77944423e-03, 1.77944423e-03,\n",
       "        1.86220908e-03, 1.73806181e-03, 8.27648480e-04, 1.24147272e-03,\n",
       "        1.28285514e-03, 1.20009030e-03, 8.69030904e-04, 4.55206664e-04,\n",
       "        2.89676968e-04, 4.96589088e-04, 3.72441816e-04, 4.96589088e-04,\n",
       "        2.89676968e-04, 4.55206664e-04, 3.72441816e-04, 2.06912120e-04,\n",
       "        1.24147272e-04, 2.48294544e-04, 8.27648480e-05, 1.24147272e-04,\n",
       "        1.24147272e-04, 1.24147272e-04, 8.27648480e-05, 4.13824240e-05,\n",
       "        4.13824240e-05, 4.13824240e-05, 4.13824240e-05, 4.13824240e-05,\n",
       "        0.00000000e+00, 0.00000000e+00, 0.00000000e+00, 4.13824240e-05]),\n",
       " array([-38.28546016, -35.86897533, -33.45249049, -31.03600566,\n",
       "        -28.61952083, -26.20303599, -23.78655116, -21.37006633,\n",
       "        -18.95358149, -16.53709666, -14.12061183, -11.70412699,\n",
       "         -9.28764216,  -6.87115733,  -4.45467249,  -2.03818766,\n",
       "          0.37829717,   2.79478201,   5.21126684,   7.62775167,\n",
       "         10.04423651,  12.46072134,  14.87720617,  17.29369101,\n",
       "         19.71017584,  22.12666067,  24.54314551,  26.95963034,\n",
       "         29.37611518,  31.79260001,  34.20908484,  36.62556968,\n",
       "         39.04205451,  41.45853934,  43.87502418,  46.29150901,\n",
       "         48.70799384,  51.12447868,  53.54096351,  55.95744834,\n",
       "         58.37393318,  60.79041801,  63.20690284,  65.62338768,\n",
       "         68.03987251,  70.45635734,  72.87284218,  75.28932701,\n",
       "         77.70581184,  80.12229668,  82.53878151,  84.95526634,\n",
       "         87.37175118,  89.78823601,  92.20472084,  94.62120568,\n",
       "         97.03769051,  99.45417534, 101.87066018, 104.28714501,\n",
       "        106.70362984, 109.12011468, 111.53659951, 113.95308434,\n",
       "        116.36956918, 118.78605401, 121.20253884, 123.61902368,\n",
       "        126.03550851, 128.45199334, 130.86847818, 133.28496301,\n",
       "        135.70144784, 138.11793268, 140.53441751, 142.95090234,\n",
       "        145.36738718, 147.78387201, 150.20035684, 152.61684168,\n",
       "        155.03332651, 157.44981134, 159.86629618, 162.28278101,\n",
       "        164.69926584, 167.11575068, 169.53223551, 171.94872034,\n",
       "        174.36520518, 176.78169001, 179.19817484, 181.61465968,\n",
       "        184.03114451, 186.44762934, 188.86411418, 191.28059901,\n",
       "        193.69708384, 196.11356868, 198.53005351, 200.94653834,\n",
       "        203.36302318]),\n",
       " <BarContainer object of 100 artists>)"
      ]
     },
     "execution_count": 22,
     "metadata": {},
     "output_type": "execute_result"
    },
    {
     "data": {
      "image/png": "[encoded data removed]",
      "text/plain": [
       "<Figure size 432x288 with 1 Axes>"
      ]
     },
     "metadata": {
      "needs_background": "light"
     },
     "output_type": "display_data"
    }
   ],
   "source": [
    "# Rad ~ N(mu = 150, sigma = 50)\n",
    "# n ~ N(mu = 0.4, sigma = 0.15)\n",
    "# Potencia = P_util = n * Rad\n",
    "\n",
    "rad = stats.norm.rvs(loc=150, scale=50, size=10000)\n",
    "ef = n = stats.norm.rvs(loc=0.4, scale=0.15, size=10000)\n",
    "p_util = rad * n\n",
    "#histograma\n",
    "plt.hist(p_util, density=True, bins=100)\n"
   ]
  },
  {
   "cell_type": "code",
   "execution_count": 23,
   "metadata": {},
   "outputs": [
    {
     "data": {
      "text/plain": [
       "16.47346685374375"
      ]
     },
     "execution_count": 23,
     "metadata": {},
     "output_type": "execute_result"
    }
   ],
   "source": [
    "np.percentile(p_util, 5)"
   ]
  },
  {
   "cell_type": "markdown",
   "metadata": {},
   "source": [
    "---\n",
    "\n",
    "<div id=\"q3_b\"></div>\n",
    "\n",
    "**b.** A empresa de painéis solares garantiu que, se a potência útil instalada na casa dos clientes é menor que $15W/m^2$, vai pagar uma indenização. Qual a porcentagem dos clientes que vai ganhar indenização? "
   ]
  },
  {
   "cell_type": "code",
   "execution_count": 25,
   "metadata": {},
   "outputs": [
    {
     "data": {
      "text/plain": [
       "4.12"
      ]
     },
     "execution_count": 25,
     "metadata": {},
     "output_type": "execute_result"
    }
   ],
   "source": [
    "stats.percentileofscore(p_util, 15)"
   ]
  },
  {
   "cell_type": "markdown",
   "metadata": {},
   "source": [
    "---\n",
    "\n",
    "<div id=\"q4\"></div>\n",
    "\n",
    "# Questão 4"
   ]
  },
  {
   "cell_type": "markdown",
   "metadata": {},
   "source": [
    "<img src=distribuicoes_U_Y.png width=75%>"
   ]
  },
  {
   "cell_type": "markdown",
   "metadata": {},
   "source": [
    "Seja $U$ uma variável aleatória que segue uma distribuição uniforme no intervalo $[3.0,6.0]$"
   ]
  },
  {
   "cell_type": "markdown",
   "metadata": {},
   "source": [
    "Seja $Y\\sim N(4.5, \\sigma^2=9)$"
   ]
  },
  {
   "cell_type": "markdown",
   "metadata": {},
   "source": [
    "Seja também a variável aleatória $\\overline{U}$, calculada como a média de amostras de $U$ feitas com $n$  elementos independentes entre si. Assuma n=50.\n",
    "\n",
    "Nota que a variável $\\overline{U}$ **não** é mostrada no gráfico."
   ]
  },
  {
   "cell_type": "markdown",
   "metadata": {},
   "source": [
    "Vamos montar a variável aleatória $W$ :"
   ]
  },
  {
   "cell_type": "markdown",
   "metadata": {},
   "source": [
    "$$W = 2\\overline{U} + 3Y$$"
   ]
  },
  {
   "cell_type": "markdown",
   "metadata": {},
   "source": [
    "**Responda:**\n",
    "\n",
    "Deixe os cálculos, não coloque os valores apenas"
   ]
  },
  {
   "cell_type": "markdown",
   "metadata": {},
   "source": [
    "---\n",
    "\n",
    "<div id=\"q4_a\"></div>\n",
    "\n",
    "**a)** Quanto vale $E(\\overline{U})$ e $Var(\\overline{U})$ ?"
   ]
  },
  {
   "cell_type": "code",
   "execution_count": 29,
   "metadata": {},
   "outputs": [
    {
     "name": "stdout",
     "output_type": "stream",
     "text": [
      "VarU:  0.75\n",
      "VarU_:  0.015\n",
      "EU_:  4.5\n"
     ]
    }
   ],
   "source": [
    "## Os plots não são exigidos. Apenas nos ajudam a visualizar o problema\n",
    "eixo_horizontal = np.linspace(0,10,800)\n",
    "# U: uniforme entre 4 a 7\n",
    "a = 3\n",
    "b = 6\n",
    "loc_unif = a\n",
    "scale_unif = b - a\n",
    "pdf_U = stats.uniform.pdf(eixo_horizontal, loc=loc_unif, scale=scale_unif)\n",
    "\n",
    "# Y: normal N(4.5, var=8)\n",
    "mu_y = 4.5\n",
    "scale_y = 3\n",
    "var_y = scale_y**2\n",
    "pdf_Y = stats.norm.pdf(eixo_horizontal, loc=mu_y, scale=scale_y)\n",
    "\n",
    "EU_ = (a+b)/2\n",
    "VarU = (b-a)**2/12\n",
    "\n",
    "n = 50\n",
    "VarU_ = VarU/n\n",
    "\n",
    "print('VarU: ', VarU)\n",
    "print('VarU_: ', VarU_)\n",
    "print('EU_: ', EU_)\n"
   ]
  },
  {
   "cell_type": "markdown",
   "metadata": {},
   "source": [
    "---\n",
    "\n",
    "<div id=\"q4_b\"></div>\n",
    "\n",
    "**b)** Quanto vale $E(W)$ e $Var(W)$? "
   ]
  },
  {
   "cell_type": "code",
   "execution_count": 34,
   "metadata": {},
   "outputs": [
    {
     "name": "stdout",
     "output_type": "stream",
     "text": [
      "EW:  22.5\n",
      "VarW:  81.06\n"
     ]
    },
    {
     "data": {
      "text/plain": [
       "9.003332716277901"
      ]
     },
     "execution_count": 34,
     "metadata": {},
     "output_type": "execute_result"
    }
   ],
   "source": [
    "U_ = stats.norm.rvs(loc=EU_, scale=math.sqrt(VarU_), size=n)\n",
    "Y = stats.norm.rvs(loc=mu_y, scale=scale_y, size=n)\n",
    "\n",
    "W = 2*U_ + 3*Y\n",
    "\n",
    "EW = 2*EU_ + 3*mu_y\n",
    "\n",
    "VarW = 2**2*VarU_ + 3**2*var_y\n",
    "\n",
    "print('EW: ', EW)\n",
    "print('VarW: ', VarW)\n",
    "\n",
    "\n",
    "Var_U = (b-a)**2/12\n",
    "Var_U\n",
    "\n",
    "E_W = 2*EU_+3*mu_y\n",
    "\n",
    "n=50\n",
    "Var_U_ = Var_U/n\n",
    "\n",
    "\n",
    "Var_W=4*Var_U_ + 9*var_y\n",
    "Var_W\n",
    "\n",
    "dp_W = math.sqrt(Var_W)\n",
    "dp_W"
   ]
  },
  {
   "cell_type": "markdown",
   "metadata": {},
   "source": [
    "---\n",
    "\n",
    "<div id=\"q4_c1\"></div>\n",
    "\n",
    "\n",
    "**c)** Quanto vale $P(W \\geq 10| W < E(W))$ ? "
   ]
  },
  {
   "cell_type": "code",
   "execution_count": 37,
   "metadata": {},
   "outputs": [
    {
     "data": {
      "text/plain": [
       "<matplotlib.collections.PolyCollection at 0x1c3bdca3250>"
      ]
     },
     "execution_count": 37,
     "metadata": {},
     "output_type": "execute_result"
    },
    {
     "data": {
      "image/png": "[encoded data removed]",
      "text/plain": [
       "<Figure size 432x288 with 1 Axes>"
      ]
     },
     "metadata": {
      "needs_background": "light"
     },
     "output_type": "display_data"
    }
   ],
   "source": [
    "#P(W>=10|W < EW)\n",
    "# EW = 22.5\n",
    "# P(10 <= W < 22.5) / P(W < 22.5)\n",
    "# W ~ N(22.5, sigma^2 = 81.06)\n",
    "x = np.linspace(E_W - 3.5*dp_W, E_W + 3.5*dp_W, 1000)\n",
    "pdf_W = stats.norm.pdf(x, loc=E_W, scale=dp_W)\n",
    "plt.plot(x, pdf_W)\n",
    "limiar=10\n",
    "plt.plot(x, pdf_W)\n",
    "plt.fill_between(x, pdf_W, where=(x>limiar) & (x<E_W), color='red')"
   ]
  },
  {
   "cell_type": "code",
   "execution_count": 38,
   "metadata": {},
   "outputs": [
    {
     "data": {
      "text/plain": [
       "<matplotlib.collections.PolyCollection at 0x1c3bae80640>"
      ]
     },
     "execution_count": 38,
     "metadata": {},
     "output_type": "execute_result"
    },
    {
     "data": {
      "image/png": "[encoded data removed]",
      "text/plain": [
       "<Figure size 432x288 with 1 Axes>"
      ]
     },
     "metadata": {
      "needs_background": "light"
     },
     "output_type": "display_data"
    }
   ],
   "source": [
    "plt.plot(x, pdf_W)\n",
    "plt.fill_between(x, pdf_W, where=x<E_W, color='red')"
   ]
  },
  {
   "cell_type": "code",
   "execution_count": 39,
   "metadata": {},
   "outputs": [
    {
     "data": {
      "text/plain": [
       "0.7887738323964772"
      ]
     },
     "execution_count": 39,
     "metadata": {},
     "output_type": "execute_result"
    }
   ],
   "source": [
    "prob_menor_10 = stats.norm.cdf(10, loc=E_W, scale=dp_W)\n",
    "prob_menor_20 = stats.norm.cdf(20, loc=E_W, scale=dp_W)\n",
    "prob_entre_10_20 = prob_menor_20 - prob_menor_10\n",
    "prob_maior_10_dado_menor_media = prob_entre_10_20 / (prob_menor_20)\n",
    "\n",
    "prob_maior_10_dado_menor_media"
   ]
  },
  {
   "cell_type": "markdown",
   "metadata": {},
   "source": [
    "___\n",
    "\n",
    "<div id=\"q5\"></div>\n",
    "\n",
    "# Questão 5\n",
    "\n",
    "A Avaliação Intermediária de Ciência dos dados teve média 4.25 e desvio padrão 1.70.\n",
    "\n",
    "A Avaliação Final está acontecendo agora, nesse momento, porém assuma que essa avaliação terá média igual 7.75 e desvio padrão igual 2.20.\n",
    "\n",
    "Assuma também que ambas avaliações tenham notas com correlação de 0.35 e que qualquer combinação linear entre essas notas seja modelada por uma distribuição normal.\n",
    "\n"
   ]
  },
  {
   "cell_type": "markdown",
   "metadata": {},
   "source": [
    "**Calcule a probabilidade de um aluno qualquer ter as notas das avaliações somando pelo menos 10 pontos. Discuta o que representa esse resultado.**"
   ]
  },
  {
   "cell_type": "markdown",
   "metadata": {},
   "source": [
    "**Resposta:**"
   ]
  },
  {
   "cell_type": "code",
   "execution_count": null,
   "metadata": {},
   "outputs": [],
   "source": []
  }
 ],
 "metadata": {
  "kernelspec": {
   "display_name": "Python 3.9.7 64-bit",
   "language": "python",
   "name": "python3"
  },
  "language_info": {
   "codemirror_mode": {
    "name": "ipython",
    "version": 3
   },
   "file_extension": ".py",
   "mimetype": "text/x-python",
   "name": "python",
   "nbconvert_exporter": "python",
   "pygments_lexer": "ipython3",
   "version": "3.9.7"
  },
  "vscode": {
   "interpreter": {
    "hash": "fa202bb1a1975933ba9aefafdf4702960127000ff337e7c1a518450752e9f0c6"
   }
  }
 },
 "nbformat": 4,
 "nbformat_minor": 4
}
