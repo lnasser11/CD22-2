{
 "cells": [
  {
   "cell_type": "markdown",
   "metadata": {},
   "source": [
    "# A4 - Avaliação de Ciência dos dados \n",
    "\n",
    "## 2022 - 1o. semestre \n",
    "\n",
    "___\n"
   ]
  },
  {
   "cell_type": "markdown",
   "metadata": {},
   "source": [
    "# NOME: Arthur Moreira Tamm"
   ]
  },
  {
   "cell_type": "markdown",
   "metadata": {},
   "source": [
    "___\n",
    "## Instruções\n",
    "\n",
    "**Leia atentamente as instruções desta avaliação. Essas devem ser seguidas rigorosamente!**\n",
    "\n",
    "**Prezado(a) Aluno(a),**\n",
    "\n",
    "Dia da prova **dia 14/06** das 13h30 às 15h50.\n",
    "\n",
    "Esta avaliação terá as seguintes etapas:\n",
    "\n",
    "**13h30 às 13h40**\n",
    "       \n",
    " * **(10 minutos) - PROCTORIO:** Entre no Blackboard e inicie o teste em `Conteúdos/Avaliações/Avaliação (A4)/A4 (Proctorio e Arquivos)`. Caso não ative esse teste em até 10 minutos do início da prova (ou seja, até às 13h40), não terá mais direito de entregar essa prova, obtendo falta na mesma.\n",
    "\n",
    "\n",
    "**13h40 às 15h40**  \n",
    "\n",
    " * **(120 minutos) - Desenvolvimento da prova:** Concentre-se em resolver o notebook.\n",
    " * ATENÇÃO: administre esse tempo da maneira que julgar mais adequada para você. **NÃO utilize o cronômetro do Proctorio como referência, mas sim o tempo 120 minutos de prova para realização da prova.**\n",
    "\n",
    "\n",
    "**15h40 às 15h50**  \n",
    " * **(10 minutos) - Entrega via Blackboard - Notebook:** O arquivo `.ipynb` deve ser entregue em `Conteúdos/Avaliações/Avaliação (A4)/Entrega da prova`. \n",
    " * ATENÇÃO: **finalize o proctorio APENAS após anexar a avaliação no Blackboard.**\n",
    "\n",
    "\n",
    "<br>\n",
    "\n",
    "Leia atentamente as instruções a seguir e as questões da prova antes de começar a resolvê-la."
   ]
  },
  {
   "cell_type": "markdown",
   "metadata": {},
   "source": [
    "#### Avisos GERAIS: \n",
    "\n",
    "1. Identifique-se no cabeçalho deste arquivo. Essa prova é INDIVIDUAL.\n",
    "1. Você terá 120 minutos a partir do início oficial da prova para concluir esta avaliação, administre bem o seu tempo. Leia atentamente as instruções a seguir e as questões da prova antes de começar a resolvê-la. \n",
    "\n",
    "1. Esta avaliação:\n",
    "  * **PERMITE consulta de material do Blackboard e material on-line (usar navegador para pesquisas no Google, por exemplo)**. \n",
    "  * **NÃO PERMITE consulta de caderno ou qualquer outro material físico.**\n",
    "  * **NÃO PERMITE consulta a colegas (presencial ou remotamente), ou seja, não é permitido ter alguém ao seu lado assim como não é permitido conversar pelo WhatsApp, enviar e-mail ou qualquer outro formato em que converse com outra pessoa**. \n",
    "  * **PERMITE UTILIZAR APENAS UM COMPUTADOR NO QUAL ESTARÁ REALIZANDO A PROVA.**\n",
    "  * **NÃO PERMITE utilizar CELULAR, TABLET, SEGUNDO COMPUTADOR (ou NOTEBOOK) ou qualquer outro aparelho eletrônico no momento da prova.**\n",
    "  * **O desrespeito as essas regras constituirá violação ao Código de Ética e de Conduta e acarretará sanções nele previstas. Faça o seu trabalho de maneira ética!** \n",
    "\n",
    "1. Sua prova utilizará o sistema de Proctoring.  Para instalar a extensão, acesse o site https://getproctorio.com/ pelo Google Chrome e siga os passos indicados. Caso tenha dúvidas ou dificuldades, avise seu professor pelo chat e entre em contato com o Help Desk por meio de abertura de chamado ou pelo telefone (11) 4504-2550.\n",
    "Para realizar a prova será necessário:\n",
    "  *\tUm desktop ou um notebook com qualquer sistema operacional (dispositivos móveis não serão aceitos)\n",
    "  *\tNavegador Google Chrome (o sistema funciona somente nele)\n",
    "  *\tExtensão da plataforma instalada (sem ela o sistema não funcionará)\n",
    "\n",
    "1. **É proibido o uso de fones de ouvido durante toda a prova. Não leia as questões em voz alta. Não ouvir música.**\n",
    "1. **ENTREGA DO ARQUIVO**: Antes de sair da prova, garanta que entregou a prova no link indicado. Verifique se o arquivo das questões resolvidas teve seu upload concluído e que fechou o teste ao final. Você é o responsável pela entrega adequada de todas as questões de sua prova. Avaliações entregues fora do prazo não serão aceitas para correção.\n",
    "1. Caso precise se ausentar da prova para ir ao banheiro, comunique o(a) professor(a). Lembre-se de ser rápido e retornar prontamente à prova."
   ]
  },
  {
   "cell_type": "markdown",
   "metadata": {},
   "source": [
    "#### Avisos sobre desenvolvimento da prova:\n",
    "\n",
    "1. Esta Avaliação consiste em responder um arquivo Jupyter que será anexado ao Blackboard ao final da prova.\n",
    "1. Leia atentamente as **Precauções de segurança** abaixo para evitar ter sua prova anulada.\n",
    "1. Você não pode compartilhar material com seus colegas durante a prova.\n",
    "1. Em caso de dúvida sobre alguma questão desta avaliação, redija um texto em uma nova célula deste Jupyter notebook explicitando-a para que o professor avalie a pertinência durante a correção.  \n",
    "1. Leia atentamente cada questão e responda o que for pedido. Erros conceituais serão penalizados, mesmo que o conceito não se relacione com o que foi pedido na questão.\n",
    "1. Caso em algum item você necessite do resultado de um item anterior que você não conseguiu fazer, admita um valor razoável para esse resultado e faça o item normalmente. Indique na questão, caso isso aconteça.\n",
    "1. Todos os resultados devem ser justificados. Números que apareçam sem uma explicação de como foram encontrados serão ignorados na correção.\n",
    "1. **A qualidade do código na resolução em cada item também será levada em consideração, ou seja, códigos complicados para soluções que podem ser simples serão penalizados.**\n",
    "1. Esta avaliação requer **entrega via Blackboard**. **Não serão consideradas entregas por outros meios** (ex: e-mail, MS Teams, etc.)."
   ]
  },
  {
   "cell_type": "markdown",
   "metadata": {},
   "source": [
    "#### Precauções de segurança:\n",
    "\n",
    "1.\tTodas as precauções abaixo podem ser resumidas da seguinte forma: consulte o material que quiser desde que não seja nenhuma pessoa ou material físico. E não compartilhe informações com ninguém durante a prova. \n",
    "2.\tVocê não pode enviar nenhum tipo de mensagem durante a prova para qualquer pessoa dentro ou fora dela, com exceção do(a) professor(a). Por exemplo: e-mail, Skype, mensagens do Facebook, mensagens do WhatsApp, mensagens via Twitter, etc\n",
    "3.\tVocê não pode compartilhar nenhum tipo de informação em nenhum site, incluindo Pastebin, Codeshare, wikis, etc\n",
    "4.\tVocê não pode perguntar questões da prova no StackOverflow, StackExchange, MathExchange, etc. \n",
    "5.\tVocê pode procurar/tirar dúvida no Google.\n",
    "6.\tVocê pode consultar qualquer arquivo no seu computador.\n",
    "7.  Você pode usar folha de sulfite da sala solicitando ao professor. Escreva seu nome na mesma com letras grandes.\n",
    "8.\tQualquer transgressão das normas acima pode zerar a nota da prova e implicar em infração ao código de ética do Insper."
   ]
  },
  {
   "cell_type": "markdown",
   "metadata": {},
   "source": [
    "___\n",
    "<div id=\"indice\"></div>\n",
    "\n",
    "## Índice\n",
    "\n",
    "- [DEFINIÇÃO DE RETORNO](#retorno) **Contexto para as Perguntas 1 e 2**\n",
    "\n",
    "<br>\n",
    "\n",
    "- [FUNDOS DE INVESTIMENTO](#fundos)\n",
    "\n",
    "  [PERGUNTA 1](#p1) **[2,50 pontos]**\n",
    "    - [item (a)](#p1a)\n",
    "    - [item (b)](#p1b)\n",
    "    - [item (c)](#p1c)\n",
    "    - [item (d)](#p1d)\n",
    "\n",
    "    \n",
    "<br>\n",
    "\n",
    "- [BANCO DO BRASIL](#bb)\n",
    "    - [Base de dados](#df)\n",
    "    \n",
    "  [PERGUNTA 2](#p2) **[3,00 pontos]**\n",
    "    - [item (a)](#p2a)\n",
    "    - [item (b)](#p2b)\n",
    "    - [item (c)](#p2c)\n",
    "    - [item (d)](#p2d)\n",
    "\n",
    "<br>\n",
    "\n",
    "- [PROCESSO SELETIVO](#seletivo)\n",
    "\n",
    "  [PERGUNTA 3](#p3) **[4,50 pontos]**\n",
    "    - [item (a)](#p3a)\n",
    "    - [item (b)](#p3b)\n",
    "    - [item (c)](#p3c)\n",
    "    - [item (d)](#p3d)\n",
    "    - [item (e)](#p3e)\n",
    "    - [item (f)](#p3f)\n",
    "    - [item (g)](#p3g)\n"
   ]
  },
  {
   "cell_type": "code",
   "execution_count": 1,
   "metadata": {},
   "outputs": [],
   "source": [
    "# %matplotlib inline\n",
    "import os\n",
    "\n",
    "import math\n",
    "from math import sqrt\n",
    "\n",
    "import matplotlib.pyplot as plt\n",
    "import numpy as np\n",
    "from numpy import arange\n",
    "import pandas as pd\n",
    "\n",
    "from IPython.display import display  # Para ter melhor print.\n",
    "\n",
    "import scipy.stats as stats\n",
    "from scipy.stats import t, norm, probplot\n",
    "\n",
    "import statsmodels.api as sm"
   ]
  },
  {
   "cell_type": "markdown",
   "metadata": {},
   "source": [
    "___\n",
    "<div id=\"retorno\"></div>\n",
    "\n",
    "### DEFINIÇÃO DE RETORNO\n",
    "\n",
    "<img src=\"mercado_financeiro.jpg\" style=\"width: 500px;\"/>\n",
    "\n",
    "\"O retorno no mercado financeiro diz respeito a quanto você espera ter de retorno no investimento que realizou. No Brasil, o retorno pode ser mensurado com base na variação do índice BOVESPA que, por sua vez, mede a carteira de ações negociadas na B3 – Bolsa de Valores Brasileira.\" Fonte: [aqui](https://www.remessaonline.com.br/blog/riscos-ao-investir/)\n",
    "\n",
    "O **valor do retorno de uma ação ou carteira** indica o quanto seu dinheiro variou \"hoje\" comparado ao preço de \"ontem\".\n",
    "Assim, entenda que:\n",
    " * se o retorno de uma ação, em um determinado dia, vale **+0,001** significa que o dinheiro aplicado **aumentou em 0,1%** comparado ao dia anterior; e\n",
    " * se o retorno de uma ação, em um determinado dia, vale **-0,001** significa que o dinheiro aplicado **diminuiu em 0,1%** comparado ao dia anterior. \n",
    " \n",
    "Ainda, uma **medida de risco do investimento** em uma ação ou carteira, usualmente, é dada pelo **desvio padrão dos retornos**.\n",
    "\n",
    "O texto acima pode ser útil para ajudar na compreensão da [Pergunta 1](#p1) e da [Pergunta 2](#p2)."
   ]
  },
  {
   "cell_type": "markdown",
   "metadata": {},
   "source": [
    "___\n",
    "<div id=\"fundos\"></div>\n",
    "\n",
    "## Fundos de Investimentos\n",
    "<img src=\"fundos_investimentos.jpg\" style=\"width: 500px;\"/>\n",
    "\n",
    "Fonte: extraído da internet"
   ]
  },
  {
   "cell_type": "markdown",
   "metadata": {},
   "source": [
    "___\n",
    "<div id=\"p1\"></div>\n",
    "\n",
    "### PERGUNTA 1 (2,50 pontos)\n",
    "\n",
    "Entre os diversos fundos de investimento financeiro que um determinado banco brasileiro oferece, quatro são de grande procura por investidores. Segue abaixo, informações sobre os possíveis retornos diários.\n",
    "\n",
    " * **Fundo de investimento X**: Os retornos diários seguem uma **distribuição normal** com média **-0,00135** e desvio padrão igual a **0,02210**. \n",
    "   \n",
    "<p>\n",
    "    \n",
    " * **Fundo de investimento Y**: Os retornos diários seguem uma **distribuição normal** com média **0,00035** e desvio padrão igual a **0,02665**. \n",
    "   \n",
    "<p>\n",
    "\n",
    " * **Fundo de investimento W**: Os retornos diários seguem uma **distribuição normal** com média **0,00125** e desvio padrão igual a **0,01625**. \n",
    "   \n",
    "<p>\n",
    "\n",
    " * **Fundo de investimento U**: Os retornos diários seguem uma **distribuição uniforme** entre os intervalos **-0,0900** e **0,0700**.\n",
    "   \n",
    "<p>\n",
    " \n",
    "Todas essas variáveis são independentes entre si, com exceção das variáveis Y e W. O coeficiente de correlação entre Y e W é 0,65.\n"
   ]
  },
  {
   "cell_type": "markdown",
   "metadata": {},
   "source": [
    "**ATENÇÃO:** A célula abaixo contém os numéros citados no enunciado acima. Caso facilite, remova o # e use essas informações numéricas de maneira adequada para resolver os itens a seguir."
   ]
  },
  {
   "cell_type": "code",
   "execution_count": 7,
   "metadata": {},
   "outputs": [],
   "source": [
    "# Enunciado\n",
    "# X ~ Normal\n",
    "mux = -0.00135\n",
    "dpx = 0.02210\n",
    "\n",
    "# Y ~ Normal\n",
    "muy =  0.00035\n",
    "dpy =  0.02665\n",
    "\n",
    "# W ~ Normal\n",
    "muw =  0.00125\n",
    "dpw =  0.01625\n",
    "\n",
    "# U ~ Uniforme\n",
    "a =  -0.09\n",
    "b =  0.07\n",
    "\n",
    "# Correlação entre Y e W\n",
    "# 0.65"
   ]
  },
  {
   "cell_type": "markdown",
   "metadata": {},
   "source": [
    "**Responda:**"
   ]
  },
  {
   "cell_type": "markdown",
   "metadata": {},
   "source": [
    "<div id=\"p1a\"></div>\n",
    "\n",
    "**a) (0,50 ponto)** \n",
    "Se, em um determinado dia, o retorno do fundo de investimento **X** for positivo, qual a probabilidade de que esse valor seja abaixo de 0,03?"
   ]
  },
  {
   "cell_type": "code",
   "execution_count": 5,
   "metadata": {},
   "outputs": [
    {
     "data": {
      "text/plain": [
       "-0.009749999999999995"
      ]
     },
     "execution_count": 5,
     "metadata": {},
     "output_type": "execute_result"
    }
   ],
   "source": [
    "# Seu código Python aqui!\n",
    "E = mux + muy + muw + stats.uniform.mean(loc = a, scale = b-a)\n",
    "E"
   ]
  },
  {
   "cell_type": "raw",
   "metadata": {},
   "source": [
    "cov = corr * dpy * dpw"
   ]
  },
  {
   "cell_type": "code",
   "execution_count": 13,
   "metadata": {},
   "outputs": [
    {
     "data": {
      "text/plain": [
       "0.06449038365007091"
      ]
     },
     "execution_count": 13,
     "metadata": {},
     "output_type": "execute_result"
    }
   ],
   "source": [
    "var_yw = dpy**2 + dpw**2 + 2*(0.65*dpy*dpw)\n",
    "\n",
    "var = dpx**2 + stats.uniform.var(loc=a, scale=b-a) + var_yw\n",
    "\n",
    "dp = var**0.5\n",
    "dp"
   ]
  },
  {
   "cell_type": "raw",
   "metadata": {},
   "source": [
    "P(retorno < 0.03 / retorno > 0)"
   ]
  },
  {
   "cell_type": "code",
   "execution_count": 14,
   "metadata": {},
   "outputs": [
    {
     "name": "stdout",
     "output_type": "stream",
     "text": [
      "A probabilidade é 0.3889160356984825\n"
     ]
    }
   ],
   "source": [
    "prob = (stats.norm.cdf(0.03, loc=E, scale=dp) - stats.norm.cdf(0, loc=E, scale=dp))/(1 - stats.norm.cdf(0, loc=E, scale=dp))\n",
    "print(f'A probabilidade é {prob}')"
   ]
  },
  {
   "cell_type": "markdown",
   "metadata": {},
   "source": [
    "<div id=\"p1b\"></div>\n",
    "\n",
    "**b) (0,50 ponto)** \n",
    "Qual a probabilidade dos fundos de investimento **X** e **Y** terem retornos positivos em um mesmo dia?"
   ]
  },
  {
   "cell_type": "code",
   "execution_count": 127,
   "metadata": {},
   "outputs": [],
   "source": [
    "# Seu código Python aqui!"
   ]
  },
  {
   "cell_type": "raw",
   "metadata": {},
   "source": [
    "X > 0 e Y > 0"
   ]
  },
  {
   "cell_type": "code",
   "execution_count": 18,
   "metadata": {},
   "outputs": [
    {
     "name": "stdout",
     "output_type": "stream",
     "text": [
      "Essa probabilidade será 0.2403147060161092\n"
     ]
    }
   ],
   "source": [
    "probX = 1 - stats.norm.cdf(0, loc = mux, scale = dpx)\n",
    "probY = 1 - stats.norm.cdf(0, loc = muy, scale = dpy)\n",
    "\n",
    "prob_final = probX * probY\n",
    "print(f'Essa probabilidade será {prob_final}')"
   ]
  },
  {
   "cell_type": "markdown",
   "metadata": {},
   "source": [
    "<div id=\"p1c\"></div>\n",
    "\n",
    "**c) (0,75 ponto)** \n",
    "Paul e Emma são dois clientes desse banco de investimento e cada um resolve montar uma carteira de investimento. \n",
    "Paul irá aplicar 30% de seu dinheiro em **Y** e 70% do seu dinheiro em **W**.\n",
    "Já Emma irá aplicar 80% de seu dinheiro em **W** e 20% do seu dinheiro em **U**.\n",
    "\n",
    "Desse modo, a carteira de cada um desses dois clientes será dada por:\n",
    " * **Carteira de Paul**: retorno diário na aplicação total é dado por **0,30 * Y + 0,70 * W**\n",
    " * **Carteira de Emma**: retorno diário na aplicação total é dado por **0,80 * W + 0,20 * U**\n",
    " \n",
    "Verifique qual a carteira que possui maior risco (releia o [Definição de retorno](#retorno) caso haja dúvida). \n",
    "Justifique numericamente sua escolha."
   ]
  },
  {
   "cell_type": "code",
   "execution_count": 19,
   "metadata": {},
   "outputs": [
    {
     "name": "stdout",
     "output_type": "stream",
     "text": [
      "0.017650402615804545\n",
      "0.015947831618540916\n"
     ]
    }
   ],
   "source": [
    "# Seu código Python aqui!\n",
    "cov_yw = 0.65 * dpy * dpw\n",
    "var_paul = 0.3**2 * dpy**2 + 0.7**2 * dpw**2 + 2*0.3*0.7*cov_yw\n",
    "dp_paul = var_paul**0.5\n",
    "\n",
    "var_emma = 0.8**2 * dpw**2 + 0.2**2 * stats.uniform.var(loc=a, scale=b-a)\n",
    "dp_emma = var_emma**0.5\n",
    "\n",
    "print(dp_paul)\n",
    "print(dp_emma)"
   ]
  },
  {
   "cell_type": "raw",
   "metadata": {},
   "source": [
    "O desvio padrão da carteira de Paul é maior do que o desvio padrão da carteira de Emma (0.01765 > 0.01594). Logo, a carteira de Paul possui o maior risco."
   ]
  },
  {
   "cell_type": "markdown",
   "metadata": {},
   "source": [
    "<div id=\"p1d\"></div>\n",
    "\n",
    "**d) (0,75 ponto)** **Simulação -** Faça cada uma das etapas a seguir: \n",
    "  * Simular 1000 valores de retornos diários do fundo de investimento **W**\n",
    "  * Simular 1000 valores de retornos diários do fundo de investimento **U**\n",
    "  * A cada linha, calcular o retorno da carteira de Emma, ou seja, calcular o valor do retorno dado por:  **0,80 * W + 0,20 * U**\n",
    "  \n",
    "Considerando os valores dos retornos da carteira de Emma, qual o retorno médio e respectivo desvio padrão?  \n",
    "Você aplicaria seu dinheiro na carteira formada por Emma? Justifique seu \"Sim\" ou seu \"Não\"."
   ]
  },
  {
   "cell_type": "code",
   "execution_count": 20,
   "metadata": {},
   "outputs": [],
   "source": [
    "# Seu código Python aqui!\n",
    "retornos_emma = []\n",
    "\n",
    "for i in range(1000):\n",
    "    w = stats.norm.rvs(loc = muw, scale = dpw)\n",
    "    u = stats.uniform.rvs(loc=a, scale=b-a)\n",
    "    retorno = 0.8*w + 0.2*u\n",
    "    \n",
    "    retornos_emma.append(retorno)"
   ]
  },
  {
   "cell_type": "code",
   "execution_count": 25,
   "metadata": {
    "scrolled": false
   },
   "outputs": [
    {
     "name": "stdout",
     "output_type": "stream",
     "text": [
      "O retorno médio da carteira de Emma é -0.0001799193422930359\n",
      "O desvio padrão da carteira de Emma é 0.016045499235108292\n"
     ]
    }
   ],
   "source": [
    "print(f'O retorno médio da carteira de Emma é {np.mean(retornos_emma)}')\n",
    "print(f'O desvio padrão da carteira de Emma é {np.std(retornos_emma)}')"
   ]
  },
  {
   "cell_type": "code",
   "execution_count": 28,
   "metadata": {},
   "outputs": [],
   "source": [
    "e_emma = np.mean(retornos_emma)\n",
    "dp_emma = np.std(retornos_emma)"
   ]
  },
  {
   "cell_type": "code",
   "execution_count": 30,
   "metadata": {},
   "outputs": [
    {
     "data": {
      "text/plain": [
       "0.5044732748758707"
      ]
     },
     "execution_count": 30,
     "metadata": {},
     "output_type": "execute_result"
    }
   ],
   "source": [
    "stats.norm.cdf(0, loc = e_emma, scale = dp_emma)"
   ]
  },
  {
   "cell_type": "raw",
   "metadata": {},
   "source": [
    "Não aplicaria meu dinheiro na carteira formada por Emma, uma vez que em aproximadamente 50.45% dos dias meu retorno seria menor do que 0, o que não é interessante para mim."
   ]
  },
  {
   "cell_type": "markdown",
   "metadata": {},
   "source": [
    "[Volta ao Índice](#indice)"
   ]
  },
  {
   "cell_type": "markdown",
   "metadata": {},
   "source": [
    "___\n",
    "<div id=\"bb\"></div>\n",
    "\n",
    "## Ações do Banco do Brasil\n",
    "<img src=\"acoesBB.jpg\" style=\"width: 500px;\"/>\n",
    "\n",
    "Fonte: extraído da internet"
   ]
  },
  {
   "cell_type": "markdown",
   "metadata": {},
   "source": [
    "___\n",
    "<div id=\"df\"></div>\n",
    "\n",
    "**BASE DE DADOS**\n",
    "\n",
    "Para a Pergunta [2](#p2), vamos utilizar a seguinte base de dados:"
   ]
  },
  {
   "cell_type": "code",
   "execution_count": 58,
   "metadata": {},
   "outputs": [
    {
     "name": "stdout",
     "output_type": "stream",
     "text": [
      "Esperamos trabalhar no diretório\n",
      "C:\\Users\\arthu\\Downloads\n"
     ]
    }
   ],
   "source": [
    "print(\"Esperamos trabalhar no diretório\")\n",
    "print(os.getcwd())"
   ]
  },
  {
   "cell_type": "code",
   "execution_count": 59,
   "metadata": {},
   "outputs": [
    {
     "name": "stdout",
     "output_type": "stream",
     "text": [
      "Parece que o arquivo retornos.xlsx está na mesma pasta do notebook da avaliação, yay!\n",
      "\n"
     ]
    }
   ],
   "source": [
    "filename = 'retornos.xlsx'\n",
    "\n",
    "if filename in os.listdir():\n",
    "    print(f'Parece que o arquivo {filename} está na mesma pasta do notebook da avaliação, yay!\\n')\n",
    "    \n",
    "else:\n",
    "    print(f'Não encontrei o arquivo {filename}.\\n'\n",
    "          f'O notebook e os arquivos de dados desta avaliação devem ser salvos dentro da mesma pasta no seu computador.\\n')"
   ]
  },
  {
   "cell_type": "code",
   "execution_count": 60,
   "metadata": {},
   "outputs": [],
   "source": [
    "# Carregando os dados e guardando em um dataframe nomeado df\n",
    "retornos = pd.read_excel(filename)"
   ]
  },
  {
   "cell_type": "code",
   "execution_count": 61,
   "metadata": {},
   "outputs": [
    {
     "data": {
      "text/html": [
       "<div>\n",
       "<style scoped>\n",
       "    .dataframe tbody tr th:only-of-type {\n",
       "        vertical-align: middle;\n",
       "    }\n",
       "\n",
       "    .dataframe tbody tr th {\n",
       "        vertical-align: top;\n",
       "    }\n",
       "\n",
       "    .dataframe thead th {\n",
       "        text-align: right;\n",
       "    }\n",
       "</style>\n",
       "<table border=\"1\" class=\"dataframe\">\n",
       "  <thead>\n",
       "    <tr style=\"text-align: right;\">\n",
       "      <th></th>\n",
       "      <th>dia</th>\n",
       "      <th>BBAS3</th>\n",
       "    </tr>\n",
       "  </thead>\n",
       "  <tbody>\n",
       "    <tr>\n",
       "      <th>0</th>\n",
       "      <td>2022-03-07</td>\n",
       "      <td>-0.043715</td>\n",
       "    </tr>\n",
       "    <tr>\n",
       "      <th>1</th>\n",
       "      <td>2022-05-05</td>\n",
       "      <td>-0.026325</td>\n",
       "    </tr>\n",
       "    <tr>\n",
       "      <th>2</th>\n",
       "      <td>2022-01-03</td>\n",
       "      <td>-0.001040</td>\n",
       "    </tr>\n",
       "    <tr>\n",
       "      <th>3</th>\n",
       "      <td>2022-01-05</td>\n",
       "      <td>-0.016778</td>\n",
       "    </tr>\n",
       "    <tr>\n",
       "      <th>4</th>\n",
       "      <td>2022-04-05</td>\n",
       "      <td>-0.026841</td>\n",
       "    </tr>\n",
       "  </tbody>\n",
       "</table>\n",
       "</div>"
      ],
      "text/plain": [
       "          dia     BBAS3\n",
       "0  2022-03-07 -0.043715\n",
       "1  2022-05-05 -0.026325\n",
       "2  2022-01-03 -0.001040\n",
       "3  2022-01-05 -0.016778\n",
       "4  2022-04-05 -0.026841"
      ]
     },
     "execution_count": 61,
     "metadata": {},
     "output_type": "execute_result"
    }
   ],
   "source": [
    "# Visualizando as primeiras linhas do dataframe\n",
    "retornos.head()"
   ]
  },
  {
   "cell_type": "markdown",
   "metadata": {},
   "source": [
    "___\n",
    "<div id=\"p2\"></div>\n",
    "\n",
    "### PERGUNTA 2  (2,50 pontos)\n",
    "\n",
    "Um investidor está com dúvidas se deve investir seu dinheiro nas ações do Banco do Brasil, já que procura um investimento que traga um retorno médio diário maior do que zero para sua aplicação.\n",
    "\n",
    "A coluna `BBAS3` do *dataframe* `retornos` traz os retornos do Banco do Brasil mensurados de janeiro a maio deste ano.\n",
    "Use esses dados como uma amostra para verificar se esse investidor deve aplicar seu dinheiro nas ações do Banco do Brasil.\n",
    "\n",
    "Assim, conduza um teste de hipóteses adequado, deixando bem claro todos os passos da construção. \n",
    "\n",
    "**Responda:**"
   ]
  },
  {
   "cell_type": "markdown",
   "metadata": {},
   "source": [
    "<div id=\"p2a\"></div>\n",
    "\n",
    "**a) (0,50 ponto)** Escreva as hipóteses nula e alternativa em termos do problema e em termos do parâmetro média populacional.\n"
   ]
  },
  {
   "cell_type": "raw",
   "metadata": {},
   "source": [
    "# Edite sua resposta aqui!\n",
    "\n",
    "H0: X <= 0 \n",
    "H1: X > 0"
   ]
  },
  {
   "cell_type": "markdown",
   "metadata": {},
   "source": [
    "<div id=\"p2b\"></div>\n",
    "\n",
    "**b) (1,00 ponto)** Construa a Região Crítica do teste de hipóteses assumindo $\\alpha =0.05$ e faça uma conclusão em termos do problema."
   ]
  },
  {
   "cell_type": "raw",
   "metadata": {},
   "source": [
    "Utilizaremos a distribuição t-student, uma vez que não temos o desvio padrão populacional. Como a hipótese alternativa é X > 0, nossa região crítica será dada por 1 - alpha"
   ]
  },
  {
   "cell_type": "code",
   "execution_count": 51,
   "metadata": {},
   "outputs": [
    {
     "name": "stderr",
     "output_type": "stream",
     "text": [
      "C:\\Users\\arthu\\AppData\\Local\\Temp/ipykernel_46520/1684138923.py:5: FutureWarning: Dropping of nuisance columns in DataFrame reductions (with 'numeric_only=None') is deprecated; in a future version this will raise TypeError.  Select only valid columns before calling the reduction.\n",
      "  xbarra = retornos.mean()[0]\n",
      "C:\\Users\\arthu\\AppData\\Local\\Temp/ipykernel_46520/1684138923.py:6: FutureWarning: Dropping of nuisance columns in DataFrame reductions (with 'numeric_only=None') is deprecated; in a future version this will raise TypeError.  Select only valid columns before calling the reduction.\n",
      "  s = retornos.std(ddof=1)[0]\n"
     ]
    },
    {
     "data": {
      "text/plain": [
       "0.9839630148350598"
      ]
     },
     "execution_count": 51,
     "metadata": {},
     "output_type": "execute_result"
    }
   ],
   "source": [
    "# Seu código Python aqui!\n",
    "a = 0.05\n",
    "mu = 0\n",
    "n = len(retornos)\n",
    "xbarra = retornos.mean()[0]\n",
    "s = retornos.std(ddof=1)[0]\n",
    "t_obs = (xbarra - mu)/(s/n**0.5)\n",
    "\n",
    "t_obs"
   ]
  },
  {
   "cell_type": "code",
   "execution_count": 54,
   "metadata": {},
   "outputs": [
    {
     "name": "stdout",
     "output_type": "stream",
     "text": [
      " Valor observado não está na região crítica (0.9839630148350598 < 1.6588241874019427)\n"
     ]
    }
   ],
   "source": [
    "t_c = stats.t.ppf(1-a, df = n-1)\n",
    "\n",
    "print(f' Valor observado não está na região crítica ({t_obs} < {t_c})')"
   ]
  },
  {
   "cell_type": "raw",
   "metadata": {},
   "source": [
    "Não é possível rejeitar H0, uma vez que o valor observado não está na região crítica."
   ]
  },
  {
   "cell_type": "markdown",
   "metadata": {},
   "source": [
    "<div id=\"p2c\"></div>\n",
    "\n",
    "**c) (1,00 ponto)** Calcule o valor_p e faça novamente uma conclusão em termos do problema. "
   ]
  },
  {
   "cell_type": "code",
   "execution_count": 55,
   "metadata": {},
   "outputs": [
    {
     "data": {
      "text/plain": [
       "0.8363534972549056"
      ]
     },
     "execution_count": 55,
     "metadata": {},
     "output_type": "execute_result"
    }
   ],
   "source": [
    "# Seu código Python aqui!\n",
    "valor_p = stats.t.cdf(t_obs, df=n-1)\n",
    "valor_p"
   ]
  },
  {
   "cell_type": "raw",
   "metadata": {},
   "source": [
    "Novamente concluímos que não é possível rejeitar H0, uma vez que o valor_p é maior do que alpha (0.8363 > 0.05)"
   ]
  },
  {
   "cell_type": "markdown",
   "metadata": {},
   "source": [
    "<div id=\"p2d\"></div>\n",
    "\n",
    "**d) (0,50 ponto)** Para realizar o teste de hipóteses acima, são necessárias as suposições de **normalidade** da variável de interesse e de **amostra aleatória** para que as conclusões acima sejam confiáveis.\n",
    "\n",
    " * Faça um gráfico adequado para verificar se a suposição de normalidade da variável resposta está satisfeita. Interprete o gráfico.\n",
    " * A amostra contida no *dataframe* `retornos` satisfaz a suposição de **amostra aleatória** necessária para o teste? Por quê?"
   ]
  },
  {
   "cell_type": "code",
   "execution_count": 62,
   "metadata": {},
   "outputs": [],
   "source": [
    "lista = retornos['BBAS3']"
   ]
  },
  {
   "cell_type": "code",
   "execution_count": 64,
   "metadata": {
    "scrolled": true
   },
   "outputs": [
    {
     "data": {
      "image/png": "[encoded data removed]",
      "text/plain": [
       "<Figure size 432x288 with 1 Axes>"
      ]
     },
     "metadata": {
      "needs_background": "light"
     },
     "output_type": "display_data"
    }
   ],
   "source": [
    "# Seu código Python aqui!\n",
    "stats.probplot(lista, dist = 'norm', plot = plt);"
   ]
  },
  {
   "cell_type": "code",
   "execution_count": 137,
   "metadata": {},
   "outputs": [
    {
     "data": {
      "text/plain": [
       "array(0.00030248)"
      ]
     },
     "execution_count": 137,
     "metadata": {},
     "output_type": "execute_result"
    }
   ],
   "source": [
    "np.cov(lista)"
   ]
  },
  {
   "cell_type": "raw",
   "metadata": {},
   "source": [
    "# Edite sua resposta aqui!\n",
    "Observamos, através do gráfico acima, que a distribuição dos retornos se aproxima de uma normal. A reta ideal da distribuição normal é a vermelha e os pontos azuis são os retornos diários do Bando do Brasil. Como esses pontos se aproximam bastante da reta, concluímos que se aproxima de uma distribuição normal.\n",
    "\n",
    "Além disso, os retornos não são aleatórios entre si, uma vez que os mesmos fatores externos que fazem o preço cair em um determinado dia, continuarão influenciando o preço no dia seguinte, o que mostra que não há uma independência perfeita entre os retornos diários."
   ]
  },
  {
   "cell_type": "markdown",
   "metadata": {},
   "source": [
    "[Volta ao Índice](#indice)"
   ]
  },
  {
   "cell_type": "markdown",
   "metadata": {},
   "source": [
    "___\n",
    "<div id=\"seletivo\"></div>\n",
    "\n",
    "## Processo Seletivo\n",
    "\n",
    "<img src=\"entrevista_emprego.jpg\"  style=\"width: 500px;\"/>\n",
    "Fonte: extraído da internet"
   ]
  },
  {
   "cell_type": "markdown",
   "metadata": {},
   "source": [
    "<div id=\"p3\"></div>\n",
    "\n",
    "### PERGUNTA 3  (4,50 pontos)\n",
    "\n",
    "Uma dificuldade das empresas é selecionar candidatos adequados para as vagas. Uma empresa deseja entender quais são os fatores associados ao desempenho de um candidato selecionado para determinado cargo ou vaga. Para isto, construiu uma base de dados com informações de $6.000$ candidatos que foram selecionados, contendo as seguintes variáveis:\n",
    "\n",
    "- `VAGA`: um inteiro que identifica a vaga\n",
    "- `ID`: um inteiro que identifica o candidato\n",
    "- `IDADE`: idade do candidato\n",
    "- `MBA`: $0$ se não tem MBA, $1$ se tem\n",
    "- `PHD`: $0$ se não tem doutorado, $1$ se tem\n",
    "- `CLOUD_CERT`: $0$ se não tem certificação para tecnologias nuvem, $1$ se tem\n",
    "- `SGBD_CERT`: $0$ se não tem certificação para sistemas de bancos de dados, $1$ se tem\n",
    "- `HORAS_ESTUDO`: horas semanais dedicadas a estudo\n",
    "- `QT_FILHOS`: quantidade de filhos\n",
    "- `CNH`: $0$ se não tem carteira de motorista, $1$ se tem\n",
    "- `ANOS_EXP`: anos de experiência na área de atuação\n",
    "- `SCORE`: pontuação em teste de desempenho após um ano na vaga/cargo"
   ]
  },
  {
   "cell_type": "markdown",
   "metadata": {},
   "source": [
    "Então, você decidiu utilizar modelos de regressão linear para:\n",
    "- Entender quais variáveis influenciam o desempenho do candidato (`SCORE`)\n",
    "- Prever qual seria o `SCORE` de um candidato com base em suas informações\n",
    "\n",
    "Para ter acesso aos dados, faça a leitura do arquivo `empregos.xlsx` em um Pandas DataFrame. Além disso, aconselhamos fazer a exibição do cabeçalho do DataFrame."
   ]
  },
  {
   "cell_type": "code",
   "execution_count": 68,
   "metadata": {},
   "outputs": [
    {
     "data": {
      "text/html": [
       "<div>\n",
       "<style scoped>\n",
       "    .dataframe tbody tr th:only-of-type {\n",
       "        vertical-align: middle;\n",
       "    }\n",
       "\n",
       "    .dataframe tbody tr th {\n",
       "        vertical-align: top;\n",
       "    }\n",
       "\n",
       "    .dataframe thead th {\n",
       "        text-align: right;\n",
       "    }\n",
       "</style>\n",
       "<table border=\"1\" class=\"dataframe\">\n",
       "  <thead>\n",
       "    <tr style=\"text-align: right;\">\n",
       "      <th></th>\n",
       "      <th>VAGA</th>\n",
       "      <th>ID</th>\n",
       "      <th>IDADE</th>\n",
       "      <th>MBA</th>\n",
       "      <th>PHD</th>\n",
       "      <th>CLOUD_CERT</th>\n",
       "      <th>SGBD_CERT</th>\n",
       "      <th>HORAS_ESTUDO</th>\n",
       "      <th>QT_FILHOS</th>\n",
       "      <th>CNH</th>\n",
       "      <th>ANOS_EXP</th>\n",
       "      <th>SCORE</th>\n",
       "    </tr>\n",
       "  </thead>\n",
       "  <tbody>\n",
       "    <tr>\n",
       "      <th>0</th>\n",
       "      <td>1</td>\n",
       "      <td>0</td>\n",
       "      <td>33.668398</td>\n",
       "      <td>0</td>\n",
       "      <td>0</td>\n",
       "      <td>1</td>\n",
       "      <td>1</td>\n",
       "      <td>8.540663</td>\n",
       "      <td>0</td>\n",
       "      <td>1</td>\n",
       "      <td>12.892250</td>\n",
       "      <td>106.358623</td>\n",
       "    </tr>\n",
       "    <tr>\n",
       "      <th>1</th>\n",
       "      <td>0</td>\n",
       "      <td>1</td>\n",
       "      <td>36.768594</td>\n",
       "      <td>0</td>\n",
       "      <td>1</td>\n",
       "      <td>1</td>\n",
       "      <td>0</td>\n",
       "      <td>6.934269</td>\n",
       "      <td>0</td>\n",
       "      <td>0</td>\n",
       "      <td>13.729303</td>\n",
       "      <td>50.085858</td>\n",
       "    </tr>\n",
       "    <tr>\n",
       "      <th>2</th>\n",
       "      <td>0</td>\n",
       "      <td>2</td>\n",
       "      <td>40.380400</td>\n",
       "      <td>0</td>\n",
       "      <td>1</td>\n",
       "      <td>0</td>\n",
       "      <td>1</td>\n",
       "      <td>7.050609</td>\n",
       "      <td>0</td>\n",
       "      <td>1</td>\n",
       "      <td>14.704491</td>\n",
       "      <td>43.824127</td>\n",
       "    </tr>\n",
       "    <tr>\n",
       "      <th>3</th>\n",
       "      <td>2</td>\n",
       "      <td>3</td>\n",
       "      <td>33.816752</td>\n",
       "      <td>1</td>\n",
       "      <td>0</td>\n",
       "      <td>1</td>\n",
       "      <td>1</td>\n",
       "      <td>8.207890</td>\n",
       "      <td>1</td>\n",
       "      <td>0</td>\n",
       "      <td>12.932306</td>\n",
       "      <td>156.580244</td>\n",
       "    </tr>\n",
       "    <tr>\n",
       "      <th>4</th>\n",
       "      <td>1</td>\n",
       "      <td>4</td>\n",
       "      <td>33.956016</td>\n",
       "      <td>1</td>\n",
       "      <td>0</td>\n",
       "      <td>0</td>\n",
       "      <td>0</td>\n",
       "      <td>7.801474</td>\n",
       "      <td>2</td>\n",
       "      <td>1</td>\n",
       "      <td>12.969907</td>\n",
       "      <td>80.263092</td>\n",
       "    </tr>\n",
       "  </tbody>\n",
       "</table>\n",
       "</div>"
      ],
      "text/plain": [
       "   VAGA  ID      IDADE  MBA  PHD  CLOUD_CERT  SGBD_CERT  HORAS_ESTUDO  \\\n",
       "0     1   0  33.668398    0    0           1          1      8.540663   \n",
       "1     0   1  36.768594    0    1           1          0      6.934269   \n",
       "2     0   2  40.380400    0    1           0          1      7.050609   \n",
       "3     2   3  33.816752    1    0           1          1      8.207890   \n",
       "4     1   4  33.956016    1    0           0          0      7.801474   \n",
       "\n",
       "   QT_FILHOS  CNH   ANOS_EXP       SCORE  \n",
       "0          0    1  12.892250  106.358623  \n",
       "1          0    0  13.729303   50.085858  \n",
       "2          0    1  14.704491   43.824127  \n",
       "3          1    0  12.932306  156.580244  \n",
       "4          2    1  12.969907   80.263092  "
      ]
     },
     "execution_count": 68,
     "metadata": {},
     "output_type": "execute_result"
    }
   ],
   "source": [
    "# Utilize esta célula para ler os dados\n",
    "dados = pd.read_excel('empregos.xlsx')\n",
    "dados.head()"
   ]
  },
  {
   "cell_type": "markdown",
   "metadata": {},
   "source": [
    "<div id=\"p3atencao\"></div>\n",
    "\n",
    "### Atenção!\n",
    "\n",
    "A base de dados contém informações de três `VAGA` diferentes. Porém, você foi alocado para analisar apenas uma delas!\n",
    "\n",
    "Antes de começar, rode a célula abaixo e informe seu **usuário insper** (até antes da arroba) para descobrir em qual `VAGA` você deve focar sua análise!\n",
    "\n",
    "Exemplo: se o seu email insper for `jose5@al.insper.edu.br`, informe no campo abaixo `jose5` como seu usuário"
   ]
  },
  {
   "cell_type": "code",
   "execution_count": 69,
   "metadata": {
    "scrolled": true
   },
   "outputs": [
    {
     "name": "stdout",
     "output_type": "stream",
     "text": [
      "Informe seu usuário Insper (até antes da arroba, mas sem arroba): arthurmt\n",
      "\n",
      "Você deve trabalhar com a VAGA 2\n"
     ]
    }
   ],
   "source": [
    "# Não altere nada nesta célula, passível de desconto\n",
    "usuario = input('Informe seu usuário Insper (até antes da arroba, mas sem arroba): ').strip()\n",
    "\n",
    "vaga = 0\n",
    "for c in usuario:\n",
    "    vaga += ord(c)\n",
    "vaga %= 3\n",
    "\n",
    "print(f'\\nVocê deve trabalhar com a VAGA {vaga}')"
   ]
  },
  {
   "cell_type": "markdown",
   "metadata": {},
   "source": [
    "**Responda:**"
   ]
  },
  {
   "cell_type": "markdown",
   "metadata": {},
   "source": [
    "<div id=\"p3a\"></div>\n",
    "\n",
    "**a) (0,25 ponto)** Crie um novo DataFrame chamado `df_vaga`, contendo apenas os dados da `VAGA` em que você deve focar suas análises (indicada na [célula anterior](#p3atencao))"
   ]
  },
  {
   "cell_type": "code",
   "execution_count": 71,
   "metadata": {
    "scrolled": true
   },
   "outputs": [
    {
     "data": {
      "text/html": [
       "<div>\n",
       "<style scoped>\n",
       "    .dataframe tbody tr th:only-of-type {\n",
       "        vertical-align: middle;\n",
       "    }\n",
       "\n",
       "    .dataframe tbody tr th {\n",
       "        vertical-align: top;\n",
       "    }\n",
       "\n",
       "    .dataframe thead th {\n",
       "        text-align: right;\n",
       "    }\n",
       "</style>\n",
       "<table border=\"1\" class=\"dataframe\">\n",
       "  <thead>\n",
       "    <tr style=\"text-align: right;\">\n",
       "      <th></th>\n",
       "      <th>VAGA</th>\n",
       "      <th>ID</th>\n",
       "      <th>IDADE</th>\n",
       "      <th>MBA</th>\n",
       "      <th>PHD</th>\n",
       "      <th>CLOUD_CERT</th>\n",
       "      <th>SGBD_CERT</th>\n",
       "      <th>HORAS_ESTUDO</th>\n",
       "      <th>QT_FILHOS</th>\n",
       "      <th>CNH</th>\n",
       "      <th>ANOS_EXP</th>\n",
       "      <th>SCORE</th>\n",
       "    </tr>\n",
       "  </thead>\n",
       "  <tbody>\n",
       "    <tr>\n",
       "      <th>3</th>\n",
       "      <td>2</td>\n",
       "      <td>3</td>\n",
       "      <td>33.816752</td>\n",
       "      <td>1</td>\n",
       "      <td>0</td>\n",
       "      <td>1</td>\n",
       "      <td>1</td>\n",
       "      <td>8.207890</td>\n",
       "      <td>1</td>\n",
       "      <td>0</td>\n",
       "      <td>12.932306</td>\n",
       "      <td>156.580244</td>\n",
       "    </tr>\n",
       "    <tr>\n",
       "      <th>5</th>\n",
       "      <td>2</td>\n",
       "      <td>5</td>\n",
       "      <td>35.849060</td>\n",
       "      <td>1</td>\n",
       "      <td>0</td>\n",
       "      <td>1</td>\n",
       "      <td>1</td>\n",
       "      <td>5.765178</td>\n",
       "      <td>0</td>\n",
       "      <td>0</td>\n",
       "      <td>13.481029</td>\n",
       "      <td>164.418613</td>\n",
       "    </tr>\n",
       "    <tr>\n",
       "      <th>8</th>\n",
       "      <td>2</td>\n",
       "      <td>8</td>\n",
       "      <td>33.135826</td>\n",
       "      <td>1</td>\n",
       "      <td>1</td>\n",
       "      <td>0</td>\n",
       "      <td>1</td>\n",
       "      <td>5.195319</td>\n",
       "      <td>1</td>\n",
       "      <td>1</td>\n",
       "      <td>12.748456</td>\n",
       "      <td>158.370610</td>\n",
       "    </tr>\n",
       "    <tr>\n",
       "      <th>13</th>\n",
       "      <td>2</td>\n",
       "      <td>13</td>\n",
       "      <td>37.789452</td>\n",
       "      <td>1</td>\n",
       "      <td>0</td>\n",
       "      <td>1</td>\n",
       "      <td>1</td>\n",
       "      <td>8.640487</td>\n",
       "      <td>1</td>\n",
       "      <td>1</td>\n",
       "      <td>14.004935</td>\n",
       "      <td>169.964651</td>\n",
       "    </tr>\n",
       "    <tr>\n",
       "      <th>14</th>\n",
       "      <td>2</td>\n",
       "      <td>14</td>\n",
       "      <td>35.469105</td>\n",
       "      <td>1</td>\n",
       "      <td>1</td>\n",
       "      <td>1</td>\n",
       "      <td>0</td>\n",
       "      <td>9.404542</td>\n",
       "      <td>1</td>\n",
       "      <td>1</td>\n",
       "      <td>13.378441</td>\n",
       "      <td>155.584413</td>\n",
       "    </tr>\n",
       "  </tbody>\n",
       "</table>\n",
       "</div>"
      ],
      "text/plain": [
       "    VAGA  ID      IDADE  MBA  PHD  CLOUD_CERT  SGBD_CERT  HORAS_ESTUDO  \\\n",
       "3      2   3  33.816752    1    0           1          1      8.207890   \n",
       "5      2   5  35.849060    1    0           1          1      5.765178   \n",
       "8      2   8  33.135826    1    1           0          1      5.195319   \n",
       "13     2  13  37.789452    1    0           1          1      8.640487   \n",
       "14     2  14  35.469105    1    1           1          0      9.404542   \n",
       "\n",
       "    QT_FILHOS  CNH   ANOS_EXP       SCORE  \n",
       "3           1    0  12.932306  156.580244  \n",
       "5           0    0  13.481029  164.418613  \n",
       "8           1    1  12.748456  158.370610  \n",
       "13          1    1  14.004935  169.964651  \n",
       "14          1    1  13.378441  155.584413  "
      ]
     },
     "execution_count": 71,
     "metadata": {},
     "output_type": "execute_result"
    }
   ],
   "source": [
    "# Seu código Python aqui!\n",
    "df_vaga = dados.loc[dados['VAGA']==2, :]\n",
    "df_vaga.head()"
   ]
  },
  {
   "cell_type": "code",
   "execution_count": 77,
   "metadata": {},
   "outputs": [
    {
     "data": {
      "text/plain": [
       "Index(['VAGA', 'ID', 'IDADE', 'MBA', 'PHD', 'CLOUD_CERT', 'SGBD_CERT',\n",
       "       'HORAS_ESTUDO', 'QT_FILHOS', 'CNH', 'ANOS_EXP', 'SCORE'],\n",
       "      dtype='object')"
      ]
     },
     "execution_count": 77,
     "metadata": {},
     "output_type": "execute_result"
    }
   ],
   "source": [
    "df_vaga.columns"
   ]
  },
  {
   "cell_type": "markdown",
   "metadata": {},
   "source": [
    "<div id=\"p3b\"></div>\n",
    "\n",
    "**b) (0,50 ponto)** Antes de criar um modelo de regressão, vamos pensar em quais variáveis faz sentido utilizarmos no modelo.\n",
    "\n",
    "Com base apenas na descrição do problema e das variáveis (informada no início da [QUESTÃO 3](#p3)) e considerando o filtro realizado no [item anterior](#p3a), escreva um texto que responda detalhadamente a seguinte questão:\n",
    "\n",
    "\"***Faz sentido adicionar todas as colunas da base de dados como explicativas (features) no modelo de regressão? Em caso negativo, informe quais variáveis não estariam entre as explicativas (features) e explique o motivo.***\""
   ]
  },
  {
   "cell_type": "markdown",
   "metadata": {},
   "source": [
    "**R:** Não faz sentido adicionar todas as colunas de dados como explicativas, visto que algumas delas não falam nada sobre o candidato, mas apenas o identifica, como ID e VAGA."
   ]
  },
  {
   "cell_type": "raw",
   "metadata": {},
   "source": [
    "# Edite sua resposta aqui!"
   ]
  },
  {
   "cell_type": "code",
   "execution_count": 78,
   "metadata": {},
   "outputs": [
    {
     "data": {
      "text/html": [
       "<div>\n",
       "<style scoped>\n",
       "    .dataframe tbody tr th:only-of-type {\n",
       "        vertical-align: middle;\n",
       "    }\n",
       "\n",
       "    .dataframe tbody tr th {\n",
       "        vertical-align: top;\n",
       "    }\n",
       "\n",
       "    .dataframe thead th {\n",
       "        text-align: right;\n",
       "    }\n",
       "</style>\n",
       "<table border=\"1\" class=\"dataframe\">\n",
       "  <thead>\n",
       "    <tr style=\"text-align: right;\">\n",
       "      <th></th>\n",
       "      <th>IDADE</th>\n",
       "      <th>MBA</th>\n",
       "      <th>PHD</th>\n",
       "      <th>CLOUD_CERT</th>\n",
       "      <th>SGBD_CERT</th>\n",
       "      <th>HORAS_ESTUDO</th>\n",
       "      <th>QT_FILHOS</th>\n",
       "      <th>CNH</th>\n",
       "      <th>ANOS_EXP</th>\n",
       "      <th>SCORE</th>\n",
       "    </tr>\n",
       "  </thead>\n",
       "  <tbody>\n",
       "    <tr>\n",
       "      <th>3</th>\n",
       "      <td>33.816752</td>\n",
       "      <td>1</td>\n",
       "      <td>0</td>\n",
       "      <td>1</td>\n",
       "      <td>1</td>\n",
       "      <td>8.207890</td>\n",
       "      <td>1</td>\n",
       "      <td>0</td>\n",
       "      <td>12.932306</td>\n",
       "      <td>156.580244</td>\n",
       "    </tr>\n",
       "    <tr>\n",
       "      <th>5</th>\n",
       "      <td>35.849060</td>\n",
       "      <td>1</td>\n",
       "      <td>0</td>\n",
       "      <td>1</td>\n",
       "      <td>1</td>\n",
       "      <td>5.765178</td>\n",
       "      <td>0</td>\n",
       "      <td>0</td>\n",
       "      <td>13.481029</td>\n",
       "      <td>164.418613</td>\n",
       "    </tr>\n",
       "    <tr>\n",
       "      <th>8</th>\n",
       "      <td>33.135826</td>\n",
       "      <td>1</td>\n",
       "      <td>1</td>\n",
       "      <td>0</td>\n",
       "      <td>1</td>\n",
       "      <td>5.195319</td>\n",
       "      <td>1</td>\n",
       "      <td>1</td>\n",
       "      <td>12.748456</td>\n",
       "      <td>158.370610</td>\n",
       "    </tr>\n",
       "    <tr>\n",
       "      <th>13</th>\n",
       "      <td>37.789452</td>\n",
       "      <td>1</td>\n",
       "      <td>0</td>\n",
       "      <td>1</td>\n",
       "      <td>1</td>\n",
       "      <td>8.640487</td>\n",
       "      <td>1</td>\n",
       "      <td>1</td>\n",
       "      <td>14.004935</td>\n",
       "      <td>169.964651</td>\n",
       "    </tr>\n",
       "    <tr>\n",
       "      <th>14</th>\n",
       "      <td>35.469105</td>\n",
       "      <td>1</td>\n",
       "      <td>1</td>\n",
       "      <td>1</td>\n",
       "      <td>0</td>\n",
       "      <td>9.404542</td>\n",
       "      <td>1</td>\n",
       "      <td>1</td>\n",
       "      <td>13.378441</td>\n",
       "      <td>155.584413</td>\n",
       "    </tr>\n",
       "    <tr>\n",
       "      <th>...</th>\n",
       "      <td>...</td>\n",
       "      <td>...</td>\n",
       "      <td>...</td>\n",
       "      <td>...</td>\n",
       "      <td>...</td>\n",
       "      <td>...</td>\n",
       "      <td>...</td>\n",
       "      <td>...</td>\n",
       "      <td>...</td>\n",
       "      <td>...</td>\n",
       "    </tr>\n",
       "    <tr>\n",
       "      <th>5984</th>\n",
       "      <td>37.935513</td>\n",
       "      <td>0</td>\n",
       "      <td>1</td>\n",
       "      <td>1</td>\n",
       "      <td>0</td>\n",
       "      <td>10.647300</td>\n",
       "      <td>1</td>\n",
       "      <td>0</td>\n",
       "      <td>14.044372</td>\n",
       "      <td>142.912019</td>\n",
       "    </tr>\n",
       "    <tr>\n",
       "      <th>5985</th>\n",
       "      <td>41.719746</td>\n",
       "      <td>0</td>\n",
       "      <td>0</td>\n",
       "      <td>0</td>\n",
       "      <td>1</td>\n",
       "      <td>8.841675</td>\n",
       "      <td>3</td>\n",
       "      <td>0</td>\n",
       "      <td>15.066114</td>\n",
       "      <td>155.249384</td>\n",
       "    </tr>\n",
       "    <tr>\n",
       "      <th>5987</th>\n",
       "      <td>39.187337</td>\n",
       "      <td>1</td>\n",
       "      <td>1</td>\n",
       "      <td>0</td>\n",
       "      <td>0</td>\n",
       "      <td>9.481568</td>\n",
       "      <td>2</td>\n",
       "      <td>1</td>\n",
       "      <td>14.382364</td>\n",
       "      <td>164.420364</td>\n",
       "    </tr>\n",
       "    <tr>\n",
       "      <th>5995</th>\n",
       "      <td>34.144350</td>\n",
       "      <td>1</td>\n",
       "      <td>1</td>\n",
       "      <td>1</td>\n",
       "      <td>1</td>\n",
       "      <td>6.310274</td>\n",
       "      <td>1</td>\n",
       "      <td>0</td>\n",
       "      <td>13.020757</td>\n",
       "      <td>150.788826</td>\n",
       "    </tr>\n",
       "    <tr>\n",
       "      <th>5999</th>\n",
       "      <td>37.046534</td>\n",
       "      <td>1</td>\n",
       "      <td>0</td>\n",
       "      <td>1</td>\n",
       "      <td>0</td>\n",
       "      <td>6.110302</td>\n",
       "      <td>1</td>\n",
       "      <td>1</td>\n",
       "      <td>13.804347</td>\n",
       "      <td>160.866949</td>\n",
       "    </tr>\n",
       "  </tbody>\n",
       "</table>\n",
       "<p>1968 rows × 10 columns</p>\n",
       "</div>"
      ],
      "text/plain": [
       "          IDADE  MBA  PHD  CLOUD_CERT  SGBD_CERT  HORAS_ESTUDO  QT_FILHOS  \\\n",
       "3     33.816752    1    0           1          1      8.207890          1   \n",
       "5     35.849060    1    0           1          1      5.765178          0   \n",
       "8     33.135826    1    1           0          1      5.195319          1   \n",
       "13    37.789452    1    0           1          1      8.640487          1   \n",
       "14    35.469105    1    1           1          0      9.404542          1   \n",
       "...         ...  ...  ...         ...        ...           ...        ...   \n",
       "5984  37.935513    0    1           1          0     10.647300          1   \n",
       "5985  41.719746    0    0           0          1      8.841675          3   \n",
       "5987  39.187337    1    1           0          0      9.481568          2   \n",
       "5995  34.144350    1    1           1          1      6.310274          1   \n",
       "5999  37.046534    1    0           1          0      6.110302          1   \n",
       "\n",
       "      CNH   ANOS_EXP       SCORE  \n",
       "3       0  12.932306  156.580244  \n",
       "5       0  13.481029  164.418613  \n",
       "8       1  12.748456  158.370610  \n",
       "13      1  14.004935  169.964651  \n",
       "14      1  13.378441  155.584413  \n",
       "...   ...        ...         ...  \n",
       "5984    0  14.044372  142.912019  \n",
       "5985    0  15.066114  155.249384  \n",
       "5987    1  14.382364  164.420364  \n",
       "5995    0  13.020757  150.788826  \n",
       "5999    1  13.804347  160.866949  \n",
       "\n",
       "[1968 rows x 10 columns]"
      ]
     },
     "execution_count": 78,
     "metadata": {},
     "output_type": "execute_result"
    }
   ],
   "source": [
    "df_filtro = df_vaga[df_vaga.columns[2:]]\n",
    "df_filtro"
   ]
  },
  {
   "cell_type": "markdown",
   "metadata": {},
   "source": [
    "<div id=\"p3c\"></div>\n",
    "\n",
    "**c) (0,50 ponto)** Com base na descrição do problema e nas variáveis informadas no [item anterior](#p3b), separe `df_vaga` em variáveis explicativas (features) e variável resposta (target). Então, crie um primeiro modelo de regressão múltipla e exiba seus resultados (resumo, sumário)."
   ]
  },
  {
   "cell_type": "code",
   "execution_count": 87,
   "metadata": {},
   "outputs": [],
   "source": [
    "def regress(Y,X):\n",
    "    '''\n",
    "    Y: coluna do DataFrame utilizada como variável resposta (TARGET)\n",
    "    X: coluna(s) do DataFrame utilizadas como variável(is) explicativas (FEATURES)\n",
    "    '''\n",
    "    X_cp = sm.add_constant(X)\n",
    "    model = sm.OLS(Y,X_cp)\n",
    "    results = model.fit()\n",
    "    \n",
    "    return results"
   ]
  },
  {
   "cell_type": "code",
   "execution_count": 88,
   "metadata": {},
   "outputs": [
    {
     "data": {
      "text/html": [
       "<table class=\"simpletable\">\n",
       "<caption>OLS Regression Results</caption>\n",
       "<tr>\n",
       "  <th>Dep. Variable:</th>          <td>SCORE</td>      <th>  R-squared:         </th> <td>   0.810</td> \n",
       "</tr>\n",
       "<tr>\n",
       "  <th>Model:</th>                   <td>OLS</td>       <th>  Adj. R-squared:    </th> <td>   0.809</td> \n",
       "</tr>\n",
       "<tr>\n",
       "  <th>Method:</th>             <td>Least Squares</td>  <th>  F-statistic:       </th> <td>   1043.</td> \n",
       "</tr>\n",
       "<tr>\n",
       "  <th>Date:</th>             <td>Tue, 14 Jun 2022</td> <th>  Prob (F-statistic):</th>  <td>  0.00</td>  \n",
       "</tr>\n",
       "<tr>\n",
       "  <th>Time:</th>                 <td>14:46:49</td>     <th>  Log-Likelihood:    </th> <td> -5913.9</td> \n",
       "</tr>\n",
       "<tr>\n",
       "  <th>No. Observations:</th>      <td>  1968</td>      <th>  AIC:               </th> <td>1.185e+04</td>\n",
       "</tr>\n",
       "<tr>\n",
       "  <th>Df Residuals:</th>          <td>  1959</td>      <th>  BIC:               </th> <td>1.190e+04</td>\n",
       "</tr>\n",
       "<tr>\n",
       "  <th>Df Model:</th>              <td>     8</td>      <th>                     </th>     <td> </td>    \n",
       "</tr>\n",
       "<tr>\n",
       "  <th>Covariance Type:</th>      <td>nonrobust</td>    <th>                     </th>     <td> </td>    \n",
       "</tr>\n",
       "</table>\n",
       "<table class=\"simpletable\">\n",
       "<tr>\n",
       "        <td></td>          <th>coef</th>     <th>std err</th>      <th>t</th>      <th>P>|t|</th>  <th>[0.025</th>    <th>0.975]</th>  \n",
       "</tr>\n",
       "<tr>\n",
       "  <th>const</th>        <td>    3.1576</td> <td>    0.112</td> <td>   28.183</td> <td> 0.000</td> <td>    2.938</td> <td>    3.377</td>\n",
       "</tr>\n",
       "<tr>\n",
       "  <th>IDADE</th>        <td>   -0.4196</td> <td>    0.141</td> <td>   -2.978</td> <td> 0.003</td> <td>   -0.696</td> <td>   -0.143</td>\n",
       "</tr>\n",
       "<tr>\n",
       "  <th>MBA</th>          <td>   12.3044</td> <td>    0.221</td> <td>   55.715</td> <td> 0.000</td> <td>   11.871</td> <td>   12.738</td>\n",
       "</tr>\n",
       "<tr>\n",
       "  <th>PHD</th>          <td>   -0.4588</td> <td>    0.221</td> <td>   -2.077</td> <td> 0.038</td> <td>   -0.892</td> <td>   -0.026</td>\n",
       "</tr>\n",
       "<tr>\n",
       "  <th>CLOUD_CERT</th>   <td>    0.1446</td> <td>    0.221</td> <td>    0.654</td> <td> 0.513</td> <td>   -0.289</td> <td>    0.578</td>\n",
       "</tr>\n",
       "<tr>\n",
       "  <th>SGBD_CERT</th>    <td>   -0.0500</td> <td>    0.221</td> <td>   -0.226</td> <td> 0.821</td> <td>   -0.484</td> <td>    0.384</td>\n",
       "</tr>\n",
       "<tr>\n",
       "  <th>HORAS_ESTUDO</th> <td>   -0.0921</td> <td>    0.075</td> <td>   -1.233</td> <td> 0.218</td> <td>   -0.239</td> <td>    0.054</td>\n",
       "</tr>\n",
       "<tr>\n",
       "  <th>QT_FILHOS</th>    <td>   -0.9970</td> <td>    0.110</td> <td>   -9.063</td> <td> 0.000</td> <td>   -1.213</td> <td>   -0.781</td>\n",
       "</tr>\n",
       "<tr>\n",
       "  <th>CNH</th>          <td>    0.2877</td> <td>    0.221</td> <td>    1.301</td> <td> 0.193</td> <td>   -0.146</td> <td>    0.721</td>\n",
       "</tr>\n",
       "<tr>\n",
       "  <th>ANOS_EXP</th>     <td>   11.8912</td> <td>    0.388</td> <td>   30.636</td> <td> 0.000</td> <td>   11.130</td> <td>   12.652</td>\n",
       "</tr>\n",
       "</table>\n",
       "<table class=\"simpletable\">\n",
       "<tr>\n",
       "  <th>Omnibus:</th>       <td> 5.752</td> <th>  Durbin-Watson:     </th> <td>   1.947</td>\n",
       "</tr>\n",
       "<tr>\n",
       "  <th>Prob(Omnibus):</th> <td> 0.056</td> <th>  Jarque-Bera (JB):  </th> <td>   4.712</td>\n",
       "</tr>\n",
       "<tr>\n",
       "  <th>Skew:</th>          <td> 0.008</td> <th>  Prob(JB):          </th> <td>  0.0948</td>\n",
       "</tr>\n",
       "<tr>\n",
       "  <th>Kurtosis:</th>      <td> 2.761</td> <th>  Cond. No.          </th> <td>5.15e+15</td>\n",
       "</tr>\n",
       "</table><br/><br/>Notes:<br/>[1] Standard Errors assume that the covariance matrix of the errors is correctly specified.<br/>[2] The smallest eigenvalue is 1.18e-25. This might indicate that there are<br/>strong multicollinearity problems or that the design matrix is singular."
      ],
      "text/plain": [
       "<class 'statsmodels.iolib.summary.Summary'>\n",
       "\"\"\"\n",
       "                            OLS Regression Results                            \n",
       "==============================================================================\n",
       "Dep. Variable:                  SCORE   R-squared:                       0.810\n",
       "Model:                            OLS   Adj. R-squared:                  0.809\n",
       "Method:                 Least Squares   F-statistic:                     1043.\n",
       "Date:                Tue, 14 Jun 2022   Prob (F-statistic):               0.00\n",
       "Time:                        14:46:49   Log-Likelihood:                -5913.9\n",
       "No. Observations:                1968   AIC:                         1.185e+04\n",
       "Df Residuals:                    1959   BIC:                         1.190e+04\n",
       "Df Model:                           8                                         \n",
       "Covariance Type:            nonrobust                                         \n",
       "================================================================================\n",
       "                   coef    std err          t      P>|t|      [0.025      0.975]\n",
       "--------------------------------------------------------------------------------\n",
       "const            3.1576      0.112     28.183      0.000       2.938       3.377\n",
       "IDADE           -0.4196      0.141     -2.978      0.003      -0.696      -0.143\n",
       "MBA             12.3044      0.221     55.715      0.000      11.871      12.738\n",
       "PHD             -0.4588      0.221     -2.077      0.038      -0.892      -0.026\n",
       "CLOUD_CERT       0.1446      0.221      0.654      0.513      -0.289       0.578\n",
       "SGBD_CERT       -0.0500      0.221     -0.226      0.821      -0.484       0.384\n",
       "HORAS_ESTUDO    -0.0921      0.075     -1.233      0.218      -0.239       0.054\n",
       "QT_FILHOS       -0.9970      0.110     -9.063      0.000      -1.213      -0.781\n",
       "CNH              0.2877      0.221      1.301      0.193      -0.146       0.721\n",
       "ANOS_EXP        11.8912      0.388     30.636      0.000      11.130      12.652\n",
       "==============================================================================\n",
       "Omnibus:                        5.752   Durbin-Watson:                   1.947\n",
       "Prob(Omnibus):                  0.056   Jarque-Bera (JB):                4.712\n",
       "Skew:                           0.008   Prob(JB):                       0.0948\n",
       "Kurtosis:                       2.761   Cond. No.                     5.15e+15\n",
       "==============================================================================\n",
       "\n",
       "Notes:\n",
       "[1] Standard Errors assume that the covariance matrix of the errors is correctly specified.\n",
       "[2] The smallest eigenvalue is 1.18e-25. This might indicate that there are\n",
       "strong multicollinearity problems or that the design matrix is singular.\n",
       "\"\"\""
      ]
     },
     "execution_count": 88,
     "metadata": {},
     "output_type": "execute_result"
    }
   ],
   "source": [
    "# Seu código Python aqui!\n",
    "features = df_filtro.loc[:,(df_filtro.columns != 'SCORE')]\n",
    "target = df_filtro.loc[:, (df_filtro.columns == 'SCORE')]\n",
    "\n",
    "results = regress(target, features)\n",
    "results.summary()"
   ]
  },
  {
   "cell_type": "markdown",
   "metadata": {},
   "source": [
    "<div id=\"p3d\"></div>\n",
    "\n",
    "**d) (0,50 ponto)** Com base no sumário da primeira versão de modelo de regressão (criado no [item c](#p3c) desta questão), analise a seguinte afirmação:\n",
    "\n",
    "\"***A variável `PHD` é útil para prever o `SCORE` de um candidato***\"\n",
    "\n",
    "Informe se é verdadeira ou falsa e escreva um texto detalhando sua decisão (com suas palavras)."
   ]
  },
  {
   "cell_type": "raw",
   "metadata": {},
   "source": [
    "# Edite sua resposta aqui!\n",
    "Para que uma variável seja útil para explicar o target, ela precisa de ter um \"P>|t|\" próximo de 0. Vamos considerar que abaixo de 0.1 ja é suficientemente próximo de 0. Dessa forma, a váriavel \"PHD\" apresenta um P>|t| = 0.038. Esse resultado é menor do que 0.1, o que nos permite concluir que tal feature é útil para prever o SCORE de um candidato."
   ]
  },
  {
   "cell_type": "markdown",
   "metadata": {},
   "source": [
    "<div id=\"p3e\"></div>\n",
    "\n",
    "**e) (1,00 ponto)** Todas as variáveis são importantes para prever o `SCORE`? Escreva um texto explicando qual seria um processo adequado para tomada de decisão de quais variáveis remover do modelo.\n",
    "\n",
    "Em seguida, faça o passo a passo do processo. Adicione comentários explicando o que fez."
   ]
  },
  {
   "cell_type": "raw",
   "metadata": {},
   "source": [
    "# Edite sua resposta aqui!\n",
    "Não, todas aquelas que possuem um P>|t| maior do que 0.1 não serão úteis para realizar tal previsão e devem ser removidas uma por uma. Nesse caso, remove-se a maior, roda novamente, e repete esse processo até que sobrem apenas features com P>|t| < 0.1."
   ]
  },
  {
   "cell_type": "markdown",
   "metadata": {},
   "source": [
    "Vamos adicionar todos os P>|t| para um dicionário:"
   ]
  },
  {
   "cell_type": "code",
   "execution_count": 89,
   "metadata": {},
   "outputs": [],
   "source": [
    "# Seu código Python aqui!\n",
    "pValues = results.pvalues.to_dict()"
   ]
  },
  {
   "cell_type": "markdown",
   "metadata": {},
   "source": [
    "Vamos criar uma função que retorne True se houver algum p_valor maior que 0.1:"
   ]
  },
  {
   "cell_type": "code",
   "execution_count": 90,
   "metadata": {},
   "outputs": [],
   "source": [
    "def p_valor(dic, p):\n",
    "    for k, v in dic.items():\n",
    "        if v > p:\n",
    "            return True\n",
    "    return False"
   ]
  },
  {
   "cell_type": "markdown",
   "metadata": {},
   "source": [
    "Vamos criar um loop para remover, um a um, todas as variáveis maiores que 0.1:"
   ]
  },
  {
   "cell_type": "code",
   "execution_count": 91,
   "metadata": {},
   "outputs": [
    {
     "name": "stdout",
     "output_type": "stream",
     "text": [
      "Removendo SGBD_CERT\n",
      "Removendo CLOUD_CERT\n",
      "Removendo HORAS_ESTUDO\n",
      "Removendo CNH\n"
     ]
    }
   ],
   "source": [
    "features_filtered = features.copy()\n",
    "while p_valor(pValues, 0.1):\n",
    "    key = max(pValues, key=pValues.get)\n",
    "    features_filtered.drop(key, inplace=True, axis=1)\n",
    "    filteredResults = regress(target,features_filtered)\n",
    "    pValues = filteredResults.pvalues.to_dict()\n",
    "    print('Removendo',key)\n"
   ]
  },
  {
   "cell_type": "code",
   "execution_count": 92,
   "metadata": {},
   "outputs": [
    {
     "data": {
      "text/html": [
       "<table class=\"simpletable\">\n",
       "<caption>OLS Regression Results</caption>\n",
       "<tr>\n",
       "  <th>Dep. Variable:</th>          <td>SCORE</td>      <th>  R-squared:         </th> <td>   0.809</td> \n",
       "</tr>\n",
       "<tr>\n",
       "  <th>Model:</th>                   <td>OLS</td>       <th>  Adj. R-squared:    </th> <td>   0.809</td> \n",
       "</tr>\n",
       "<tr>\n",
       "  <th>Method:</th>             <td>Least Squares</td>  <th>  F-statistic:       </th> <td>   2084.</td> \n",
       "</tr>\n",
       "<tr>\n",
       "  <th>Date:</th>             <td>Tue, 14 Jun 2022</td> <th>  Prob (F-statistic):</th>  <td>  0.00</td>  \n",
       "</tr>\n",
       "<tr>\n",
       "  <th>Time:</th>                 <td>14:56:25</td>     <th>  Log-Likelihood:    </th> <td> -5915.9</td> \n",
       "</tr>\n",
       "<tr>\n",
       "  <th>No. Observations:</th>      <td>  1968</td>      <th>  AIC:               </th> <td>1.184e+04</td>\n",
       "</tr>\n",
       "<tr>\n",
       "  <th>Df Residuals:</th>          <td>  1963</td>      <th>  BIC:               </th> <td>1.187e+04</td>\n",
       "</tr>\n",
       "<tr>\n",
       "  <th>Df Model:</th>              <td>     4</td>      <th>                     </th>     <td> </td>    \n",
       "</tr>\n",
       "<tr>\n",
       "  <th>Covariance Type:</th>      <td>nonrobust</td>    <th>                     </th>     <td> </td>    \n",
       "</tr>\n",
       "</table>\n",
       "<table class=\"simpletable\">\n",
       "<tr>\n",
       "      <td></td>         <th>coef</th>     <th>std err</th>      <th>t</th>      <th>P>|t|</th>  <th>[0.025</th>    <th>0.975]</th>  \n",
       "</tr>\n",
       "<tr>\n",
       "  <th>const</th>     <td>    3.1114</td> <td>    0.101</td> <td>   30.724</td> <td> 0.000</td> <td>    2.913</td> <td>    3.310</td>\n",
       "</tr>\n",
       "<tr>\n",
       "  <th>IDADE</th>     <td>   -0.3728</td> <td>    0.133</td> <td>   -2.810</td> <td> 0.005</td> <td>   -0.633</td> <td>   -0.113</td>\n",
       "</tr>\n",
       "<tr>\n",
       "  <th>MBA</th>       <td>   12.3159</td> <td>    0.221</td> <td>   55.791</td> <td> 0.000</td> <td>   11.883</td> <td>   12.749</td>\n",
       "</tr>\n",
       "<tr>\n",
       "  <th>PHD</th>       <td>   -0.4465</td> <td>    0.221</td> <td>   -2.023</td> <td> 0.043</td> <td>   -0.879</td> <td>   -0.014</td>\n",
       "</tr>\n",
       "<tr>\n",
       "  <th>QT_FILHOS</th> <td>   -0.9977</td> <td>    0.110</td> <td>   -9.078</td> <td> 0.000</td> <td>   -1.213</td> <td>   -0.782</td>\n",
       "</tr>\n",
       "<tr>\n",
       "  <th>ANOS_EXP</th>  <td>   11.7283</td> <td>    0.349</td> <td>   33.584</td> <td> 0.000</td> <td>   11.043</td> <td>   12.413</td>\n",
       "</tr>\n",
       "</table>\n",
       "<table class=\"simpletable\">\n",
       "<tr>\n",
       "  <th>Omnibus:</th>       <td> 5.944</td> <th>  Durbin-Watson:     </th> <td>   1.946</td>\n",
       "</tr>\n",
       "<tr>\n",
       "  <th>Prob(Omnibus):</th> <td> 0.051</td> <th>  Jarque-Bera (JB):  </th> <td>   4.855</td>\n",
       "</tr>\n",
       "<tr>\n",
       "  <th>Skew:</th>          <td> 0.013</td> <th>  Prob(JB):          </th> <td>  0.0882</td>\n",
       "</tr>\n",
       "<tr>\n",
       "  <th>Kurtosis:</th>      <td> 2.758</td> <th>  Cond. No.          </th> <td>5.05e+15</td>\n",
       "</tr>\n",
       "</table><br/><br/>Notes:<br/>[1] Standard Errors assume that the covariance matrix of the errors is correctly specified.<br/>[2] The smallest eigenvalue is 1.18e-25. This might indicate that there are<br/>strong multicollinearity problems or that the design matrix is singular."
      ],
      "text/plain": [
       "<class 'statsmodels.iolib.summary.Summary'>\n",
       "\"\"\"\n",
       "                            OLS Regression Results                            \n",
       "==============================================================================\n",
       "Dep. Variable:                  SCORE   R-squared:                       0.809\n",
       "Model:                            OLS   Adj. R-squared:                  0.809\n",
       "Method:                 Least Squares   F-statistic:                     2084.\n",
       "Date:                Tue, 14 Jun 2022   Prob (F-statistic):               0.00\n",
       "Time:                        14:56:25   Log-Likelihood:                -5915.9\n",
       "No. Observations:                1968   AIC:                         1.184e+04\n",
       "Df Residuals:                    1963   BIC:                         1.187e+04\n",
       "Df Model:                           4                                         \n",
       "Covariance Type:            nonrobust                                         \n",
       "==============================================================================\n",
       "                 coef    std err          t      P>|t|      [0.025      0.975]\n",
       "------------------------------------------------------------------------------\n",
       "const          3.1114      0.101     30.724      0.000       2.913       3.310\n",
       "IDADE         -0.3728      0.133     -2.810      0.005      -0.633      -0.113\n",
       "MBA           12.3159      0.221     55.791      0.000      11.883      12.749\n",
       "PHD           -0.4465      0.221     -2.023      0.043      -0.879      -0.014\n",
       "QT_FILHOS     -0.9977      0.110     -9.078      0.000      -1.213      -0.782\n",
       "ANOS_EXP      11.7283      0.349     33.584      0.000      11.043      12.413\n",
       "==============================================================================\n",
       "Omnibus:                        5.944   Durbin-Watson:                   1.946\n",
       "Prob(Omnibus):                  0.051   Jarque-Bera (JB):                4.855\n",
       "Skew:                           0.013   Prob(JB):                       0.0882\n",
       "Kurtosis:                       2.758   Cond. No.                     5.05e+15\n",
       "==============================================================================\n",
       "\n",
       "Notes:\n",
       "[1] Standard Errors assume that the covariance matrix of the errors is correctly specified.\n",
       "[2] The smallest eigenvalue is 1.18e-25. This might indicate that there are\n",
       "strong multicollinearity problems or that the design matrix is singular.\n",
       "\"\"\""
      ]
     },
     "execution_count": 92,
     "metadata": {},
     "output_type": "execute_result"
    }
   ],
   "source": [
    "filteredResults.summary()"
   ]
  },
  {
   "cell_type": "markdown",
   "metadata": {},
   "source": [
    "<div id=\"p3f\"></div>\n",
    "\n",
    "**f) (0,75 ponto)** Escreva um texto detalhado que explique/interprete com suas palavras o significado do coeficiente da variável `IDADE` na versão final do seu modelo de regressão múltipla ([item e](#p3e))."
   ]
  },
  {
   "cell_type": "raw",
   "metadata": {},
   "source": [
    "# Edite sua resposta aqui!\n",
    "O modelo de regressão linear cria uma reta que tenta contemplar o comportamento da target em função de uma feature. Dessa forma, sabemos que a equação geral da reta é \"Y = aX + b\". Dessa maneira, o coeficiente observado no summary é o coeficiente \"a\" da equação da reta. Nesse sentido, o coeficiente da variável idade é -0.3728, o que se refere a uma reta decrescente por ser negativo. Assim, entendemos que a IDADE e o SCORE estão negativamente relacionados, ou seja, enquanto a IDADE cresce, o SCORE diminui, em uma proporção com módulo de 0.3728."
   ]
  },
  {
   "cell_type": "markdown",
   "metadata": {},
   "source": [
    "<div id=\"p3g\"></div>\n",
    "\n",
    "**g) (1,00 ponto)** Analise, na versão final do seu modelo ([item e](#p3e)), se as suposições do modelo de regressão linear são válidas. Utilize recursos gráficos adequados e escreva um texto detalhando sua resposta."
   ]
  },
  {
   "cell_type": "raw",
   "metadata": {},
   "source": [
    "# Edite sua resposta aqui!"
   ]
  },
  {
   "cell_type": "markdown",
   "metadata": {},
   "source": [
    "### Resíduos seguem uma distribuição normal?"
   ]
  },
  {
   "cell_type": "code",
   "execution_count": 93,
   "metadata": {
    "scrolled": true
   },
   "outputs": [
    {
     "data": {
      "image/png": "[encoded data removed]",
      "text/plain": [
       "<Figure size 432x288 with 1 Axes>"
      ]
     },
     "metadata": {
      "needs_background": "light"
     },
     "output_type": "display_data"
    }
   ],
   "source": [
    "probplot(filteredResults.resid, dist = 'norm', plot = plt)\n",
    "plt.show()"
   ]
  },
  {
   "cell_type": "markdown",
   "metadata": {},
   "source": [
    "Sim, é possível dizer que os resíduos seguem uma distribuição normal, uma vez que os pontos (azul) estão muito próximos da reta normal ideal (vermelha)."
   ]
  },
  {
   "cell_type": "markdown",
   "metadata": {},
   "source": [
    "### Os erros são independentes entre si?"
   ]
  },
  {
   "cell_type": "markdown",
   "metadata": {},
   "source": [
    "Para que os resíduos sejam independentes entre si é necessário que o teste Durbin-Watson resulte em 2. O Durbin-Watson encontrado foi de 1.946, muito próximo de 2, o que nos leva a crer que tal suposição foi seguida."
   ]
  },
  {
   "cell_type": "markdown",
   "metadata": {},
   "source": [
    "### Homocedasticidade"
   ]
  },
  {
   "cell_type": "markdown",
   "metadata": {},
   "source": [
    "Para que exista uma homocedasticidade no modelo, é necessário que a variância dos resíduos seja igual para todos os valores preditos. Entretanto, percebe-se através do gráfico abaixo que isso não ocorre."
   ]
  },
  {
   "cell_type": "code",
   "execution_count": 136,
   "metadata": {
    "scrolled": true
   },
   "outputs": [
    {
     "data": {
      "image/png": "[encoded data removed]",
      "text/plain": [
       "<Figure size 432x288 with 1 Axes>"
      ]
     },
     "metadata": {
      "needs_background": "light"
     },
     "output_type": "display_data"
    }
   ],
   "source": [
    "results.resid\n",
    "plt.scatter(target, filteredResults.resid)\n",
    "plt.axhline(0, color = 'r')\n",
    "plt.ylabel('resíduos')\n",
    "plt.xlabel('valores ajustados target')\n",
    "plt.show()"
   ]
  },
  {
   "cell_type": "markdown",
   "metadata": {},
   "source": [
    "[Volta ao Índice](#indice)"
   ]
  }
 ],
 "metadata": {
  "kernelspec": {
   "display_name": "Python 3.9.7 64-bit",
   "language": "python",
   "name": "python3"
  },
  "language_info": {
   "codemirror_mode": {
    "name": "ipython",
    "version": 3
   },
   "file_extension": ".py",
   "mimetype": "text/x-python",
   "name": "python",
   "nbconvert_exporter": "python",
   "pygments_lexer": "ipython3",
   "version": "3.9.7"
  },
  "vscode": {
   "interpreter": {
    "hash": "fa202bb1a1975933ba9aefafdf4702960127000ff337e7c1a518450752e9f0c6"
   }
  }
 },
 "nbformat": 4,
 "nbformat_minor": 4
}
