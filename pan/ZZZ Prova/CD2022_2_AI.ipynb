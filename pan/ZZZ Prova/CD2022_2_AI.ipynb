{
 "cells": [
  {
   "cell_type": "markdown",
   "metadata": {},
   "source": [
    "# A2 - Avaliação de Ciência dos dados \n",
    "\n",
    "## 2022 - 2o. semestre \n",
    "\n",
    "___\n"
   ]
  },
  {
   "cell_type": "markdown",
   "metadata": {},
   "source": [
    "# NOME: Lucca Lozano Nasser\n"
   ]
  },
  {
   "cell_type": "markdown",
   "metadata": {},
   "source": [
    "___\n",
    "## Instruções\n",
    "\n",
    "**Leia atentamente as instruções desta avaliação. Essas devem ser seguidas rigorosamente!**\n",
    "\n",
    "**Prezado(a) Aluno(a),**\n",
    "\n",
    "Dia da prova **dia 04/10** das 10h às 13h.\n",
    "\n",
    "Esta avaliação terá as seguintes etapas:\n",
    "\n",
    "**10h00 às 10h10**\n",
    "       \n",
    " * **(10 minutos) - PROCTORIO:** Entre no Blackboard e inicie o teste em `Conteúdos/Avaliações/Avaliação Intermediária/AI (Proctorio e Arquivos)`. Caso não ative esse teste em até 10 minutos do início da prova (ou seja, até às 10h10), não terá mais direito de entregar essa prova, obtendo falta na mesma.\n",
    "\n",
    "\n",
    "**10h10 às 12h10**  \n",
    "\n",
    " * **(120 minutos) - Desenvolvimento da prova:** Concentre-se em resolver o notebook.\n",
    " * ATENÇÃO: administre esse tempo da maneira que julgar mais adequada para você. **NÃO utilize o cronômetro do Proctorio como referência, mas sim o tempo 120 minutos de prova para realização da prova.**\n",
    "\n",
    "\n",
    "**12h10 às 12h20**  \n",
    " * **(10 minutos) - Entrega via Blackboard - Notebook:** O arquivo `.ipynb` deve ser entregue em `Conteúdos/Avaliações/Avaliação Intermediária/Entrega da prova`. \n",
    " * ATENÇÃO: **finalize o proctorio APENAS após anexar a avaliação no Blackboard.**\n",
    "\n",
    "\n",
    "<br>\n",
    "\n",
    "Leia atentamente as instruções a seguir e as questões da prova antes de começar a resolvê-la."
   ]
  },
  {
   "cell_type": "markdown",
   "metadata": {},
   "source": [
    "#### Avisos GERAIS: \n",
    "\n",
    "1. Identifique-se no cabeçalho deste arquivo. Essa prova é INDIVIDUAL.\n",
    "1. Você terá 120 minutos a partir do início oficial da prova para concluir esta avaliação, administre bem o seu tempo. Leia atentamente as instruções a seguir e as questões da prova antes de começar a resolvê-la. \n",
    "\n",
    "1. Esta avaliação:\n",
    "  * **PERMITE consulta de material do Blackboard e material on-line (usar navegador para pesquisas no Google, por exemplo)**. \n",
    "  * **NÃO PERMITE consulta de caderno ou qualquer outro material físico.**\n",
    "  * **NÃO PERMITE consulta a colegas (presencial ou remotamente), ou seja, não é permitido ter alguém ao seu lado assim como não é permitido conversar pelo WhatsApp, enviar e-mail ou qualquer outro formato em que converse com outra pessoa**. \n",
    "  * **PERMITE UTILIZAR APENAS UM COMPUTADOR NO QUAL ESTARÁ REALIZANDO A PROVA.**\n",
    "  * **NÃO PERMITE utilizar CELULAR, TABLET, SEGUNDO COMPUTADOR (ou NOTEBOOK) ou qualquer outro aparelho eletrônico no momento da prova.**\n",
    "  * **O desrespeito as essas regras constituirá violação ao Código de Ética e de Conduta e acarretará sanções nele previstas. Faça o seu trabalho de maneira ética!** \n",
    "\n",
    "1. Sua prova utilizará o sistema de Proctoring.  Para instalar a extensão, acesse o site https://getproctorio.com/ pelo Google Chrome e siga os passos indicados. Caso tenha dúvidas ou dificuldades, avise seu professor pelo chat e entre em contato com o Help Desk por meio de abertura de chamado ou pelo telefone (11) 4504-2550.\n",
    "Para realizar a prova será necessário:\n",
    "  *\tUm desktop ou um notebook com qualquer sistema operacional (dispositivos móveis não serão aceitos)\n",
    "  *\tNavegador Google Chrome (o sistema funciona somente nele)\n",
    "  *\tExtensão da plataforma instalada (sem ela o sistema não funcionará)\n",
    "\n",
    "1. **É proibido o uso de fones de ouvido durante toda a prova. Não leia as questões em voz alta. Não ouvir música.**\n",
    "1. **ENTREGA DO ARQUIVO**: Antes de sair da prova, garanta que entregou a prova no link indicado. Verifique se o arquivo das questões resolvidas teve seu upload concluído e que fechou o teste ao final. Você é o responsável pela entrega adequada de todas as questões de sua prova. Avaliações entregues fora do prazo não serão aceitas para correção.\n",
    "1. Caso precise se ausentar da prova para ir ao banheiro, comunique o(a) professor(a). Lembre-se de ser rápido e retornar prontamente à prova."
   ]
  },
  {
   "cell_type": "markdown",
   "metadata": {},
   "source": [
    "#### Avisos sobre desenvolvimento da prova:\n",
    "\n",
    "1. Esta Avaliação consiste em responder um arquivo Jupyter que será anexado ao Blackboard ao final da prova.\n",
    "1. Leia atentamente as **Precauções de segurança** abaixo para evitar ter sua prova anulada.\n",
    "1. Você não pode compartilhar material com seus colegas durante a prova.\n",
    "1. Em caso de dúvida sobre alguma questão desta avaliação, redija um texto em uma nova célula deste Jupyter notebook explicitando-a para que o professor avalie a pertinência durante a correção.  \n",
    "1. Leia atentamente cada questão e responda o que for pedido. Erros conceituais serão penalizados, mesmo que o conceito não se relacione com o que foi pedido na questão.\n",
    "1. Caso em algum item você necessite do resultado de um item anterior que você não conseguiu fazer, admita um valor razoável para esse resultado e faça o item normalmente. Indique na questão, caso isso aconteça.\n",
    "1. Todos os resultados devem ser justificados. Números que apareçam sem uma explicação de como foram encontrados serão ignorados na correção.\n",
    "1. **A qualidade do código na resolução em cada item também será levada em consideração, ou seja, códigos complicados para soluções que podem ser simples serão penalizados.**\n",
    "1. Esta avaliação requer **entrega via Blackboard**. **Não serão consideradas entregas por outros meios** (ex: e-mail, MS Teams, etc.)."
   ]
  },
  {
   "cell_type": "markdown",
   "metadata": {},
   "source": [
    "#### Precauções de segurança:\n",
    "\n",
    "1.\tTodas as precauções abaixo podem ser resumidas da seguinte forma: consulte o material que quiser desde que não seja nenhuma pessoa ou material físico. E não compartilhe informações com ninguém durante a prova. \n",
    "2.\tVocê não pode enviar nenhum tipo de mensagem durante a prova para qualquer pessoa dentro ou fora dela, com exceção do(a) professor(a). Por exemplo: e-mail, Skype, mensagens do Facebook, mensagens do WhatsApp, mensagens via Twitter, etc\n",
    "3.\tVocê não pode compartilhar nenhum tipo de informação em nenhum site, incluindo Pastebin, Codeshare, wikis, etc\n",
    "4.\tVocê não pode perguntar questões da prova no StackOverflow, StackExchange, MathExchange, etc. \n",
    "5.\tVocê pode procurar/tirar dúvida no Google.\n",
    "6.\tVocê pode consultar qualquer arquivo no seu computador.\n",
    "7.  Você pode usar folha de sulfite da sala solicitando ao professor. Escreva seu nome na mesma com letras grandes.\n",
    "8.\tQualquer transgressão das normas acima pode zerar a nota da prova e implicar em infração ao código de ética do Insper."
   ]
  },
  {
   "cell_type": "markdown",
   "metadata": {},
   "source": [
    "___\n",
    "<div id=\"indice\"></div>\n",
    "\n",
    "## Índice\n",
    "\n",
    "- [FIGURINHAS DA COPA 2022 - PERGUNTA 1](#p1) **[3,00 pontos]**\n",
    "    - [item (a)](#p1a)\n",
    "    - [item (b)](#p1b)\n",
    "    - [item (c)](#p1c)\n",
    "\n",
    "<br>\n",
    "\n",
    "- [TROCA DE FIGURINHAS - PERGUNTA 2](#p2) **[2,25 pontos]**\n",
    "    - [item (a)](#p2a)\n",
    "    - [item (b)](#p2b)\n",
    "    \n",
    "<br>\n",
    "    \n",
    "- [MANGA PERFEITA - PERGUNTA 3](#p3) **[3,25 pontos]**\n",
    "    - [item (a)](#p3a)\n",
    "    - [item (b)](#p3b)\n",
    "    - [item (c)](#p3c)\n",
    "    - [item (d)](#p3d)\n",
    "    - [item (e)](#p3e)\n",
    "    \n",
    "<br>\n",
    "\n",
    "- [MINERAIS - PERGUNTA 4](#p4) **[1,50 pontos]**\n",
    "    - [item (a)](#p4a)\n",
    "    - [item (b)](#p4b)\n",
    "\n"
   ]
  },
  {
   "cell_type": "code",
   "execution_count": 114,
   "metadata": {},
   "outputs": [],
   "source": [
    "# %matplotlib inline\n",
    "from math import *\n",
    "import os\n",
    "\n",
    "import matplotlib.pyplot as plt\n",
    "import numpy as np\n",
    "from numpy import arange\n",
    "import pandas as pd\n",
    "from scipy import stats\n",
    "\n",
    "from IPython.display import display  # Para ter melhor print."
   ]
  },
  {
   "cell_type": "markdown",
   "metadata": {},
   "source": [
    "___\n",
    "<div id=\"p1\"></div>\n",
    "\n",
    "## Figurinhas da Copa 2022\n",
    "\n",
    "<img src=\"https://cdados.s3.us-east-2.amazonaws.com/album_figurinhas.jpg\">\n",
    "Fonte: extraído da internet\n",
    "\n",
    "Se a imagem não carregar (não é importante para fazer a prova), acesse em https://cdados.s3.us-east-2.amazonaws.com/album_figurinhas.jpg"
   ]
  },
  {
   "cell_type": "markdown",
   "metadata": {},
   "source": [
    "### PERGUNTA 1  (3,00 pontos)\n",
    "\n",
    "<br> Considere que a variável **X** represente o número de figurinhas que uma pessoa qualquer consegue trocar com outras semanalmente. \n",
    "<br> Ainda, assuma que a distribuição de Poisson seja adequada para modelar essa variável aleatória com média igual a **15 figurinhas que uma pessoa troca por semana**, ou seja, **X ~ Poisson(15)**. \n",
    "\n",
    "Responda:"
   ]
  },
  {
   "cell_type": "markdown",
   "metadata": {},
   "source": [
    "<div id=\"p1a\"></div>\n",
    "\n",
    "**a)(1,00 ponto)** \n",
    "<br> Uma semana excepcional ocorre quando uma pessoa consegue trocar pelo menos 25 figurinhas na semana. \n",
    "<br> Se uma pessoa tiver uma semana excepcional, qual a probabilidade desta trocar menos do que 30 figurinhas nessa tal semana?"
   ]
  },
  {
   "cell_type": "code",
   "execution_count": 115,
   "metadata": {},
   "outputs": [
    {
     "data": {
      "text/plain": [
       "0.9948228103900282"
      ]
     },
     "execution_count": 115,
     "metadata": {},
     "output_type": "execute_result"
    }
   ],
   "source": [
    "# ESCREVA SUA RESOLUÇÃO AQUI\n",
    "# Poisson X ~ Poisson(15)\n",
    "# Probabilidade de trocar menos de 30 figurinhas, mas pelo menos 25 figurinhas\n",
    "\n",
    "P_menos30_mais25 = stats.poisson.cdf(30, 15) - stats.poisson.pmf(25, 15)\n",
    "\n",
    "P_menos30_mais25"
   ]
  },
  {
   "cell_type": "code",
   "execution_count": null,
   "metadata": {},
   "outputs": [],
   "source": []
  },
  {
   "cell_type": "markdown",
   "metadata": {},
   "source": [
    "<div id=\"p1b\"></div>\n",
    "\n",
    "**b)(1,00 ponto)** \n",
    "<br> Entre cinco pessoas escolhidas aleatoriamente, qual a probabilidade de exatamente duas pessoas terem uma semana excepcional de troca figurinhas?\n",
    "\n",
    "**Atenção: Defina a variável de interesse e sua respectiva distribuição de probabilidades para o cálculo da probabilidade desta questão.**"
   ]
  },
  {
   "cell_type": "code",
   "execution_count": 116,
   "metadata": {},
   "outputs": [
    {
     "data": {
      "text/plain": [
       "0.024430521091325427"
      ]
     },
     "execution_count": 116,
     "metadata": {},
     "output_type": "execute_result"
    }
   ],
   "source": [
    "# ESCREVA SUA RESOLUÇÃO AQUI\n",
    "# P(2, X >= 25 | 5)\n",
    "P_25 = stats.poisson.pmf(25, 15)\n",
    "\n",
    "P_2_25 = stats.binom.pmf(2, 5, P_25)\n",
    "\n",
    "P_2_25 * 100\n"
   ]
  },
  {
   "cell_type": "code",
   "execution_count": null,
   "metadata": {},
   "outputs": [],
   "source": []
  },
  {
   "cell_type": "markdown",
   "metadata": {},
   "source": [
    "<div id=\"p1c\"></div>\n",
    "\n",
    "**c)(1,00 ponto)** \n",
    "<br> O arquivo `figurinhas.xlsx` traz a coluna `Trocadas` contendo o número de figurinhas que cada pessoa conseguiu trocar em uma semana qualquer.\n",
    "<br> Considerando essa coluna `Trocadas` do *dataframe* `figurinhas.xlsx`, discuta se você acha razoável ou não modelar essa variável por uma distribuição de Poisson com média igual a 15."
   ]
  },
  {
   "cell_type": "code",
   "execution_count": 117,
   "metadata": {
    "scrolled": true
   },
   "outputs": [
    {
     "name": "stdout",
     "output_type": "stream",
     "text": [
      "Esperamos trabalhar no diretório\n",
      "c:\\Users\\lucca\\OneDrive - Insper - Institudo de Ensino e Pesquisa\\Documentos\\GitHub\\CD22-2\\ZZZ Prova\n"
     ]
    }
   ],
   "source": [
    "print(\"Esperamos trabalhar no diretório\")\n",
    "print(os.getcwd())"
   ]
  },
  {
   "cell_type": "code",
   "execution_count": 118,
   "metadata": {
    "scrolled": true
   },
   "outputs": [
    {
     "name": "stdout",
     "output_type": "stream",
     "text": [
      "Parece que o arquivo figurinhas.xlsx está na mesma pasta do notebook da avaliação, yay!\n",
      "\n"
     ]
    }
   ],
   "source": [
    "filename = 'figurinhas.xlsx'\n",
    "if filename in os.listdir():\n",
    "    print(f'Parece que o arquivo {filename} está na mesma pasta do notebook da avaliação, yay!\\n')\n",
    "    \n",
    "else:\n",
    "    print(f'Não encontrei o arquivo {filename}.\\n'\n",
    "          f'O notebook e os arquivos de dados desta avaliação devem ser salvos dentro da mesma pasta no seu computador.\\n')"
   ]
  },
  {
   "cell_type": "code",
   "execution_count": 119,
   "metadata": {
    "scrolled": true
   },
   "outputs": [
    {
     "data": {
      "text/html": [
       "<div>\n",
       "<style scoped>\n",
       "    .dataframe tbody tr th:only-of-type {\n",
       "        vertical-align: middle;\n",
       "    }\n",
       "\n",
       "    .dataframe tbody tr th {\n",
       "        vertical-align: top;\n",
       "    }\n",
       "\n",
       "    .dataframe thead th {\n",
       "        text-align: right;\n",
       "    }\n",
       "</style>\n",
       "<table border=\"1\" class=\"dataframe\">\n",
       "  <thead>\n",
       "    <tr style=\"text-align: right;\">\n",
       "      <th></th>\n",
       "      <th>Trocadas</th>\n",
       "    </tr>\n",
       "  </thead>\n",
       "  <tbody>\n",
       "    <tr>\n",
       "      <th>0</th>\n",
       "      <td>14</td>\n",
       "    </tr>\n",
       "    <tr>\n",
       "      <th>1</th>\n",
       "      <td>18</td>\n",
       "    </tr>\n",
       "  </tbody>\n",
       "</table>\n",
       "</div>"
      ],
      "text/plain": [
       "   Trocadas\n",
       "0        14\n",
       "1        18"
      ]
     },
     "execution_count": 119,
     "metadata": {},
     "output_type": "execute_result"
    }
   ],
   "source": [
    "figurinhas = pd.read_excel('figurinhas.xlsx')\n",
    "figurinhas.head(2)"
   ]
  },
  {
   "cell_type": "code",
   "execution_count": 120,
   "metadata": {},
   "outputs": [
    {
     "data": {
      "text/plain": [
       "15.0"
      ]
     },
     "execution_count": 120,
     "metadata": {},
     "output_type": "execute_result"
    }
   ],
   "source": [
    "# ESCREVA SUA RESOLUÇÃO AQUI\n",
    "media  = figurinhas['Trocadas'].mean()\n",
    "media"
   ]
  },
  {
   "cell_type": "markdown",
   "metadata": {},
   "source": [
    "# Resposta\n",
    "\n",
    "Acho razoável, pois a média exata de figurinhas trocadas por todas as pessoas é 15 figurinhas, e todas as trocas foram feitas de maneira independente, logo é razoável aplicar a distribuição de Poisson com média 15."
   ]
  },
  {
   "cell_type": "markdown",
   "metadata": {},
   "source": [
    "[Volta ao Índice](#indice)"
   ]
  },
  {
   "cell_type": "markdown",
   "metadata": {},
   "source": [
    "___\n",
    "<div id=\"p2\"></div>\n",
    "\n",
    "## Troca de figurinhas\n",
    "\n",
    "<img src=\"https://cdados.s3.us-east-2.amazonaws.com/troca_figurinhas.jpg\">\n",
    "Fonte: extraído da internet\n",
    "\n",
    "Se a imagem não carregar (não é importante para fazer a prova), acesse em https://cdados.s3.us-east-2.amazonaws.com/troca_figurinhas.jpg"
   ]
  },
  {
   "cell_type": "markdown",
   "metadata": {},
   "source": [
    "### PERGUNTA 2 (2,25 pontos)\n",
    "\n",
    "Nesta questão, considere que sejam analisadas duas variáveis qualitativas em cada pessoa que faz uma tentativa para trocar figurinhas da Copa 2022. São elas:\n",
    " * Ponto de troca: se pessoa usa ou não ponto de trocas de figurinhas na tentativa; e\n",
    " * Conseguiu trocar: se pessoa consegue ou não trocar figurinhas na tentativa em questão.\n",
    "\n",
    "Um modelo probabilístico assume que a probabilidade de que uma pessoa conseguir trocar figurinhas da Copa 2022 em uma tentativa qualquer é de 30%. \n",
    "<br> Se isso ocorrer, a probabilidade de que essa tentativa tenha sido em pontos de troca é de 75%. \n",
    "<br> Já se uma pessoa não conseguir trocar figurinhas da Copa 2022 em uma tentativa qualquer, então a probabilidade de que essa tentativa tenha sido em pontos de troca cai para 15%. \n",
    "\n",
    "Responda:"
   ]
  },
  {
   "cell_type": "markdown",
   "metadata": {},
   "source": [
    "<div id=\"p2a\"></div>\n",
    "\n",
    "**a)(1,00 ponto)** \n",
    "<br> Considerando o **Teorema de Bayes**, calcule as seguintes probabilidades:\n",
    "<br> $\\quad$ a1)  Se uma pessoa for em pontos de troca, qual a probabilidade de que ela consiga trocar figurinhas da Copa 2022? \n",
    "<br> $\\quad$ a2)  Se uma pessoa for em pontos de troca, qual a probabilidade de que ela não consiga trocar figurinhas da Copa 2022? \n",
    "<br> $\\quad$ a3) Se uma pessoa não for em pontos de troca, qual a probabilidade de que ela consiga trocar figurinhas da Copa 2022? \n",
    "<br> $\\quad$ a4) Se uma pessoa não for em pontos de troca, qual a probabilidade de que ela não consiga trocar figurinhas da Copa 2022? \n"
   ]
  },
  {
   "cell_type": "code",
   "execution_count": 121,
   "metadata": {},
   "outputs": [
    {
     "name": "stdout",
     "output_type": "stream",
     "text": [
      "a1) Probabilidade de ir em ponto de troca e conseguir trocar figurinhas: 68.18%\n",
      "a2) Probabilidade de ir em ponto de troca e não conseguir trocar figurinhas: 31.82%\n",
      "a3) Probabilidade de não ir em ponto de troca e conseguir trocar figurinhas: 11.19%\n",
      "a4) Probabilidade de não ir em ponto de troca e não conseguir trocar figurinhas: 88.81%\n"
     ]
    }
   ],
   "source": [
    "# ESCREVA SUA RESOLUÇÃO AQUI\n",
    "# P(C) = 0.3\n",
    "# P(Pt|C) = 0.75\n",
    "# P(Pt|~C) = 0.15\n",
    "\n",
    "P_C = 0.3\n",
    "P_Pt_C = 0.75\n",
    "P_Pt_notC = 0.15\n",
    "\n",
    "# a1\n",
    "# P(C|Pt) = P(Pt|C) * P(C) / P(Pt)\n",
    "P_C_Pt = P_Pt_C * P_C / (P_Pt_C * P_C + P_Pt_notC * (1 - P_C))\n",
    "print(f'a1) Probabilidade de ir em ponto de troca e conseguir trocar figurinhas: {P_C_Pt * 100:.2f}%')\n",
    "\n",
    "# a2\n",
    "# P(~C|Pt) = P(Pt|~C) * P(~C) / P(Pt)\n",
    "P_notC_Pt = P_Pt_notC * (1 - P_C) / (P_Pt_C * P_C + P_Pt_notC * (1 - P_C))\n",
    "print(f'a2) Probabilidade de ir em ponto de troca e não conseguir trocar figurinhas: {P_notC_Pt * 100:.2f}%')\n",
    "\n",
    "# a3\n",
    "# P(C|~Pt) = P(~Pt|C) * P(C) / P(~Pt)\n",
    "P_C_notPt = (1 - P_Pt_C) * P_C / ((1 - P_Pt_C) * P_C + (1 - P_Pt_notC) * (1 - P_C))\n",
    "print(f'a3) Probabilidade de não ir em ponto de troca e conseguir trocar figurinhas: {P_C_notPt * 100:.2f}%')\n",
    "\n",
    "# a4\n",
    "# P(~C|~Pt) = P(~Pt|~C) * P(~C) / P(~Pt)\n",
    "P_notC_notPt = (1 - P_Pt_notC) * (1 - P_C) / ((1 - P_Pt_C) * P_C + (1 - P_Pt_notC) * (1 - P_C))\n",
    "print(f'a4) Probabilidade de não ir em ponto de troca e não conseguir trocar figurinhas: {P_notC_notPt * 100:.2f}%')"
   ]
  },
  {
   "cell_type": "markdown",
   "metadata": {},
   "source": [
    "<div id=\"p2b\"></div>\n",
    "\n",
    "**b)(1,25 ponto)** \n",
    "<br> Considerando as probabilidades calculadas no item anterior, o intuito aqui é, condicionando ao fato que uma pessoa irá ou não a um ponto de trocas, fazer sua classificação rotulando-a por `SIM` predizendo que essa conseguirá trocar figurinhas da Copa 2022 ou `NÃO` predizendo que essa não conseguirá trocar figurinhas da Copa 2022.\n",
    "\n",
    "Faça cada etapa a seguir:\n",
    "  * [b1) Leitura do conjunto de dados `copa.xlsx`](#copa)\n",
    "  * [b2) Classificador de Bayes](#classificacao)\n",
    "  * [b3) Análise de sentimento](#sentimento)\n",
    "     "
   ]
  },
  {
   "cell_type": "markdown",
   "metadata": {},
   "source": [
    "<div id=\"copa\"></div>\n",
    "\n",
    "**b1) Leitura do conjunto de dados `copa.xlsx`**\n",
    "<br> A base de dados apresentada no arquivo `copa.xlsx` contém informação de 500 tentativas de troca de fgurinhas da Copa de 2022 para as quais foram mensuradas as seguintes informações:\n",
    " \n",
    " * `PontoDeTroca`: indica se a pessoa fez tentativa de trocar figurinhas em ponto de troca ou não.\n",
    "    - Não: se não foi em ponto de troca,\n",
    "    - Sim: se foi em ponto de troca.\n",
    " * `Trocou`: indica se pessoa conseguiu ou não trocar figurinhas em uma tentativa qualquer.\n",
    "    - Não: se não conseguiu trocar de figurinhas,\n",
    "    - Sim: se conseguiu trocar de figurinhas.\n"
   ]
  },
  {
   "cell_type": "code",
   "execution_count": 122,
   "metadata": {},
   "outputs": [
    {
     "name": "stdout",
     "output_type": "stream",
     "text": [
      "Esperamos trabalhar no diretório\n",
      "c:\\Users\\lucca\\OneDrive - Insper - Institudo de Ensino e Pesquisa\\Documentos\\GitHub\\CD22-2\\ZZZ Prova\n"
     ]
    }
   ],
   "source": [
    "print(\"Esperamos trabalhar no diretório\")\n",
    "print(os.getcwd())"
   ]
  },
  {
   "cell_type": "code",
   "execution_count": 123,
   "metadata": {},
   "outputs": [
    {
     "name": "stdout",
     "output_type": "stream",
     "text": [
      "Parece que o arquivo copa.xlsx está na mesma pasta do notebook da avaliação, yay!\n",
      "\n"
     ]
    }
   ],
   "source": [
    "filename = 'copa.xlsx'\n",
    "if filename in os.listdir():\n",
    "    print(f'Parece que o arquivo {filename} está na mesma pasta do notebook da avaliação, yay!\\n')\n",
    "    \n",
    "else:\n",
    "    print(f'Não encontrei o arquivo {filename}.\\n'\n",
    "          f'O notebook e os arquivos de dados desta avaliação devem ser salvos dentro da mesma pasta no seu computador.\\n')"
   ]
  },
  {
   "cell_type": "code",
   "execution_count": 124,
   "metadata": {},
   "outputs": [
    {
     "data": {
      "text/html": [
       "<div>\n",
       "<style scoped>\n",
       "    .dataframe tbody tr th:only-of-type {\n",
       "        vertical-align: middle;\n",
       "    }\n",
       "\n",
       "    .dataframe tbody tr th {\n",
       "        vertical-align: top;\n",
       "    }\n",
       "\n",
       "    .dataframe thead th {\n",
       "        text-align: right;\n",
       "    }\n",
       "</style>\n",
       "<table border=\"1\" class=\"dataframe\">\n",
       "  <thead>\n",
       "    <tr style=\"text-align: right;\">\n",
       "      <th></th>\n",
       "      <th>PontoDeTroca</th>\n",
       "      <th>Trocou</th>\n",
       "    </tr>\n",
       "  </thead>\n",
       "  <tbody>\n",
       "    <tr>\n",
       "      <th>0</th>\n",
       "      <td>Sim</td>\n",
       "      <td>Sim</td>\n",
       "    </tr>\n",
       "    <tr>\n",
       "      <th>1</th>\n",
       "      <td>Sim</td>\n",
       "      <td>Sim</td>\n",
       "    </tr>\n",
       "  </tbody>\n",
       "</table>\n",
       "</div>"
      ],
      "text/plain": [
       "  PontoDeTroca Trocou\n",
       "0          Sim    Sim\n",
       "1          Sim    Sim"
      ]
     },
     "execution_count": 124,
     "metadata": {},
     "output_type": "execute_result"
    }
   ],
   "source": [
    "copa = pd.read_excel('copa.xlsx')\n",
    "copa.head(2)"
   ]
  },
  {
   "cell_type": "markdown",
   "metadata": {},
   "source": [
    "<div id=\"classificacao\"></div>\n",
    "\n",
    "**b2) Classficador de Bayes**\n",
    "<br> Com seu classificador construído no item (a), use as probabilidades calculadas para classificar cada tentativa apresentada no *dataframe* `copa`. \n",
    "<br> Dado cada categoria da variável `PontoDeTroca`, classifique cada tentativa como `Não` quando não consegue trocar figurinhas` ou `Sim quando consegue trocar figurinhas.\n",
    "<br> No dataframe `copa`, guarde essas classificações em uma nova variável chamada `ClassByBot` e calcule as frequências relativas das categorias dessa nova variável."
   ]
  },
  {
   "cell_type": "code",
   "execution_count": 161,
   "metadata": {},
   "outputs": [
    {
     "data": {
      "text/html": [
       "<div>\n",
       "<style scoped>\n",
       "    .dataframe tbody tr th:only-of-type {\n",
       "        vertical-align: middle;\n",
       "    }\n",
       "\n",
       "    .dataframe tbody tr th {\n",
       "        vertical-align: top;\n",
       "    }\n",
       "\n",
       "    .dataframe thead th {\n",
       "        text-align: right;\n",
       "    }\n",
       "</style>\n",
       "<table border=\"1\" class=\"dataframe\">\n",
       "  <thead>\n",
       "    <tr style=\"text-align: right;\">\n",
       "      <th></th>\n",
       "      <th>PontoDeTroca</th>\n",
       "      <th>Trocou</th>\n",
       "      <th>ClassByBot</th>\n",
       "    </tr>\n",
       "  </thead>\n",
       "  <tbody>\n",
       "    <tr>\n",
       "      <th>0</th>\n",
       "      <td>Sim</td>\n",
       "      <td>Sim</td>\n",
       "      <td>Sim</td>\n",
       "    </tr>\n",
       "    <tr>\n",
       "      <th>1</th>\n",
       "      <td>Sim</td>\n",
       "      <td>Sim</td>\n",
       "      <td>Sim</td>\n",
       "    </tr>\n",
       "    <tr>\n",
       "      <th>2</th>\n",
       "      <td>Não</td>\n",
       "      <td>Não</td>\n",
       "      <td>Sim</td>\n",
       "    </tr>\n",
       "    <tr>\n",
       "      <th>3</th>\n",
       "      <td>Não</td>\n",
       "      <td>Não</td>\n",
       "      <td>Sim</td>\n",
       "    </tr>\n",
       "    <tr>\n",
       "      <th>4</th>\n",
       "      <td>Não</td>\n",
       "      <td>Não</td>\n",
       "      <td>Sim</td>\n",
       "    </tr>\n",
       "    <tr>\n",
       "      <th>...</th>\n",
       "      <td>...</td>\n",
       "      <td>...</td>\n",
       "      <td>...</td>\n",
       "    </tr>\n",
       "    <tr>\n",
       "      <th>495</th>\n",
       "      <td>Não</td>\n",
       "      <td>Não</td>\n",
       "      <td>Sim</td>\n",
       "    </tr>\n",
       "    <tr>\n",
       "      <th>496</th>\n",
       "      <td>Sim</td>\n",
       "      <td>Não</td>\n",
       "      <td>Sim</td>\n",
       "    </tr>\n",
       "    <tr>\n",
       "      <th>497</th>\n",
       "      <td>Sim</td>\n",
       "      <td>Sim</td>\n",
       "      <td>Sim</td>\n",
       "    </tr>\n",
       "    <tr>\n",
       "      <th>498</th>\n",
       "      <td>Não</td>\n",
       "      <td>Não</td>\n",
       "      <td>Sim</td>\n",
       "    </tr>\n",
       "    <tr>\n",
       "      <th>499</th>\n",
       "      <td>Não</td>\n",
       "      <td>Não</td>\n",
       "      <td>Sim</td>\n",
       "    </tr>\n",
       "  </tbody>\n",
       "</table>\n",
       "<p>500 rows × 3 columns</p>\n",
       "</div>"
      ],
      "text/plain": [
       "    PontoDeTroca Trocou ClassByBot\n",
       "0            Sim    Sim        Sim\n",
       "1            Sim    Sim        Sim\n",
       "2            Não    Não        Sim\n",
       "3            Não    Não        Sim\n",
       "4            Não    Não        Sim\n",
       "..           ...    ...        ...\n",
       "495          Não    Não        Sim\n",
       "496          Sim    Não        Sim\n",
       "497          Sim    Sim        Sim\n",
       "498          Não    Não        Sim\n",
       "499          Não    Não        Sim\n",
       "\n",
       "[500 rows x 3 columns]"
      ]
     },
     "execution_count": 161,
     "metadata": {},
     "output_type": "execute_result"
    }
   ],
   "source": [
    "# ESCREVA SUA RESOLUÇÃO AQUI\n",
    "# Classificador Naive Bayes\n",
    "\n",
    "\n",
    "p_ponto_trocou = 1\n",
    "p_ponto_nao_trocou = 1\n",
    "p_nao_ponto_trocou = 1\n",
    "p_nao_ponto_nao_trocou = 1\n",
    "\n",
    "ClassByBot = []\n",
    "\n",
    "for i in copa.loc[copa['PontoDeTroca'] == 'Sim'].index:\n",
    "    for p in copa.loc[i, 'Trocou']:\n",
    "        if p == 'Sim':\n",
    "            p_ponto_trocou *= P_Pt_C\n",
    "        else:\n",
    "            p_ponto_nao_trocou *= P_Pt_notC\n",
    "\n",
    "    if p_ponto_trocou > p_ponto_nao_trocou:\n",
    "        ClassByBot.append('Sim')\n",
    "    else:\n",
    "        ClassByBot.append('Não')\n",
    "\n",
    "    p_ponto_trocou = 1\n",
    "    p_ponto_nao_trocou = 1\n",
    "\n",
    "\n",
    "for i in copa.loc[copa['PontoDeTroca'] == 'Não'].index:\n",
    "    for p in copa.loc[i, 'Trocou']:\n",
    "        if p == 'Sim':\n",
    "            p_nao_ponto_trocou *= P_C_notPt\n",
    "        else:\n",
    "            p_nao_ponto_nao_trocou *= P_notC_notPt\n",
    "\n",
    "    if p_nao_ponto_trocou > p_nao_ponto_nao_trocou:\n",
    "        ClassByBot.append('Sim')\n",
    "    else:\n",
    "        ClassByBot.append('Não')\n",
    "\n",
    "    p_nao_ponto_trocou = 1\n",
    "    p_nao_ponto_nao_trocou = 1\n",
    "\n",
    "copa[\"ClassByBot\"] = ClassByBot\n",
    "copa"
   ]
  },
  {
   "cell_type": "markdown",
   "metadata": {},
   "source": [
    "<div id=\"sentimento\"></div>\n",
    "\n",
    "**b3) Análise de sentimento**\n",
    "<br> Faça uma análise de sentimento cruzando a variável `ClassByBot` com a real classificação `Trocou` utilizando a função `pd.crosstab`. \n",
    "<br> Calcule a acurácia e analise os resultados."
   ]
  },
  {
   "cell_type": "code",
   "execution_count": 162,
   "metadata": {},
   "outputs": [
    {
     "data": {
      "text/html": [
       "<div>\n",
       "<style scoped>\n",
       "    .dataframe tbody tr th:only-of-type {\n",
       "        vertical-align: middle;\n",
       "    }\n",
       "\n",
       "    .dataframe tbody tr th {\n",
       "        vertical-align: top;\n",
       "    }\n",
       "\n",
       "    .dataframe thead th {\n",
       "        text-align: right;\n",
       "    }\n",
       "</style>\n",
       "<table border=\"1\" class=\"dataframe\">\n",
       "  <thead>\n",
       "    <tr style=\"text-align: right;\">\n",
       "      <th>Trocou</th>\n",
       "      <th>Não</th>\n",
       "      <th>Sim</th>\n",
       "    </tr>\n",
       "    <tr>\n",
       "      <th>ClassByBot</th>\n",
       "      <th></th>\n",
       "      <th></th>\n",
       "    </tr>\n",
       "  </thead>\n",
       "  <tbody>\n",
       "    <tr>\n",
       "      <th>Sim</th>\n",
       "      <td>325</td>\n",
       "      <td>175</td>\n",
       "    </tr>\n",
       "  </tbody>\n",
       "</table>\n",
       "</div>"
      ],
      "text/plain": [
       "Trocou      Não  Sim\n",
       "ClassByBot          \n",
       "Sim         325  175"
      ]
     },
     "execution_count": 162,
     "metadata": {},
     "output_type": "execute_result"
    }
   ],
   "source": [
    "# ESCREVA SUA RESOLUÇÃO AQUI\n",
    "pd.crosstab(copa['ClassByBot'], copa['Trocou'])"
   ]
  },
  {
   "cell_type": "code",
   "execution_count": 164,
   "metadata": {},
   "outputs": [
    {
     "name": "stdout",
     "output_type": "stream",
     "text": [
      "Dado que a acurácia do bot é de 53.85%, eu considero que o bot, apesar de acertar mais da metade das vezes, ainda não consegue classificar as pessoas que não conseguiram trocar figurinhas com precisão.\n"
     ]
    }
   ],
   "source": [
    "a = 175/325\n",
    "print(f'Dado que a acurácia do bot é de {a * 100:.2f}%, eu considero que o bot, apesar de acertar mais da metade das vezes, ainda não consegue classificar as pessoas que não conseguiram trocar figurinhas com precisão.')"
   ]
  },
  {
   "cell_type": "markdown",
   "metadata": {},
   "source": [
    "[Volta ao Índice](#indice)"
   ]
  },
  {
   "cell_type": "markdown",
   "metadata": {},
   "source": [
    "___\n",
    "<div id=\"p3\"></div>\n",
    "\n",
    "## Mangas Perfeitas\n",
    "\n",
    "<img src=\"https://cdados.s3.us-east-2.amazonaws.com/manga.jpg\">\n",
    "Fonte: extraído da internet\n",
    "\n",
    "Se a imagem não carregar (não é importante para fazer a prova), acesse em https://cdados.s3.us-east-2.amazonaws.com/manga.jpg"
   ]
  },
  {
   "cell_type": "markdown",
   "metadata": {},
   "source": [
    "### PERGUNTA 3 (3,25 pontos)\n",
    "\n",
    "Em certos países, os consumidores estão habituados a pagar preços consideravelmente elados por frutas de qualidade, as chamadas **\"frutas perfeitas\"**. Sabendo disso, é de interesse dos produtores selecionar frutas que atendem aos mais elevados padrões, aumentando seu lucro.\n",
    "\n",
    "Considere que **mangas perfeitas** são aquelas que atingem níveis mínimos de **peso** e níveis mínimos de **concentração de açúcares**. Se uma manga não atinge um ou não atinge ambos os critérios, então ela é considerada uma manga normal!\n",
    "\n",
    "Nas lavouras do Sr. João, é sabido que a probabilidade de uma manga qualquer ter peso mínimo para ser considerada uma manga perfeita é de $27\\%$ ($0.27$). Ainda, a probabilidade de uma manga qualquer ter concentração mínima de açúcares para ser considerada uma manga perfeita é de $13\\%$ ($0.13$). Além disso, ambos os eventos são independentes entre sí.\n",
    "\n",
    "Considere as lavouras do Sr. João e Responda:"
   ]
  },
  {
   "cell_type": "markdown",
   "metadata": {},
   "source": [
    "<div id=\"p3a\"></div>\n",
    "\n",
    "**a) (0,50 ponto)**\n",
    "<br>Qual a probabilidade de uma manga qualquer colhida de forma aleatória ser considerada uma manga perfeita?"
   ]
  },
  {
   "cell_type": "code",
   "execution_count": 170,
   "metadata": {},
   "outputs": [
    {
     "name": "stdout",
     "output_type": "stream",
     "text": [
      "A probabilidade de uma manga qualquer ser perfeita é de 40.00%\n"
     ]
    }
   ],
   "source": [
    "# ESCREVA SUA RESOLUÇÃO AQUI\n",
    "# P(Pft | Pmin) = 0.27\n",
    "# P(Pft | Açc) = 0.13\n",
    "\n",
    "P_Pft_Pmin = 0.27\n",
    "P_Pft_Acc = 0.13\n",
    "\n",
    "P_Pmin = P_Pft_Pmin + (1 - P_Pft_Pmin)\n",
    "P_Pmin\n",
    "\n",
    "P_Acc = P_Pft_Acc + (1 - P_Pft_Acc)\n",
    "P_Acc\n",
    "\n",
    "P_Pft = (P_Pft_Pmin * P_Pmin) + (P_Pft_Acc * P_Acc)\n",
    "P_Pft\n",
    "\n",
    "print(f'A probabilidade de uma manga qualquer ser perfeita é de {P_Pft * 100:.2f}%')\n"
   ]
  },
  {
   "cell_type": "code",
   "execution_count": null,
   "metadata": {},
   "outputs": [],
   "source": []
  },
  {
   "cell_type": "markdown",
   "metadata": {},
   "source": [
    "<div id=\"p3b\"></div>\n",
    "\n",
    "**b) (0,50 ponto)**\n",
    "<br> Considere que cada manga perfeita é vendida por $15$ (quinze Reais), enquanto que mangas normais são vendidas por $2$ (dois Reais). Qual o valor esperado e o desvio padrão do valor de venda de uma manga escolhida aleatoriamente?"
   ]
  },
  {
   "cell_type": "code",
   "execution_count": 176,
   "metadata": {},
   "outputs": [
    {
     "name": "stdout",
     "output_type": "stream",
     "text": [
      "O preço esperado de uma manga é de R$7.20 e o desvio padrão é de R$6.50\n"
     ]
    }
   ],
   "source": [
    "# ESCREVA SUA RESOLUÇÃO AQUI\n",
    "# Preço manga perfeita = 15\n",
    "# Preço manga normal = 2\n",
    "# Chance manga perfeita = 0.4\n",
    "\n",
    "\n",
    "P_Pft = 0.4\n",
    "P_Pnorm = 1 - P_Pft\n",
    "\n",
    "preco_pft = 15\n",
    "preco_norm = 2\n",
    "\n",
    "preco = (P_Pft * preco_pft) + (P_Pnorm * preco_norm)\n",
    "np.std([preco_pft, preco_norm])\n",
    "print(f'O preço esperado de uma manga é de R${preco:.2f} e o desvio padrão é de R${np.std([preco_pft, preco_norm]):.2f}')\n"
   ]
  },
  {
   "cell_type": "code",
   "execution_count": null,
   "metadata": {},
   "outputs": [],
   "source": []
  },
  {
   "cell_type": "markdown",
   "metadata": {},
   "source": [
    "<div id=\"p3c\"></div>\n",
    "\n",
    "**c) (0,75 ponto)**\n",
    "<br> O Sr. João também vende mangas em caixas de seis mangas. Como as mangas são escolhidas de forma aleatória,  as caixas podem ter mais mangas normais ou mais mangas perfeitas, então o valor da caixa é variável. Construa a distribuição de probabilidades do preço destas caixas, exibindo as probabilidades com doze casas decimais."
   ]
  },
  {
   "cell_type": "code",
   "execution_count": 188,
   "metadata": {},
   "outputs": [
    {
     "data": {
      "text/plain": [
       "nan"
      ]
     },
     "execution_count": 188,
     "metadata": {},
     "output_type": "execute_result"
    }
   ],
   "source": [
    "# ESCREVA SUA RESOLUÇÃO AQUI\n",
    "Ppft = 6*0.4 * 15\n",
    "Pnor = 6*0.6 * 2\n",
    "Ppft, Pnor\n",
    "\n",
    "# Distribuição de probabilidades\n",
    "# Se só normais, preço = 2 * 6 = 12\n",
    "# Se só perfeitas, preço = 15 * 6 = 90\n",
    "# Se 4 normais e 2 perfeitas, preço = 2 * 4 + 15 * 2 = 34\n",
    "# Se 2 normais e 4 perfeitas, preço = 2 * 2 + 15 * 4 = 62\n",
    "# Se 5 normais e 1 perfeita, preço = 2 * 5 + 15 * 1 = 27\n",
    "# Se 1 normal e 5 perfeitas, preço = 2 * 1 + 15 * 5 = 77\n",
    "# Se 3 normais e 3 perfeitas, preço = 2 * 3 + 15 * 3 = 51\n",
    "\n"
   ]
  },
  {
   "cell_type": "code",
   "execution_count": null,
   "metadata": {},
   "outputs": [],
   "source": []
  },
  {
   "cell_type": "markdown",
   "metadata": {},
   "source": [
    "<div id=\"p3d\"></div>\n",
    "\n",
    "**d) (0,75 ponto)**\n",
    "<br> Um cientista está realizando uma pesquisa com mangas e irá precisar de várias caixas de seis mangas do Sr. João (as mesmas caixas do item c)! Ao invés de pagar um preço variável pelas caixas (uma vez que cada caixa pode ter mais ou menos mangas perfeitas), o cientista propôs pagar um preço fixo de $16.00$ (dezesseis reais) por cada caixa.\n",
    "\n",
    "A proposta deve ou não ser aceita pelo Sr. João? Utilize recursos analíticos e justifique com um texto sua resposta."
   ]
  },
  {
   "cell_type": "code",
   "execution_count": 130,
   "metadata": {},
   "outputs": [],
   "source": [
    "# ESCREVA SUA RESOLUÇÃO AQUI"
   ]
  },
  {
   "cell_type": "code",
   "execution_count": null,
   "metadata": {},
   "outputs": [],
   "source": []
  },
  {
   "cell_type": "markdown",
   "metadata": {},
   "source": [
    "<div id=\"p3e\"></div>\n",
    "\n",
    "**e) (0,75 ponto)**\n",
    "<br> Considere que o Sr. João negou a proposta do cientista (item d), preferindo vender as mangas conforme a quantidade de mangas perfeitas ou normais na caixa. Ainda, para fechar contrato, demandou que cada caixa seja vendida imediatamente com um acréscimo fixo de $2.00$ (dois reais) e após um ano de contrato, o valor total das caixas de manga (incluindo o acréscimo fixo inicial) seja acrescido em $12\\%$ (doze porcento). Qual será o valor esperado e o desvio padrão do preço de uma caixa com seis mangas após um ano de contrato?"
   ]
  },
  {
   "cell_type": "code",
   "execution_count": 131,
   "metadata": {},
   "outputs": [],
   "source": [
    "# ESCREVA SUA RESOLUÇÃO AQUI"
   ]
  },
  {
   "cell_type": "code",
   "execution_count": null,
   "metadata": {},
   "outputs": [],
   "source": []
  },
  {
   "cell_type": "markdown",
   "metadata": {},
   "source": [
    "[Volta ao Índice](#indice)"
   ]
  },
  {
   "cell_type": "markdown",
   "metadata": {},
   "source": [
    "___\n",
    "<div id=\"p4\"></div>\n",
    "\n",
    "## Minerais\n",
    "\n",
    "<img src=\"https://cdados.s3.us-east-2.amazonaws.com/minerais.jpg\">\n",
    "Fonte: extraído da internet\n",
    "\n",
    "Se a imagem não carregar (não é importante para fazer a prova), acesse em https://cdados.s3.us-east-2.amazonaws.com/minerais.jpg"
   ]
  },
  {
   "cell_type": "markdown",
   "metadata": {},
   "source": [
    "### PERGUNTA 4 (1,50 pontos)\n",
    "\n",
    "Dentre os fatores que podem influenciar na produtividade de uma lavoura, podemos elencar a **qualidade do solo**. \n",
    "\n",
    "Buscando entender a associação entre a produtividade e a concentração de alguns minerais no solo, foram realizadas análises de diversas propriedades diferentes. O resultado está na base de dados `minerais.xlsx`, onde as três primeiras colunas representam a medida de concentração de três minerais diferentes. Já a última coluna representa a produtividade por hectare (medida agrária de área).\n",
    "\n",
    "Vamos primeiro abrir a base de dados:"
   ]
  },
  {
   "cell_type": "code",
   "execution_count": 132,
   "metadata": {},
   "outputs": [
    {
     "name": "stdout",
     "output_type": "stream",
     "text": [
      "Esperamos trabalhar no diretório\n",
      "c:\\Users\\lucca\\OneDrive - Insper - Institudo de Ensino e Pesquisa\\Documentos\\GitHub\\CD22-2\\ZZZ Prova\n"
     ]
    }
   ],
   "source": [
    "print(\"Esperamos trabalhar no diretório\")\n",
    "print(os.getcwd())"
   ]
  },
  {
   "cell_type": "code",
   "execution_count": 133,
   "metadata": {},
   "outputs": [
    {
     "name": "stdout",
     "output_type": "stream",
     "text": [
      "Parece que o arquivo minerais.xlsx está na mesma pasta do notebook da avaliação, yay!\n",
      "\n"
     ]
    }
   ],
   "source": [
    "filename = 'minerais.xlsx'\n",
    "if filename in os.listdir():\n",
    "    print(f'Parece que o arquivo {filename} está na mesma pasta do notebook da avaliação, yay!\\n')\n",
    "    \n",
    "else:\n",
    "    print(f'Não encontrei o arquivo {filename}.\\n'\n",
    "          f'O notebook e os arquivos de dados desta avaliação devem ser salvos dentro da mesma pasta no seu computador.\\n')"
   ]
  },
  {
   "cell_type": "code",
   "execution_count": 134,
   "metadata": {},
   "outputs": [
    {
     "data": {
      "text/html": [
       "<div>\n",
       "<style scoped>\n",
       "    .dataframe tbody tr th:only-of-type {\n",
       "        vertical-align: middle;\n",
       "    }\n",
       "\n",
       "    .dataframe tbody tr th {\n",
       "        vertical-align: top;\n",
       "    }\n",
       "\n",
       "    .dataframe thead th {\n",
       "        text-align: right;\n",
       "    }\n",
       "</style>\n",
       "<table border=\"1\" class=\"dataframe\">\n",
       "  <thead>\n",
       "    <tr style=\"text-align: right;\">\n",
       "      <th></th>\n",
       "      <th>Mineral1</th>\n",
       "      <th>Mineral2</th>\n",
       "      <th>Mineral3</th>\n",
       "      <th>Produtividade</th>\n",
       "    </tr>\n",
       "  </thead>\n",
       "  <tbody>\n",
       "    <tr>\n",
       "      <th>0</th>\n",
       "      <td>213.924374</td>\n",
       "      <td>103.202900</td>\n",
       "      <td>509.391897</td>\n",
       "      <td>48440.456182</td>\n",
       "    </tr>\n",
       "    <tr>\n",
       "      <th>1</th>\n",
       "      <td>205.796592</td>\n",
       "      <td>102.697831</td>\n",
       "      <td>491.696738</td>\n",
       "      <td>46789.202036</td>\n",
       "    </tr>\n",
       "  </tbody>\n",
       "</table>\n",
       "</div>"
      ],
      "text/plain": [
       "     Mineral1    Mineral2    Mineral3  Produtividade\n",
       "0  213.924374  103.202900  509.391897   48440.456182\n",
       "1  205.796592  102.697831  491.696738   46789.202036"
      ]
     },
     "execution_count": 134,
     "metadata": {},
     "output_type": "execute_result"
    }
   ],
   "source": [
    "minerais = pd.read_excel(filename)\n",
    "minerais.head(2)"
   ]
  },
  {
   "cell_type": "markdown",
   "metadata": {},
   "source": [
    "<div id=\"p4a\"></div>\n",
    "\n",
    "Então, responda:\n",
    "\n",
    "**a) (0,75 ponto)**\n",
    "<br>Construa uma análise, utilizando gráficos e medidas adequadas que auxiliem a entender a associação entre as concentração de minerais e produtividade."
   ]
  },
  {
   "cell_type": "code",
   "execution_count": 135,
   "metadata": {},
   "outputs": [
    {
     "data": {
      "image/png": "[encoded data removed]",
      "text/plain": [
       "<Figure size 1440x720 with 3 Axes>"
      ]
     },
     "metadata": {
      "needs_background": "light"
     },
     "output_type": "display_data"
    },
    {
     "data": {
      "image/png": "[encoded data removed]",
      "text/plain": [
       "<Figure size 432x288 with 1 Axes>"
      ]
     },
     "metadata": {
      "needs_background": "light"
     },
     "output_type": "display_data"
    }
   ],
   "source": [
    "# ESCREVA SUA RESOLUÇÃO AQUI\n",
    "# concentração de minerais por produtividade\n",
    "\n",
    "mineral1_l = []\n",
    "mineral2_l = []\n",
    "mineral3_l = []\n",
    "prod_l = []\n",
    "\n",
    "for i in minerais['Mineral1'].sort_values():\n",
    "    mineral1_l.append(i)\n",
    "\n",
    "for i in minerais['Mineral2'].sort_values():\n",
    "    mineral2_l.append(i)\n",
    "\n",
    "for i in minerais['Mineral3'].sort_values():\n",
    "    mineral3_l.append(i)\n",
    "\n",
    "for i in minerais['Produtividade'].sort_values():\n",
    "    prod_l.append(i)\n",
    "\n",
    "\n",
    "plt.figure(figsize=(20, 10))\n",
    "\n",
    "plt.subplot(1, 3, 1)\n",
    "plt.title('Concentração Mineral 1 x Produtividade')\n",
    "plt.scatter(mineral1_l, prod_l,color='blue', label='Mineral 1')\n",
    "plt.xlabel('Concentração de mineral 1')\n",
    "plt.ylabel('Produtividade')\n",
    "plt.legend()\n",
    "\n",
    "plt.subplot(1, 3, 2)\n",
    "plt.title('Concentração Mineral 2 x Produtividade')\n",
    "plt.scatter(mineral2_l, prod_l,color='red', label='Mineral 2')\n",
    "plt.xlabel('Concentração de mineral 2')\n",
    "plt.ylabel('Produtividade')\n",
    "plt.legend()\n",
    "\n",
    "plt.subplot(1, 3, 3)\n",
    "plt.title('Concentração Mineral 3 x Produtividade')\n",
    "plt.scatter(mineral3_l, prod_l,color='green', label='Mineral 3')\n",
    "plt.xlabel('Concentração de mineral 3')\n",
    "plt.ylabel('Produtividade')\n",
    "plt.legend()\n",
    "\n",
    "plt.show()\n",
    "\n",
    "plt.title('Concentração de todos minerais presentes por produtividade')\n",
    "plt.plot(mineral1_l, prod_l, 'o', color='blue', label='Mineral 1')\n",
    "plt.plot(mineral2_l, prod_l, 'o', color='red', label='Mineral 2')\n",
    "plt.plot(mineral3_l, prod_l, 'o', color='green', label='Mineral 3')\n",
    "plt.xlabel('Concentração de minerais')\n",
    "plt.ylabel('Produtividade')\n",
    "plt.legend()\n",
    "plt.show()\n",
    "\n",
    "\n"
   ]
  },
  {
   "cell_type": "code",
   "execution_count": null,
   "metadata": {},
   "outputs": [],
   "source": []
  },
  {
   "cell_type": "markdown",
   "metadata": {},
   "source": [
    "<div id=\"p4b\"></div>\n",
    "\n",
    "**b) (0,75 ponto)**\n",
    "<br> Em seguida, produza um texto explicando suas conclusões. Caso a análise fosse repetida em novas áreas, considerando a mesma cultura, você teria alguma recomendação?"
   ]
  },
  {
   "cell_type": "markdown",
   "metadata": {},
   "source": [
    "# ESCREVA SUA RESOLUÇÃO AQUI\n",
    "Após a análise dos gráficos, é possível concluir que a produtividade cresce de acordo com a concentração de minerais no solo.\n",
    "Logo, minha recomendação seria medir a concentração de outros minerais no solo, para ver que relação esses outros minerais teriam com a produtividade, já que os três medidos em um primeiro momento beneficiam as plantas quanto maior for sua concentração no solo."
   ]
  },
  {
   "cell_type": "raw",
   "metadata": {},
   "source": []
  },
  {
   "cell_type": "markdown",
   "metadata": {},
   "source": [
    "[Volta ao Índice](#indice)"
   ]
  }
 ],
 "metadata": {
  "kernelspec": {
   "display_name": "Python 3.9.7 64-bit (system)",
   "language": "python",
   "name": "python3"
  },
  "language_info": {
   "codemirror_mode": {
    "name": "ipython",
    "version": 3
   },
   "file_extension": ".py",
   "mimetype": "text/x-python",
   "name": "python",
   "nbconvert_exporter": "python",
   "pygments_lexer": "ipython3",
   "version": "3.9.7"
  },
  "vscode": {
   "interpreter": {
    "hash": "fa202bb1a1975933ba9aefafdf4702960127000ff337e7c1a518450752e9f0c6"
   }
  }
 },
 "nbformat": 4,
 "nbformat_minor": 4
}
