{
 "cells": [
  {
   "cell_type": "markdown",
   "metadata": {},
   "source": [
    "___\n",
    "# Atividade: Uso da Distribuição Amostral da Média via resultado do TLC\n",
    "___\n",
    "## Aula 20"
   ]
  },
  {
   "cell_type": "markdown",
   "metadata": {},
   "source": [
    "<div id=\"indice\"></div>\n",
    "\n",
    "## Índice\n",
    "\n",
    "- [Teoria](#teoria)\n",
    "- [Simulação](#simulacao)\n",
    "    - [Exercício 1](#ex1)\n",
    "    - [Visualizando os dados gerados](#visualizando)\n",
    "    - [Exercício 2](#ex2)\n",
    "    - [Exercício 3](#ex3)\n",
    "    - [Exercício 4](#ex4)\n",
    "    - [Exercício 5](#ex5)\n",
    "\n",
    "___"
   ]
  },
  {
   "cell_type": "code",
   "execution_count": 1,
   "metadata": {},
   "outputs": [],
   "source": [
    "%matplotlib inline\n",
    "%reset -f\n",
    "import matplotlib.pyplot as plt\n",
    "import pandas as pd\n",
    "import numpy as np\n",
    "from scipy import stats"
   ]
  },
  {
   "cell_type": "markdown",
   "metadata": {},
   "source": [
    "<div id=\"teoria\"></div>\n",
    "\n",
    "# Teoria\n",
    "\n",
    "## Estatísticas e distribuições amostrais\n",
    "\n",
    "Uma **estatística** é qualquer função baseada nas observações de uma amostra aleatória. Usamos estatísticas quando, para fins práticos, não é possível ter acesso a toda uma população.\n",
    "\n",
    "A distribuição de probabilidades de uma estatística é chamada de *distribuição amostral*.\n",
    "\n",
    "\n",
    "## Média Amostral $\\overline{X}$\n",
    "\n",
    "Assuma que $X$ seja uma variável aleatória com média $\\mu$ e variância $\\sigma^2$, ou seja, $E(X)=\\mu$ e $Var(X)=\\sigma^2$.\n",
    "\n",
    "Sejam $X_1, X_2, \\ldots, X_n$ amostras aleatórias de $X$ de tamanho $n$, então:\n",
    "\n",
    "$$\\overline{X} = \\frac{X_1 + X_2 + X_3 + \\cdots + X_n}{n}$$\n",
    "\n",
    "É chamada *Média Amostral*!\n",
    "\n",
    "Pode-se caracterizar a média amostral com os seguintes valores:\n",
    "\n",
    "* Média de $\\overline{X}$:\n",
    "\n",
    "$$\\mu_{\\overline{X}} = E(\\overline{X})=\\frac{\\mu + \\mu + \\cdots + \\mu}{n} = \\mu$$\n",
    "\n",
    "* Variância de $\\overline{X}$:\n",
    "\n",
    "\n",
    "$$\\sigma^2_{\\overline{X}} = Var(\\overline{X})=\\frac{\\sigma^2 + \\sigma^2 + \\cdots + \\sigma^2}{n^2} = \\frac{\\sigma^2}{n}$$\n",
    "\n",
    "\n",
    "<br>\n",
    "\n",
    "## Teorema  Central do Limite (TLC)\n",
    "\n",
    "Assuma que $X$ seja uma variável aleatória com média $\\mu$ e variância $\\sigma^2$, ou seja, $E(X)=\\mu$ e $Var(X)=\\sigma^2$.\n",
    "\n",
    "Dado $X_i$ uma variável aleatória *i.i.d.* (independente e identicamente distribuída) a $X$ com distribuição qualquer, tem-se que:\n",
    "\n",
    "$$\\bar{X}=\\frac{X_1+X_2+...+X_n}{n}=\\frac{\\sum_{i=1}^n X_i}{n} \\sim N\\left(\\mu,\\frac{\\sigma^2}{n}\\right),$$\n",
    "\n",
    "quando $n$ for suficientemente grande.\n",
    "\n",
    "*Obs:* Em alguns casos específicos, pode-se considerar $X_i$ com distribuições diferentes ou com certa dependência entre elas.\n",
    "\n",
    "<br> \n",
    "\n",
    "**Resultado adicional:**\n",
    "\n",
    "Se $X_1, X_2, \\cdots, X_n$ é uma amostra aleatória de tamanho $n$ extraída de uma população com média $\\mu$ e variância $\\sigma^2$ e $\\overline{X}$ é a distribuição da média amostral, a forma limite da distribuição:\n",
    "\n",
    "$$Z = \\frac{\\overline{X} - \\mu}{\\sigma/\\sqrt{n}} \\sim N\\left(0,1\\right).$$\n",
    "\n",
    "É a **distribuição normal padrão**, à medida que $n  \\rightarrow \\infty$."
   ]
  },
  {
   "cell_type": "markdown",
   "metadata": {},
   "source": [
    "___\n",
    "<div id=\"simulacao\"></div>\n",
    "\n",
    "# Simulação\n",
    "\n",
    "Vamos tentar entender a intuição do TLC através de uma simulação."
   ]
  },
  {
   "cell_type": "markdown",
   "metadata": {},
   "source": [
    "<div id=\"ex1\"></div>\n",
    "\n",
    "### EXERCÍCIO 1\n",
    "\n",
    "Faça uma função chamada `amostra_uniforme(n)`, que recebe um número inteiro `n` e que retorna uma lista contendo `n` valores gerados aleatoriamente a partir de uma distribuição uniforme com parâmetros $a=10$, $b=20$. \n",
    "\n",
    "Esses `n` valores representam uma amostra aleatória qualquer extraída de $X\\sim \\text{Uniforme}(10;20)$.\n",
    "\n",
    "**Dica:** você provavelmente vai utilizar o método `stats.uniform.rvs` (pesquise a documentação)."
   ]
  },
  {
   "cell_type": "code",
   "execution_count": 2,
   "metadata": {},
   "outputs": [],
   "source": [
    "# ESCREVA SEU CÓDIGO AQUI"
   ]
  },
  {
   "cell_type": "code",
   "execution_count": 20,
   "metadata": {},
   "outputs": [],
   "source": [
    "def amostra_uniforme(n):\n",
    "    a=10\n",
    "    b=20\n",
    "    x_All = stats.uniform.rvs(loc=a, scale=b-a, size=n)\n",
    "    return x_All"
   ]
  },
  {
   "cell_type": "markdown",
   "metadata": {},
   "source": [
    "___\n",
    "<div id=\"visualizando\"></div>\n",
    "\n",
    "## Visualizando os dados gerados\n",
    "\n",
    "Execute a função `amostra_uniforme(n)` criada no exercício anterior considerando `n=20`.\n",
    "\n",
    "O gráfico a seguir contem um histograma com os valores da amostra gerados por sua função.\n",
    "\n",
    "Execute algumas vezes a célula abaixo para perceber que a amostra pode conter valores diferentes."
   ]
  },
  {
   "cell_type": "code",
   "execution_count": 32,
   "metadata": {},
   "outputs": [
    {
     "data": {
      "image/png": "[encoded data removed]",
      "text/plain": [
       "<Figure size 1080x360 with 1 Axes>"
      ]
     },
     "metadata": {
      "needs_background": "light"
     },
     "output_type": "display_data"
    }
   ],
   "source": [
    "# Gera uma amostra aleatória de tamanho n\n",
    "#amostra = pd.Series(amostra_uniforme(20))\n",
    "\n",
    "plt.figure(figsize=(15, 5))\n",
    "\n",
    "# Para construir o histograma com amplitude 1 nas faixas\n",
    "faixa = np.arange(10,21,1)\n",
    "plt.hist(amostra_uniforme(20), bins=faixa, density=True,\n",
    "         color='skyblue', edgecolor='white', \n",
    "         linewidth=1, alpha=0.8)\n",
    "\n",
    "# Para construir a fdp \n",
    "eixo_x = np.linspace(5, 25, 1000)\n",
    "fx_uniform = stats.uniform.pdf(eixo_x, loc=10, scale=20-10)\n",
    "plt.plot(eixo_x, fx_uniform, color='blue')\n",
    "plt.ylabel('densidade')\n",
    "plt.xlabel('valores de x')\n",
    "plt.title('Uma amostra de X ~ Uniforme(10; 20)')\n",
    "plt.ylim(0,0.2)\n",
    "plt.legend(('fdp','amostra'))\n",
    "\n",
    "plt.show()"
   ]
  },
  {
   "cell_type": "markdown",
   "metadata": {},
   "source": [
    "<div id=\"ex2\"></div>\n",
    "\n",
    "### EXERCÍCIO 2\n",
    "\n",
    "Gere um amostra aleatória de tamanho `n=20` utilizando a sua função `amostra_uniforme`.\n",
    "Calcule a média amostral."
   ]
  },
  {
   "cell_type": "code",
   "execution_count": 5,
   "metadata": {},
   "outputs": [],
   "source": [
    "# ESCREVA SEU CÓDIGO AQUI"
   ]
  },
  {
   "cell_type": "code",
   "execution_count": 19,
   "metadata": {},
   "outputs": [
    {
     "data": {
      "text/plain": [
       "14.641155744457901"
      ]
     },
     "execution_count": 19,
     "metadata": {},
     "output_type": "execute_result"
    }
   ],
   "source": [
    "np.mean(amostra_uniforme(20))"
   ]
  },
  {
   "cell_type": "markdown",
   "metadata": {},
   "source": [
    "<div id=\"ex3\"></div>\n",
    "\n",
    "### EXERCÍCIO 3\n",
    "\n",
    "**a.** Agora repita o [Exercício 2](#ex2) por mil vezes, armazenando as mil médias em uma lista.\n",
    "\n",
    "**b.** Plote um histograma com as médias obtidas. Utilize `bins=20`, por exemplo.\n",
    "\n",
    "**c.** Interprete a distribuição dessas médias amostrais."
   ]
  },
  {
   "cell_type": "code",
   "execution_count": 33,
   "metadata": {},
   "outputs": [],
   "source": [
    "# ESCREVA SEU CÓDIGO AQUI\n",
    "medias = []\n",
    "for i in range(1000):\n",
    "    medias.append(np.mean(amostra_uniforme(20)))\n",
    "    "
   ]
  },
  {
   "cell_type": "code",
   "execution_count": 35,
   "metadata": {},
   "outputs": [
    {
     "data": {
      "text/plain": [
       "(array([0.0236877 , 0.01421262, 0.05211295, 0.09475082, 0.17528901,\n",
       "        0.24161458, 0.3837408 , 0.45006637, 0.54007965, 0.62061784,\n",
       "        0.58745506, 0.45006637, 0.40742851, 0.30320261, 0.22740196,\n",
       "        0.09001327, 0.04263787, 0.01895016, 0.00947508, 0.00473754]),\n",
       " array([12.97922643, 13.1903064 , 13.40138638, 13.61246636, 13.82354633,\n",
       "        14.03462631, 14.24570629, 14.45678627, 14.66786624, 14.87894622,\n",
       "        15.0900262 , 15.30110618, 15.51218615, 15.72326613, 15.93434611,\n",
       "        16.14542609, 16.35650606, 16.56758604, 16.77866602, 16.989746  ,\n",
       "        17.20082597]),\n",
       " <BarContainer object of 20 artists>)"
      ]
     },
     "execution_count": 35,
     "metadata": {},
     "output_type": "execute_result"
    },
    {
     "data": {
      "image/png": "[encoded data removed]",
      "text/plain": [
       "<Figure size 432x288 with 1 Axes>"
      ]
     },
     "metadata": {
      "needs_background": "light"
     },
     "output_type": "display_data"
    }
   ],
   "source": [
    "plt.hist(medias, bins=20, density=True,\n",
    "         color='blue', edgecolor='white', \n",
    "         linewidth=1, alpha=0.8)"
   ]
  },
  {
   "cell_type": "markdown",
   "metadata": {},
   "source": [
    "<div id=\"ex4\"></div>\n",
    "\n",
    "### EXERCÍCIO 4\n",
    "\n",
    "No [Exercício 1](#ex1), a sua função `amostra_uniforme(n)` foi constuída para gerar `n` valores para representar uma amostra aleatória qualquer. Ou seja, de forma teórica $X_1, X_2, X_3, \\ldots, X_n$ é uma amostra aleatória de $X\\sim \\text{Uniforme}(10; 20)$.\n",
    "\n",
    "No [Exercício 2](#ex2), calculamos uma única média amostral a partir dos valores $X_1, X_2, X_3, \\ldots, X_n$. Nos nossos exemplos utilizamos `n=20`.\n",
    "\n",
    "No [Exercício 3a](#ex3), geramos 1000 amostras de tamanho `n=20` e, com isso, foram calculadas 1000 médias amostrais, $\\overline{X}$, todas obtidas de forma independente e da mesma distribuição. \n",
    "\n",
    "O que podemos observar no histograma é que essas 1000 médias amostrais se aproximam de uma distribuição simétrica. Seria uma distribuição normal?\n",
    "\n",
    "Faça um *QQPlot* para avaliar, descritivamente, se as médias seguem uma distribuição normal.\n",
    "Consulte [aqui](https://docs.scipy.org/doc/scipy/reference/generated/scipy.stats.probplot.html)."
   ]
  },
  {
   "cell_type": "code",
   "execution_count": 9,
   "metadata": {},
   "outputs": [],
   "source": [
    "# ESCREVA SEU CÓDIGO AQUI"
   ]
  },
  {
   "cell_type": "code",
   "execution_count": 16,
   "metadata": {},
   "outputs": [
    {
     "data": {
      "image/png": "[encoded data removed]",
      "text/plain": [
       "<Figure size 432x288 with 1 Axes>"
      ]
     },
     "metadata": {
      "needs_background": "light"
     },
     "output_type": "display_data"
    }
   ],
   "source": [
    "stats.probplot(medias, dist=stats.norm, sparams=(10, 10), plot=plt)\n",
    "plt.show()"
   ]
  },
  {
   "cell_type": "code",
   "execution_count": null,
   "metadata": {},
   "outputs": [],
   "source": []
  },
  {
   "cell_type": "markdown",
   "metadata": {},
   "source": [
    "<div id=\"ex5\"></div>\n",
    "\n",
    "### EXERCÍCIO 5\n",
    "\n",
    "Pelo TLC, as médias amostrais $\\overline{X}$ devem seguir distribuição normal conforme `n` seja grande. Há estudos que mostram que, com `n>30`, $\\overline{X}$ já apresenta boa aproximação de uma normal não importando o formato de $X$.\n",
    "\n",
    "Ainda, pelo TLC, $\\overline{X}$ tem valor médio igual a $\\mu$ (que é a média da distribuição original $X$, no caso da uniforme) e variância $\\sigma^2/n$. Vamos verificar essa afirmação:\n",
    "\n",
    "**a.** Calcule a média e variância teóricas da distribuição de $\\overline{X}$. Para isso, calcule a média e a variância da $\\text{Uniforme}(10; 20)$. Esses dois últimos valores vão representar $\\mu$ e $\\sigma^2$.\n",
    "\n",
    "**b.** Calcule a média e variância das 1000 médias amostrais geradas no [Exercício 3](#ex3).\n",
    "\n",
    "**c.** Compare os resultados e discuta se eles se aproximam do que era esperado pelo TLC."
   ]
  },
  {
   "cell_type": "code",
   "execution_count": 11,
   "metadata": {},
   "outputs": [],
   "source": [
    "# ESCREVA SEU CÓDIGO AQUI"
   ]
  },
  {
   "cell_type": "code",
   "execution_count": 12,
   "metadata": {},
   "outputs": [
    {
     "name": "stdout",
     "output_type": "stream",
     "text": [
      "15.0 0.41666666666666663\n",
      "14.994690626248476 0.42422442924410614\n"
     ]
    }
   ],
   "source": [
    "mu = stats.uniform.mean(loc=10,scale=10)\n",
    "var =  stats.uniform.var(loc=10,scale=10)\n",
    "\n",
    "mu_medias = np.mean(medias)\n",
    "var_medias = np.var(medias)\n",
    "\n",
    "print(mu,var/20)\n",
    "print(mu_medias,var_medias)"
   ]
  },
  {
   "cell_type": "code",
   "execution_count": null,
   "metadata": {},
   "outputs": [],
   "source": []
  },
  {
   "cell_type": "code",
   "execution_count": null,
   "metadata": {},
   "outputs": [],
   "source": []
  },
  {
   "cell_type": "code",
   "execution_count": null,
   "metadata": {},
   "outputs": [],
   "source": []
  }
 ],
 "metadata": {
  "hide_input": false,
  "kernelspec": {
   "display_name": "Python 3 (ipykernel)",
   "language": "python",
   "name": "python3"
  },
  "language_info": {
   "codemirror_mode": {
    "name": "ipython",
    "version": 3
   },
   "file_extension": ".py",
   "mimetype": "text/x-python",
   "name": "python",
   "nbconvert_exporter": "python",
   "pygments_lexer": "ipython3",
   "version": "3.9.12"
  }
 },
 "nbformat": 4,
 "nbformat_minor": 4
}
