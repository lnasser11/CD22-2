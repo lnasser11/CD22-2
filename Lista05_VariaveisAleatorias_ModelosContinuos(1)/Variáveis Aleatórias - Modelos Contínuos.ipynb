{
 "cells": [
  {
   "cell_type": "markdown",
   "metadata": {},
   "source": [
    "# Variáveis Aleatórias\n",
    "### Exercícios a seguir englobam variáveis aleatórias contínuas\n",
    "\n",
    "___\n"
   ]
  },
  {
   "cell_type": "markdown",
   "metadata": {},
   "source": [
    "___\n",
    "Carregando algumas bibliotecas:"
   ]
  },
  {
   "cell_type": "code",
   "execution_count": null,
   "metadata": {},
   "outputs": [],
   "source": [
    "%matplotlib inline\n",
    "import pandas as pd\n",
    "import matplotlib.pyplot as plt\n",
    "import numpy as np\n",
    "\n",
    "from scipy import stats\n",
    "import math\n",
    "\n",
    "# Para ter melhor print\n",
    "from IPython.display import display"
   ]
  },
  {
   "cell_type": "markdown",
   "metadata": {},
   "source": [
    "___\n",
    "## Índice\n",
    "\n",
    "- [Questão 1 - Vendas do telemarketing (Modelo Teórico)](#q1) \n",
    "    - [Item a](#q1_a)\n",
    "    - [Item b](#q1_b)\n",
    "    - [Item c](#q1_c)\n",
    "    - [Item d](#q1_d)\n",
    "- [Questão 2 - Vendas do telemarketing (Dados)](#q2) \n",
    "    - [Item a](#q2_a)\n",
    "    - [Item b](#q2_b)\n",
    "    - [Item c](#q2_c)\n",
    "    - [Item d](#q2_d)\n",
    "    - [Item e](#q2_e)\n",
    "- [Questão 3 - Vida útil dos drives de Blu-ray (Modelo Teórico)](#q3) \n",
    "    - [Item a](#q3_a)\n",
    "    - [Item b](#q3_b)\n",
    "    - [Item c](#q3_c)\n",
    "    - [Item d](#q3_d)\n",
    "    - [Item e](#q3_e)\n",
    "    - [Item f](#q3_f)\n",
    "- [Questão 4 - Vida útil dos drives de Blu-ray (Dados)](#q4) \n",
    "    - [Item a](#q4_a)\n",
    "    - [Item b](#q4_b)\n",
    "    - [Item c](#q4_c)\n",
    "- [Questão 5 - Doceria](#q5) \n",
    "    - [Item a](#q5_a)\n",
    "    - [Item b](#q5_b)\n",
    "- [Questão 6 - Contagem de leucócitos](#q6) \n",
    "    - [Item a](#q6_a)\n",
    "    - [Item b](#q6_b)\n",
    "    - [Item c](#q6_c)\n",
    "- [Questão 7 - Análise do ENEM](#q7) \n",
    "    - [Item a](#q7_a)\n",
    "    - [Item b](#q7_b)\n",
    "    - [Item c](#q7_c)\n",
    "    - [Item d](#q7_d)\n",
    "    - [Item e](#q7_e)\n",
    "    - [Item f](#q7_f)\n",
    "\n",
    "\n",
    "___"
   ]
  },
  {
   "cell_type": "markdown",
   "metadata": {},
   "source": [
    "<div id=\"q1\"></div>\n",
    "\n",
    "# Questão 1\n",
    "\n",
    "No artigo de [Moro et al (2014)](https://www.researchgate.net/publication/260805594_A_Data-Driven_Approach_to_Predict_the_Success_of_Bank_Telemarketing), o intuito é prever o sucesso de vendas do telemarketing na venda de um produto bancário, considerando clientes de um banco português abordados entre 2008 e 2013.\n",
    "\n",
    "Para cada cliente, foram mensurados o tempo de duração do contato telefônico (em segundos) e a venda ou não do produto bancário oferecido.\n"
   ]
  },
  {
   "cell_type": "markdown",
   "metadata": {},
   "source": [
    "Assuma que $X$ seja o tempo de duração do contato telefônico (em segundos) de um cliente qualquer modelado por uma exponencial com média igual a $264$ segundos.\n",
    "\n",
    "Com base nesse modelo, responda:"
   ]
  },
  {
   "cell_type": "markdown",
   "metadata": {},
   "source": [
    "<div id=\"q1_a\"></div>\n",
    "\n",
    "---\n",
    "\n",
    "**a)** Quando um cliente conversa mais do que 5 minutos, qual a probabilidade de não passar de 6 minutos?"
   ]
  },
  {
   "cell_type": "code",
   "execution_count": null,
   "metadata": {},
   "outputs": [],
   "source": [
    "# Coloque seu código aqui..."
   ]
  },
  {
   "cell_type": "markdown",
   "metadata": {},
   "source": [
    "<div id=\"q1_b\"></div>\n",
    "\n",
    "---\n",
    "\n",
    "**b)** Qual tempo mínimo de duração do contato telefônico (em segundos) das $5\\%$ conversas mais demoradas?"
   ]
  },
  {
   "cell_type": "code",
   "execution_count": null,
   "metadata": {},
   "outputs": [],
   "source": [
    "# Coloque seu código aqui..."
   ]
  },
  {
   "cell_type": "markdown",
   "metadata": {},
   "source": [
    "<div id=\"q1_c\"></div>\n",
    "\n",
    "---\n",
    "\n",
    "**c)** Uma atendente de telemarketing precisa ligar para 10 clientes para ofertar esse produto bancário. Qual a probabilidade de que nenhum desses 10 clientes conversem mais do que 5 minutos no contato telefônico?"
   ]
  },
  {
   "cell_type": "code",
   "execution_count": null,
   "metadata": {},
   "outputs": [],
   "source": [
    "# Coloque seu código aqui..."
   ]
  },
  {
   "cell_type": "markdown",
   "metadata": {},
   "source": [
    "<div id=\"q1_d\"></div>\n",
    "\n",
    "---\n",
    "\n",
    "**d)** Assuma que o número de vendas por dia desse produto bancário seja, em média, igual a 12 vendas. Suponha que:\n",
    "\n",
    "- As vendas são independentes entre si;\n",
    "- Os dias se comportam de maneira semelhante uns aos outros.\n",
    "\n",
    "Atribuindo um modelo probabilístico adequado a essa variável, encontre o percentil de ordem $25\\%$."
   ]
  },
  {
   "cell_type": "code",
   "execution_count": null,
   "metadata": {},
   "outputs": [],
   "source": [
    "# Coloque seu código aqui..."
   ]
  },
  {
   "cell_type": "markdown",
   "metadata": {},
   "source": [
    "<div id=\"q2\"></div>\n",
    "\n",
    "___\n",
    "# Questão 2\n",
    "\n",
    "Nesta questão, vamos considerar a base de dados utilizada em [Moro et al (2014)](https://www.researchgate.net/publication/260805594_A_Data-Driven_Approach_to_Predict_the_Success_of_Bank_Telemarketing)."
   ]
  },
  {
   "cell_type": "code",
   "execution_count": null,
   "metadata": {},
   "outputs": [],
   "source": [
    "filename = 'bank.csv'\n",
    "dados = pd.read_csv(filename, sep=\";\")"
   ]
  },
  {
   "cell_type": "code",
   "execution_count": null,
   "metadata": {
    "scrolled": true
   },
   "outputs": [],
   "source": [
    "dados.head()"
   ]
  },
  {
   "cell_type": "markdown",
   "metadata": {},
   "source": [
    "**SIGNIFICADO DAS VARIÁVEIS:**\n",
    "\n",
    "Dentre todas essas variáveis (com nome em inglês) apresentadas nessa base de dados, vamos trabalhar com apenas as seguintes colunas:\n",
    "  *\t`duration`: tempo de duração da chamada telefônica para oferecer produto bancário (em segundos) \n",
    "  * `y`: adesão ou não do produto oferecido pelo contato telefônico (com as categorias: 'yes' e 'no')\n"
   ]
  },
  {
   "cell_type": "markdown",
   "metadata": {},
   "source": [
    "**PERGUNTA:**\n",
    "\n",
    "Nesta questão, o objetivo será avaliar se `duration` segmentanda pela variável `y` pode ser modelada por uma distribuição exponencial. "
   ]
  },
  {
   "cell_type": "markdown",
   "metadata": {},
   "source": [
    "---\n",
    "\n",
    "<div id=\"q2_a\"></div>\n",
    "    \n",
    "**a) Crie duas pd.Series**: uma contendo o tempo de duração apenas dos clientes que **não fizeram** adesão ao produto e guarde em `duration_no`; e outra contendo o tempo de duração apenas dos clientes que **fizeram** adesão ao produto e guarde em `duration_yes`;"
   ]
  },
  {
   "cell_type": "code",
   "execution_count": null,
   "metadata": {},
   "outputs": [],
   "source": [
    "# Coloque seu código aqui..."
   ]
  },
  {
   "cell_type": "markdown",
   "metadata": {},
   "source": [
    "---\n",
    "\n",
    "<div id=\"q2_b\"></div>\n",
    "\n",
    "**b) Construa dois histogramas** de densidade: um considerando `duration_no` e outro considerando `duration_yes`. Faça uso de `plt.subplot()` adequadamente;"
   ]
  },
  {
   "cell_type": "code",
   "execution_count": null,
   "metadata": {},
   "outputs": [],
   "source": [
    "# Coloque seu código aqui..."
   ]
  },
  {
   "cell_type": "markdown",
   "metadata": {},
   "source": [
    "---\n",
    "\n",
    "<div id=\"q2_c\"></div>\n",
    "\n",
    "**c)** Para cada série **estime o parâmetro $\\mu$ da exponencial** considerando os valores da série;"
   ]
  },
  {
   "cell_type": "code",
   "execution_count": null,
   "metadata": {},
   "outputs": [],
   "source": [
    "# Coloque seu código aqui..."
   ]
  },
  {
   "cell_type": "markdown",
   "metadata": {},
   "source": [
    "---\n",
    "\n",
    "<div id=\"q2_d\"></div>\n",
    "\n",
    "**d) Calcule a função densidade de probabilidade (f.d.p.) da exponencial** para valores do tempo de duração compatíveis com os histogramas anteriores, e assumindo as respectivas estimativas de $\\mu$ obtidas no item anterior;"
   ]
  },
  {
   "cell_type": "code",
   "execution_count": null,
   "metadata": {},
   "outputs": [],
   "source": [
    "# Coloque seu código aqui..."
   ]
  },
  {
   "cell_type": "markdown",
   "metadata": {},
   "source": [
    "---\n",
    "\n",
    "<div id=\"q2_e\"></div>\n",
    "\n",
    "**e) Visualize cada f.d.p.** calculada anteriormente sobre seu respectivo histograma de densidade obtido a partir dos dados."
   ]
  },
  {
   "cell_type": "code",
   "execution_count": null,
   "metadata": {},
   "outputs": [],
   "source": [
    "# Coloque seu código aqui..."
   ]
  },
  {
   "cell_type": "markdown",
   "metadata": {},
   "source": [
    "<div id=\"q3\"></div>\n",
    "\n",
    "___\n",
    "# Questão 3"
   ]
  },
  {
   "cell_type": "markdown",
   "metadata": {},
   "source": [
    "<div id=\"enuncq1\"></div>\n",
    "\n",
    "<img src=\"img/blu-ray.jpeg\" width=33% alt=\"Fonte: https://www.geek.com/gadgets/sony-unleashes-new-blu-ray-laser-capable-of-burning-128gb-quad-layer-discs-1288926/\"> </img>\n",
    "\n",
    "*Adaptado de Montgomery e Runger*\n",
    "\n",
    "*Lasers* semicondutores usados em drives de discos Blu-ray requerem níveis mais altos de potência para operações de **escrita** (gravação) do que para operações de **leitura**. Operações com níveis de alta potência baixam a vida útil do *laser*.\n",
    "\n",
    "*Lasers* que estejam em drives de Blu-ray podem ser usados para escrita ou leitura.\n",
    "\n",
    "Considere as seguintes informações:\n",
    "\n",
    " * $25\\%$ das vezes um drive de Blu-ray é usado apenas para escrita.\n",
    " * Aqui, assuma que de maneira complementar, $75\\%$ das vezes é utilizado apenas para leitura.\n",
    " * $X_L$: vida útil de um drive de Blu-ray, em anos, quando utilizado apenas para leitura, sendo $E(X_L)=5$.\n",
    " * $X_E$: vida útil de um drive de Blu-ray, em anos, quando utilizado apenas para escrita, sendo $E(X_E)=3$.\n",
    " * A vida útil de um drive de Blu-ray, em anos, é modelada por uma distribuição exponencial, ou seja, $X_L\\sim Exponencial$ e $X_E\\sim Exponencial$.\n",
    " "
   ]
  },
  {
   "cell_type": "markdown",
   "metadata": {},
   "source": [
    "\n",
    "<div id=\"q3_a\"></div> \n",
    "\n",
    "### Perguntas usando Modelos Teóricos\n",
    "\n",
    "$\\quad$\n",
    "\n",
    "---\n",
    "\n",
    "**a.** Encontre a probabilidade de um drive de Blu-ray utilizado apenas para leitura dure mais do que 6 anos.\n"
   ]
  },
  {
   "cell_type": "code",
   "execution_count": null,
   "metadata": {},
   "outputs": [],
   "source": []
  },
  {
   "cell_type": "markdown",
   "metadata": {},
   "source": [
    "---\n",
    "\n",
    "<div id=\"q3_b\"></div> \n",
    "\n",
    "**b.** Se um drive de Blu-ray utilizado apenas para leitura já durou 2 anos, encontre a probabilidade de que o mesmo dure menos do que 6 anos."
   ]
  },
  {
   "cell_type": "code",
   "execution_count": null,
   "metadata": {},
   "outputs": [],
   "source": []
  },
  {
   "cell_type": "markdown",
   "metadata": {},
   "source": [
    "<div id=\"q3_c\"></div> \n",
    "\n",
    "**c.** Encontre qual o maior tempo de vida de um drive de Blu-ray utilizado apenas para leitura considerando $40\\%$ desses drives que sobrevivem menos. Chame esse valor de `t_maior`. Considerando esse valor encontrado para `t_maior`, calcule a probabilidade de um drive de Blu-ray utilizado apenas para escrita sobreviva até esse valor `t_maior`.\n"
   ]
  },
  {
   "cell_type": "code",
   "execution_count": null,
   "metadata": {},
   "outputs": [],
   "source": []
  },
  {
   "cell_type": "markdown",
   "metadata": {},
   "source": [
    "---\n",
    "\n",
    "<div id=\"q3_d\"></div> \n",
    "\n",
    "**d.** Encontre a probabilidade de um drive de Blu-ray qualquer durar mais do que 6 anos. \n",
    "\n",
    "*Observação*: Entenda como \"drive de Blu-ray **qualquer**\" como sendo um drive de Blu-ray que pode ser utilizado apenas para leitura ou um drive de Blu-ray que pode ser utilizado apenas para escrita.\n",
    "\n"
   ]
  },
  {
   "cell_type": "code",
   "execution_count": null,
   "metadata": {},
   "outputs": [],
   "source": []
  },
  {
   "cell_type": "markdown",
   "metadata": {},
   "source": [
    "<div id=\"q3_e\"></div> \n",
    "\n",
    "---\n",
    "\n",
    "**e.** Se um drive de Blu-ray qualquer durou menos do que 6 anos, encontre a probabilidade de que o mesmo tenha sido utilizado apenas para leitura.\n"
   ]
  },
  {
   "cell_type": "code",
   "execution_count": null,
   "metadata": {},
   "outputs": [],
   "source": []
  },
  {
   "cell_type": "markdown",
   "metadata": {},
   "source": [
    "---\n",
    "\n",
    "<div id=\"q3_f\"></div> \n",
    "\n",
    "**f.** Assuma que caixas são vendidas com 20 unidades de drives de Blu-ray quaisquer. Calcule a probabilidade de que pelo menos 10 drives de Blu-ray quaisquer durem mais do que 6 anos.\n"
   ]
  },
  {
   "cell_type": "code",
   "execution_count": null,
   "metadata": {},
   "outputs": [],
   "source": []
  },
  {
   "cell_type": "markdown",
   "metadata": {},
   "source": [
    "___\n",
    "<div id=\"q4\"></div> \n",
    "\n",
    "# Questão 4\n",
    "\n",
    "<img src=\"img/factory.jpg\" width=33% alt=\"Fonte: https://www.bangkokpost.com/print/436135/\"> </img>\n",
    "\n",
    "Testes de laboratório foram realizados para estimar a vida útil dos drives de Blu-ray. Nesse experimento, alguns drives foram utilizados apenas para leitura e outros apenas para escrita. Os dados coletados estão disponíveis no arquivo `VidaUtil.xlsx`. Cada linha representa um drive. A coluna `Meio` indica se o drive foi utilizado apenas para *Leitura* ou apenas para *Escrita*. E a coluna `Tempo` indica a sua vida útil do drive, em anos."
   ]
  },
  {
   "cell_type": "markdown",
   "metadata": {},
   "source": [
    "**Carregando os dados**\n",
    "\n",
    "Abra a base de dados: `VidaUtil.xlsx`\n"
   ]
  },
  {
   "cell_type": "code",
   "execution_count": null,
   "metadata": {
    "scrolled": false
   },
   "outputs": [],
   "source": [
    "# Carregando os dados\n",
    "dados = pd.read_excel('VidaUtil.xlsx')\n",
    "dados.head(10)"
   ]
  },
  {
   "cell_type": "markdown",
   "metadata": {},
   "source": [
    "___\n",
    "\n",
    "<div id=\"q4_a\"></div>\n",
    "\n",
    "**a)** Considerando os valores observados na coluna `Tempo` na base de dados, estime os valores de 𝜇 separadamente para `Escrita` e para `Leitura`. \n"
   ]
  },
  {
   "cell_type": "code",
   "execution_count": null,
   "metadata": {},
   "outputs": [],
   "source": []
  },
  {
   "cell_type": "markdown",
   "metadata": {},
   "source": [
    "___\n",
    "\n",
    "<div id=\"q4_b\"></div>\n",
    "\n",
    "**b)** Utilizando as estimativas obtidas no exercício anterior, faça o gráfico a seguir utilizando `Tempo` apenas para *Leitura* e depois `Tempo` apenas para *Escrita*:\n",
    "\n",
    "  * Calcule a função densidade de probabbilidade (f.d.p.) da exponencial assumindo agora a estimativa de $\\mu$ no argumento `scale` conforme calculado no item anterior.\n",
    "  * Visualize a f.d.p. anterior sobre o histograma de densidade obtido a partir dos dados. No argumento `bins` do histograma, use faixas que permita ter um bom visual gráfico do histograma. \n",
    "\n",
    "*Observação*: Neste item, você deve construir dois gráficos: um apenas para *Leitura* e outro apenas para  *Escrita*."
   ]
  },
  {
   "cell_type": "code",
   "execution_count": null,
   "metadata": {},
   "outputs": [],
   "source": []
  },
  {
   "cell_type": "markdown",
   "metadata": {},
   "source": [
    "<div id=\"q4_c\"></div>\n",
    "\n",
    "**c)** Discurse (escreva sua resposta no teste do Blackboard):\n",
    "  * Considerando os resultados do item [(a)](#q4_a), discuta sobre a adequação das médias propostas nos [modelos teóricos](#q3) quando confrontadas com as respectivas médias estimadas.\n",
    "  * Considerando os resultados do item [(b)](#q4_b), discuta sobre a adequação da distribuição Exponencial para ajustar os dados apresentados na coluna `Tempo` apenas para *Leitura* e depois `Tempo` apenas para *Escrita*.\n",
    "  \n"
   ]
  },
  {
   "cell_type": "code",
   "execution_count": null,
   "metadata": {},
   "outputs": [],
   "source": []
  },
  {
   "cell_type": "markdown",
   "metadata": {},
   "source": [
    "<div id=\"q5\"></div>\n",
    "\n",
    "___\n",
    "# Questão 5 \n",
    "\n",
    "\n",
    "\n",
    "O gasto que uma doceria tem com energia elétrica, por mês, tem desvio padrão de 1.200 reais. Assuma que esse gasto seja modelado por uma distribuição normal.\n",
    "\n",
    "Aqui, tem-se que:\n",
    "\n",
    "   - X: gasto mensal com energia elétrica, em reais (em termos do problema desta questão)\n",
    "\n",
    "   - X~Normal($\\mu$, $1200^2$) (distribuição que modela X em termos do problema desta questão) \n"
   ]
  },
  {
   "cell_type": "markdown",
   "metadata": {},
   "source": [
    "---\n",
    "\n",
    "<div id=\"q5_a\"></div>\n",
    "\n",
    "**a)** Qual deve ser o gasto médio mensal com energia elétrica de modo que 93% dos gastos excedam 10.000 reais?"
   ]
  },
  {
   "cell_type": "markdown",
   "metadata": {},
   "source": [
    "**Resposta:**"
   ]
  },
  {
   "cell_type": "code",
   "execution_count": null,
   "metadata": {},
   "outputs": [],
   "source": []
  },
  {
   "cell_type": "markdown",
   "metadata": {},
   "source": [
    "---\n",
    "\n",
    "<div id=\"q5_b\"></div>\n",
    "\n",
    "**b)** Independente da resposta do item anterior, considere que o gasto médio mensal com energia elétrica seja igual a 12.000 reais.\n",
    "\n",
    "Qual a probabilidade da doceria gastar menos do que 13.000 reais, sabendo que a conta de energia irá superar 12.500 reais?"
   ]
  },
  {
   "cell_type": "markdown",
   "metadata": {},
   "source": [
    "**Resposta:**"
   ]
  },
  {
   "cell_type": "code",
   "execution_count": null,
   "metadata": {},
   "outputs": [],
   "source": []
  },
  {
   "cell_type": "markdown",
   "metadata": {},
   "source": [
    "___\n",
    "\n",
    "<div id=\"q6\"></div>\n",
    "\n",
    "# Questão 6"
   ]
  },
  {
   "cell_type": "markdown",
   "metadata": {},
   "source": [
    "O exame de contagem de leucócitos é importante para detectar processos infecciosos. Suponha que a contagem de\n",
    "leucócitos de uma pessoa saudável pode ser aproximada por uma variável aleatória normal $𝑋$ de média $\\mu$<sub>normal</sub> = 7250 e desvio padrão $\\sigma$<sub>normal</sub> = 1500 e que a contagem de leucócitos de uma pessoa doente pode ser aproximada\n",
    "por uma variável aleatória $𝑌$ de média $\\mu$<sub>doente</sub> = 15000 e desvio padrão $\\sigma$<sub>doente</sub> = 2500. A figura abaixo ilustra a\n",
    "função densidade de probabilidade destas funções."
   ]
  },
  {
   "cell_type": "markdown",
   "metadata": {},
   "source": [
    "![](img/questao2.png)"
   ]
  },
  {
   "cell_type": "markdown",
   "metadata": {},
   "source": [
    "Suponha que o valor 10000 foi escolhido para distinguir pessoas saudáveis de pessoas doentes em um exame de sangue, conforme ilustrado na figura acima.\n",
    "\n",
    "Nas questões a seguir mostre seus cálculos. Se usou o Python para efetuar cálculos, indique o comando utilizado."
   ]
  },
  {
   "cell_type": "markdown",
   "metadata": {},
   "source": [
    "---\n",
    "\n",
    "<div id=\"q6_a\"></div>\n",
    "\n",
    "**a)** Qual a probabilidade de que uma pessoa doente seja diagnosticada como saudável?"
   ]
  },
  {
   "cell_type": "code",
   "execution_count": null,
   "metadata": {},
   "outputs": [],
   "source": []
  },
  {
   "cell_type": "markdown",
   "metadata": {},
   "source": [
    "---\n",
    "\n",
    "<div id=\"q6_b\"></div>\n",
    "\n",
    "**b)** Quanto deveria ser o novo limiar para que houvesse no máximo uma probabilidade de 0.5% de uma pessoa doente não ser identificada? (Falso negativo)"
   ]
  },
  {
   "cell_type": "code",
   "execution_count": null,
   "metadata": {},
   "outputs": [],
   "source": []
  },
  {
   "cell_type": "markdown",
   "metadata": {},
   "source": [
    "---\n",
    "\n",
    "<div id=\"q6_c\"></div>\n",
    "\n",
    "**c)** No caso do limiar proposto no item acima, quanto seriam os falsos positivos? \n",
    "Ou seja, qual a probabilidade de uma pessoa não doente ser identificada como doente? "
   ]
  },
  {
   "cell_type": "code",
   "execution_count": null,
   "metadata": {},
   "outputs": [],
   "source": []
  },
  {
   "cell_type": "markdown",
   "metadata": {},
   "source": [
    "---\n",
    "\n",
    "<div id=\"q7\"></div>\n",
    "\n",
    "# QUESTÃO 7\n",
    "\n",
    "## Análise do ENEM\n",
    "\n",
    "### Vamos investigar as notas do ENEM. "
   ]
  },
  {
   "cell_type": "markdown",
   "metadata": {},
   "source": [
    "Esta parte da avaliação se baseia em uma amostra de dados do **ENEM 2017** adaptados para esta prova. O dicionario de dados encontra-se no link a seguir:\n",
    "\n",
    "[Dicionário de dados](./DATA_DIC.html)"
   ]
  },
  {
   "cell_type": "code",
   "execution_count": null,
   "metadata": {},
   "outputs": [],
   "source": [
    "filename = \"enem2017_30K.csv\"\n",
    "dados = pd.read_csv(filename, index_col=0)\n",
    "dados.head(5)"
   ]
  },
  {
   "cell_type": "markdown",
   "metadata": {},
   "source": [
    "---\n",
    "\n",
    "<div id=\"q7_a\"></div>\n",
    "\n",
    "**a)** Visualize o histograma de densidade das notas do ENEM"
   ]
  },
  {
   "cell_type": "code",
   "execution_count": null,
   "metadata": {},
   "outputs": [],
   "source": []
  },
  {
   "cell_type": "markdown",
   "metadata": {},
   "source": [
    "---\n",
    "\n",
    "<div id=\"q7_b\"></div>\n",
    "\n",
    "**b)** Verifique graficamente se a distribuição normal é um modelo adequado para as notas do ENEM. Apresente uma conclusão"
   ]
  },
  {
   "cell_type": "code",
   "execution_count": null,
   "metadata": {},
   "outputs": [],
   "source": []
  },
  {
   "cell_type": "markdown",
   "metadata": {},
   "source": [
    "---\n",
    "\n",
    "<div id=\"q7_c\"></div>\n",
    "\n",
    "**c)** Supondo então que a distribuição normal é aceitável, realize o ajuste das notas do ENEM por uma normal."
   ]
  },
  {
   "cell_type": "code",
   "execution_count": null,
   "metadata": {},
   "outputs": [],
   "source": []
  },
  {
   "cell_type": "markdown",
   "metadata": {},
   "source": [
    "---\n",
    "\n",
    "<div id=\"q7_d\"></div>\n",
    "\n",
    "**d)** Visualize a normal plotada no item acima sobre o histograma de densidade e avalie a qualidade do ajuste "
   ]
  },
  {
   "cell_type": "code",
   "execution_count": null,
   "metadata": {},
   "outputs": [],
   "source": []
  },
  {
   "cell_type": "markdown",
   "metadata": {},
   "source": [
    "---\n",
    "\n",
    "<div id=\"q7_e\"></div>\n",
    "\n",
    "**e)** Qual é o menor valor de nota do ENEM maior que $70\\%$ das notas? Responda com base nos dados"
   ]
  },
  {
   "cell_type": "code",
   "execution_count": null,
   "metadata": {},
   "outputs": [],
   "source": []
  },
  {
   "cell_type": "markdown",
   "metadata": {},
   "source": [
    "---\n",
    "\n",
    "<div id=\"q7_f\"></div>\n",
    "\n",
    "**f)** Baseado no ajuste que fez no item c, responda novamente à questão anterior agora usando o modelo probabilístico. "
   ]
  },
  {
   "cell_type": "code",
   "execution_count": null,
   "metadata": {},
   "outputs": [],
   "source": []
  }
 ],
 "metadata": {
  "kernelspec": {
   "display_name": "Python 3",
   "language": "python",
   "name": "python3"
  },
  "language_info": {
   "codemirror_mode": {
    "name": "ipython",
    "version": 3
   },
   "file_extension": ".py",
   "mimetype": "text/x-python",
   "name": "python",
   "nbconvert_exporter": "python",
   "pygments_lexer": "ipython3",
   "version": "3.7.7"
  }
 },
 "nbformat": 4,
 "nbformat_minor": 4
}
