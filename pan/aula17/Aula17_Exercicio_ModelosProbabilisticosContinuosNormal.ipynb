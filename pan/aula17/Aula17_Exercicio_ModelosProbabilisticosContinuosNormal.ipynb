{
 "cells": [
  {
   "cell_type": "markdown",
   "metadata": {},
   "source": [
    "---\n",
    "\n",
    "# Exercício: Modelos probabilísticos contínuos\n",
    "\n",
    "---\n",
    "\n",
    "## Aula 17\n"
   ]
  },
  {
   "cell_type": "markdown",
   "metadata": {},
   "source": [
    "---\n",
    "\n",
    "<div id=\"indice\"></div>\n",
    "\n",
    "## Índice\n",
    "\n",
    "- [Exercício 1](#ex1)\n",
    "- [Exercício 2](#ex2)\n",
    "- [Exercício 3](#ex3)\n",
    "- [Exercício 4](#ex4)\n",
    "- [Exercício 5](#ex5) **- APS7 disponível no Blackboard**\n",
    "\n",
    "---\n"
   ]
  },
  {
   "cell_type": "code",
   "execution_count": 22,
   "metadata": {},
   "outputs": [],
   "source": [
    "from scipy import stats #importa apenas as funções de estatísticas da biblioteca SciPy.\n",
    "import numpy as np\n",
    "import matplotlib.pyplot as plt"
   ]
  },
  {
   "cell_type": "markdown",
   "metadata": {},
   "source": [
    "<div id=\"ex1\"></div>\n",
    "\n",
    "### EXERCÍCIO 1\n",
    "\n",
    "Para X ~ N(90, 100), calcular:\n",
    "\n",
    "a) $P(X \\leq 115)$\n",
    "\n",
    "b) $P(X \\geq 80 | X < 100)$\n",
    "\n",
    "c) O número $c$ tal que $P(X < c) = 0,975$\n",
    "\n",
    "d) O número $d$ tal que $P(X > d) = 0,95$\n",
    "\n",
    "e) O valor de $e$ tal que $P(90 - e \\leq X \\leq 90 + e) = 0,99$\n",
    "\n",
    "_Respostas esperadas: (a)0.9937903346742238 (b)0.8114265826549397 (c)109.59963984540053 (d)73.55146373048528 (e)25.758293035489004_\n"
   ]
  },
  {
   "cell_type": "code",
   "execution_count": 18,
   "metadata": {},
   "outputs": [
    {
     "name": "stdout",
     "output_type": "stream",
     "text": [
      "P(X <= 115) = 0.9937903346742238\n",
      "P(X >= 80|X < 100) = -0.6572846207217834\n",
      "c = 109.59963984540053\n",
      "d = 73.55146373048528\n",
      "e = 113.2634787404084\n"
     ]
    }
   ],
   "source": [
    "# ESCREVA SEU CÓDIGO AQUI\n",
    "# X ~ N(90, 100)\n",
    "mu = 90\n",
    "sigma = 10\n",
    "\n",
    "X_menor_igual_115 = stats.norm.cdf(115, mu, sigma)\n",
    "print(f'P(X <= 115) = {X_menor_igual_115}')\n",
    "\n",
    "# P(X >= 80|X < 100)\n",
    "X_maior_igual_80 = stats.norm.cdf(80, mu, sigma)\n",
    "X_menor_100 = stats.norm.cdf(99, mu, sigma)\n",
    "print(f'P(X >= 80|X < 100) = {X_maior_igual_80 - X_menor_100}')\n",
    "\n",
    "#P(X < c) = 0.975\n",
    "c = stats.norm.ppf(0.975, mu, sigma)\n",
    "print(f'c = {c}')\n",
    "\n",
    "#P(X > d) = 0.95\n",
    "d = stats.norm.ppf(1-0.95, mu, sigma)\n",
    "print(f'd = {d}')\n",
    "\n",
    "#P(90 - e <= X <= 90 + e) = 0.99\n",
    "e = stats.norm.ppf(0.99, mu, sigma)\n",
    "print(f'e = {e}')"
   ]
  },
  {
   "cell_type": "code",
   "execution_count": null,
   "metadata": {},
   "outputs": [],
   "source": []
  },
  {
   "cell_type": "markdown",
   "metadata": {},
   "source": [
    "<div id=\"ex2\"></div>\n",
    "\n",
    "### EXERCÍCIO 2\n",
    "\n",
    "As notas no quiz final de Ciência dos Dados distribuem-se segundo uma variável aleatória normal com média 6,5 e desvio padrão 1,6. O professor deseja dividir a classe em 3 categorias, da seguinte forma: os 30% que tiveram as maiores notas serão aprovados, os 50% com notas intermediárias ficarão de exame e os 20% que tiveram as menores notas serão reprovados.\n",
    "\n",
    "a) Quais os limites de nota entre cada uma das categorias?\n",
    "\n",
    "b) Caso a nota para aprovação (sem ir para exame) fosse igual a 7,0 e uma turma tivesse 50 alunos, quantos desses seriam aprovados sem ir para o exame?\n",
    "\n",
    "_Respostas esperadas: (a)5.153406026283337 e 7.339040820332865 (b)19_\n"
   ]
  },
  {
   "cell_type": "code",
   "execution_count": 3,
   "metadata": {},
   "outputs": [],
   "source": [
    "# ESCREVA SEU CÓDIGO AQUI"
   ]
  },
  {
   "cell_type": "code",
   "execution_count": null,
   "metadata": {},
   "outputs": [],
   "source": []
  },
  {
   "cell_type": "markdown",
   "metadata": {},
   "source": [
    "<div id=\"ex3\"></div>\n",
    "\n",
    "### EXERCÍCIO 3\n",
    "\n",
    "Um determinado calçado é vendido em lojas populares e em lojas sofisticadas. De todas as lojas, 70% são populares e 30% são sofisticadas. Nas lojas populares seu preço segue uma distribuição normal com média 80 e desvio-padrão 12. Já em lojas sofisticadas, o preço também segue uma distribuição normal de média 160 e desvio-padrão 30.\n",
    "\n",
    "a) Determine maior preço considerando os 25% menores valores na distribuição de preços de uma loja popular.\n",
    "\n",
    "b) Gastou-se mais de $100,00 para comprar o calçado. Qual é a probabilidade da compra ter sido feita numa loja popular?\n",
    "\n",
    "_Respostas esperadas: (a)71.90612299764702 (b)0.10241995600307374_\n"
   ]
  },
  {
   "cell_type": "code",
   "execution_count": 4,
   "metadata": {},
   "outputs": [],
   "source": [
    "# ESCREVA SEU CÓDIGO AQUI"
   ]
  },
  {
   "cell_type": "code",
   "execution_count": null,
   "metadata": {},
   "outputs": [],
   "source": []
  },
  {
   "cell_type": "markdown",
   "metadata": {},
   "source": [
    "<div id=\"ex4\"></div>\n",
    "\n",
    "### EXERCÍCIO 4\n",
    "\n",
    "Em um processo industrial, o diâmetro de um rolamento é uma parte importante do processo.\n",
    "\n",
    "Sabe-se que a probabilidade de um rolamento ter diâmetro maior do 2,98 cm é de 80%.\n",
    "\n",
    "Sabe-se, também que a probabilidade de que um rolamento tenha diâmetro abaixo de 2,97 cm é de 10%.\n",
    "\n",
    "a) Admitindo que o diâmetro de um rolamento segue uma distribuição normal, determine a média e o desvio-padrão dos diâmetros dos rolamentos que saem da linha de produção.\n",
    "\n",
    "b) Determine a especificação que represente a maior distância da média, para mais ou para menos, contendo 95% dos rolamentos produzidos.\n",
    "\n",
    "_Respostas esperadas: (a) mu=2.9991307844085426 sigma=0.022730871852326348 (b)0.04455169016775473_\n"
   ]
  },
  {
   "cell_type": "code",
   "execution_count": 5,
   "metadata": {},
   "outputs": [],
   "source": [
    "# ESCREVA SEU CÓDIGO AQUI"
   ]
  },
  {
   "cell_type": "code",
   "execution_count": null,
   "metadata": {},
   "outputs": [],
   "source": []
  },
  {
   "cell_type": "code",
   "execution_count": null,
   "metadata": {},
   "outputs": [],
   "source": []
  },
  {
   "cell_type": "markdown",
   "metadata": {},
   "source": [
    "---\n",
    "\n",
    "<div id=\"ex5\"></div>\n",
    "\n",
    "### EXERCÍCIO 5 - Modelagem do Tempo para resolver uma prova de MatVar\n",
    "\n",
    "Um grupo de alunos de cada uma das três turmas que cursam Ciência dos Dados estava discutindo com intuito de modelar o tempo, em horas, que um aluno irá levar para fazer uma prova de Matemática da Variação.\n",
    "\n",
    "Após cada grupo de alunos chegar a um consenso, foi escolhido um modelo probabilístico contínuo diferente para cada turma A, B e C. Dessa forma, os três modelos foram escolhidos com intuito de descrever o comportamento da variável X: tempo, em horas, que um aluno irá levar para entregar uma prova de Matemática da Variação. Lembrando que um aluno tem até duas horas para fazê-la.\n",
    "\n",
    "Esses três modelos são dados por:\n",
    "\n",
    "> - **Turma A:** $X_A$ segue o seguinte modelo:\n",
    "\n",
    "    $ f(x) = \\left\\{ \\begin{array}[ll]\\\\\n",
    "                +0.4-0.8x & \\rm{se }\\hspace{2mm} 0<x<0.5 \\\\\n",
    "                -0.4+0.8x & \\rm{se }\\hspace{2mm} 0.5\\leq x\\leq2 \\\\\n",
    "                0 & \\rm{caso}\\hspace{2mm}\\rm{contrário}\n",
    "             \\end{array} \\right.$\n",
    "\n",
    "> - **Turma B:** $X_B\\sim Normal(1; 0.3^2)$, ou seja, $\\mu=1$ e $\\sigma=0.3$.\n",
    "\n",
    "> - **Turma C:** $X_C\\sim Uniforme(0; 2)$, ou seja, $a=0$ e $b=2$.\n"
   ]
  },
  {
   "cell_type": "markdown",
   "metadata": {},
   "source": [
    "Admitindo que os alunos façam suas provas de forma independente uns dos outros, responda:\n",
    "a) Estudando o comportamento da função densidade de probabilidade de cada modelo probabilístico, qual você entende ser o mais adequado para descrever o comportamento da variável X? E qual você entende ser o menos adequado? Justifique suas respostas após estudar o comportamento das fdp’s escolhidas por cada turma. \\*Nota: a fdp da turma A tem que ser construída usando a f(x) dada e, as demais, usando a função `pdf` do `scipy.stats`.\n",
    "\n",
    "b) Qual a probabilidade de um aluno da turma B demorar mais do que 1 hora e meia para entregar a prova de Matemática da Variação? E na da turma C?\n",
    "\n",
    "c) Atualmente, 34% dos alunos estão na turma A, 34% na B e 32% na C. Qual a probabilidade de um aluno qualquer (ou seja, um aluno de qualquer uma dessas três turmas) demorar mais do que uma hora e meia para entregar a prova final dessa disciplina?\n",
    "\n",
    "d) Qual o menor tempo de entrega da prova dentre os últimos 20% de alunos que entregam na sala da turma B? E na da turma C? Interprete os resultados.\n"
   ]
  },
  {
   "cell_type": "code",
   "execution_count": 43,
   "metadata": {},
   "outputs": [
    {
     "data": {
      "image/png": "[encoded data removed]",
      "text/plain": [
       "<Figure size 432x288 with 1 Axes>"
      ]
     },
     "metadata": {
      "needs_background": "light"
     },
     "output_type": "display_data"
    }
   ],
   "source": [
    "# ESCREVA SEU CÓDIGO AQUI\n",
    "mu = 1\n",
    "sigma = 0.3\n",
    "a = 0\n",
    "b = 2\n",
    "\n",
    "x = np.linspace(0, 2, 100)\n",
    "fx = []\n",
    "for i in x:\n",
    "    if i < 0.5:\n",
    "        fx.append(0.4-0.8*i)\n",
    "    elif i >= 0.5:\n",
    "        fx.append(0.8*i-0.4)\n",
    "fxb = stats.norm.pdf(x, mu, sigma)  \n",
    "fxc = stats.uniform.pdf(x, a, b)\n",
    "\n",
    "plt.plot(x, fx, label='f(x) a')\n",
    "plt.plot(x, fxb, label='f(x) b')\n",
    "plt.plot(x, fxc, label='f(x) c')\n",
    "plt.legend()\n",
    "plt.grid(True)\n",
    "plt.show()\n"
   ]
  },
  {
   "cell_type": "code",
   "execution_count": 44,
   "metadata": {},
   "outputs": [
    {
     "name": "stdout",
     "output_type": "stream",
     "text": [
      "a)\n",
      "\t\n",
      "Mais adequado: modelo da Turma A por representar que haverá muitos alunos fazendo prova após uma hora de prova\n",
      "\n",
      "Menos adequado: modelo da Turma C por representar que a cada minuto, alguns alunos entregam a prova\n",
      "\n",
      "\n",
      "b)\n",
      "P(B > 1.5) = 0.048\n",
      "P(C > 1.5) = 0.250\n",
      "\n",
      "c)\n",
      "(0,5000 * 0,34 + 0,048 * 0,34 + 0,2500 * 0,32)\n",
      "Probilidade de um aluno qualquer demorar mais que uma hora e meia: 0.266\n",
      "\n",
      "d)\n",
      "Tempo últimos 20% de B = 1.252\n",
      "Tempo últimos 20% de C = 1.600\n"
     ]
    }
   ],
   "source": [
    "# Xa = f(x) = [0.4 - 0.8x], se 0 < x < 0.5 ; [-0.4 + 0.8x], se 0.5 <= x <= 2 ; 0, caso contrário\n",
    "# Xb ~ Normal(1, 0.3^2)  mu = 1, sigma = 0.3\n",
    "# Xc ~ Uniforme(0, 2)  a = 0, b = 2\n",
    "\n",
    "mu = 1\n",
    "sigma = 0.3\n",
    "a = 0\n",
    "b = 2\n",
    "print('a)')\n",
    "\n",
    "x1 = 0\n",
    "x2 = 0.5\n",
    "x3 = 2\n",
    "print('''\t\n",
    "Mais adequado: modelo da Turma A por representar que haverá muitos alunos fazendo prova após uma hora de prova\n",
    "\n",
    "Menos adequado: modelo da Turma C por representar que a cada minuto, alguns alunos entregam a prova\n",
    "''')\n",
    "\n",
    "print('\\nb)')\n",
    "B_maior_1_meio = 1-stats.norm.cdf(1.5, mu, sigma)\n",
    "print(f'P(B > 1.5) = {B_maior_1_meio:.3f}')\n",
    "\n",
    "C_maior_1_meio = 1-stats.uniform.cdf(1.5, a, b)\n",
    "print(f'P(C > 1.5) = {C_maior_1_meio:.3f}')\n",
    "print('\\nc)')\n",
    "\n",
    "A_maior_1_meio = 0.5*0.8 + (0.5*0.4)/2\n",
    "\n",
    "print('(0,5000 * 0,34 + 0,048 * 0,34 + 0,2500 * 0,32)')\n",
    "\n",
    "\n",
    "prob_aluno_aleatorio = 0.34*B_maior_1_meio + 0.32*C_maior_1_meio + 0.34*A_maior_1_meio\n",
    "print(f'Probilidade de um aluno qualquer demorar mais que uma hora e meia: {prob_aluno_aleatorio:.3f}')\n",
    "\n",
    "print('\\nd)')\n",
    "\n",
    "tempo_20porcento_B = stats.norm.ppf(0.8, mu, sigma)\n",
    "print(f'Tempo últimos 20% de B = {tempo_20porcento_B:.3f}')\n",
    "\n",
    "tempo_20porcento_C = stats.uniform.ppf(0.8, a, b)\n",
    "print(f'Tempo últimos 20% de C = {tempo_20porcento_C:.3f}')\n"
   ]
  },
  {
   "cell_type": "code",
   "execution_count": null,
   "metadata": {},
   "outputs": [],
   "source": []
  }
 ],
 "metadata": {
  "anaconda-cloud": {},
  "kernelspec": {
   "display_name": "Python 3.9.7 64-bit",
   "language": "python",
   "name": "python3"
  },
  "language_info": {
   "codemirror_mode": {
    "name": "ipython",
    "version": 3
   },
   "file_extension": ".py",
   "mimetype": "text/x-python",
   "name": "python",
   "nbconvert_exporter": "python",
   "pygments_lexer": "ipython3",
   "version": "3.9.7"
  },
  "vscode": {
   "interpreter": {
    "hash": "fa202bb1a1975933ba9aefafdf4702960127000ff337e7c1a518450752e9f0c6"
   }
  }
 },
 "nbformat": 4,
 "nbformat_minor": 1
}
