{
 "cells": [
  {
   "cell_type": "markdown",
   "metadata": {},
   "source": [
    "# AF - Avaliação Final de Ciência dos dados \n",
    "\n",
    "## 2022 - 2o. semestre \n",
    "\n",
    "___\n"
   ]
  },
  {
   "cell_type": "markdown",
   "metadata": {},
   "source": [
    "# NOME: Lucca Lozano Nasser"
   ]
  },
  {
   "cell_type": "markdown",
   "metadata": {},
   "source": [
    "___\n",
    "## Instruções\n",
    "\n",
    "**Leia atentamente as instruções desta avaliação. Essas devem ser seguidas rigorosamente!**\n",
    "\n",
    "**Prezado(a) Aluno(a),**\n",
    "\n",
    "Dia da prova **dia 08/12** das 13h30min às 16h00.\n",
    "\n",
    "Esta avaliação terá as seguintes etapas:\n",
    "\n",
    "**13h30 às 13h40**\n",
    "       \n",
    " * **(10 minutos) - PROCTORIO:** Entre no Blackboard e inicie o teste em `Conteúdos/Avaliações/Avaliação Final/AF (Proctorio e Arquivos)`. Caso não ative esse teste em até 10 minutos do início da prova (ou seja, até às 13h40), não terá mais direito de entregar essa prova, obtendo falta na mesma.\n",
    "\n",
    "\n",
    "**13h40 às 15h40**  \n",
    "\n",
    " * **(120 minutos) - Desenvolvimento da prova:** Concentre-se em resolver o notebook.\n",
    " * ATENÇÃO: administre esse tempo da maneira que julgar mais adequada para você. **NÃO utilize o cronômetro do Proctorio como referência, mas sim o tempo 120 minutos de prova para realização da prova.**\n",
    "\n",
    "\n",
    "**15h40 às 15h50**  \n",
    " * **(10 minutos) - Entrega via Blackboard - Notebook:** O arquivo `.ipynb` deve ser entregue em `Conteúdos/Avaliações/Avaliação Final/Entrega da prova`. \n",
    " * ATENÇÃO: **finalize o proctorio APENAS após anexar a avaliação no Blackboard.**\n",
    "\n",
    "\n",
    "<br>\n",
    "\n",
    "Leia atentamente as instruções a seguir e as questões da prova antes de começar a resolvê-la."
   ]
  },
  {
   "cell_type": "markdown",
   "metadata": {},
   "source": [
    "#### Avisos GERAIS: \n",
    "\n",
    "1. Identifique-se no cabeçalho deste arquivo. Essa prova é INDIVIDUAL.\n",
    "1. Você terá 120 minutos a partir do início oficial da prova para concluir esta avaliação, administre bem o seu tempo. Leia atentamente as instruções a seguir e as questões da prova antes de começar a resolvê-la. \n",
    "\n",
    "1. Esta avaliação:\n",
    "  * **PERMITE consulta de material do Blackboard e material on-line (usar navegador para pesquisas no Google, por exemplo)**. \n",
    "  * **NÃO PERMITE consulta de caderno ou qualquer outro material físico.**\n",
    "  * **NÃO PERMITE consulta a colegas (presencial ou remotamente), ou seja, não é permitido ter alguém ao seu lado assim como não é permitido conversar pelo WhatsApp, enviar e-mail ou qualquer outro formato em que converse com outra pessoa**. \n",
    "  * **PERMITE UTILIZAR APENAS UM COMPUTADOR NO QUAL ESTARÁ REALIZANDO A PROVA.**\n",
    "  * **NÃO PERMITE utilizar CELULAR, TABLET, SEGUNDO COMPUTADOR (ou NOTEBOOK) ou qualquer outro aparelho eletrônico no momento da prova.**\n",
    "  * **O desrespeito as essas regras constituirá violação ao Código de Ética e de Conduta e acarretará sanções nele previstas. Faça o seu trabalho de maneira ética!** \n",
    "\n",
    "1. Sua prova utilizará o sistema de Proctoring.  Para instalar a extensão, acesse o site https://getproctorio.com/ pelo Google Chrome e siga os passos indicados. Caso tenha dúvidas ou dificuldades, avise seu professor pelo chat e entre em contato com o Help Desk por meio de abertura de chamado ou pelo telefone (11) 4504-2550.\n",
    "Para realizar a prova será necessário:\n",
    "  *\tUm desktop ou um notebook com qualquer sistema operacional (dispositivos móveis não serão aceitos)\n",
    "  *\tNavegador Google Chrome (o sistema funciona somente nele)\n",
    "  *\tExtensão da plataforma instalada (sem ela o sistema não funcionará)\n",
    "\n",
    "1. **É proibido o uso de fones de ouvido durante toda a prova. Não leia as questões em voz alta. Não ouvir música.**\n",
    "1. **ENTREGA DO ARQUIVO**: Antes de sair da prova, garanta que entregou a prova no link indicado. Verifique se o arquivo das questões resolvidas teve seu upload concluído e que fechou o teste ao final. Você é o responsável pela entrega adequada de todas as questões de sua prova. Avaliações entregues fora do prazo não serão aceitas para correção.\n",
    "1. Caso precise se ausentar da prova para ir ao banheiro, comunique o(a) professor(a). Lembre-se de ser rápido e retornar prontamente à prova."
   ]
  },
  {
   "cell_type": "markdown",
   "metadata": {},
   "source": [
    "#### Avisos sobre desenvolvimento da prova:\n",
    "\n",
    "1. Esta Avaliação consiste em responder um arquivo Jupyter que será anexado ao Blackboard ao final da prova.\n",
    "1. Leia atentamente as **Precauções de segurança** abaixo para evitar ter sua prova anulada.\n",
    "1. Você não pode compartilhar material com seus colegas durante a prova.\n",
    "1. Em caso de dúvida sobre alguma questão desta avaliação, redija um texto em uma nova célula deste Jupyter notebook explicitando-a para que o professor avalie a pertinência durante a correção.  \n",
    "1. Leia atentamente cada questão e responda o que for pedido. Erros conceituais serão penalizados, mesmo que o conceito não se relacione com o que foi pedido na questão.\n",
    "1. Caso em algum item você necessite do resultado de um item anterior que você não conseguiu fazer, admita um valor razoável para esse resultado e faça o item normalmente. Indique na questão, caso isso aconteça.\n",
    "1. Todos os resultados devem ser justificados. Números que apareçam sem uma explicação de como foram encontrados serão ignorados na correção.\n",
    "1. **A qualidade do código na resolução em cada item também será levada em consideração, ou seja, códigos complicados para soluções que podem ser simples serão penalizados.**\n",
    "1. Esta avaliação requer **entrega via Blackboard**. **Não serão consideradas entregas por outros meios** (ex: e-mail, MS Teams, etc.)."
   ]
  },
  {
   "cell_type": "markdown",
   "metadata": {},
   "source": [
    "#### Precauções de segurança:\n",
    "\n",
    "1.\tTodas as precauções abaixo podem ser resumidas da seguinte forma: consulte o material que quiser desde que não seja nenhuma pessoa ou material físico. E não compartilhe informações com ninguém durante a prova. \n",
    "2.\tVocê não pode enviar nenhum tipo de mensagem durante a prova para qualquer pessoa dentro ou fora dela, com exceção do(a) professor(a). Por exemplo: e-mail, Skype, mensagens do Facebook, mensagens do WhatsApp, mensagens via Twitter, etc\n",
    "3.\tVocê não pode compartilhar nenhum tipo de informação em nenhum site, incluindo Pastebin, Codeshare, wikis, etc\n",
    "4.\tVocê não pode perguntar questões da prova no StackOverflow, StackExchange, MathExchange, etc. \n",
    "5.\tVocê pode procurar/tirar dúvida no Google.\n",
    "6.\tVocê pode consultar qualquer arquivo no seu computador.\n",
    "7.  Você pode usar folha de sulfite da sala solicitando ao professor. Escreva seu nome na mesma com letras grandes.\n",
    "8.\tQualquer transgressão das normas acima pode zerar a nota da prova e implicar em infração ao código de ética do Insper."
   ]
  },
  {
   "cell_type": "markdown",
   "metadata": {},
   "source": [
    "___\n",
    "<div id=\"indice\"></div>\n",
    "\n",
    "## Índice\n",
    "\n",
    "- [PROJETO REFLORESCER](#florescer)\n",
    "\n",
    "    - [PERGUNTA 1](#p1) **[3,50 pontos]**\n",
    "        - [item (a)](#p1a)\n",
    "        - [item (b)](#p1b)\n",
    "        - [item (c)](#p1c)\n",
    "\n",
    "<p> \n",
    "\n",
    "- [ENCARGOS COM SEGURO SAÚDE](#fotoinsurance)\n",
    "\n",
    "    - [Base de dados: `insurance.csv`](#dadosinsurance)\n",
    "    \n",
    "    <p>\n",
    "\n",
    "    - [PERGUNTA 2](#p2) **[5,00 pontos]**\n",
    "        - [item (a)](#p2a)\n",
    "        - [item (b)](#p2b)\n",
    "        - [item (c)](#p2c)\n",
    "\n",
    "    <p>\n",
    "    \n",
    "    - [PERGUNTA 3](#p3) **[1,50 pontos]**\n",
    "        \n"
   ]
  },
  {
   "cell_type": "code",
   "execution_count": 93,
   "metadata": {},
   "outputs": [],
   "source": [
    "# %matplotlib inline\n",
    "import math\n",
    "import os\n",
    "\n",
    "import matplotlib.pyplot as plt\n",
    "import numpy as np\n",
    "from numpy import arange\n",
    "import pandas as pd"
   ]
  },
  {
   "cell_type": "code",
   "execution_count": 94,
   "metadata": {},
   "outputs": [],
   "source": [
    "from scipy import stats\n",
    "from scipy.stats import norm, probplot\n",
    "import statsmodels.api as sm\n",
    "\n",
    "from IPython.display import display  # Para ter melhor print."
   ]
  },
  {
   "cell_type": "code",
   "execution_count": 95,
   "metadata": {},
   "outputs": [],
   "source": [
    "### Função utilitária para fazer a regressão com constante adicionada\n",
    "def regress(Y,X):\n",
    "    '''\n",
    "    Y: coluna do DataFrame utilizada como variável resposta (TARGET)\n",
    "    X: coluna(s) do DataFrame utilizadas como variável(is) explicativas (FEATURES)\n",
    "    '''\n",
    "    X_cp = sm.add_constant(X)\n",
    "    model = sm.OLS(Y,X_cp)\n",
    "    results = model.fit()\n",
    "    \n",
    "    return results"
   ]
  },
  {
   "cell_type": "markdown",
   "metadata": {},
   "source": [
    "___\n",
    "<div id=\"florescer\"></div>\n",
    "\n",
    "## PROJETO REFLORESCER\n",
    "\n",
    "<img src=\"https://cdados.s3.us-east-2.amazonaws.com/22_2/af/Ambiental.jpg\">\n",
    "<p> Fonte: extraído da internet\n",
    "<p> Atenção: Se a imagem não carregar (não é importante para fazer a prova)."
   ]
  },
  {
   "cell_type": "markdown",
   "metadata": {},
   "source": [
    "<div id=\"p1\"></div>\n",
    "\n",
    "### PERGUNTA 1  (3,50 pontos)\n",
    "\n",
    "<br> O Projeto Reflorescer ajuda na distribuição e no plantio de mudas de árvores através de ações públicas e privadas desde 2015. \n",
    "<p> Neste ano, esse projeto investiu em programas de conscientização ambiental e, com isso, acredita que a quantidade de mudas distribuídas deva superar, em média, 5 mil mudas por ação. Nesse caso, as hipoteses em termos do problema e do parâmetro são dadas por:\n",
    "\n",
    "$\\qquad H_0$: Programa de conscientização ambiental não foi bem sucedido $\\Rightarrow H_0: \\mu \\leq 5$ <p>\n",
    "$\\qquad H_1$: Programa de conscientização ambiental foi bem sucedido $\\hspace{7mm}\\Rightarrow H_1: \\mu > 5$\n",
    "\n",
    "<p> sendo $\\mu$ a verdadeira quantidade média de mudas distribuídas por ação após o programa de conscientazação ambiental. Ainda, considere que o verdadeiro desvio padrão dessa quantidade seja igual a 0,6 mil mudas por ação.\n",
    "<p> Para validar se esse programa foi bem sucedido ou não, uma amostra aleatória de 24 ações foi considerada, cuja média amostral foi igual a 5,22 mil mudas por ação. Atenção: Aqui é 5,22 mil mudas equivalente a 5220 mudas por ação.  \n",
    "<p> Adote um nível de significância de 2%.\n",
    "\n",
    "<br> Responda:"
   ]
  },
  {
   "cell_type": "markdown",
   "metadata": {},
   "source": [
    "<div id=\"p1a\"></div>\n",
    "\n",
    "**a)(1,25 ponto)** \n",
    "<br> Baseado em **análises inferenciais** adequadas, conclua se o programa de conscientização ambiental foi ou não foi bem sucedido, via **região crítica**. \n",
    "<br> Na sua resposta deixe claro: \n",
    "  - a variável de interesse, \n",
    "  - o parâmetro de interesse, \n",
    "  - a construção da **região crítica**, \n",
    "  - a conclusão em termos do problema, e  \n",
    "  - a justificativa da sua conclusão. \n"
   ]
  },
  {
   "cell_type": "code",
   "execution_count": 96,
   "metadata": {},
   "outputs": [
    {
     "name": "stdout",
     "output_type": "stream",
     "text": [
      "\n",
      "Como a região crítica é 5.25 e a média é 5.22, o valor da média amostral está dentro do valor da região crítica, o que refuta a Hipótese Nula.\n",
      "\n"
     ]
    }
   ],
   "source": [
    "# ESCREVA SUA RESOLUÇÃO AQUI\n",
    "# H0: mu <= 5\n",
    "# H1: mu > 5\n",
    "# significancia = 0.02\n",
    "# desvio padrao = 0.6\n",
    "# n = 24\n",
    "# media = 5.22\n",
    "\n",
    "sig = 0.02\n",
    "mu = 5\n",
    "sigma = 0.6\n",
    "n = 24\n",
    "media = 5.22\n",
    "\n",
    "# regiao critica\n",
    "rc = norm.ppf(0.98, loc=mu, scale=sigma/math.sqrt(n))\n",
    "rc\n",
    "\n",
    "print(f'''\n",
    "Como a região crítica é {rc:.2f} e a média é {media:.2f}, o valor da média amostral está dentro do valor da região crítica, o que refuta a Hipótese Nula.\n",
    "''')"
   ]
  },
  {
   "cell_type": "code",
   "execution_count": null,
   "metadata": {},
   "outputs": [],
   "source": []
  },
  {
   "cell_type": "markdown",
   "metadata": {},
   "source": [
    "<div id=\"p1b\"></div>\n",
    "\n",
    "**b)(1,25 ponto)** \n",
    "<br> Baseado em **análises inferenciais** adequadas, conclua se o programa de conscientização ambiental foi ou não foi bem sucedido, via **valor-p**. \n",
    "<br> Aqui, deixe claro: \n",
    "  - o **cálculo do valor-p**, \n",
    "  - a conclusão em termos do problema, e  \n",
    "  - a justificativa da sua conclusão. "
   ]
  },
  {
   "cell_type": "code",
   "execution_count": 97,
   "metadata": {},
   "outputs": [
    {
     "name": "stdout",
     "output_type": "stream",
     "text": [
      "\n",
      "O valor p é 0.04, o que é menor que o nível de significância de 0.02, o que refuta a Hipótese Nula.\n",
      "\n"
     ]
    }
   ],
   "source": [
    "# ESCREVA SUA RESOLUÇÃO AQUI\n",
    "# valor p\n",
    "p_value = 1 - norm.cdf(media, loc=mu, scale=sigma/math.sqrt(n))\n",
    "valorp = norm.sf(media, loc=mu, scale=sigma/math.sqrt(n))\n",
    "\n",
    "print(f'''\n",
    "O valor p é {p_value:.2f}, o que é menor que o nível de significância de 0.02, o que refuta a Hipótese Nula.\n",
    "''')\n"
   ]
  },
  {
   "cell_type": "code",
   "execution_count": null,
   "metadata": {},
   "outputs": [],
   "source": []
  },
  {
   "cell_type": "markdown",
   "metadata": {},
   "source": [
    "<div id=\"p1c\"></div>\n",
    "\n",
    "**c)(1,00 ponto)**\n",
    "<br> Vimos em sala que margem de erro é o maior erro, para mais ou para menos, que uma média amostral pode ter ao estimar a média populacional, quando considero um coeficiente de confiança. \n",
    "<br> Assuma que a variável quantidade de mudas distribuídas tenha desvio padrão populacional igual a 0,6 mil mudas por ação, mas com média populacional desconhecida, responda:\n",
    "\n",
    "* **(c1) (0,50 ponto)**\n",
    "<br> Se a margem de erro for igual a 0,15 mil mudas por ação, qual o coeficiente de confiança utilizado? Aqui, considerando uma amostra de tamanho igual a 24."
   ]
  },
  {
   "cell_type": "code",
   "execution_count": 98,
   "metadata": {},
   "outputs": [
    {
     "name": "stdout",
     "output_type": "stream",
     "text": [
      "\n",
      "O coeficiente de confiança é 0.95 \n",
      "\n"
     ]
    }
   ],
   "source": [
    "# ESCREVA SUA RESOLUÇÃO AQUI\n",
    "# desvio = 0.6\n",
    "# media populacional = ?\n",
    "# error = 0.15\n",
    "# n = 24\n",
    "std = 0.6\n",
    "error = 0.15\n",
    "n = 24\n",
    "𝛼 = 0.05\n",
    "conf = 1 - 𝛼\n",
    "print(f'''\n",
    "O coeficiente de confiança é {conf:.2f} \n",
    "''')\n",
    "\n",
    "\n"
   ]
  },
  {
   "cell_type": "code",
   "execution_count": null,
   "metadata": {},
   "outputs": [],
   "source": []
  },
  {
   "cell_type": "markdown",
   "metadata": {},
   "source": [
    "\n",
    "* **(c2) (0,50 ponto)**\n",
    "<br> Qual deve ser o tamanho mínimo da amostra para que a margem de erro seja no máximo 0,1 mil mudas por ação, considerando um coeficiente de confiança igual a 99%."
   ]
  },
  {
   "cell_type": "code",
   "execution_count": 99,
   "metadata": {},
   "outputs": [
    {
     "name": "stdout",
     "output_type": "stream",
     "text": [
      "\n",
      "O número de amostras é 138.29\n",
      "\n"
     ]
    }
   ],
   "source": [
    "# ESCREVA SUA RESOLUÇÃO AQUI\n",
    "intervalo = norm.interval(conf, loc=0, scale=1)\n",
    "numerador = 0.1\n",
    "z = intervalo[1]\n",
    "sigma = 0.6\n",
    "n = (z/(numerador/sigma))**2\n",
    "print(f'''\n",
    "O número de amostras é {n:.2f}\n",
    "''')"
   ]
  },
  {
   "cell_type": "code",
   "execution_count": null,
   "metadata": {},
   "outputs": [],
   "source": []
  },
  {
   "cell_type": "markdown",
   "metadata": {},
   "source": [
    "[Volta ao Índice](#indice)"
   ]
  },
  {
   "cell_type": "markdown",
   "metadata": {},
   "source": [
    "___\n",
    "<div id=\"fotoinsurance\"></div>\n",
    "\n",
    "## Encargos com seguro saúde\n",
    "<img src=\"https://cdados.s3.us-east-2.amazonaws.com/22_2/af/Encargos.jpg\">\n",
    "Fonte: extraído da internet\n",
    "\n",
    "Atenção: Se a imagem não carregar (não é importante para fazer a prova)."
   ]
  },
  {
   "cell_type": "markdown",
   "metadata": {},
   "source": [
    "<div id=\"dadosinsurance\"></div>\n",
    "\n",
    "## Base de dados: `insurance.csv`\n",
    "\n",
    "O *dataset* `insurance.csv` traz as informações sobre os encargos pessoais com saúde e seus respectivos perfis: \n",
    "\n",
    " * age: idade do beneficiário principal (em anos);\n",
    "\n",
    " * sex: sexo do beneficiário principal, categorizado em: *female* e *male*;\n",
    "\n",
    " * bmi: índice de massa corporal do beneficiário principal, calculado pela altura/peso^2 (em kg/m^2), sendo o valor ideal de 18,5 a 24,9 kg/m^2;\n",
    "\n",
    " * children: número de filhos cobertos pelo seguro de saúde (ou número de dependentes);\n",
    "\n",
    " * smoker: beneficiário principal é fumante?, categorizado em: *no* e *yes*;\n",
    "\n",
    " * region: a área residencial do beneficiário principal nos EUA, categorizado em: *northeast*, *southeast*, *southwest* e *northwest*;\n",
    "\n",
    " * charges: custos médicos individuais cobrados pelo seguro de saúde (em dólares).\n",
    " \n",
    "A seguir, será criado um *dataframe* nomeado `insurance` contendo as informações do arquivo `insurance.csv`.\n",
    "\n",
    "### Atenção: O *dataframe* `insurance` deverá ser utilizado nas [Pergunta 2](#p2) e [Pergunta 3](#p3)."
   ]
  },
  {
   "cell_type": "code",
   "execution_count": 100,
   "metadata": {},
   "outputs": [
    {
     "name": "stdout",
     "output_type": "stream",
     "text": [
      "Esperamos trabalhar no diretório\n",
      "c:\\Users\\lucca\\OneDrive - Insper - Institudo de Ensino e Pesquisa\\Documentos\\GitHub\\CD22-2\\zzz Prova Final\n"
     ]
    }
   ],
   "source": [
    "print(\"Esperamos trabalhar no diretório\")\n",
    "print(os.getcwd())"
   ]
  },
  {
   "cell_type": "code",
   "execution_count": 101,
   "metadata": {},
   "outputs": [
    {
     "name": "stdout",
     "output_type": "stream",
     "text": [
      "Parece que o arquivo insurance.csv está na mesma pasta do notebook da avaliação, yay!\n",
      "\n"
     ]
    }
   ],
   "source": [
    "filename = 'insurance.csv'\n",
    "if filename in os.listdir():\n",
    "    print(f'Parece que o arquivo {filename} está na mesma pasta do notebook da avaliação, yay!\\n')\n",
    "    \n",
    "else:\n",
    "    print(f'Não encontrei o arquivo {filename}.\\n'\n",
    "          f'O notebook e os arquivos de dados desta avaliação devem ser salvos dentro da mesma pasta no seu computador.\\n')"
   ]
  },
  {
   "cell_type": "code",
   "execution_count": 102,
   "metadata": {},
   "outputs": [
    {
     "data": {
      "text/html": [
       "<div>\n",
       "<style scoped>\n",
       "    .dataframe tbody tr th:only-of-type {\n",
       "        vertical-align: middle;\n",
       "    }\n",
       "\n",
       "    .dataframe tbody tr th {\n",
       "        vertical-align: top;\n",
       "    }\n",
       "\n",
       "    .dataframe thead th {\n",
       "        text-align: right;\n",
       "    }\n",
       "</style>\n",
       "<table border=\"1\" class=\"dataframe\">\n",
       "  <thead>\n",
       "    <tr style=\"text-align: right;\">\n",
       "      <th></th>\n",
       "      <th>age</th>\n",
       "      <th>sex</th>\n",
       "      <th>bmi</th>\n",
       "      <th>children</th>\n",
       "      <th>smoker</th>\n",
       "      <th>region</th>\n",
       "      <th>charges</th>\n",
       "    </tr>\n",
       "  </thead>\n",
       "  <tbody>\n",
       "    <tr>\n",
       "      <th>0</th>\n",
       "      <td>19</td>\n",
       "      <td>female</td>\n",
       "      <td>27.90</td>\n",
       "      <td>0</td>\n",
       "      <td>yes</td>\n",
       "      <td>southwest</td>\n",
       "      <td>16884.9240</td>\n",
       "    </tr>\n",
       "    <tr>\n",
       "      <th>1</th>\n",
       "      <td>18</td>\n",
       "      <td>male</td>\n",
       "      <td>33.77</td>\n",
       "      <td>1</td>\n",
       "      <td>no</td>\n",
       "      <td>southeast</td>\n",
       "      <td>1725.5523</td>\n",
       "    </tr>\n",
       "    <tr>\n",
       "      <th>2</th>\n",
       "      <td>28</td>\n",
       "      <td>male</td>\n",
       "      <td>33.00</td>\n",
       "      <td>3</td>\n",
       "      <td>no</td>\n",
       "      <td>southeast</td>\n",
       "      <td>4449.4620</td>\n",
       "    </tr>\n",
       "  </tbody>\n",
       "</table>\n",
       "</div>"
      ],
      "text/plain": [
       "   age     sex    bmi  children smoker     region     charges\n",
       "0   19  female  27.90         0    yes  southwest  16884.9240\n",
       "1   18    male  33.77         1     no  southeast   1725.5523\n",
       "2   28    male  33.00         3     no  southeast   4449.4620"
      ]
     },
     "execution_count": 102,
     "metadata": {},
     "output_type": "execute_result"
    }
   ],
   "source": [
    "insurance = pd.read_csv(filename, sep=',')\n",
    "insurance.head(3)"
   ]
  },
  {
   "cell_type": "markdown",
   "metadata": {},
   "source": [
    "<div id=\"p2\"></div>\n",
    "\n",
    "### PERGUNTA 2 (5,00 pontos)\n",
    "\n",
    "Um dos questionamentos feitos por pessoas da área da saúde é: \n",
    "\n",
    "$\\quad$ **Como prever os custos médicos individuais a partir do perfil do beneficiário principal?**\n",
    "\n",
    "Para tanto, o *dataframe* `insurance` será considerado para fornecer as *features* que traça o perfil do beneficiário e também fornecer a variável *target*.\n",
    "\n",
    "Responda:"
   ]
  },
  {
   "cell_type": "markdown",
   "metadata": {},
   "source": [
    "<div id=\"p2a\"></div>\n",
    "\n",
    "**a)(1,00 ponto)** \n",
    "<br> Considerando o problema descrito acima, faça uma **análise exploratória** para descrever como as *features* quantitativas `age`, `bmi` e `children` disponíveis no *dataframe* estão associadas ao *target* `charges`. \n",
    "<br> Nesse caso, para relacionar **cada** *feature* quantitativa com a *target*, sua resposta deve conter:\n",
    " * **(a1)** Um gráfico que associa uma particular *feature* quantitativa ao *target* `charges` e interpretação; e\n",
    " * **(a2)** Uma medida de associação adequada e interpretação do resultado.\n",
    " \n",
    "Ainda, coloque todos os três gráficos com títulos nos eixos e organizados com uso do `plt.subplot()` usando, obrigatoriamente, uma linha e 3 colunas. \n"
   ]
  },
  {
   "cell_type": "code",
   "execution_count": 103,
   "metadata": {},
   "outputs": [
    {
     "data": {
      "image/png": "[encoded data removed]",
      "text/plain": [
       "<Figure size 1080x360 with 3 Axes>"
      ]
     },
     "metadata": {
      "needs_background": "light"
     },
     "output_type": "display_data"
    }
   ],
   "source": [
    "# ESCREVA SUA RESOLUÇÃO AQUI\n",
    "\n",
    "# regressao linear para a feature \"age\"\n",
    "Y = insurance['charges']\n",
    "X = insurance['age']\n",
    "results_age = regress(Y,X)\n",
    "results_age.summary()\n",
    "\n",
    "# regressao linear para a feature \"bmi\"\n",
    "Y = insurance['charges']\n",
    "X2 = insurance['bmi']\n",
    "results_bmi = regress(Y,X2)\n",
    "results_bmi.summary()\n",
    "\n",
    "# regressao linear para a feature \"children\"\n",
    "Y = insurance['charges']\n",
    "X3 = insurance['children']\n",
    "results_children = regress(Y,X3)\n",
    "results_children.summary()\n",
    "\n",
    "# plt figure, uma linha e tres colunas\n",
    "fig, ax = plt.subplots(1,3, figsize=(15,5))\n",
    "\n",
    "# plotando a regressao linear para a feature \"age\"\n",
    "ax[0].scatter(insurance['age'], insurance['charges'])\n",
    "ax[0].plot(insurance['age'], results_age.fittedvalues, color='red')\n",
    "ax[0].set_title('Regressão Linear para a feature \"age\"')\n",
    "\n",
    "# plotando a regressao linear para a feature \"bmi\"\n",
    "ax[1].scatter(insurance['bmi'], insurance['charges'])\n",
    "ax[1].plot(insurance['bmi'], results_bmi.fittedvalues, color='red')\n",
    "ax[1].set_title('Regressão Linear para a feature \"bmi\"')\n",
    "\n",
    "# plotando a regressao linear para a feature \"children\"\n",
    "ax[2].scatter(insurance['children'], insurance['charges'])\n",
    "ax[2].plot(insurance['children'], results_children.fittedvalues, color='red')\n",
    "ax[2].set_title('Regressão Linear para a feature \"children\"')\n",
    "\n",
    "plt.show()"
   ]
  },
  {
   "cell_type": "code",
   "execution_count": null,
   "metadata": {},
   "outputs": [],
   "source": []
  },
  {
   "cell_type": "markdown",
   "metadata": {},
   "source": [
    "<div id=\"p2b\"></div>\n",
    "\n",
    "**b)(3,00 ponto)** \n",
    "<br> Considerando a biblioteca `statsmodels` do Python, faça um modelo de regressão múltipla para prever o custo médico do beneficiário a partir do seu perfil. Aqui, novamente utilize apenas as variáveis quantitativas como *features*, as quais são `age`, `bmi` e `children`. \n",
    "\n",
    "Com o *output* do modelo ajustado, discuta:\n",
    "  * **(b1)** A relevância de cada `feature` quantitativa para prever os custos, com 1% de nível de significância. \n",
    "  * **(b2)** A adequação da normalidade dos resíduos por meio de algum teste de hipóteses adequado, com 1% de nível de significância.\n",
    "  \n"
   ]
  },
  {
   "cell_type": "code",
   "execution_count": 104,
   "metadata": {},
   "outputs": [
    {
     "name": "stdout",
     "output_type": "stream",
     "text": [
      "\n",
      "A feature \"age\" é relevante para o modelo, pois o valor p é menor que 0.01.\n",
      "A feature \"bmi\" é relevante para o modelo, pois o valor p é menor que 0.01.\n",
      "A feature \"children\" não é relevante para o modelo, pois o valor p é maior que 0.01.\n",
      "\n",
      "\n",
      "O valor p da feature \"age\" é 0.00\n",
      "O valor p da feature \"bmi\" é 0.00\n",
      "O valor p da feature \"children\" é 0.04\n",
      "\n"
     ]
    }
   ],
   "source": [
    "# ESCREVA SUA RESOLUÇÃO AQUI\n",
    "\n",
    "Y = insurance['charges']\n",
    "X = insurance[['age', 'bmi', 'children']]\n",
    "results = regress(Y,X)\n",
    "results.summary()\n",
    "\n",
    "print(f'''\n",
    "A feature \"age\" é relevante para o modelo, pois o valor p é menor que 0.01.\n",
    "A feature \"bmi\" é relevante para o modelo, pois o valor p é menor que 0.01.\n",
    "A feature \"children\" não é relevante para o modelo, pois o valor p é maior que 0.01.\n",
    "''')\n",
    "\n",
    "results.summary()\n",
    "# valor p de cada feature\n",
    "print(f'''\n",
    "O valor p da feature \"age\" é {results.pvalues[1]:.2f}\n",
    "O valor p da feature \"bmi\" é {results.pvalues[2]:.2f}\n",
    "O valor p da feature \"children\" é {results.pvalues[3]:.2f}\n",
    "''')"
   ]
  },
  {
   "cell_type": "code",
   "execution_count": 105,
   "metadata": {},
   "outputs": [
    {
     "name": "stdout",
     "output_type": "stream",
     "text": [
      "\n",
      "O valor do teste de Durbin-Watson é 2.01, o que indica que os resíduos não são autocorrelacionados.\n",
      "\n"
     ]
    }
   ],
   "source": [
    "#adequacao da normalidade dos residuos com 1% de significancia\n",
    "# durbin-watson\n",
    "from statsmodels.stats.stattools import durbin_watson\n",
    "durbin_watson(results.resid)\n",
    "\n",
    "print(f'''\n",
    "O valor do teste de Durbin-Watson é {durbin_watson(results.resid):.2f}, o que indica que os resíduos não são autocorrelacionados.\n",
    "''')"
   ]
  },
  {
   "cell_type": "code",
   "execution_count": null,
   "metadata": {},
   "outputs": [],
   "source": [
    "\n"
   ]
  },
  {
   "cell_type": "markdown",
   "metadata": {},
   "source": [
    "<div id=\"p2c\"></div>\n",
    "\n",
    "**c)(1,00 ponto)** \n",
    "<br> Faça a predição do custo médico de um beneficiário de 45 anos, com índice de massa corporal igual a 23 kg/m^2 e com 2 filhos (dependentes). Interprete o resultado."
   ]
  },
  {
   "cell_type": "code",
   "execution_count": 106,
   "metadata": {},
   "outputs": [
    {
     "name": "stdout",
     "output_type": "stream",
     "text": [
      "\n",
      "O valor da cobrança para o beneficiário é 12607.15\n",
      "\n"
     ]
    }
   ],
   "source": [
    "# ESCREVA SUA RESOLUÇÃO AQUI\n",
    "# beneficiario\n",
    "age = 45\n",
    "bmi = 23\n",
    "children = 2\n",
    "\n",
    "charges = results.params[0] + results.params[1]*age + results.params[2]*bmi + results.params[3]*children\n",
    "print(f'''\n",
    "O valor da cobrança para o beneficiário é {charges:.2f}\n",
    "''')\n"
   ]
  },
  {
   "cell_type": "code",
   "execution_count": null,
   "metadata": {},
   "outputs": [],
   "source": []
  },
  {
   "cell_type": "markdown",
   "metadata": {},
   "source": [
    "[Volta ao Índice](#indice)"
   ]
  },
  {
   "cell_type": "markdown",
   "metadata": {},
   "source": [
    "___\n",
    "<div id=\"p3\"></div>\n",
    "\n",
    "### PERGUNTA 3 (1,50 pontos)\n",
    "\n",
    "Nesta pergunta, considere apenas a coluna `charges` contida no *dataframe* `insurance`. Para facilitar, o código abaixo criará um objeto chamado  `charges` contendo essa coluna."
   ]
  },
  {
   "cell_type": "code",
   "execution_count": 107,
   "metadata": {},
   "outputs": [],
   "source": [
    "charges = insurance['charges']\n"
   ]
  },
  {
   "cell_type": "markdown",
   "metadata": {},
   "source": [
    "<br> Por meio de um teste de hipóteses adequado, verifique se o custo médico é inferior, em média, a 14000 dólares por beneficiário. \n",
    "<br> Para tanto, utilize 3% de nível de significância.\n",
    "<br> Para realização desse teste de hipóteses, deixe claro nas suas respostas:\n",
    "  - as hipóteses nula $H_0$ e alternativa $H_1$ em termos do problema e do parâmetro;\n",
    "  - o **cálculo do valor-p**, \n",
    "  - a conclusão em termos do problema, e  \n",
    "  - a justificativa da sua conclusão. "
   ]
  },
  {
   "cell_type": "code",
   "execution_count": 110,
   "metadata": {},
   "outputs": [
    {
     "name": "stdout",
     "output_type": "stream",
     "text": [
      "\n",
      "O valor p é 0.01, o que é menor que o nível de significância de 0.03, o que refuta a Hipótese Nula.\n",
      "Logo, o custo médio é menor que 14000 dólares.\n",
      "\n"
     ]
    }
   ],
   "source": [
    "# ESCREVA SUA RESOLUÇÃO AQUI\n",
    "# H0: custo >= 14000\n",
    "# H1: custo < 14000\n",
    "# significancia = 0.03\n",
    "\n",
    "# valor p\n",
    "p_value = 1-norm.sf(charges.mean(), loc=14000, scale=charges.std()/math.sqrt(len(charges)))\n",
    "\n",
    "print(f'''\n",
    "O valor p é {p_value:.2f}, o que é menor que o nível de significância de 0.03, o que refuta a Hipótese Nula.\n",
    "Logo, o custo médio é menor que 14000 dólares.\n",
    "''')"
   ]
  },
  {
   "cell_type": "code",
   "execution_count": null,
   "metadata": {},
   "outputs": [],
   "source": []
  },
  {
   "cell_type": "markdown",
   "metadata": {},
   "source": [
    "[Volta ao Índice](#indice)"
   ]
  }
 ],
 "metadata": {
  "kernelspec": {
   "display_name": "Python 3.9.7 64-bit",
   "language": "python",
   "name": "python3"
  },
  "language_info": {
   "codemirror_mode": {
    "name": "ipython",
    "version": 3
   },
   "file_extension": ".py",
   "mimetype": "text/x-python",
   "name": "python",
   "nbconvert_exporter": "python",
   "pygments_lexer": "ipython3",
   "version": "3.9.7"
  },
  "vscode": {
   "interpreter": {
    "hash": "fa202bb1a1975933ba9aefafdf4702960127000ff337e7c1a518450752e9f0c6"
   }
  }
 },
 "nbformat": 4,
 "nbformat_minor": 4
}
