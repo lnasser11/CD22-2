{
 "cells": [
  {
   "cell_type": "markdown",
   "metadata": {},
   "source": [
    "___\n",
    "# Exercício: Modelos probabilísticos contínuos\n",
    "___\n",
    "\n",
    "## Aula 17\n"
   ]
  },
  {
   "cell_type": "markdown",
   "metadata": {},
   "source": [
    "___\n",
    "<div id=\"indice\"></div>\n",
    "\n",
    "## Índice\n",
    "\n",
    "  - [Exercício 1](#ex1)\n",
    "  - [Exercício 2](#ex2)\n",
    "  - [Exercício 3](#ex3)\n",
    "  - [Exercício 4](#ex4)\n",
    "  - [Exercício 5](#ex5) **- APS7 disponível no Blackboard**\n",
    "___"
   ]
  },
  {
   "cell_type": "code",
   "execution_count": 27,
   "metadata": {},
   "outputs": [],
   "source": [
    "from scipy import stats #importa apenas as funções de estatísticas da biblioteca SciPy.]\n",
    "import numpy as np\n",
    "import matplotlib.pyplot as plt\n",
    "# stats.norm.pdf(x, loc=mu, scale=sigma)\n",
    "# stats.norm.cdf(x, loc=mu, scale=sigma)\n",
    "# stats.norm.ppf(p, loc=mu, scale=sigma)"
   ]
  },
  {
   "cell_type": "markdown",
   "metadata": {},
   "source": [
    "<div id=\"ex1\"></div>\n",
    "\n",
    "### EXERCÍCIO 1\n",
    "\n",
    "Para X ~ N(90, 100), calcular:\n",
    "\n",
    "a) $P(X \\leq 115)$\n",
    "\n",
    "b) $P(X \\geq 80 | X < 100)$\n",
    "\n",
    "c) O número $c$ tal que $P(X < c) = 0,975$\n",
    "\n",
    "d) O número $d$ tal que $P(X > d) = 0,95$\n",
    "\n",
    "e) O valor de $e$ tal que $P(90 - e \\leq X \\leq 90 + e) = 0,99$\n",
    "\n",
    "*Respostas esperadas: (a)0.9937903346742238  (b)0.8114265826549397  (c)109.59963984540053 (d)73.55146373048528 (e)25.758293035489004*\n"
   ]
  },
  {
   "cell_type": "code",
   "execution_count": 28,
   "metadata": {},
   "outputs": [],
   "source": [
    "# ESCREVA SEU CÓDIGO AQUI\n",
    "mu = 90\n",
    "sigma = 100**0.5"
   ]
  },
  {
   "cell_type": "code",
   "execution_count": 29,
   "metadata": {},
   "outputs": [
    {
     "name": "stdout",
     "output_type": "stream",
     "text": [
      "a) 0.9937903346742238\n",
      "b) 0.8114265826549397\n",
      "c) 109.59963984540053\n",
      "d) 73.55146373048528\n"
     ]
    }
   ],
   "source": [
    "print(f'a) {stats.norm.cdf(115, loc=mu, scale=sigma)}')\n",
    "print(f'b) {(stats.norm.cdf(100, loc=mu, scale=sigma) -stats.norm.cdf(80, loc=mu, scale=sigma))/stats.norm.cdf(100, loc=mu, scale=sigma)}')\n",
    "print(f'c) {stats.norm.ppf(0.975, loc=mu, scale=sigma)}')\n",
    "print(f'd) {stats.norm.ppf(1-0.95, loc=mu, scale=sigma)}')"
   ]
  },
  {
   "cell_type": "code",
   "execution_count": 30,
   "metadata": {},
   "outputs": [
    {
     "name": "stdout",
     "output_type": "stream",
     "text": [
      "e) 25.758293035489004\n",
      "e) 25.758293035489004\n"
     ]
    }
   ],
   "source": [
    "num = stats.norm.ppf(0.005, loc=mu, scale=sigma)\n",
    "print(f'e) {90-num}')\n",
    "\n",
    "# OU\n",
    "\n",
    "num = stats.norm.ppf(0.995, loc=mu, scale=sigma)\n",
    "print(f'e) {num-90}')"
   ]
  },
  {
   "cell_type": "markdown",
   "metadata": {},
   "source": [
    "<div id=\"ex2\"></div>\n",
    "\n",
    "### EXERCÍCIO 2\n",
    "\n",
    "As notas no quiz final de Ciência dos Dados distribuem-se segundo uma variável aleatória normal com média 6,5 e desvio padrão 1,6. O professor deseja dividir a classe em 3 categorias, da seguinte forma: os 30% que tiveram as maiores notas serão aprovados, os 50% com notas intermediárias ficarão de exame e os 20% que tiveram as menores notas serão reprovados. \n",
    "\n",
    "a) Quais os limites de nota entre cada uma das categorias?\n",
    "\n",
    "b) Caso a nota para aprovação (sem ir para exame) fosse igual a 7,0 e uma turma tivesse 50 alunos, quantos desses seriam aprovados sem ir para o exame? \n",
    "\n",
    "*Respostas esperadas: (a)5.153406026283337 e 7.339040820332865    (b)19*"
   ]
  },
  {
   "cell_type": "code",
   "execution_count": 31,
   "metadata": {},
   "outputs": [],
   "source": [
    "# ESCREVA SEU CÓDIGO AQUI"
   ]
  },
  {
   "cell_type": "code",
   "execution_count": 32,
   "metadata": {},
   "outputs": [
    {
     "name": "stdout",
     "output_type": "stream",
     "text": [
      "a1) 7.339040820332865\n",
      "a2) 5.153406026283337\n",
      "18.866514076492148\n"
     ]
    }
   ],
   "source": [
    "mu = 6.5\n",
    "sigma = 1.6\n",
    "\n",
    "print(f'a1) {stats.norm.ppf(1-0.3, loc=mu, scale=sigma)}')\n",
    "print(f'a2) {stats.norm.ppf(0.2, loc=mu, scale=sigma)}')\n",
    "\n",
    "P_aprovados = 1 - stats.norm.cdf(7,loc=mu,scale=sigma)\n",
    "print(P_aprovados*50)"
   ]
  },
  {
   "cell_type": "markdown",
   "metadata": {},
   "source": [
    "<div id=\"ex3\"></div>\n",
    "\n",
    "### EXERCÍCIO 3\n",
    "\n",
    "Um determinado calçado é vendido em lojas populares e em lojas sofisticadas. De todas as lojas, 70%  são populares e 30%  são sofisticadas. Nas lojas populares seu preço segue uma distribuição normal com média 80 e desvio-padrão 12. Já em lojas sofisticadas, o preço também segue uma distribuição normal de média 160 e desvio-padrão 30. \n",
    "\n",
    "a) Determine maior preço considerando os 25% menores valores na distribuição de preços de uma loja popular.\n",
    "\n",
    "b) Gastou-se mais de $100,00 para comprar o calçado. Qual é a probabilidade da compra ter sido feita numa loja popular?\n",
    "\n",
    "*Respostas esperadas: (a)71.90612299764702    (b)0.10241995600307374*"
   ]
  },
  {
   "cell_type": "code",
   "execution_count": 33,
   "metadata": {},
   "outputs": [],
   "source": [
    "# ESCREVA SEU CÓDIGO AQUI"
   ]
  },
  {
   "cell_type": "code",
   "execution_count": 34,
   "metadata": {},
   "outputs": [
    {
     "name": "stdout",
     "output_type": "stream",
     "text": [
      "a) 71.90612299764702\n",
      "0.10241995600307373\n"
     ]
    }
   ],
   "source": [
    "P_p = 0.7\n",
    "P_s = 1-P_p\n",
    "\n",
    "mu_p = 80\n",
    "sigma_p = 12\n",
    "\n",
    "mu_s = 160\n",
    "sigma_s = 30\n",
    "\n",
    "print(f'a) {stats.norm.ppf(0.25, loc=mu_p, scale=sigma_p)}')\n",
    "\n",
    "P_maisde100_p = (1 - stats.norm.cdf(100,loc=mu_p,scale=sigma_p))\n",
    "P_maisde100_s = (1 - stats.norm.cdf(100,loc=mu_s,scale=sigma_s))\n",
    "\n",
    "amostra = P_maisde100_p*P_p + P_maisde100_s*P_s\n",
    "\n",
    "print(P_maisde100_p*P_p/amostra)"
   ]
  },
  {
   "cell_type": "markdown",
   "metadata": {},
   "source": [
    "<div id=\"ex4\"></div>\n",
    "\n",
    "### EXERCÍCIO 4\n",
    "\n",
    "Em um processo industrial, o diâmetro de um rolamento é uma parte importante do processo.\n",
    "\n",
    "Sabe-se que a probabilidade de um rolamento ter diâmetro maior do 2,98 cm é de 80%. \n",
    "\n",
    "Sabe-se, também que a probabilidade de que um rolamento tenha diâmetro abaixo de 2,97 cm é de 10%. \n",
    "\n",
    "a) Admitindo que o diâmetro de um rolamento segue uma distribuição normal, determine a média e o desvio-padrão dos diâmetros dos rolamentos que saem da linha de produção.\n",
    "\n",
    "b) Determine a especificação que represente a maior distância da média, para mais ou para menos, contendo 95% dos rolamentos produzidos. \n",
    "\n",
    "*Respostas esperadas: (a) mu=2.9991307844085426 sigma=0.022730871852326348   (b)0.04455169016775473*"
   ]
  },
  {
   "cell_type": "code",
   "execution_count": 35,
   "metadata": {},
   "outputs": [],
   "source": [
    "# ESCREVA SEU CÓDIGO AQUI\n",
    "\n",
    "# stats.norm.pdf(x, loc=mu, scale=sigma)\n",
    "# stats.norm.cdf(x, loc=mu, scale=sigma)\n",
    "# stats.norm.ppf(p, loc=mu, scale=sigma)"
   ]
  },
  {
   "cell_type": "code",
   "execution_count": 36,
   "metadata": {},
   "outputs": [
    {
     "name": "stdout",
     "output_type": "stream",
     "text": [
      "2.9991307844085426 0.022730871852326254\n"
     ]
    }
   ],
   "source": [
    "l = stats.norm.ppf(0.1,loc=0,scale=1)\n",
    "m = stats.norm.ppf(0.2,loc=0,scale=1)\n",
    "\n",
    "mu=(2.97*m-2.98*l)/(m-l)\n",
    "sigma=(2.98-mu)/m\n",
    "\n",
    "print(mu,sigma)"
   ]
  },
  {
   "cell_type": "code",
   "execution_count": 37,
   "metadata": {},
   "outputs": [],
   "source": [
    "num_ex4b = stats.norm.ppf(0.995, loc=mu, scale=sigma)"
   ]
  },
  {
   "cell_type": "markdown",
   "metadata": {},
   "source": [
    "___\n",
    "<div id=\"ex5\"></div>\n",
    "\n",
    "### EXERCÍCIO 5 - Modelagem do Tempo para resolver uma prova de MatVar\n",
    "\n",
    "Um grupo de alunos de cada uma das três turmas que cursam Ciência dos Dados estava discutindo com intuito de modelar o tempo, em horas, que um aluno irá levar para fazer uma prova de Matemática da Variação. \n",
    "\n",
    "Após cada grupo de alunos chegar a um consenso, foi escolhido um modelo probabilístico contínuo diferente para cada turma A, B e C. Dessa forma, os três modelos foram escolhidos com intuito de descrever o comportamento da variável X: tempo, em horas, que um aluno irá levar para entregar uma prova de Matemática da Variação. Lembrando que um aluno tem até duas horas para fazê-la.\n",
    "\n",
    "Esses três modelos são dados por:\n",
    "\n",
    "> * **Turma A:** $X_A$ segue o seguinte modelo:\n",
    "    $ f(x) = \\left\\{ \\begin{array}[ll]\\\\\n",
    "                +0.4-0.8x & \\rm{se }\\hspace{2mm} 0<x<0.5 \\\\\n",
    "                -0.4+0.8x & \\rm{se }\\hspace{2mm} 0.5\\leq x\\leq2 \\\\\n",
    "                0 & \\rm{caso}\\hspace{2mm}\\rm{contrário} \n",
    "             \\end{array} \\right.$\n",
    "\n",
    "> * **Turma B:** $X_B\\sim Normal(1; 0.3^2)$, ou seja, $\\mu=1$ e $\\sigma=0.3$.\n",
    "\n",
    "> * **Turma C:** $X_C\\sim Uniforme(0; 2)$, ou seja, $a=0$ e $b=2$.\n",
    "\n",
    "\n"
   ]
  },
  {
   "cell_type": "markdown",
   "metadata": {},
   "source": [
    "Admitindo que os alunos façam suas provas de forma independente uns dos outros, responda:\n",
    "\t\n",
    "a) Estudando o comportamento da função densidade de probabilidade de cada modelo probabilístico, qual você entende ser o mais adequado para descrever o comportamento da variável X? E qual você entende ser o menos adequado? Justifique suas respostas após estudar o comportamento das fdp’s escolhidas por cada turma. *Nota: a fdp da turma A tem que ser construída usando a f(x) dada e, as demais, usando a função `pdf` do `scipy.stats`.\n",
    "\n",
    "b) Qual a probabilidade de um aluno da turma B demorar mais do que 1 hora e meia para entregar a prova de Matemática da Variação? E na da turma C? \n",
    "\n",
    "c)\tAtualmente, 34% dos alunos estão na turma A, 34% na B e 32% na C. Qual a probabilidade de um aluno qualquer (ou seja, um aluno de qualquer uma dessas três turmas) demorar mais do que uma hora e meia para entregar a prova final dessa disciplina?\n",
    "\n",
    "d) Qual o menor tempo de entrega da prova dentre os últimos 20% de alunos que entregam na sala da turma B? E na da turma C? Interprete os resultados.\n"
   ]
  },
  {
   "cell_type": "code",
   "execution_count": 38,
   "metadata": {},
   "outputs": [],
   "source": [
    "# ESCREVA SEU CÓDIGO AQUI"
   ]
  },
  {
   "cell_type": "code",
   "execution_count": 39,
   "metadata": {},
   "outputs": [
    {
     "data": {
      "image/png": "[encoded data removed]",
      "text/plain": [
       "<Figure size 432x288 with 1 Axes>"
      ]
     },
     "metadata": {
      "needs_background": "light"
     },
     "output_type": "display_data"
    }
   ],
   "source": [
    "x = np.linspace(0, 2, 100)\n",
    "fxa=[]\n",
    "for i in x:\n",
    "    if i<0.5:\n",
    "        fxa.append(+0.4-0.8*i)\n",
    "    if i>=0.5:\n",
    "        fxa.append(-0.4+0.8*i)\n",
    "fxb=stats.norm.pdf(x, loc=1, scale=0.3)\n",
    "fxc=stats.uniform.pdf(x, loc=0, scale=2)\n",
    "\n",
    "plt.plot(x, fxa, 'r')\n",
    "plt.plot(x, fxb, 'b')\n",
    "plt.plot(x, fxc, 'g')\n",
    "plt.grid(True)"
   ]
  },
  {
   "cell_type": "code",
   "execution_count": 43,
   "metadata": {},
   "outputs": [
    {
     "name": "stdout",
     "output_type": "stream",
     "text": [
      "b) Turma B: 0.047790352272814696 e Turma C:0.25\n"
     ]
    }
   ],
   "source": [
    "print(f'b) Turma B: {1-stats.norm.cdf(1.5,1,0.3)} e Turma C:{1-stats.uniform.cdf(1.5,loc=0,scale=2)}')"
   ]
  },
  {
   "cell_type": "code",
   "execution_count": null,
   "metadata": {},
   "outputs": [],
   "source": []
  },
  {
   "cell_type": "code",
   "execution_count": null,
   "metadata": {},
   "outputs": [],
   "source": []
  },
  {
   "cell_type": "code",
   "execution_count": null,
   "metadata": {},
   "outputs": [],
   "source": []
  }
 ],
 "metadata": {
  "anaconda-cloud": {},
  "kernelspec": {
   "display_name": "Python 3 (ipykernel)",
   "language": "python",
   "name": "python3"
  },
  "language_info": {
   "codemirror_mode": {
    "name": "ipython",
    "version": 3
   },
   "file_extension": ".py",
   "mimetype": "text/x-python",
   "name": "python",
   "nbconvert_exporter": "python",
   "pygments_lexer": "ipython3",
   "version": "3.9.12"
  }
 },
 "nbformat": 4,
 "nbformat_minor": 1
}
