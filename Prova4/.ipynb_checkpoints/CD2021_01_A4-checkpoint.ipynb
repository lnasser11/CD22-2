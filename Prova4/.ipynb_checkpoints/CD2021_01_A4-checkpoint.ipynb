{
 "cells": [
  {
   "cell_type": "markdown",
   "metadata": {},
   "source": [
    "# A4 - Avaliação de Ciência dos dados \n",
    "\n",
    "## 2021 - 1o. semestre \n",
    "\n",
    "___\n"
   ]
  },
  {
   "cell_type": "markdown",
   "metadata": {},
   "source": [
    "# NOME:"
   ]
  },
  {
   "cell_type": "markdown",
   "metadata": {},
   "source": [
    "___\n",
    "## Instruções\n",
    "\n",
    "**Leia atentamente as instruções desta avaliação. Essas devem ser seguidas rigorosamente!**\n",
    "\n",
    "**Prezado(a) Aluno(a),**\n",
    "\n",
    "Dia da prova **dia 10/06** a partir das 7h30min.\n",
    "\n",
    "Estaremos no TEAMS a partir das 7h30 utilizando a equipe de Atendimento e Ninjas (canal PROVA) para receber instruções. **Não ingressar na reunião no Teams para poupar sua internet e a de todos. Apenas esteja atento ao chat do canal PROVA.**\n",
    "\n",
    "\n",
    "Esta avaliação terá as seguintes etapas:\n",
    "\n",
    "**7h30 às 7h40**\n",
    "       \n",
    " * **(10 minutos) - PROCTORIO:** Entre no Blackboard e inicie o teste em `Conteúdos/Avaliações/Avaliação Final (A4)/A4 (ativar Proctorio)`. Caso não ative esse teste em até 10 minutos do início da prova (ou seja, até às 7h40), não terá mais direito de entregar essa prova, obtendo falta na mesma.\n",
    "\n",
    "\n",
    "**7h40 às 9h55**  \n",
    "\n",
    " * **(135 minutos) - Desenvolvimento da prova:** Concentre-se em resolver o notebook.\n",
    " * ATENÇÃO: administre esse tempo da maneira que julgar mais adequada para você. **NÃO utilize o cronômetro do Proctorio como referência, mas sim o tempo 135 minutos de prova a partir das 7h35.**\n",
    "\n",
    "\n",
    "**9h55 às 10h05**  \n",
    " * **(10 minutos) - Entrega via Blackboard - Notebook:** O arquivo `.ipynb` deve ser entregue em `Conteúdos/Avaliações/Avaliação Final (A4)/Entrega da prova`. \n",
    " * ATENÇÃO: **finalize o proctorio APENAS após anexar a avaliação no Blackboard.**\n",
    "\n",
    "<br>\n",
    "\n",
    "Leia atentamente as instruções a seguir e as questões da prova antes de começar a resolvê-la.\n",
    "\n",
    "#### Avisos GERAIS: \n",
    "\n",
    "1. Identifique-se no cabeçalho deste arquivo. Essa prova é INDIVIDUAL.\n",
    "1. Você terá 135 minutos a partir do início oficial da prova para concluir esta avaliação, administre bem o seu tempo. Leia atentamente as instruções a seguir e as questões da prova antes de começar a resolvê-la. \n",
    "\n",
    "1. Esta avaliação:\n",
    "  * **PERMITE consulta de material do Blackboard e material on-line (usar navegador para pesquisas no Google, por exemplo)**. \n",
    "  * **PERMITE UTILIZAR APENAS UM COMPUTADOR NO QUAL ESTARÁ REALIZANDO A PROVA.**\n",
    "  * **NÃO PERMITE consulta a colegas (presencial ou remotamente), ou seja, não é permitido ter alguém ao seu lado assim como não é permitido conversar pelo WhatsApp, enviar e-mail ou qualquer outro formato em que converse com outra pessoa**. \n",
    "  * **NÃO PERMITE utilizar CELULAR, TABLET, SEGUNDO COMPUTADOR (ou NOTEBOOK) ou qualquer outro aparelho eletrônico no momento da prova.**\n",
    "  * **Seu olhar deve estar sempre para tela do computador da prova. Evite olhar para baixo ou para os lados com frequência.**\n",
    "  * **O desrespeito as essas regras constituirá violação ao Código de Ética e de Conduta e acarretará sanções nele previstas. Faça o seu trabalho de maneira ética!** \n",
    "\n",
    "1. Sua prova utilizará o sistema de Proctoring.  Para instalar a extensão, acesse o site https://getproctorio.com/ pelo Google Chrome e siga os passos indicados. Caso tenha dúvidas ou dificuldades, avise seu professor pelo chat e entre em contato com o Help Desk por meio de abertura de chamado ou pelo telefone (11) 4504-2550.\n",
    "Para realizar a prova será necessário:\n",
    "  *\tUm desktop ou um notebook com qualquer sistema operacional (dispositivos móveis não serão aceitos)\n",
    "  *\tMicrofone (interno ou externo)\n",
    "  *\tWebcam (interna ou externa)\n",
    "  *\tNavegador Google Chrome (o sistema funciona somente nele)\n",
    "  *\tExtensão da plataforma instalada (sem ela o sistema não funcionará)\n",
    "\n",
    "1. **É proibido o uso de fones de ouvido durante toda a prova. Não leia as questões em voz alta. Não ouvir música.**\n",
    "1. Sempre que possível, busque criar redundâncias para a rede de internet. Uma forma de fazer isso é utilizar a rede 4G dos celulares.\n",
    "1. Antes de sair da prova, garanta que entregou a prova no link indicado. Verifique se arquivos das questões tiveram seu upload concluído (se necessário) e que fechou a prova ao final. Você é o responsável pela entrega adequada de todas as questões de sua prova. Avaliações entregues fora do prazo não serão aceitas para correção.\n",
    "1. Caso precise se ausentar da frente da câmera para ia ao banheiro, comunique no chat do Teams ao professor e/ou fale para sua câmera. Dessa forma sua ausência estará justificada pelo sistema de proctoring. Lembre-se de ser rápido e retornar prontamente à prova.\n",
    "\n",
    "\n",
    "#### Avisos sobre desenvolvimento da prova:\n",
    "\n",
    "1. Esta avaliação é composta de __4__ questões referentes a **Avaliação A4**. Ainda, há mais __2__ questões **DELTA** cuja resolução é **opcional**. Essas questões DELTA terão suas notas aproveitadas nas avaliações A2 e A3. Caso verifique a falta de alguma questão, entre em contato com seu professor imediatamente pelo Teams.\n",
    "1. Esta Avaliação consiste em responder um arquivo Jupyter que será anexado ao Blackboard ao final da prova.\n",
    "1. Leia atentamente as **Precauções de segurança** abaixo para evitar ter sua prova anulada.\n",
    "1. Você pode utilizar qualquer material individual para consulta – anotações, livros, etc. Mas não pode compartilhar este material com seus colegas presencial ou remotamente.\n",
    "1. Em caso de dúvida sobre alguma questão desta avaliação, redija um texto em uma nova célula deste Jupyter notebook explicitando-a para que o professor avalie a pertinência durante a correção.  \n",
    "1. Leia atentamente cada questão e responda o que for pedido. Erros conceituais serão penalizados, mesmo que o conceito não se relacione com o que foi pedido na questão.\n",
    "1. Caso em algum item você necessite do resultado de um item anterior que você não conseguiu fazer, admita um valor razoável para esse resultado e faça o item normalmente. Indique na questão, caso isso aconteça.\n",
    "1. Todos os resultados devem ser justificados. Números que apareçam sem uma explicação de como foram encontrados serão ignorados na correção.\n",
    "1. **A qualidade do código na resolução em cada item também será levada em consideração, ou seja, códigos complicados para soluções que podem ser simples serão penalizados.**\n",
    "1. Esta avaliação requer **entrega via Blackboard**. **Não serão consideradas entregas por outros meios** (ex: e-mail, MS Teams, etc.).\n",
    "\n",
    "\n",
    "\n",
    "#### Precauções de segurança:\n",
    "\n",
    "1.\tTodas as precauções abaixo podem ser resumidas da seguinte forma: consulte o material que quiser desde que não seja nenhuma pessoa e não compartilhe informações com ninguém. \n",
    "2.\tVocê não pode enviar nenhum tipo de mensagem durante a prova para qualquer pessoa dentro ou fora dela, com exceção do(a) professor(a). Por exemplo: e-mail, Skype, mensagens do Facebook, mensagens do WhatsApp, mensagens via Twitter, etc\n",
    "3.\tVocê não pode compartilhar nenhum tipo de informação em nenhum site, incluindo Pastebin, Codeshare, wikis, etc\n",
    "4.\tVocê não pode perguntar questões da prova no StackOverflow, StackExchange, MathExchange, etc. \n",
    "5.\tVocê pode procurar/tirar dúvida no Google.\n",
    "6.\tVocê pode consultar qualquer arquivo no seu computador.\n",
    "7.\tQualquer transgressão das normas acima pode zerar a nota da prova e implicar em infração ao código de ética do Insper."
   ]
  },
  {
   "cell_type": "markdown",
   "metadata": {},
   "source": [
    "___\n",
    "Carregando algumas bibliotecas:"
   ]
  },
  {
   "cell_type": "code",
   "execution_count": 1,
   "metadata": {},
   "outputs": [],
   "source": [
    "%matplotlib inline\n",
    "import math\n",
    "import os\n",
    "\n",
    "import matplotlib.pyplot as plt\n",
    "import numpy as np\n",
    "from numpy import arange\n",
    "from math import sqrt\n",
    "import pandas as pd\n",
    "\n",
    "from scipy import stats #importa apenas as funções de estatísticas da biblioteca SciPy.\n",
    "import statsmodels.api as sm # importa para fazer ajuste de modelo de regressão\n",
    "\n",
    "from IPython.display import display  # Para ter melhor print."
   ]
  },
  {
   "cell_type": "markdown",
   "metadata": {},
   "source": [
    "___\n",
    "<div id=\"indice\"></div>\n",
    "\n",
    "## Índice\n",
    "\n",
    "## AVALIAÇÃO FINAL - A4\n",
    "\n",
    "- [HOME OFFICE](#home)\n",
    "    - [Questão 1](#q1)\n",
    "        - [item (a)](#q1a) **[0,50 ponto]**\n",
    "        - [item (b)](#q1b) **[0,50 ponto]**\n",
    "        - [item (c)](#q1c) **[0,50 ponto]**\n",
    "\n",
    "\n",
    "- [SUSTENTABILIDADE](#sustenta)\n",
    "     - [Questão 2](#q2) \n",
    "        - [item (a)](#q2a) **[1,25 ponto]**\n",
    "        - [item (b)](#q2b) **[1,25 ponto]**\n",
    "        \n",
    "\n",
    "- [FRAGRÂNCIA](#fra)\n",
    "     - [Questão 3](#q3) \n",
    "        - [item (a)](#q3a) **[0,50 ponto]**\n",
    "        - [item (b)](#q3b) **[1,25 ponto]**\n",
    "        - [item (c)](#q3c) **[1,25 ponto]**\n",
    "        \n",
    "\n",
    "- [DINHEIRO TRAZ FELICIDADE?](#happy)    \n",
    "     - [Questão 4](#q4) \n",
    "        - [item (a)](#q4a) **[0,75 ponto]**\n",
    "        - [item (b)](#q4b) **[1,00 ponto]**\n",
    "        - [item (c)](#q4c) **[1,00 ponto]**\n",
    "        - [item (d)](#q4d) **[0,75 ponto]**\n",
    "        \n",
    "<br>\n",
    "\n",
    "## AVALIAÇÃO DELTA\n",
    "\n",
    "**Atenção: Essas questões são opcionais.**\n",
    "\n",
    "- [QUESTÕES](#delta)\n",
    "    - [Questão DELTA A2](#qA2)\n",
    "        - [item (a)](#qA2a) **[1,00 ponto]**\n",
    "        - [item (b)](#qA2b) **[1,00 ponto]**\n",
    "    <p>\n",
    "    - [Questão DELTA A3](#qA3) \n",
    "        - [item (a)](#qA3a) **[1,00 ponto]**\n",
    "        - [item (b)](#qA3b) **[1,00 ponto]**\n",
    "        "
   ]
  },
  {
   "cell_type": "markdown",
   "metadata": {},
   "source": [
    "___\n",
    "___\n",
    "# AVALIAÇÃO FINAL - A4 "
   ]
  },
  {
   "cell_type": "markdown",
   "metadata": {},
   "source": [
    "___\n",
    "___\n",
    "<div id=\"home\"></div>\n",
    "\n",
    "## HOME OFFICE\n",
    "<img src=\"HomeOffice.jpg\" width=\"500\" width=\"60%\" >\n",
    "\n",
    "$\\hspace{4cm}$Fonte: extraído da internet"
   ]
  },
  {
   "cell_type": "markdown",
   "metadata": {},
   "source": [
    "___\n",
    "<div id=\"q1\"></div>\n",
    "\n",
    "### QUESTÃO 1:\n",
    "\n",
    "Durante a pandemia, a qual ainda vivemos, muitas empresas tiveram que se adaptar com seus funcionários trabalhando de maneira remota no formato *home office*.\n",
    "\n",
    "A seguir, há questionamentos do departamento de RH de três empresas diferentes: Empresa A, Empresa B e Empresa C.\n",
    "\n",
    "Para cada questionamento, **formule as hipóteses nula e alternativa em termos do problema e em termos estatísticos**.\n",
    "\n",
    "*Obs.:* Símbolos úteis: $H_0$ $H_1$ $\\mu$ $>$ $<$ $\\leq$ $\\geq$ $\\neq$\n",
    "\n",
    "<br> \n",
    "\n",
    "**Responda:**"
   ]
  },
  {
   "cell_type": "markdown",
   "metadata": {},
   "source": [
    "##### <div id=\"q1a\"></div>\n",
    "\n",
    "**Q1(a)(0,50 ponto)** \n",
    "\n",
    "> Antes da pandemia, os funcionários da Empresa A trabalhavam em média 40 horas semanais.<p> \n",
    "O gerente do RH da Empresa A acredita que agora esse tempo médio semanal de trabalho mudou com o *home office*. <p>\n",
    "**Formule as hipóteses nula e alternativa em termos do problema e em termos estatísticos**."
   ]
  },
  {
   "cell_type": "raw",
   "metadata": {},
   "source": [
    "# ESCREVA SUA RESPOSTA AQUI "
   ]
  },
  {
   "cell_type": "raw",
   "metadata": {},
   "source": [
    "𝐻0: tempo médio semanal de trabalho = 40 horas\n",
    "𝐻1: tempo médio semanal de trabalho ≠ 40 horas"
   ]
  },
  {
   "cell_type": "raw",
   "metadata": {},
   "source": []
  },
  {
   "cell_type": "markdown",
   "metadata": {},
   "source": [
    "##### <div id=\"q1b\"></div>\n",
    "\n",
    "**Q1(b)(0,50 ponto)** \n",
    "\n",
    ">Antes da pandemia, os funcionários da Empresa B trabalhavam em média 8 horas por dia.<p> \n",
    "O gerente do RH da Empresa B acredita que agora esse tempo médio diário de trabalho aumentou com o *home office*. <p>\n",
    "**Formule as hipóteses nula e alternativa em termos do problema e em termos estatísticos**."
   ]
  },
  {
   "cell_type": "raw",
   "metadata": {},
   "source": [
    "# ESCREVA SUA RESPOSTA AQUI "
   ]
  },
  {
   "cell_type": "raw",
   "metadata": {},
   "source": [
    "𝐻0: tempo médio diário de trabalho = 8 horas\n",
    "𝐻1: tempo médio diário de trabalho > 8 horas"
   ]
  },
  {
   "cell_type": "raw",
   "metadata": {},
   "source": []
  },
  {
   "cell_type": "markdown",
   "metadata": {},
   "source": [
    "##### <div id=\"q1c\"></div>\n",
    "\n",
    "**Q1(c)(0,50 ponto)** \n",
    "\n",
    "> Antes da pandemia, os funcionários da Empresa C trabalhavam em média 220 horas por mês.<p> \n",
    "O gerente do RH da Empresa C acredita que agora esse tempo médio mensal de trabalho reduziu com o *home office*. <p>\n",
    "**Formule as hipóteses nula e alternativa em termos do problema e em termos estatísticos**."
   ]
  },
  {
   "cell_type": "raw",
   "metadata": {},
   "source": [
    "# ESCREVA SUA RESPOSTA AQUI "
   ]
  },
  {
   "cell_type": "raw",
   "metadata": {},
   "source": [
    "𝐻0: tempo médio mensal de trabalho = 220 horas\n",
    "𝐻1: tempo médio mensal de trabalho < 220 horas"
   ]
  },
  {
   "cell_type": "raw",
   "metadata": {},
   "source": []
  },
  {
   "cell_type": "markdown",
   "metadata": {},
   "source": [
    "<a href=\"#indice\">Voltar para Índice</a>"
   ]
  },
  {
   "cell_type": "markdown",
   "metadata": {},
   "source": [
    "___\n",
    "___\n",
    "<div id=\"sus\"></div>\n",
    "\n",
    "## SUSTENTABILIDADE\n",
    "\n",
    "<img src=\"sustentabilidade.jpg\" width=\"400\">\n",
    "\n",
    "$\\hspace{4cm}$Fonte: extraído da internet"
   ]
  },
  {
   "cell_type": "markdown",
   "metadata": {},
   "source": [
    "___\n",
    "<div id=\"q2\"></div>\n",
    "\n",
    "### QUESTÃO 2:\n",
    "\n",
    "Cada vez mais as empresas estão adotando conceitos socioambientais na prática empresarial, nos produtos e nos serviços do seu negócio. Isso necessita de investimento por parte das empresas para que esses conceitos façam parte de um nova rotina dos colaboradores e na manufatura de seus produtos .\n",
    "\n",
    "Em março de 2020, empresas de pequeno porte gastaram, em média, **125 mil reais por mês (valor populacional)** com conceitos socioambientais. **Após um ano, especialistas da área suspeitam que esses gastos, em média, aumentaram**.\n",
    "\n",
    "Denotando $\\mu$ como o verdadeiro gasto médio de empresas de pequeno porte com conceitos socioambientais de março de 2021, tem-se as seguintes hipóteses: \n",
    "\n",
    "$\\qquad H_0$: Suspeita dos especialistas não procede $\\hspace{5mm}\\rightarrow H_0: \\mu = 125$ horas.  <p>\n",
    "$\\qquad H_1$: Suspeita dos especialistas procede    $\\hspace{12mm}\\rightarrow H_1: \\mu > 125$ horas.\n",
    "\n",
    "\n",
    "<br>\n",
    "\n",
    "Uma amostra de **36 empresas** selecionadas em março em 2021,apresentou uma **média amostral de 139 mil reais** de gasto mensal com conceitos socioambientais. \n",
    "Com base nessa amostra, **verifique se há evidências de que suspeita dos especialistas procede**.\n",
    "\n",
    "Faça esse teste de hipóteses assumindo que o **desvio padrão populacional seja conhecido e igual a 45 mil reais** e assumindo um **nível de significância de $5\\%$**. \n",
    "\n",
    "<br>\n",
    "\n",
    "**Responda:**"
   ]
  },
  {
   "cell_type": "markdown",
   "metadata": {},
   "source": [
    "<div id=\"q2a\"></div>\n",
    "\n",
    "**Q2(a)(1,25 ponto)**  \n",
    "\n",
    "> Calcule a **Região Crítica** e conclua o teste utilizando-a. Deixe claro em que se baseou sua conclusão e o que decidiu sobre as hipóteses."
   ]
  },
  {
   "cell_type": "code",
   "execution_count": 2,
   "metadata": {},
   "outputs": [],
   "source": [
    "# ESCREVA SEU CÓDIGO AQUI"
   ]
  },
  {
   "cell_type": "code",
   "execution_count": 3,
   "metadata": {},
   "outputs": [
    {
     "name": "stdout",
     "output_type": "stream",
     "text": [
      "A região crítica é de 137.34. Como a média amostral está dentro dessa região, refutamos H0, ou seja, as suspeitas dos especialistas procede.\n"
     ]
    }
   ],
   "source": [
    "rc = stats.norm.ppf(0.95,loc=125,scale=45/6)\n",
    "\n",
    "print(f\"A região crítica é de {rc:.2f}. Como a média amostral está dentro dessa região, refutamos H0, ou seja, as suspeitas dos especialistas procede.\")"
   ]
  },
  {
   "cell_type": "code",
   "execution_count": null,
   "metadata": {},
   "outputs": [],
   "source": []
  },
  {
   "cell_type": "markdown",
   "metadata": {},
   "source": [
    "<div id=\"q2b\"></div>\n",
    "\n",
    "**Q2(b)(1,25 ponto)**  \n",
    "\n",
    "> Calcule o **valor_p** e conclua o teste utilizando-o. Deixe claro em que se baseou sua conclusão e o que decidiu sobre as hipóteses."
   ]
  },
  {
   "cell_type": "code",
   "execution_count": 4,
   "metadata": {},
   "outputs": [],
   "source": [
    "# ESCREVA SEU CÓDIGO AQUI"
   ]
  },
  {
   "cell_type": "code",
   "execution_count": 5,
   "metadata": {},
   "outputs": [
    {
     "name": "stdout",
     "output_type": "stream",
     "text": [
      "Valor-p: 0.030974075706740573\n",
      "Como o valor-p é menor do que 5%, refutamos H0, ou seja, as suspeitas dos especialistas procede.\n"
     ]
    }
   ],
   "source": [
    "valorp = stats.norm.sf(139,loc=125,scale=45/6)\n",
    "\n",
    "print(f\"Valor-p: {valorp}\")\n",
    "print(f\"Como o valor-p é menor do que 5%, refutamos H0, ou seja, as suspeitas dos especialistas procede.\")"
   ]
  },
  {
   "cell_type": "code",
   "execution_count": null,
   "metadata": {},
   "outputs": [],
   "source": []
  },
  {
   "cell_type": "markdown",
   "metadata": {},
   "source": [
    "<a href=\"#indice\">Voltar para Índice</a>"
   ]
  },
  {
   "cell_type": "markdown",
   "metadata": {},
   "source": [
    "___\n",
    "___\n",
    "<div id=\"fra\"></div>\n",
    "\n",
    "## FRAGRÂNCIA\n",
    "\n",
    "<img src=\"fragrancia.jpg\" width=\"500\">\n",
    "\n",
    "$\\hspace{4cm}$Fonte: extraído da internet"
   ]
  },
  {
   "cell_type": "markdown",
   "metadata": {},
   "source": [
    "___\n",
    "<div id=\"q3\"></div>\n",
    "\n",
    "### QUESTÃO 3:\n",
    "\n",
    "A fragrância é um dos componentes mais importantes em um coméstico. Mas, além disso, o tempo que essa fragrância dura no corpo do cliente também é fundamental para sua preferência nas vendas.\n",
    "\n",
    "Uma pesquisa aponta que **clientes preferem produtos cosméticos que duram, em média, mais do que 6 horas após sua aplicação**.\n",
    "\n",
    "Uma **amostra de cosméticos vendidos** em uma loja apresentou os seguintes **tempos, em horas, de duração da fragrância**:\n"
   ]
  },
  {
   "cell_type": "code",
   "execution_count": 6,
   "metadata": {},
   "outputs": [],
   "source": [
    "tempos = pd.Series([5.8, 6.2, 6.9, 6.3, 6.8, 5.7, 6.9, 7.1, 8.4, 6.3, 6.1, 6.5, 5.5])\n"
   ]
  },
  {
   "cell_type": "markdown",
   "metadata": {},
   "source": [
    "**Pergunta:** Considerando essa amostra, **há evidências de que os cosmésticos vendidos pela loja, em média, satisfazem a preferência de seus clientes?**\n",
    "\n",
    "Assim, considere as seguintes hipóteses: \n",
    "\n",
    "> $H_0$: Cosméticos não estão de acordo com preferência dos clientes $\\hspace{5mm}\\rightarrow H_0: \\mu = 6$ horas.  <p>\n",
    "  $H_1$: Cosméticos estão de acordo com preferência dos clientes $\\hspace{12mm}\\rightarrow H_1: \\mu > 6$ horas.\n",
    "\n",
    "sendo $\\mu$ o verdadeiro tempo médio, em horas, de duração da fragrância de cosméticos vendidos nessa loja.\n",
    "\n",
    "\n",
    "Nesta questão, assuma um **nível de significância de $5\\%$**.\n",
    "\n",
    "<br>\n",
    "\n",
    "**Responda:**"
   ]
  },
  {
   "cell_type": "markdown",
   "metadata": {},
   "source": [
    "<div id=\"q3a\"></div>\n",
    "\n",
    "**Q3(a)(0,50 ponto)**  \n",
    "\n",
    "> Calcule: **média amostral, desvio padrão amostral e quantidade de comésticos na amostra**, os quais são necessários para executar o teste de hipóteses nos próximos itens."
   ]
  },
  {
   "cell_type": "code",
   "execution_count": 7,
   "metadata": {},
   "outputs": [],
   "source": [
    "# ESCREVA SEU CÓDIGO AQUI"
   ]
  },
  {
   "cell_type": "code",
   "execution_count": 8,
   "metadata": {},
   "outputs": [
    {
     "name": "stdout",
     "output_type": "stream",
     "text": [
      "Média amostral: 6.5\n",
      "Desvio padrão amostral: 0.754983443527075\n",
      "Quantidade de comésticos na amostra: 13\n"
     ]
    }
   ],
   "source": [
    "# média amostral\n",
    "xbarra = np.mean(tempos)\n",
    "print(f\"Média amostral: {xbarra}\")\n",
    "\n",
    "# desvio padrão amostral\n",
    "s = np.std(tempos, ddof=1)\n",
    "print(f\"Desvio padrão amostral: {s}\")\n",
    "\n",
    "# quantidade de comésticos na amostra\n",
    "n = len(tempos)\n",
    "print(f\"Quantidade de comésticos na amostra: {n}\")"
   ]
  },
  {
   "cell_type": "code",
   "execution_count": null,
   "metadata": {},
   "outputs": [],
   "source": []
  },
  {
   "cell_type": "markdown",
   "metadata": {},
   "source": [
    "<div id=\"q3b\"></div>\n",
    "\n",
    "**Q3(b)(1,25 ponto)**  \n",
    "\n",
    "> Calcule a **Região Crítica** e conclua o teste utilizando-a. Deixe claro em que se baseou sua conclusão e o que decidiu sobre as hipóteses."
   ]
  },
  {
   "cell_type": "code",
   "execution_count": 9,
   "metadata": {},
   "outputs": [],
   "source": [
    "# ESCREVA SEU CÓDIGO AQUI"
   ]
  },
  {
   "cell_type": "code",
   "execution_count": 10,
   "metadata": {},
   "outputs": [
    {
     "name": "stdout",
     "output_type": "stream",
     "text": [
      "t_obs: 2.387834664704596\n",
      "tc: 1.782287555649159\n",
      "\n",
      "t_obs > tc\n",
      "\n",
      "Como t_obs está dentro da região crítica, há evidências de que os cosméticos estão de acordo com as preferência dos clientes.\n"
     ]
    }
   ],
   "source": [
    "mu = 6\n",
    "alpha = 0.05\n",
    "\n",
    "t_obs = (xbarra-mu)/(s/np.sqrt(n))\n",
    "\n",
    "tc = stats.t.ppf(1-alpha, df=n-1)\n",
    "\n",
    "print(f\"t_obs: {t_obs}\\ntc: {tc}\\n\")\n",
    "print(f\"t_obs > tc\\n\")\n",
    "print(f\"Como t_obs está dentro da região crítica, há evidências de que os cosméticos estão de acordo com as preferência dos clientes.\")"
   ]
  },
  {
   "cell_type": "code",
   "execution_count": null,
   "metadata": {},
   "outputs": [],
   "source": []
  },
  {
   "cell_type": "markdown",
   "metadata": {},
   "source": [
    "<div id=\"q3c\"></div>\n",
    "\n",
    "**Q3(c)(1,25 ponto)**  \n",
    "\n",
    "> Calcule o **valor_p** e conclua o teste utilizando-o. Deixe claro em que se baseou sua conclusão e o que decidiu sobre as hipóteses."
   ]
  },
  {
   "cell_type": "code",
   "execution_count": 11,
   "metadata": {},
   "outputs": [],
   "source": [
    "# ESCREVA SEU CÓDIGO AQUI"
   ]
  },
  {
   "cell_type": "code",
   "execution_count": 12,
   "metadata": {},
   "outputs": [
    {
     "name": "stdout",
     "output_type": "stream",
     "text": [
      "valor-p: 0.017135112125916428\n",
      "Como o valor-p é menor do que 5%, há evidências de que os cosméticos estão de acordo com as preferência dos clientes.\n"
     ]
    }
   ],
   "source": [
    "mu = 6\n",
    "alpha = 0.05\n",
    "\n",
    "t_obs=(xbarra-mu)/(s/np.sqrt(n))\n",
    "\n",
    "valor_p=stats.t.sf(t_obs, df=n-1)\n",
    "\n",
    "print(f\"valor-p: {valor_p}\")\n",
    "print(f\"Como o valor-p é menor do que 5%, há evidências de que os cosméticos estão de acordo com as preferência dos clientes.\")"
   ]
  },
  {
   "cell_type": "code",
   "execution_count": null,
   "metadata": {},
   "outputs": [],
   "source": []
  },
  {
   "cell_type": "markdown",
   "metadata": {},
   "source": [
    "<a href=\"#indice\">Voltar para Índice</a>"
   ]
  },
  {
   "cell_type": "markdown",
   "metadata": {},
   "source": [
    "___\n",
    "___\n",
    "<div id=\"happy\"></div>\n",
    "\n",
    "## DINHEIRO TRAZ FELICIDADE?\n",
    "<img src=\"happy_money.jpg\" width=\"600\">\n",
    "\n",
    "$\\hspace{4cm}$Fonte: extraído da internet"
   ]
  },
  {
   "cell_type": "markdown",
   "metadata": {},
   "source": [
    "___\n",
    "<div id=\"q4\"></div>\n",
    "\n",
    "### QUESTÃO 4:\n",
    "\n",
    "Quem já não ouviu o questionamento: **\"Dinheiro traz felicidade?\".**\n",
    "\n",
    "Há várias teorias para responder essa frase. Aqui, vamos considerar dados do [Gapminder](https://www.gapminder.org/tools/) do ano de 2019 considerando as variáveis mensuradas para alguns países: \n",
    " * `income_2019`: renda per capita de um país (em dólar); e \n",
    " * `happy_2019`:  percentual de felicidade de um país (de 0 a 100). \n",
    "\n",
    "O *dataframe* a seguir contem esses dados:"
   ]
  },
  {
   "cell_type": "code",
   "execution_count": 13,
   "metadata": {
    "scrolled": false
   },
   "outputs": [
    {
     "data": {
      "text/html": [
       "<div>\n",
       "<style scoped>\n",
       "    .dataframe tbody tr th:only-of-type {\n",
       "        vertical-align: middle;\n",
       "    }\n",
       "\n",
       "    .dataframe tbody tr th {\n",
       "        vertical-align: top;\n",
       "    }\n",
       "\n",
       "    .dataframe thead th {\n",
       "        text-align: right;\n",
       "    }\n",
       "</style>\n",
       "<table border=\"1\" class=\"dataframe\">\n",
       "  <thead>\n",
       "    <tr style=\"text-align: right;\">\n",
       "      <th></th>\n",
       "      <th>country</th>\n",
       "      <th>income_2019</th>\n",
       "      <th>happy_2019</th>\n",
       "    </tr>\n",
       "  </thead>\n",
       "  <tbody>\n",
       "    <tr>\n",
       "      <th>0</th>\n",
       "      <td>Afghanistan</td>\n",
       "      <td>1760</td>\n",
       "      <td>25.7</td>\n",
       "    </tr>\n",
       "    <tr>\n",
       "      <th>1</th>\n",
       "      <td>Albania</td>\n",
       "      <td>12700</td>\n",
       "      <td>48.8</td>\n",
       "    </tr>\n",
       "    <tr>\n",
       "      <th>2</th>\n",
       "      <td>Algeria</td>\n",
       "      <td>14000</td>\n",
       "      <td>50.1</td>\n",
       "    </tr>\n",
       "    <tr>\n",
       "      <th>3</th>\n",
       "      <td>Argentina</td>\n",
       "      <td>17500</td>\n",
       "      <td>59.7</td>\n",
       "    </tr>\n",
       "    <tr>\n",
       "      <th>4</th>\n",
       "      <td>Armenia</td>\n",
       "      <td>9730</td>\n",
       "      <td>46.8</td>\n",
       "    </tr>\n",
       "  </tbody>\n",
       "</table>\n",
       "</div>"
      ],
      "text/plain": [
       "       country  income_2019  happy_2019\n",
       "0  Afghanistan         1760        25.7\n",
       "1      Albania        12700        48.8\n",
       "2      Algeria        14000        50.1\n",
       "3    Argentina        17500        59.7\n",
       "4      Armenia         9730        46.8"
      ]
     },
     "execution_count": 13,
     "metadata": {},
     "output_type": "execute_result"
    }
   ],
   "source": [
    "df = pd.read_excel(\"happyXincome.xlsx\")\n",
    "df.head(5)"
   ]
  },
  {
   "cell_type": "markdown",
   "metadata": {},
   "source": [
    "<br>\n",
    "\n",
    "**Responda:**"
   ]
  },
  {
   "cell_type": "markdown",
   "metadata": {},
   "source": [
    "<div id=\"q4a\"></div>\n",
    "\n",
    "**Q4(a)(0,75 ponto)** \n",
    "\n",
    "> Construa um **gráfico** que permita analisar, descritivamente, o questionamento: \"Dinheiro traz felicidade?\". **Interprete-o.**\n",
    "\n",
    "> **Importante:** Sua resposta deve obrigatoriamente respeitar o seguinte critério para o *output*:\n",
    " * Editar os rótulos (*labels*) dos eixos do gráfico adequadamente aos seus significados. \n",
    " * Aqui não é necessário considerar o ajuste de reta e sim apenas os dados da base de dados."
   ]
  },
  {
   "cell_type": "code",
   "execution_count": 14,
   "metadata": {},
   "outputs": [],
   "source": [
    "# ESCREVA SEU CÓDIGO AQUI"
   ]
  },
  {
   "cell_type": "code",
   "execution_count": 15,
   "metadata": {},
   "outputs": [
    {
     "data": {
      "image/png": "[encoded data removed]",
      "text/plain": [
       "<Figure size 432x288 with 1 Axes>"
      ]
     },
     "metadata": {
      "needs_background": "light"
     },
     "output_type": "display_data"
    }
   ],
   "source": [
    "plt.scatter(df.income_2019, df.happy_2019, alpha=0.4)\n",
    "plt.title(\"Dinheiro traz felicidade?\")\n",
    "plt.xlabel(\"renda per capita de um país (em dólar)\")\n",
    "plt.ylabel(\"percentual de felicidade de um país (de 0 a 100)\");"
   ]
  },
  {
   "cell_type": "raw",
   "metadata": {},
   "source": [
    "Pelo gráfico percebemos que sim, dinheiro traz felicidade. Quanto menor a renda, maior a infelicidade do país e quanto maior a renda, maior a sua felicidade."
   ]
  },
  {
   "cell_type": "markdown",
   "metadata": {},
   "source": [
    "---\n",
    "## Ajuste de regressão linear - Usar nos itens abaixo\n",
    "\n",
    "O modelo de regressão linear com o método dos mínimos quadrados ordinário, através da biblioteca ``statsmodels`` é dado por:"
   ]
  },
  {
   "cell_type": "code",
   "execution_count": 16,
   "metadata": {},
   "outputs": [],
   "source": [
    "### Função utilitária para fazer a regressão com constante adicionada\n",
    "\n",
    "def regress(Y, X):\n",
    "    \"\"\"\n",
    "    Y: coluna do DataFrame utilizada como variável resposta (TARGET)\n",
    "    X: coluna(s) do DataFrame utilizadas como variável(is) explicativas (FEATURES)\n",
    "    \"\"\"\n",
    "    X_cp = sm.add_constant(X)\n",
    "    model = sm.OLS(Y, X_cp)\n",
    "    results = model.fit()\n",
    "\n",
    "    return results"
   ]
  },
  {
   "cell_type": "code",
   "execution_count": 17,
   "metadata": {},
   "outputs": [
    {
     "data": {
      "text/html": [
       "<table class=\"simpletable\">\n",
       "<caption>OLS Regression Results</caption>\n",
       "<tr>\n",
       "  <th>Dep. Variable:</th>       <td>happy_2019</td>    <th>  R-squared:         </th> <td>   0.558</td>\n",
       "</tr>\n",
       "<tr>\n",
       "  <th>Model:</th>                   <td>OLS</td>       <th>  Adj. R-squared:    </th> <td>   0.555</td>\n",
       "</tr>\n",
       "<tr>\n",
       "  <th>Method:</th>             <td>Least Squares</td>  <th>  F-statistic:       </th> <td>   185.2</td>\n",
       "</tr>\n",
       "<tr>\n",
       "  <th>Date:</th>             <td>Sat, 19 Jun 2021</td> <th>  Prob (F-statistic):</th> <td>8.23e-28</td>\n",
       "</tr>\n",
       "<tr>\n",
       "  <th>Time:</th>                 <td>23:49:35</td>     <th>  Log-Likelihood:    </th> <td> -510.39</td>\n",
       "</tr>\n",
       "<tr>\n",
       "  <th>No. Observations:</th>      <td>   149</td>      <th>  AIC:               </th> <td>   1025.</td>\n",
       "</tr>\n",
       "<tr>\n",
       "  <th>Df Residuals:</th>          <td>   147</td>      <th>  BIC:               </th> <td>   1031.</td>\n",
       "</tr>\n",
       "<tr>\n",
       "  <th>Df Model:</th>              <td>     1</td>      <th>                     </th>     <td> </td>   \n",
       "</tr>\n",
       "<tr>\n",
       "  <th>Covariance Type:</th>      <td>nonrobust</td>    <th>                     </th>     <td> </td>   \n",
       "</tr>\n",
       "</table>\n",
       "<table class=\"simpletable\">\n",
       "<tr>\n",
       "       <td></td>          <th>coef</th>     <th>std err</th>      <th>t</th>      <th>P>|t|</th>  <th>[0.025</th>    <th>0.975]</th>  \n",
       "</tr>\n",
       "<tr>\n",
       "  <th>const</th>       <td>   46.0822</td> <td>    0.876</td> <td>   52.580</td> <td> 0.000</td> <td>   44.350</td> <td>   47.814</td>\n",
       "</tr>\n",
       "<tr>\n",
       "  <th>income_2019</th> <td>    0.0004</td> <td> 3.27e-05</td> <td>   13.610</td> <td> 0.000</td> <td>    0.000</td> <td>    0.001</td>\n",
       "</tr>\n",
       "</table>\n",
       "<table class=\"simpletable\">\n",
       "<tr>\n",
       "  <th>Omnibus:</th>       <td> 5.945</td> <th>  Durbin-Watson:     </th> <td>   1.838</td>\n",
       "</tr>\n",
       "<tr>\n",
       "  <th>Prob(Omnibus):</th> <td> 0.051</td> <th>  Jarque-Bera (JB):  </th> <td>   5.498</td>\n",
       "</tr>\n",
       "<tr>\n",
       "  <th>Skew:</th>          <td>-0.442</td> <th>  Prob(JB):          </th> <td>  0.0640</td>\n",
       "</tr>\n",
       "<tr>\n",
       "  <th>Kurtosis:</th>      <td> 3.323</td> <th>  Cond. No.          </th> <td>3.83e+04</td>\n",
       "</tr>\n",
       "</table><br/><br/>Notes:<br/>[1] Standard Errors assume that the covariance matrix of the errors is correctly specified.<br/>[2] The condition number is large, 3.83e+04. This might indicate that there are<br/>strong multicollinearity or other numerical problems."
      ],
      "text/plain": [
       "<class 'statsmodels.iolib.summary.Summary'>\n",
       "\"\"\"\n",
       "                            OLS Regression Results                            \n",
       "==============================================================================\n",
       "Dep. Variable:             happy_2019   R-squared:                       0.558\n",
       "Model:                            OLS   Adj. R-squared:                  0.555\n",
       "Method:                 Least Squares   F-statistic:                     185.2\n",
       "Date:                Sat, 19 Jun 2021   Prob (F-statistic):           8.23e-28\n",
       "Time:                        23:49:35   Log-Likelihood:                -510.39\n",
       "No. Observations:                 149   AIC:                             1025.\n",
       "Df Residuals:                     147   BIC:                             1031.\n",
       "Df Model:                           1                                         \n",
       "Covariance Type:            nonrobust                                         \n",
       "===============================================================================\n",
       "                  coef    std err          t      P>|t|      [0.025      0.975]\n",
       "-------------------------------------------------------------------------------\n",
       "const          46.0822      0.876     52.580      0.000      44.350      47.814\n",
       "income_2019     0.0004   3.27e-05     13.610      0.000       0.000       0.001\n",
       "==============================================================================\n",
       "Omnibus:                        5.945   Durbin-Watson:                   1.838\n",
       "Prob(Omnibus):                  0.051   Jarque-Bera (JB):                5.498\n",
       "Skew:                          -0.442   Prob(JB):                       0.0640\n",
       "Kurtosis:                       3.323   Cond. No.                     3.83e+04\n",
       "==============================================================================\n",
       "\n",
       "Notes:\n",
       "[1] Standard Errors assume that the covariance matrix of the errors is correctly specified.\n",
       "[2] The condition number is large, 3.83e+04. This might indicate that there are\n",
       "strong multicollinearity or other numerical problems.\n",
       "\"\"\""
      ]
     },
     "execution_count": 17,
     "metadata": {},
     "output_type": "execute_result"
    }
   ],
   "source": [
    "X = df.income_2019\n",
    "Y = df.happy_2019\n",
    "\n",
    "results = regress(Y, X)\n",
    "results.summary()"
   ]
  },
  {
   "cell_type": "markdown",
   "metadata": {},
   "source": [
    "<div id=\"q4b\"></div>\n",
    "\n",
    "**Q4(b)(1,00 ponto)** \n",
    "\n",
    "> Segundo o relatório sumário do modelo acima, é possível afirmar que **renda é relevante para explicar a felicidade de um país?** <p>\n",
    "Explique usando nas suas conclusões o **valor-p** do teste. Adote **5% de nível de significância**."
   ]
  },
  {
   "cell_type": "raw",
   "metadata": {},
   "source": [
    "# ESCREVA SUA RESPOSTA AQUI"
   ]
  },
  {
   "cell_type": "raw",
   "metadata": {},
   "source": [
    "A renda é relevante para explicar a felicidade de um país, visto que o valor-p é menor do que 5%."
   ]
  },
  {
   "cell_type": "raw",
   "metadata": {},
   "source": []
  },
  {
   "cell_type": "markdown",
   "metadata": {},
   "source": [
    "<div id=\"q4c\"></div>\n",
    "\n",
    "**Q4(c)(1,00 ponto)** \n",
    "\n",
    "> A partir dos **valores `Prob(Omnibus)` e `Prob(JB)`** obtidos acima, o que podemos concluir sobre o modelo ajustado? Assuma **5% de nível de significância**."
   ]
  },
  {
   "cell_type": "raw",
   "metadata": {},
   "source": [
    "# ESCREVA SUA RESPOSTA AQUI"
   ]
  },
  {
   "cell_type": "raw",
   "metadata": {},
   "source": [
    "Como os valores Prob(Omnibus) e Prob(JB) não estão perto de 0, concluímos que o modelo segue uma distribuição normal."
   ]
  },
  {
   "cell_type": "raw",
   "metadata": {},
   "source": []
  },
  {
   "cell_type": "markdown",
   "metadata": {},
   "source": [
    "<div id=\"q4d\"></div>\n",
    "\n",
    "**Q4(d)(0,75 ponto)** \n",
    "\n",
    "> De acordo com o modelo ajustado, qual deve ser o **valor predito para a felicidade** de um país com **5000 dólares de renda per capita**?"
   ]
  },
  {
   "cell_type": "code",
   "execution_count": 18,
   "metadata": {},
   "outputs": [],
   "source": [
    "# ESCREVA SEU CÓDIGO AQUI"
   ]
  },
  {
   "cell_type": "code",
   "execution_count": 34,
   "metadata": {},
   "outputs": [
    {
     "name": "stdout",
     "output_type": "stream",
     "text": [
      "O valor predito para a felicidade é de 48.64%.\n"
     ]
    }
   ],
   "source": [
    "# Essa é minha resposta na prova, tirei 0.35 de 0.75\n",
    "\n",
    "# y = b0 + b1 * x + e\n",
    "y = 46.0822 + 0.0004 * 5000 + 0.555\n",
    "\n",
    "print(f\"O valor predito para a felicidade é de {y:.2f}%.\")"
   ]
  },
  {
   "cell_type": "code",
   "execution_count": 35,
   "metadata": {},
   "outputs": [
    {
     "name": "stdout",
     "output_type": "stream",
     "text": [
      "O valor predito para a felicidade é de 48.31%.\n"
     ]
    }
   ],
   "source": [
    "# Esse era o gabarito se não me engano:\n",
    "print(f\"O valor predito para a felicidade é de {results.predict([1,5000])[0]:.2f}%.\")"
   ]
  },
  {
   "cell_type": "markdown",
   "metadata": {},
   "source": [
    "<a href=\"#indice\">Voltar para Índice</a>"
   ]
  },
  {
   "cell_type": "markdown",
   "metadata": {},
   "source": [
    "___\n",
    "___\n",
    "# AVALIAÇÃO DELTA"
   ]
  },
  {
   "cell_type": "markdown",
   "metadata": {},
   "source": [
    "<div id=\"delta\"></div>\n",
    "\n",
    "<img src=\"delta.jpg\" width=\"300\" width=\"60%\" >\n",
    "\n",
    "$\\hspace{4cm}$Fonte: extraído da internet"
   ]
  },
  {
   "cell_type": "markdown",
   "metadata": {},
   "source": [
    "___\n",
    "<div id=\"qA2\"></div>\n",
    "\n",
    "### QUESTÃO DELTA A2:\n",
    "\n",
    "O teste CAPTCHA é um teste simples para provar que um acesso remoto está sendo feito por um ser humano e não por *bot* tentando invadir uma conta protegida por senha. Assim, quando um teste não é resolvido, considera-se que houve uma tentativa de invasão por *bot*.\n",
    "\n",
    "Uma empresa tem uma **taxa de $500$ testes CAPTCHA não resolvidos diariamente**, ou seja, $500$ tentativas de invasão por *bot*, em média, diariamente.\n",
    "\n",
    "Essa empresa considera sofrer **ataque de** ***bots*** quando **pelo menos** $540$ testes CAPTCHA não são resolvidos em um dia, ou seja, quando a quantidade de testes CAPTCHA não resolvidos em um dia valem $\\geq 540$.\n",
    "\n",
    "<br>\n",
    "\n",
    "**Responda:**"
   ]
  },
  {
   "cell_type": "markdown",
   "metadata": {},
   "source": [
    "<div id=\"qA2a\"></div>\n",
    "\n",
    "**QDeltaA2(a)(1,00 ponto)** \n",
    "\n",
    "> Qual é a **probabilidade** dessa empresa sofrer um  **ataque de** ***bots*** em dia qualquer?"
   ]
  },
  {
   "cell_type": "code",
   "execution_count": 20,
   "metadata": {},
   "outputs": [],
   "source": [
    "# ESCREVA SEU CÓDIGO AQUI"
   ]
  },
  {
   "cell_type": "code",
   "execution_count": 21,
   "metadata": {},
   "outputs": [
    {
     "name": "stdout",
     "output_type": "stream",
     "text": [
      "A probabilidade dessa empresa sofrer um ataque de bots em dia qualquer é de 3.99%.\n"
     ]
    }
   ],
   "source": [
    "mu = 500\n",
    "p = stats.poisson.sf(539,mu)*100\n",
    "print(f\"A probabilidade dessa empresa sofrer um ataque de bots em dia qualquer é de {p:.2f}%.\")"
   ]
  },
  {
   "cell_type": "code",
   "execution_count": null,
   "metadata": {},
   "outputs": [],
   "source": []
  },
  {
   "cell_type": "markdown",
   "metadata": {},
   "source": [
    "<div id=\"qA2b\"></div>\n",
    "\n",
    "**QDeltaA2(b)(1,00 ponto)** \n",
    "\n",
    "> Em um dia com mais de $500$ testes CAPTCHA não resolvidos, qual é a **probabilidade** da empresa **não** ter sofrido um  **ataque de** ***bots*** nesse mesmo dia?"
   ]
  },
  {
   "cell_type": "code",
   "execution_count": 22,
   "metadata": {},
   "outputs": [],
   "source": [
    "# ESCREVA SEU CÓDIGO AQUI"
   ]
  },
  {
   "cell_type": "code",
   "execution_count": 25,
   "metadata": {},
   "outputs": [
    {
     "name": "stdout",
     "output_type": "stream",
     "text": [
      "A probabilidade da empresa não ter sofrido um ataque de bots nesse mesmo dia é de 91.82%.\n"
     ]
    }
   ],
   "source": [
    "# P(X<540|X>500)\n",
    "mu = 500\n",
    "prob = (stats.poisson.cdf(539,mu) - stats.poisson.cdf(500,mu)) / stats.poisson.sf(500,mu)\n",
    "p = prob*100\n",
    "print(f\"A probabilidade da empresa não ter sofrido um ataque de bots nesse mesmo dia é de {p:.2f}%.\")"
   ]
  },
  {
   "cell_type": "markdown",
   "metadata": {},
   "source": [
    "<a href=\"#indice\">Voltar para Índice</a>"
   ]
  },
  {
   "cell_type": "markdown",
   "metadata": {},
   "source": [
    "___\n",
    "<div id=\"qA3\"></div>\n",
    "\n",
    "### QUESTÃO DELTA A3:\n",
    "\n",
    "Nesta questão, vamos novamente trabalhar com a base de dados `df` a qual contém as seguintes variáveis:\n",
    " * `income_2019`: renda per capita de um país (em dólar); e \n",
    " * `happy_2019`:  percentual de felicidade de um país (de 0 a 100). \n"
   ]
  },
  {
   "cell_type": "code",
   "execution_count": 24,
   "metadata": {},
   "outputs": [
    {
     "data": {
      "text/html": [
       "<div>\n",
       "<style scoped>\n",
       "    .dataframe tbody tr th:only-of-type {\n",
       "        vertical-align: middle;\n",
       "    }\n",
       "\n",
       "    .dataframe tbody tr th {\n",
       "        vertical-align: top;\n",
       "    }\n",
       "\n",
       "    .dataframe thead th {\n",
       "        text-align: right;\n",
       "    }\n",
       "</style>\n",
       "<table border=\"1\" class=\"dataframe\">\n",
       "  <thead>\n",
       "    <tr style=\"text-align: right;\">\n",
       "      <th></th>\n",
       "      <th>country</th>\n",
       "      <th>income_2019</th>\n",
       "      <th>happy_2019</th>\n",
       "    </tr>\n",
       "  </thead>\n",
       "  <tbody>\n",
       "    <tr>\n",
       "      <th>0</th>\n",
       "      <td>Afghanistan</td>\n",
       "      <td>1760</td>\n",
       "      <td>25.7</td>\n",
       "    </tr>\n",
       "    <tr>\n",
       "      <th>1</th>\n",
       "      <td>Albania</td>\n",
       "      <td>12700</td>\n",
       "      <td>48.8</td>\n",
       "    </tr>\n",
       "    <tr>\n",
       "      <th>2</th>\n",
       "      <td>Algeria</td>\n",
       "      <td>14000</td>\n",
       "      <td>50.1</td>\n",
       "    </tr>\n",
       "    <tr>\n",
       "      <th>3</th>\n",
       "      <td>Argentina</td>\n",
       "      <td>17500</td>\n",
       "      <td>59.7</td>\n",
       "    </tr>\n",
       "    <tr>\n",
       "      <th>4</th>\n",
       "      <td>Armenia</td>\n",
       "      <td>9730</td>\n",
       "      <td>46.8</td>\n",
       "    </tr>\n",
       "  </tbody>\n",
       "</table>\n",
       "</div>"
      ],
      "text/plain": [
       "       country  income_2019  happy_2019\n",
       "0  Afghanistan         1760        25.7\n",
       "1      Albania        12700        48.8\n",
       "2      Algeria        14000        50.1\n",
       "3    Argentina        17500        59.7\n",
       "4      Armenia         9730        46.8"
      ]
     },
     "execution_count": 24,
     "metadata": {},
     "output_type": "execute_result"
    }
   ],
   "source": [
    "df = pd.read_excel(\"happyXincome.xlsx\")\n",
    "df.head(5)"
   ]
  },
  {
   "cell_type": "markdown",
   "metadata": {},
   "source": [
    "<div id=\"qA3a\"></div>\n",
    "\n",
    "**QDeltaA3(a)(1,00 ponto)** \n",
    "\n",
    "> Uma maneira de sabermos se uma escolha de modelo teórico é adequado para descrever o comportamento de uma variável mensurada em um problema real é utilizarmos a função `probplot()`. <p> \n",
    "Essa função `probplot()` traça uma reta indicando o que seria esperado do ponto de vista teórico utilizando a distribuição teórica *versus* os dados reais encontrados. Quanto mais próximos os pontos estiverem dessa reta, mais provável será que os dados sigam a distribuição escolhida nessa função.\n",
    "    \n",
    "> Use essa **função `probplot()` nas variáveis `income_2019` e `happy_2019`** para verificar se essas seriam bem modeladas por uma **distribuição normal**. **Interprete** esses gráficos.\n",
    "\n",
    "**Importante:** Esses gráficos devem, obrigariamente, respeitar os seguintes critérios para o *output*:\n",
    "  * Organizar esses dois gráficos em uma única janela gráfica contendo 1 linha e 2 colunas.\n",
    "  * Colocar título em cada gráfico indicando o nome da variável analisada.\n",
    "  "
   ]
  },
  {
   "cell_type": "code",
   "execution_count": 25,
   "metadata": {},
   "outputs": [],
   "source": [
    "# ESCREVA SEU CÓDIGO AQUI"
   ]
  },
  {
   "cell_type": "code",
   "execution_count": 26,
   "metadata": {
    "scrolled": true
   },
   "outputs": [
    {
     "data": {
      "image/png": "[encoded data removed]",
      "text/plain": [
       "<Figure size 936x288 with 2 Axes>"
      ]
     },
     "metadata": {
      "needs_background": "light"
     },
     "output_type": "display_data"
    }
   ],
   "source": [
    "plt.figure(figsize=(13,4))\n",
    "\n",
    "plt.subplot(121)\n",
    "stats.probplot(df.income_2019, dist=\"norm\", plot=plt)\n",
    "plt.title(\"income_2019\")\n",
    "\n",
    "plt.subplot(122)\n",
    "stats.probplot(df.happy_2019, dist=\"norm\", plot=plt)\n",
    "plt.title(\"happy_2019\");"
   ]
  },
  {
   "cell_type": "raw",
   "metadata": {},
   "source": [
    "Percebe-se que a variável income_2019 apresenta uma concentração no início e no final fora da reta, o que indica que não segue uma distribuição normal.\n",
    "Já a variável happy_2019 segue a reta praticamento do começo ao fim, indicando que segue uma distribuição normal."
   ]
  },
  {
   "cell_type": "markdown",
   "metadata": {},
   "source": [
    "<div id=\"qA3b\"></div>\n",
    "\n",
    "**QDeltaA3(b)(1,00 ponto)** \n",
    "\n",
    "> Assuma que a variável **percentual de felicidade dos países em 2019 seja modelada por uma distribuição normal com média igual a $54,6$ e desvio padrão igual a $11,2$**.<p>\n",
    "Em 2019, considerando esse modelo teórico, qual a **probabilidade** de encontrar um país com percentual de felicidade **entre $60$ e $70$**?"
   ]
  },
  {
   "cell_type": "code",
   "execution_count": 27,
   "metadata": {},
   "outputs": [],
   "source": [
    "# ESCREVA SEU CÓDIGO AQUI"
   ]
  },
  {
   "cell_type": "code",
   "execution_count": 28,
   "metadata": {},
   "outputs": [
    {
     "name": "stdout",
     "output_type": "stream",
     "text": [
      "A probabilidade de encontrar um país com percentual de felicidade entre 60 e 70 é de 23.03%.\n"
     ]
    }
   ],
   "source": [
    "mu = 54.6\n",
    "dp = 11.2\n",
    "\n",
    "prob = stats.norm.cdf(70,loc=mu,scale=11.2) - stats.norm.cdf(60,loc=mu,scale=11.2)\n",
    "p= prob*100\n",
    "\n",
    "print(f\"A probabilidade de encontrar um país com percentual de felicidade entre 60 e 70 é de {p:.2f}%.\")"
   ]
  },
  {
   "cell_type": "markdown",
   "metadata": {},
   "source": [
    "<a href=\"#indice\">Voltar para Índice</a>"
   ]
  }
 ],
 "metadata": {
  "kernelspec": {
   "display_name": "Python 3",
   "language": "python",
   "name": "python3"
  },
  "language_info": {
   "codemirror_mode": {
    "name": "ipython",
    "version": 3
   },
   "file_extension": ".py",
   "mimetype": "text/x-python",
   "name": "python",
   "nbconvert_exporter": "python",
   "pygments_lexer": "ipython3",
   "version": "3.8.5"
  }
 },
 "nbformat": 4,
 "nbformat_minor": 4
}
