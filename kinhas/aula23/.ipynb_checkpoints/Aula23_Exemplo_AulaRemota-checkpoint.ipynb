{
 "cells": [
  {
   "cell_type": "markdown",
   "metadata": {},
   "source": [
    "___\n",
    "# Exemplo: Teste de hipóteses\n",
    "\n",
    "___\n",
    "## Aula 23\n"
   ]
  },
  {
   "cell_type": "code",
   "execution_count": 1,
   "metadata": {},
   "outputs": [],
   "source": [
    "from scipy import stats\n",
    "from math import sqrt\n",
    "import numpy as np\n",
    "import matplotlib.pyplot as plt"
   ]
  },
  {
   "cell_type": "markdown",
   "metadata": {},
   "source": [
    "___\n",
    "## Problema - Aulas remotas\n",
    "\n",
    "Nas épocas de aulas presenciais, a distribuição de probabilidades das notas em determinada prova historicamente se comportava como uma normal com média igual a 6 e desvio padrão igual a 0,8. \n",
    "\n",
    "Devido ao novo formato de alunas remotas, alguns especialistas desconfiam que a nota média nessa prova tenha aumentado. Ainda, segundo esses especialistas, não existem razões para acreditar em alterações no valor do desvio padrão, na distribuição de probabilidades da variável de interesse e nem que a média tenha diminuído.\n",
    "\n",
    "Como verificar se os especialistas estão certos a partir de uma amostra de 36 alunos?\n"
   ]
  },
  {
   "cell_type": "markdown",
   "metadata": {},
   "source": [
    "**Faça:**\n",
    "\n",
    "Descreva:\n",
    " * Variável de interesse $X$;\n",
    " * Parâmetro de interesse (valor numérico populacional, usualmente, desconhecido);\n",
    " * Hipóteses nula e alternativa em termos do problema e em termos do parâmetro; e \n",
    " * Distribuição de $\\bar{X}$ sob $H_0$:"
   ]
  },
  {
   "cell_type": "code",
   "execution_count": 2,
   "metadata": {},
   "outputs": [],
   "source": [
    "# Escreva suas hipóteses aqui"
   ]
  },
  {
   "cell_type": "raw",
   "metadata": {},
   "source": [
    "Variável de interesse srá a nota de cada aluno no contexto remoto."
   ]
  },
  {
   "cell_type": "raw",
   "metadata": {},
   "source": [
    "Parâmetro de interesse é a média das notas."
   ]
  },
  {
   "cell_type": "raw",
   "metadata": {},
   "source": [
    "Distribuição de X barra sobre H0 é uma normal.\n",
    "    h_0: afirmação do especialista NÂO PROCEDE --->   mu <= 6\n",
    "    h_1: afirmação do especialista PROCEDE     --->   mu >6"
   ]
  },
  {
   "cell_type": "markdown",
   "metadata": {},
   "source": [
    "**Continuação...**\n",
    "\n",
    "Supondo 𝐻_0 verdadeira, ou seja, 𝜇=6 e selecionando uma amostra aleatória de 𝑛=36 provas.\n",
    "Encontre 𝑐 tal que 𝛼 seja igual a 5%."
   ]
  },
  {
   "cell_type": "code",
   "execution_count": 5,
   "metadata": {},
   "outputs": [
    {
     "name": "stdout",
     "output_type": "stream",
     "text": [
      "Média: 6     DP:0.13333333333333336\n"
     ]
    }
   ],
   "source": [
    "# Escreva seu código aqui\n",
    "mu = 6   # h_0: média igual a 6.\n",
    "dp = ((0.8**2) / 36)**0.5\n",
    "\n",
    "print(f'Média: {mu}     DP:{dp}')"
   ]
  },
  {
   "cell_type": "code",
   "execution_count": 6,
   "metadata": {},
   "outputs": [
    {
     "name": "stdout",
     "output_type": "stream",
     "text": [
      "6.219313816926863\n"
     ]
    }
   ],
   "source": [
    "C = stats.norm.ppf(1-0.05,mu,dp) # Encontrar o valor com probabilidade de 95%\n",
    "print(C) # O valor de C representa um ponot de corte para criar uma regra de decisão"
   ]
  },
  {
   "cell_type": "code",
   "execution_count": null,
   "metadata": {
    "scrolled": true
   },
   "outputs": [],
   "source": []
  },
  {
   "cell_type": "code",
   "execution_count": null,
   "metadata": {},
   "outputs": [],
   "source": []
  },
  {
   "cell_type": "markdown",
   "metadata": {},
   "source": [
    "**Continuação...**\n",
    "\n",
    "Fato: Uma amostra aleatória de 𝑛=36 provas foi selecionada no momento com as aulas remotas e foi observada uma média amostral igual a 6,5 (**estimativa**). Qual sua conclusão com relação ao problema?\n"
   ]
  },
  {
   "cell_type": "code",
   "execution_count": 7,
   "metadata": {},
   "outputs": [],
   "source": [
    "# Escreva seu código aqui"
   ]
  },
  {
   "cell_type": "code",
   "execution_count": null,
   "metadata": {},
   "outputs": [],
   "source": []
  },
  {
   "cell_type": "code",
   "execution_count": null,
   "metadata": {},
   "outputs": [],
   "source": [
    "xzin = np.linspace(mu-4.5*dp,mu+4.5*dp,1000)\n",
    "X = stats.norm.pdf(xzin,mu,dp)\n",
    "\n",
    "y = np.linspace(0,3.3,1000)\n",
    "C = [C]*1000\n",
    "\n",
    "plt.title('X barra')\n",
    "plt.xlabel('nota')\n",
    "plt.plot(xzin,X,'r')\n",
    "plt.plot(C ,y,'b',label='C')\n",
    "plt.legend()\n",
    "plt.grid(True)\n",
    "plt.show()"
   ]
  },
  {
   "cell_type": "code",
   "execution_count": null,
   "metadata": {},
   "outputs": [],
   "source": []
  },
  {
   "cell_type": "code",
   "execution_count": null,
   "metadata": {},
   "outputs": [],
   "source": []
  }
 ],
 "metadata": {
  "kernelspec": {
   "display_name": "Python 3 (ipykernel)",
   "language": "python",
   "name": "python3"
  },
  "language_info": {
   "codemirror_mode": {
    "name": "ipython",
    "version": 3
   },
   "file_extension": ".py",
   "mimetype": "text/x-python",
   "name": "python",
   "nbconvert_exporter": "python",
   "pygments_lexer": "ipython3",
   "version": "3.9.12"
  }
 },
 "nbformat": 4,
 "nbformat_minor": 2
}
